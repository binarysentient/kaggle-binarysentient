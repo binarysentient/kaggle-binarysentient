{
 "cells": [
  {
   "cell_type": "markdown",
   "id": "b4dade30-94ed-4d49-bb1e-553b91996bb0",
   "metadata": {},
   "source": [
    "## IMPUTE INSANITY!:\n",
    "### before we move onto neural networks we need to impute the NANs\n",
    "#### How do we even know we've correctly imputed?\n",
    "#### **Try out every impute methods and per feature set train the GBM and see which one got most importance**\n",
    "\n",
    "### TODO\n",
    "- #### [KNN , DeepLearner, other novel ways to impute](https://towardsdatascience.com/6-different-ways-to-compensate-for-missing-values-data-imputation-with-examples-6022d9ca0779)\n",
    "  - KNN thoughts: we can perhaps use subset of features with no nans, but then the records will become similar, and decision trees already predict the same result for similar looking rows? then what's the point of imputing value same as similar looking rows?\n",
    "- ### DON't Impute rather provide the Flag wether the feature has value or not, kinda like mask; we did this in Optiver (not the transformer sequence mask , but we have mask about weather the second/grouped seconds is missing or not)\n",
    "  - #### [Results on passing information about missing values to neural networks](https://machinelearningmastery.com/binary-flags-for-missing-values-for-machine-learning/)\n",
    "- ### AMEND ABOVE: Impute as well as pass the missing Flag too, so neural network learns better\n",
    "- ### Categorical Imputation: train on data with missing categorical values as target variable! **We can even use TEST set to do this!!!! yay!**\n",
    "  - #### [Training to find missing categorical values](https://www.analyticsvidhya.com/blog/2021/04/how-to-handle-missing-values-of-categorical-variables/)\n",
    "\n",
    "# FLOAT16 aggregations return NONE!!! mean, sum most of it doesn't work :-/"
   ]
  },
  {
   "cell_type": "code",
   "execution_count": 1,
   "id": "799d3de7-7230-42ee-b699-26d02974f93b",
   "metadata": {},
   "outputs": [],
   "source": [
    "WHERE_THIS = \"local\" # local|kaggle\n",
    "\n",
    "BS_DATASET = \"amex-default-prediction-binarysentient\"\n",
    "if WHERE_THIS == \"kaggle\":\n",
    "    INPUT_PATH = \"/kaggle/input/amex-default-prediction/\"\n",
    "    OUTPUT_PATH = \"/kaggle/working/\"\n",
    "    TEMP_PATH = \"/kaggle/temp/\"\n",
    "elif WHERE_THIS == \"local\":\n",
    "    INPUT_PATH = \"input/amex-default-prediction/\"\n",
    "    OUTPUT_PATH = \"working/\"\n",
    "    TEMP_PATH = \"temp/\"\n"
   ]
  },
  {
   "cell_type": "code",
   "execution_count": 4,
   "id": "1b8e156e-282d-4a57-8738-46695bcc46cb",
   "metadata": {},
   "outputs": [
    {
     "name": "stdout",
     "output_type": "stream",
     "text": [
      "input/amex-default-prediction/sample_submission.csv\n",
      "input/amex-default-prediction/test_data.csv\n",
      "input/amex-default-prediction/train_data.csv\n",
      "input/amex-default-prediction/train_labels.csv\n"
     ]
    }
   ],
   "source": [
    "# This Python 3 environment comes with many helpful analytics libraries installed\n",
    "# It is defined by the kaggle/python Docker image: https://github.com/kaggle/docker-python\n",
    "# For example, here's several helpful packages to load\n",
    "\n",
    "import gc\n",
    "import os\n",
    "from datetime import datetime\n",
    "import torch\n",
    "\n",
    "\n",
    "import numpy as np # linear algebra\n",
    "import pandas as pd # data processing, CSV file I/O (e.g. pd.read_csv)\n",
    "from IPython.display import display, HTML\n",
    "from lightgbm import LGBMClassifier, log_evaluation\n",
    "from sklearn.model_selection import StratifiedKFold\n",
    "import plotly.express as pltex\n",
    "\n",
    "from impute_insanity import load_prepare_amex_dataset\n",
    "# Input data files are available in the read-only \"../input/\" directory\n",
    "# For example, running this (by clicking run or pressing Shift+Enter) will list all files under the input directory\n",
    "\n",
    "\n",
    "for dirname, _, filenames in os.walk(INPUT_PATH):\n",
    "    for filename in filenames:\n",
    "        print(os.path.join(dirname, filename))\n",
    "\n",
    "# You can write up to 20GB to the current directory (/kaggle/working/) that gets preserved as output when you create a version using \"Save & Run All\" \n",
    "# You can also write temporary files to /kaggle/temp/, but they won't be saved outside of the current session"
   ]
  },
  {
   "cell_type": "code",
   "execution_count": 6,
   "id": "14d808fa-40af-4229-bcb9-2d59fb7bf573",
   "metadata": {},
   "outputs": [],
   "source": [
    "df_train = load_prepare_amex_dataset(\"train_data\")"
   ]
  },
  {
   "cell_type": "code",
   "execution_count": 15,
   "id": "f240c1ff-1841-49f9-b7af-c868c9dd855d",
   "metadata": {},
   "outputs": [
    {
     "name": "stdout",
     "output_type": "stream",
     "text": [
      "['D_94', 'S_24', 'B_11', 'R_24', 'S_3', 'D_130', 'D_115', 'D_78', 'R_3', 'D_56', 'D_80', 'P_4', 'D_112', 'R_22', 'B_1', 'D_144', 'B_2', 'S_22', 'D_81', 'B_16', 'D_141', 'D_92', 'R_6', 'R_20', 'D_62', 'D_106', 'R_16', 'S_12', 'S_25', 'D_122', 'D_79', 'R_13', 'B_27', 'S_15', 'R_23', 'D_72', 'D_53', 'B_24', 'D_75', 'D_60', 'R_11', 'B_19', 'D_42', 'D_108', 'R_15', 'B_31', 'R_18', 'R_28', 'D_71', 'D_87', 'D_41', 'B_18', 'R_26', 'B_10', 'D_82', 'D_142', 'D_65', 'B_37', 'D_69', 'R_9', 'D_138', 'B_23', 'D_58', 'B_32', 'B_39', 'D_113', 'D_131', 'D_109', 'D_76', 'D_39', 'B_12', 'B_29', 'D_48', 'R_8', 'R_27', 'B_13', 'D_119', 'D_86', 'D_145', 'S_11', 'D_45', 'D_52', 'D_44', 'D_47', 'R_1', 'R_19', 'D_49', 'D_136', 'S_20', 'D_89', 'D_55', 'D_118', 'D_135', 'D_61', 'R_7', 'S_18', 'D_54', 'D_84', 'D_140', 'D_104', 'D_143', 'B_4', 'S_26', 'D_46', 'R_21', 'S_23', 'D_105', 'D_88', 'D_110', 'D_134', 'R_25', 'R_10', 'D_70', 'R_17', 'B_41', 'B_25', 'R_12', 'D_59', 'B_36', 'D_51', 'R_14', 'B_33', 'S_8', 'B_40', 'S_17', 'D_121', 'D_96', 'P_2', 'D_91', 'D_128', 'B_5', 'B_17', 'D_139', 'S_16', 'B_21', 'D_111', 'D_102', 'B_6', 'D_93', 'D_73', 'D_43', 'B_22', 'B_7', 'D_129', 'B_14', 'S_7', 'S_5', 'B_42', 'B_9', 'S_13', 'D_124', 'S_27', 'D_132', 'D_125', 'D_103', 'D_137', 'S_6', 'B_3', 'S_9', 'B_26', 'D_50', 'D_77', 'B_15', 'D_133', 'S_19', 'D_74', 'B_20', 'R_4', 'D_127', 'R_2', 'B_8', 'B_28', 'D_123', 'P_3', 'R_5', 'D_107', 'D_83']\n"
     ]
    }
   ],
   "source": [
    "object_features = ['customer_ID']\n",
    "datetime_features = ['S_2']\n",
    "cat_features = ['B_30', 'B_38', 'D_114', 'D_116', 'D_117', 'D_120', 'D_126', 'D_63', 'D_64', 'D_66', 'D_68']\n",
    "train_dtypes_set = set()\n",
    "column_dtypes_map = {}\n",
    "all_columns = []\n",
    "\n",
    "for columnname in df_train.columns:\n",
    "        # print(columnname, df_train_peek[columnname].dtype)\n",
    "    all_columns.append(columnname)\n",
    "    train_dtypes_set.add(df_train[columnname].dtype.name)\n",
    "    column_dtypes_map[columnname] = df_train[columnname].dtype.name\n",
    "numeric_features = list(set(column_dtypes_map.keys()).difference(set(cat_features+datetime_features+object_features)))\n",
    "print(numeric_features)"
   ]
  },
  {
   "cell_type": "code",
   "execution_count": 16,
   "id": "b4a5f481-28ee-4de7-add5-08a4afc8c032",
   "metadata": {},
   "outputs": [],
   "source": [
    "missing_counts_df = df_train.isna().sum().reset_index()\n",
    "missing_counts_df = missing_counts_df.rename({'index':'columnname', 0:'nan_count'}, axis=1)"
   ]
  },
  {
   "cell_type": "code",
   "execution_count": 20,
   "id": "bc954835-f033-4133-b78d-7ab02c574c45",
   "metadata": {},
   "outputs": [],
   "source": [
    "missing_features_with_count_list = [x for x in missing_counts_df.to_dict('records') if x['columnname'].startswith('') and x['nan_count']>0]\n",
    "missing_features_with_count_list = sorted(missing_features_with_count_list, key=lambda x:x['nan_count'])\n",
    "features_missing_values_count_map = {x['columnname']:x['nan_count'] for x in missing_counts_df.to_dict('records')}\n",
    "missing_values_features = [x['columnname'] for x in missing_features_with_count_list]"
   ]
  },
  {
   "cell_type": "code",
   "execution_count": 22,
   "id": "b2e62d91-78a3-44d5-a4dc-3697f03206a5",
   "metadata": {},
   "outputs": [],
   "source": [
    "def amex_metric(y_true: pd.DataFrame, y_pred: pd.DataFrame) -> float:\n",
    "\n",
    "    def top_four_percent_captured(y_true: pd.DataFrame, y_pred: pd.DataFrame) -> float:\n",
    "        df = (pd.concat([y_true, y_pred], axis='columns')\n",
    "              .sort_values('prediction', ascending=False))\n",
    "        df['weight'] = df['target'].apply(lambda x: 20 if x==0 else 1)\n",
    "        four_pct_cutoff = int(0.04 * df['weight'].sum())\n",
    "        df['weight_cumsum'] = df['weight'].cumsum()\n",
    "        df_cutoff = df.loc[df['weight_cumsum'] <= four_pct_cutoff]\n",
    "        return (df_cutoff['target'] == 1).sum() / (df['target'] == 1).sum()\n",
    "        \n",
    "    def weighted_gini(y_true: pd.DataFrame, y_pred: pd.DataFrame) -> float:\n",
    "        df = (pd.concat([y_true, y_pred], axis='columns')\n",
    "              .sort_values('prediction', ascending=False))\n",
    "        df['weight'] = df['target'].apply(lambda x: 20 if x==0 else 1)\n",
    "        df['random'] = (df['weight'] / df['weight'].sum()).cumsum()\n",
    "        total_pos = (df['target'] * df['weight']).sum()\n",
    "        df['cum_pos_found'] = (df['target'] * df['weight']).cumsum()\n",
    "        df['lorentz'] = df['cum_pos_found'] / total_pos\n",
    "        df['gini'] = (df['lorentz'] - df['random']) * df['weight']\n",
    "        return df['gini'].sum()\n",
    "\n",
    "    def normalized_weighted_gini(y_true: pd.DataFrame, y_pred: pd.DataFrame) -> float:\n",
    "        y_true_pred = y_true.rename(columns={'target': 'prediction'})\n",
    "        return weighted_gini(y_true, y_pred) / weighted_gini(y_true, y_true_pred)\n",
    "\n",
    "    g = normalized_weighted_gini(y_true, y_pred)\n",
    "    d = top_four_percent_captured(y_true, y_pred)\n",
    "\n",
    "    return 0.5 * (g + d)\n",
    "\n",
    "## TODO: FAST AMEX implementation is not accurate; convert the dataframe accurate version to directly work with numpy arrays\n",
    "# @yunchonggan's fast metric implementation\n",
    "# From https://www.kaggle.com/competitions/amex-default-prediction/discussion/328020\n",
    "def fast_amex_metric(y_true: np.array, y_pred: np.array) -> float:\n",
    "\n",
    "    # count of positives and negatives\n",
    "    n_pos = y_true.sum()\n",
    "    n_neg = y_true.shape[0] - n_pos\n",
    "\n",
    "    # sorting by descring prediction values\n",
    "    indices = np.argsort(y_pred)[::-1]\n",
    "    preds, target = y_pred[indices], y_true[indices]\n",
    "\n",
    "    # filter the top 4% by cumulative row weights\n",
    "    weight = 20.0 - target * 19.0\n",
    "    cum_norm_weight = (weight / weight.sum()).cumsum()\n",
    "    four_pct_filter = cum_norm_weight <= 0.04\n",
    "\n",
    "    # default rate captured at 4%\n",
    "    d = target[four_pct_filter].sum() / n_pos\n",
    "\n",
    "    # weighted gini coefficient\n",
    "    lorentz = (target / n_pos).cumsum()\n",
    "    gini = ((lorentz - cum_norm_weight) * weight).sum()\n",
    "\n",
    "    # max weighted gini coefficient\n",
    "    gini_max = 10 * n_neg * (1 - 19 / (n_pos + 20 * n_neg))\n",
    "\n",
    "    # normalized weighted gini coefficient\n",
    "    g = gini / gini_max\n",
    "\n",
    "    return 0.5 * (g + d)\n",
    "\n",
    "# Need Lightgbm supported eval metric\n",
    "#Custom eval function expects a callable with following signatures: func(y_true, y_pred), func(y_true, y_pred, weight) or func(y_true, y_pred, weight, group) and returns (eval_name, eval_result, is_higher_better) or list of (eval_name, eval_result, is_higher_better):\n",
    "def lgbm_eval_metric_amex(y_true, y_pred):\n",
    "    amex_metric = fast_amex_metric(y_true, y_pred)\n",
    "    return ('amex', amex_metric, True)"
   ]
  },
  {
   "cell_type": "code",
   "execution_count": 26,
   "id": "e4ccf182-f698-4fec-bd9b-d386027d57ea",
   "metadata": {},
   "outputs": [
    {
     "data": {
      "text/html": [
       "<div>\n",
       "<style scoped>\n",
       "    .dataframe tbody tr th:only-of-type {\n",
       "        vertical-align: middle;\n",
       "    }\n",
       "\n",
       "    .dataframe tbody tr th {\n",
       "        vertical-align: top;\n",
       "    }\n",
       "\n",
       "    .dataframe thead th {\n",
       "        text-align: right;\n",
       "    }\n",
       "</style>\n",
       "<table border=\"1\" class=\"dataframe\">\n",
       "  <thead>\n",
       "    <tr style=\"text-align: right;\">\n",
       "      <th></th>\n",
       "      <th>customer_ID</th>\n",
       "      <th>target</th>\n",
       "    </tr>\n",
       "  </thead>\n",
       "  <tbody>\n",
       "    <tr>\n",
       "      <th>0</th>\n",
       "      <td>0000099d6bd597052cdcda90ffabf56573fe9d7c79be5f...</td>\n",
       "      <td>0.0</td>\n",
       "    </tr>\n",
       "    <tr>\n",
       "      <th>1</th>\n",
       "      <td>00000fd6641609c6ece5454664794f0340ad84dddce9a2...</td>\n",
       "      <td>0.0</td>\n",
       "    </tr>\n",
       "    <tr>\n",
       "      <th>2</th>\n",
       "      <td>00001b22f846c82c51f6e3958ccd81970162bae8b007e8...</td>\n",
       "      <td>0.0</td>\n",
       "    </tr>\n",
       "    <tr>\n",
       "      <th>3</th>\n",
       "      <td>000041bdba6ecadd89a52d11886e8eaaec9325906c9723...</td>\n",
       "      <td>0.0</td>\n",
       "    </tr>\n",
       "    <tr>\n",
       "      <th>4</th>\n",
       "      <td>00007889e4fcd2614b6cbe7f8f3d2e5c728eca32d9eb8a...</td>\n",
       "      <td>0.0</td>\n",
       "    </tr>\n",
       "    <tr>\n",
       "      <th>...</th>\n",
       "      <td>...</td>\n",
       "      <td>...</td>\n",
       "    </tr>\n",
       "    <tr>\n",
       "      <th>458908</th>\n",
       "      <td>ffff41c8a52833b56430603969b9ca48d208e7c192c6a4...</td>\n",
       "      <td>0.0</td>\n",
       "    </tr>\n",
       "    <tr>\n",
       "      <th>458909</th>\n",
       "      <td>ffff518bb2075e4816ee3fe9f3b152c57fc0e6f01bf7fd...</td>\n",
       "      <td>0.0</td>\n",
       "    </tr>\n",
       "    <tr>\n",
       "      <th>458910</th>\n",
       "      <td>ffff9984b999fccb2b6127635ed0736dda94e544e67e02...</td>\n",
       "      <td>0.0</td>\n",
       "    </tr>\n",
       "    <tr>\n",
       "      <th>458911</th>\n",
       "      <td>ffffa5c46bc8de74f5a4554e74e239c8dee6b9baf38814...</td>\n",
       "      <td>1.0</td>\n",
       "    </tr>\n",
       "    <tr>\n",
       "      <th>458912</th>\n",
       "      <td>fffff1d38b785cef84adeace64f8f83db3a0c31e8d92ea...</td>\n",
       "      <td>0.0</td>\n",
       "    </tr>\n",
       "  </tbody>\n",
       "</table>\n",
       "<p>458913 rows × 2 columns</p>\n",
       "</div>"
      ],
      "text/plain": [
       "                                              customer_ID  target\n",
       "0       0000099d6bd597052cdcda90ffabf56573fe9d7c79be5f...     0.0\n",
       "1       00000fd6641609c6ece5454664794f0340ad84dddce9a2...     0.0\n",
       "2       00001b22f846c82c51f6e3958ccd81970162bae8b007e8...     0.0\n",
       "3       000041bdba6ecadd89a52d11886e8eaaec9325906c9723...     0.0\n",
       "4       00007889e4fcd2614b6cbe7f8f3d2e5c728eca32d9eb8a...     0.0\n",
       "...                                                   ...     ...\n",
       "458908  ffff41c8a52833b56430603969b9ca48d208e7c192c6a4...     0.0\n",
       "458909  ffff518bb2075e4816ee3fe9f3b152c57fc0e6f01bf7fd...     0.0\n",
       "458910  ffff9984b999fccb2b6127635ed0736dda94e544e67e02...     0.0\n",
       "458911  ffffa5c46bc8de74f5a4554e74e239c8dee6b9baf38814...     1.0\n",
       "458912  fffff1d38b785cef84adeace64f8f83db3a0c31e8d92ea...     0.0\n",
       "\n",
       "[458913 rows x 2 columns]"
      ]
     },
     "execution_count": 26,
     "metadata": {},
     "output_type": "execute_result"
    }
   ],
   "source": [
    "train_label_df = load_prepare_amex_dataset('train_labels')#, index_col='customer_ID')\n",
    "train_label_df"
   ]
  },
  {
   "cell_type": "code",
   "execution_count": 27,
   "id": "09052bcc-5d49-4107-a017-2b27a1624677",
   "metadata": {},
   "outputs": [],
   "source": [
    "prediction_labels = train_label_df.copy()\n",
    "# prediction_labels['prediction'] = prediction_labels['target'] \n",
    "# prediction_labels['prediction'] = prediction_labels['target'] - 3\n",
    "prediction_labels['prediction'] = 1000\n",
    "del prediction_labels['target'] \n"
   ]
  },
  {
   "cell_type": "markdown",
   "id": "6cfd1a55-95ff-4d87-9a34-c65d1dd30564",
   "metadata": {},
   "source": [
    "### Predictions impact on Evaluation Metric\n",
    "- #### all predictions 0 :   score 0.018829875288988086\n",
    "- #### all predictions 1 :   score 0.018829875288988086\n",
    "- #### all predictions 0.4 : score 0.018829875288988086\n",
    "- #### same as target      : score 1.0\n",
    "- #### target * 10         : score 1.0\n",
    "- #### target * 0.001      : score 1.0\n",
    "- #### target - 3          : score 1.0\n",
    "- #### target + 3          : score 1.0\n",
    "\n",
    "## The evaluation metrics is solid! amazing, need to understand more\n",
    "## TODO: FAST AMEX implementation is not accurate; convert the dataframe accurate version to directly work with numpy arrays"
   ]
  },
  {
   "cell_type": "code",
   "execution_count": 28,
   "id": "cf09d96f-a3aa-4382-a65e-1a58c4588135",
   "metadata": {},
   "outputs": [
    {
     "name": "stdout",
     "output_type": "stream",
     "text": [
      "0.02260958442726859\n"
     ]
    }
   ],
   "source": [
    "## TODO: FAST AMEX implementation is not accurate; convert the dataframe accurate version to directly work with numpy arrays\n",
    "# print(amex_metric(train_labels, prediction_labels))\n",
    "print(fast_amex_metric(train_label_df['target'], prediction_labels['prediction']))"
   ]
  },
  {
   "cell_type": "code",
   "execution_count": 29,
   "id": "78c037fc-0aaf-4c09-8807-0aae76e5c119",
   "metadata": {},
   "outputs": [],
   "source": [
    "def create_model_with_config(random_state=1, n_estimators=1200, importance_type=None):\n",
    "    \"\"\"\n",
    "    Creates model with our desired and some default hyper params\n",
    "    importance_type: split|gain\n",
    "    \"\"\"\n",
    "    return LGBMClassifier(n_estimators=n_estimators,\n",
    "                          learning_rate=0.03, reg_lambda=50,\n",
    "                          min_child_samples=2400,\n",
    "                          num_leaves=95,\n",
    "                          colsample_bytree=0.19,\n",
    "                          max_bins=511, random_state=random_state, importance_type=importance_type)"
   ]
  },
  {
   "cell_type": "markdown",
   "id": "fe33434f-4986-4a7b-8ac4-de48eb0052ed",
   "metadata": {},
   "source": [
    "## Precision impact on scores:\n",
    "\n",
    "### float32: 0.788541\n",
    "### float16: 0.788748, 0.788649, 0.788821\n",
    "### float64: 0.788276, 0.789053, 0.789025, 0.788543"
   ]
  },
  {
   "cell_type": "code",
   "execution_count": 36,
   "id": "4144702b-78c8-4cc7-a134-cf2ac97377b3",
   "metadata": {},
   "outputs": [
    {
     "data": {
      "text/html": [
       "<div>\n",
       "<style scoped>\n",
       "    .dataframe tbody tr th:only-of-type {\n",
       "        vertical-align: middle;\n",
       "    }\n",
       "\n",
       "    .dataframe tbody tr th {\n",
       "        vertical-align: top;\n",
       "    }\n",
       "\n",
       "    .dataframe thead th {\n",
       "        text-align: right;\n",
       "    }\n",
       "</style>\n",
       "<table border=\"1\" class=\"dataframe\">\n",
       "  <thead>\n",
       "    <tr style=\"text-align: right;\">\n",
       "      <th></th>\n",
       "      <th>customer_ID</th>\n",
       "      <th>B_41</th>\n",
       "      <th>B_41_global_mean</th>\n",
       "      <th>B_41_global_min</th>\n",
       "      <th>B_41_global_max</th>\n",
       "      <th>B_41_global_median</th>\n",
       "      <th>B_41_local_mean</th>\n",
       "      <th>B_41_local_linear_interpolate</th>\n",
       "      <th>B_41_local_nearest_interpolate</th>\n",
       "      <th>target</th>\n",
       "    </tr>\n",
       "  </thead>\n",
       "  <tbody>\n",
       "    <tr>\n",
       "      <th>0</th>\n",
       "      <td>0000099d6bd597052cdcda90ffabf56573fe9d7c79be5f...</td>\n",
       "      <td>0.003973</td>\n",
       "      <td>0.003973</td>\n",
       "      <td>0.003973</td>\n",
       "      <td>0.003973</td>\n",
       "      <td>0.003973</td>\n",
       "      <td>NaN</td>\n",
       "      <td>NaN</td>\n",
       "      <td>NaN</td>\n",
       "      <td>0.0</td>\n",
       "    </tr>\n",
       "    <tr>\n",
       "      <th>1</th>\n",
       "      <td>00000fd6641609c6ece5454664794f0340ad84dddce9a2...</td>\n",
       "      <td>0.002943</td>\n",
       "      <td>0.002943</td>\n",
       "      <td>0.002943</td>\n",
       "      <td>0.002943</td>\n",
       "      <td>0.002943</td>\n",
       "      <td>NaN</td>\n",
       "      <td>NaN</td>\n",
       "      <td>NaN</td>\n",
       "      <td>0.0</td>\n",
       "    </tr>\n",
       "    <tr>\n",
       "      <th>2</th>\n",
       "      <td>00001b22f846c82c51f6e3958ccd81970162bae8b007e8...</td>\n",
       "      <td>0.004133</td>\n",
       "      <td>0.004133</td>\n",
       "      <td>0.004133</td>\n",
       "      <td>0.004133</td>\n",
       "      <td>0.004133</td>\n",
       "      <td>NaN</td>\n",
       "      <td>NaN</td>\n",
       "      <td>NaN</td>\n",
       "      <td>0.0</td>\n",
       "    </tr>\n",
       "    <tr>\n",
       "      <th>3</th>\n",
       "      <td>000041bdba6ecadd89a52d11886e8eaaec9325906c9723...</td>\n",
       "      <td>0.004254</td>\n",
       "      <td>0.004254</td>\n",
       "      <td>0.004254</td>\n",
       "      <td>0.004254</td>\n",
       "      <td>0.004254</td>\n",
       "      <td>NaN</td>\n",
       "      <td>NaN</td>\n",
       "      <td>NaN</td>\n",
       "      <td>0.0</td>\n",
       "    </tr>\n",
       "    <tr>\n",
       "      <th>4</th>\n",
       "      <td>00007889e4fcd2614b6cbe7f8f3d2e5c728eca32d9eb8a...</td>\n",
       "      <td>0.001068</td>\n",
       "      <td>0.001068</td>\n",
       "      <td>0.001068</td>\n",
       "      <td>0.001068</td>\n",
       "      <td>0.001068</td>\n",
       "      <td>NaN</td>\n",
       "      <td>NaN</td>\n",
       "      <td>NaN</td>\n",
       "      <td>0.0</td>\n",
       "    </tr>\n",
       "    <tr>\n",
       "      <th>...</th>\n",
       "      <td>...</td>\n",
       "      <td>...</td>\n",
       "      <td>...</td>\n",
       "      <td>...</td>\n",
       "      <td>...</td>\n",
       "      <td>...</td>\n",
       "      <td>...</td>\n",
       "      <td>...</td>\n",
       "      <td>...</td>\n",
       "      <td>...</td>\n",
       "    </tr>\n",
       "    <tr>\n",
       "      <th>458908</th>\n",
       "      <td>ffff41c8a52833b56430603969b9ca48d208e7c192c6a4...</td>\n",
       "      <td>0.005314</td>\n",
       "      <td>0.005314</td>\n",
       "      <td>0.005314</td>\n",
       "      <td>0.005314</td>\n",
       "      <td>0.005314</td>\n",
       "      <td>NaN</td>\n",
       "      <td>NaN</td>\n",
       "      <td>NaN</td>\n",
       "      <td>0.0</td>\n",
       "    </tr>\n",
       "    <tr>\n",
       "      <th>458909</th>\n",
       "      <td>ffff518bb2075e4816ee3fe9f3b152c57fc0e6f01bf7fd...</td>\n",
       "      <td>0.005134</td>\n",
       "      <td>0.005134</td>\n",
       "      <td>0.005134</td>\n",
       "      <td>0.005134</td>\n",
       "      <td>0.005134</td>\n",
       "      <td>NaN</td>\n",
       "      <td>NaN</td>\n",
       "      <td>NaN</td>\n",
       "      <td>0.0</td>\n",
       "    </tr>\n",
       "    <tr>\n",
       "      <th>458910</th>\n",
       "      <td>ffff9984b999fccb2b6127635ed0736dda94e544e67e02...</td>\n",
       "      <td>0.001513</td>\n",
       "      <td>0.001513</td>\n",
       "      <td>0.001513</td>\n",
       "      <td>0.001513</td>\n",
       "      <td>0.001513</td>\n",
       "      <td>NaN</td>\n",
       "      <td>NaN</td>\n",
       "      <td>NaN</td>\n",
       "      <td>0.0</td>\n",
       "    </tr>\n",
       "    <tr>\n",
       "      <th>458911</th>\n",
       "      <td>ffffa5c46bc8de74f5a4554e74e239c8dee6b9baf38814...</td>\n",
       "      <td>0.006067</td>\n",
       "      <td>0.006067</td>\n",
       "      <td>0.006067</td>\n",
       "      <td>0.006067</td>\n",
       "      <td>0.006067</td>\n",
       "      <td>NaN</td>\n",
       "      <td>NaN</td>\n",
       "      <td>NaN</td>\n",
       "      <td>1.0</td>\n",
       "    </tr>\n",
       "    <tr>\n",
       "      <th>458912</th>\n",
       "      <td>fffff1d38b785cef84adeace64f8f83db3a0c31e8d92ea...</td>\n",
       "      <td>0.002392</td>\n",
       "      <td>0.002392</td>\n",
       "      <td>0.002392</td>\n",
       "      <td>0.002392</td>\n",
       "      <td>0.002392</td>\n",
       "      <td>NaN</td>\n",
       "      <td>NaN</td>\n",
       "      <td>NaN</td>\n",
       "      <td>0.0</td>\n",
       "    </tr>\n",
       "  </tbody>\n",
       "</table>\n",
       "<p>458913 rows × 10 columns</p>\n",
       "</div>"
      ],
      "text/plain": [
       "                                              customer_ID      B_41  \\\n",
       "0       0000099d6bd597052cdcda90ffabf56573fe9d7c79be5f...  0.003973   \n",
       "1       00000fd6641609c6ece5454664794f0340ad84dddce9a2...  0.002943   \n",
       "2       00001b22f846c82c51f6e3958ccd81970162bae8b007e8...  0.004133   \n",
       "3       000041bdba6ecadd89a52d11886e8eaaec9325906c9723...  0.004254   \n",
       "4       00007889e4fcd2614b6cbe7f8f3d2e5c728eca32d9eb8a...  0.001068   \n",
       "...                                                   ...       ...   \n",
       "458908  ffff41c8a52833b56430603969b9ca48d208e7c192c6a4...  0.005314   \n",
       "458909  ffff518bb2075e4816ee3fe9f3b152c57fc0e6f01bf7fd...  0.005134   \n",
       "458910  ffff9984b999fccb2b6127635ed0736dda94e544e67e02...  0.001513   \n",
       "458911  ffffa5c46bc8de74f5a4554e74e239c8dee6b9baf38814...  0.006067   \n",
       "458912  fffff1d38b785cef84adeace64f8f83db3a0c31e8d92ea...  0.002392   \n",
       "\n",
       "        B_41_global_mean  B_41_global_min  B_41_global_max  \\\n",
       "0               0.003973         0.003973         0.003973   \n",
       "1               0.002943         0.002943         0.002943   \n",
       "2               0.004133         0.004133         0.004133   \n",
       "3               0.004254         0.004254         0.004254   \n",
       "4               0.001068         0.001068         0.001068   \n",
       "...                  ...              ...              ...   \n",
       "458908          0.005314         0.005314         0.005314   \n",
       "458909          0.005134         0.005134         0.005134   \n",
       "458910          0.001513         0.001513         0.001513   \n",
       "458911          0.006067         0.006067         0.006067   \n",
       "458912          0.002392         0.002392         0.002392   \n",
       "\n",
       "        B_41_global_median  B_41_local_mean  B_41_local_linear_interpolate  \\\n",
       "0                 0.003973              NaN                            NaN   \n",
       "1                 0.002943              NaN                            NaN   \n",
       "2                 0.004133              NaN                            NaN   \n",
       "3                 0.004254              NaN                            NaN   \n",
       "4                 0.001068              NaN                            NaN   \n",
       "...                    ...              ...                            ...   \n",
       "458908            0.005314              NaN                            NaN   \n",
       "458909            0.005134              NaN                            NaN   \n",
       "458910            0.001513              NaN                            NaN   \n",
       "458911            0.006067              NaN                            NaN   \n",
       "458912            0.002392              NaN                            NaN   \n",
       "\n",
       "        B_41_local_nearest_interpolate  target  \n",
       "0                                  NaN     0.0  \n",
       "1                                  NaN     0.0  \n",
       "2                                  NaN     0.0  \n",
       "3                                  NaN     0.0  \n",
       "4                                  NaN     0.0  \n",
       "...                                ...     ...  \n",
       "458908                             NaN     0.0  \n",
       "458909                             NaN     0.0  \n",
       "458910                             NaN     0.0  \n",
       "458911                             NaN     1.0  \n",
       "458912                             NaN     0.0  \n",
       "\n",
       "[458913 rows x 10 columns]"
      ]
     },
     "execution_count": 36,
     "metadata": {},
     "output_type": "execute_result"
    }
   ],
   "source": [
    "df_train_last1 = variant_df.groupby('customer_ID').last()\n",
    "df_train_last1 = df_train_last1.reset_index()\n",
    "df_train_wt = pd.merge(df_train_last1, train_label_df, how='inner', on = 'customer_ID')\n",
    "df_train_wt"
   ]
  },
  {
   "cell_type": "code",
   "execution_count": 42,
   "id": "63a022f6-d38f-4aea-9fdd-a09f487b2604",
   "metadata": {},
   "outputs": [
    {
     "data": {
      "text/plain": [
       "count    690.000000\n",
       "mean       0.028858\n",
       "std        0.232675\n",
       "min        0.000502\n",
       "25%        0.003447\n",
       "50%        0.005052\n",
       "75%        0.006605\n",
       "max        4.501401\n",
       "Name: B_41_local_linear_interpolate, dtype: float64"
      ]
     },
     "execution_count": 42,
     "metadata": {},
     "output_type": "execute_result"
    }
   ],
   "source": [
    "df_train_wt['B_41_local_linear_interpolate'].describe()"
   ]
  },
  {
   "cell_type": "code",
   "execution_count": 45,
   "id": "692ad3e3-4398-4e15-970a-2ca2a393d3ff",
   "metadata": {},
   "outputs": [
    {
     "name": "stdout",
     "output_type": "stream",
     "text": [
      "-------------------------------------\n",
      "--- R_7   :  1 ---\n",
      "                R_7  R_7_global_mean  R_7_global_min  R_7_global_max  \\\n",
      "count  5.531450e+06     5.531451e+06    5.531451e+06    5.531451e+06   \n",
      "mean   8.538210e-02     8.538210e-02    8.538208e-02    8.546343e-02   \n",
      "std    1.548725e+00     1.548725e+00    1.548725e+00    1.560490e+00   \n",
      "min    8.676290e-10     8.676290e-10    8.676290e-10    8.676290e-10   \n",
      "25%    2.568756e-03     2.568757e-03    2.568756e-03    2.568757e-03   \n",
      "50%    5.135867e-03     5.135867e-03    5.135866e-03    5.135867e-03   \n",
      "75%    7.702539e-03     7.702541e-03    7.702538e-03    7.702541e-03   \n",
      "max    4.499889e+02     4.499889e+02    4.499889e+02    4.499889e+02   \n",
      "\n",
      "       R_7_global_median  R_7_local_mean  R_7_local_linear_interpolate  \\\n",
      "count       5.531451e+06        1.000000                       1.00000   \n",
      "mean        8.538208e-02        0.005415                       0.00257   \n",
      "std         1.548725e+00             NaN                           NaN   \n",
      "min         8.676290e-10        0.005415                       0.00257   \n",
      "25%         2.568757e-03        0.005415                       0.00257   \n",
      "50%         5.135867e-03        0.005415                       0.00257   \n",
      "75%         7.702538e-03        0.005415                       0.00257   \n",
      "max         4.499889e+02        0.005415                       0.00257   \n",
      "\n",
      "       R_7_local_nearest_interpolate  \n",
      "count                       1.000000  \n",
      "mean                        0.004133  \n",
      "std                              NaN  \n",
      "min                         0.004133  \n",
      "25%                         0.004133  \n",
      "50%                         0.004133  \n",
      "75%                         0.004133  \n",
      "max                         0.004133  \n"
     ]
    },
    {
     "name": "stdin",
     "output_type": "stream",
     "text": [
      " \n"
     ]
    },
    {
     "name": "stdout",
     "output_type": "stream",
     "text": [
      "-------------------------------------\n",
      "--- R_14   :  1 ---\n",
      "               R_14  R_14_global_mean  R_14_global_min  R_14_global_max  \\\n",
      "count  5.531450e+06      5.531451e+06     5.531451e+06     5.531451e+06   \n",
      "mean   2.373128e-01      2.373128e-01     2.373128e-01     2.381873e-01   \n",
      "std    8.352821e+00      8.352820e+00     8.352820e+00     8.602266e+00   \n",
      "min    6.702420e-10      6.702420e-10     6.702420e-10     6.702420e-10   \n",
      "25%    2.535147e-03      2.535148e-03     2.535147e-03     2.535148e-03   \n",
      "50%    5.069985e-03      5.069985e-03     5.069985e-03     5.069985e-03   \n",
      "75%    7.608542e-03      7.608544e-03     7.608541e-03     7.608544e-03   \n",
      "max    4.837305e+03      4.837305e+03     4.837305e+03     4.837305e+03   \n",
      "\n",
      "       R_14_global_median  R_14_local_mean  R_14_local_linear_interpolate  \\\n",
      "count        5.531451e+06         1.000000                       1.000000   \n",
      "mean         2.373128e-01         0.003778                       0.002329   \n",
      "std          8.352820e+00              NaN                            NaN   \n",
      "min          6.702420e-10         0.003778                       0.002329   \n",
      "25%          2.535148e-03         0.003778                       0.002329   \n",
      "50%          5.069985e-03         0.003778                       0.002329   \n",
      "75%          7.608541e-03         0.003778                       0.002329   \n",
      "max          4.837305e+03         0.003778                       0.002329   \n",
      "\n",
      "       R_14_local_nearest_interpolate  \n",
      "count                        1.000000  \n",
      "mean                         0.002134  \n",
      "std                               NaN  \n",
      "min                          0.002134  \n",
      "25%                          0.002134  \n",
      "50%                          0.002134  \n",
      "75%                          0.002134  \n",
      "max                          0.002134  \n"
     ]
    },
    {
     "name": "stdin",
     "output_type": "stream",
     "text": [
      " \n"
     ]
    },
    {
     "name": "stdout",
     "output_type": "stream",
     "text": [
      "-------------------------------------\n",
      "--- B_40   :  53 ---\n",
      "               B_40  B_40_global_mean  B_40_global_min  B_40_global_max  \\\n",
      "count  5.531398e+06      5.531451e+06     5.531451e+06     5.531451e+06   \n",
      "mean   2.011437e-01      2.011436e-01     2.011418e-01     2.550082e-01   \n",
      "std    8.077985e+00      8.077946e+00     8.077946e+00     1.955910e+01   \n",
      "min    1.201275e-08      1.201275e-08     1.201275e-08     1.201275e-08   \n",
      "25%    1.739309e-02      1.739332e-02     1.739220e-02     1.739332e-02   \n",
      "50%    5.830858e-02      5.831026e-02     5.830736e-02     5.831026e-02   \n",
      "75%    2.451545e-01      2.451502e-01     2.451502e-01     2.451642e-01   \n",
      "max    5.755076e+03      5.755076e+03     5.755076e+03     5.755076e+03   \n",
      "\n",
      "       B_40_global_median  B_40_local_mean  B_40_local_linear_interpolate  \\\n",
      "count        5.531451e+06        53.000000                      53.000000   \n",
      "mean         2.011423e-01         0.165610                       0.138680   \n",
      "std          8.077946e+00         0.208474                       0.193081   \n",
      "min          1.201275e-08         0.003747                       0.001284   \n",
      "25%          1.739332e-02         0.019955                       0.021542   \n",
      "50%          5.830858e-02         0.055722                       0.042583   \n",
      "75%          2.451502e-01         0.253118                       0.205997   \n",
      "max          5.755076e+03         0.734196                       0.646235   \n",
      "\n",
      "       B_40_local_nearest_interpolate  \n",
      "count                       53.000000  \n",
      "mean                         0.133361  \n",
      "std                          0.191811  \n",
      "min                          0.000354  \n",
      "25%                          0.013549  \n",
      "50%                          0.039276  \n",
      "75%                          0.195305  \n",
      "max                          0.656867  \n"
     ]
    },
    {
     "ename": "KeyboardInterrupt",
     "evalue": "Interrupted by user",
     "output_type": "error",
     "traceback": [
      "\u001b[1;31m---------------------------------------------------------------------------\u001b[0m",
      "\u001b[1;31mKeyboardInterrupt\u001b[0m                         Traceback (most recent call last)",
      "Input \u001b[1;32mIn [45]\u001b[0m, in \u001b[0;36m<cell line: 1>\u001b[1;34m()\u001b[0m\n\u001b[0;32m      6\u001b[0m variant_df \u001b[38;5;241m=\u001b[39m load_prepare_amex_dataset(\u001b[38;5;124mf\u001b[39m\u001b[38;5;124m\"\u001b[39m\u001b[38;5;124mtrain_data_\u001b[39m\u001b[38;5;132;01m{\u001b[39;00mmissingvaluefeature\u001b[38;5;132;01m}\u001b[39;00m\u001b[38;5;124m\"\u001b[39m)\n\u001b[0;32m      7\u001b[0m \u001b[38;5;28mprint\u001b[39m(variant_df\u001b[38;5;241m.\u001b[39mdescribe())\n\u001b[1;32m----> 8\u001b[0m \u001b[38;5;28;43minput\u001b[39;49m\u001b[43m(\u001b[49m\u001b[43m)\u001b[49m\n",
      "File \u001b[1;32m~\\miniconda3\\envs\\kaggle\\lib\\site-packages\\ipykernel\\kernelbase.py:1177\u001b[0m, in \u001b[0;36mKernel.raw_input\u001b[1;34m(self, prompt)\u001b[0m\n\u001b[0;32m   1173\u001b[0m \u001b[38;5;28;01mif\u001b[39;00m \u001b[38;5;129;01mnot\u001b[39;00m \u001b[38;5;28mself\u001b[39m\u001b[38;5;241m.\u001b[39m_allow_stdin:\n\u001b[0;32m   1174\u001b[0m     \u001b[38;5;28;01mraise\u001b[39;00m StdinNotImplementedError(\n\u001b[0;32m   1175\u001b[0m         \u001b[38;5;124m\"\u001b[39m\u001b[38;5;124mraw_input was called, but this frontend does not support input requests.\u001b[39m\u001b[38;5;124m\"\u001b[39m\n\u001b[0;32m   1176\u001b[0m     )\n\u001b[1;32m-> 1177\u001b[0m \u001b[38;5;28;01mreturn\u001b[39;00m \u001b[38;5;28;43mself\u001b[39;49m\u001b[38;5;241;43m.\u001b[39;49m\u001b[43m_input_request\u001b[49m\u001b[43m(\u001b[49m\n\u001b[0;32m   1178\u001b[0m \u001b[43m    \u001b[49m\u001b[38;5;28;43mstr\u001b[39;49m\u001b[43m(\u001b[49m\u001b[43mprompt\u001b[49m\u001b[43m)\u001b[49m\u001b[43m,\u001b[49m\n\u001b[0;32m   1179\u001b[0m \u001b[43m    \u001b[49m\u001b[38;5;28;43mself\u001b[39;49m\u001b[38;5;241;43m.\u001b[39;49m\u001b[43m_parent_ident\u001b[49m\u001b[43m[\u001b[49m\u001b[38;5;124;43m\"\u001b[39;49m\u001b[38;5;124;43mshell\u001b[39;49m\u001b[38;5;124;43m\"\u001b[39;49m\u001b[43m]\u001b[49m\u001b[43m,\u001b[49m\n\u001b[0;32m   1180\u001b[0m \u001b[43m    \u001b[49m\u001b[38;5;28;43mself\u001b[39;49m\u001b[38;5;241;43m.\u001b[39;49m\u001b[43mget_parent\u001b[49m\u001b[43m(\u001b[49m\u001b[38;5;124;43m\"\u001b[39;49m\u001b[38;5;124;43mshell\u001b[39;49m\u001b[38;5;124;43m\"\u001b[39;49m\u001b[43m)\u001b[49m\u001b[43m,\u001b[49m\n\u001b[0;32m   1181\u001b[0m \u001b[43m    \u001b[49m\u001b[43mpassword\u001b[49m\u001b[38;5;241;43m=\u001b[39;49m\u001b[38;5;28;43;01mFalse\u001b[39;49;00m\u001b[43m,\u001b[49m\n\u001b[0;32m   1182\u001b[0m \u001b[43m\u001b[49m\u001b[43m)\u001b[49m\n",
      "File \u001b[1;32m~\\miniconda3\\envs\\kaggle\\lib\\site-packages\\ipykernel\\kernelbase.py:1219\u001b[0m, in \u001b[0;36mKernel._input_request\u001b[1;34m(self, prompt, ident, parent, password)\u001b[0m\n\u001b[0;32m   1216\u001b[0m             \u001b[38;5;28;01mbreak\u001b[39;00m\n\u001b[0;32m   1217\u001b[0m \u001b[38;5;28;01mexcept\u001b[39;00m \u001b[38;5;167;01mKeyboardInterrupt\u001b[39;00m:\n\u001b[0;32m   1218\u001b[0m     \u001b[38;5;66;03m# re-raise KeyboardInterrupt, to truncate traceback\u001b[39;00m\n\u001b[1;32m-> 1219\u001b[0m     \u001b[38;5;28;01mraise\u001b[39;00m \u001b[38;5;167;01mKeyboardInterrupt\u001b[39;00m(\u001b[38;5;124m\"\u001b[39m\u001b[38;5;124mInterrupted by user\u001b[39m\u001b[38;5;124m\"\u001b[39m) \u001b[38;5;28;01mfrom\u001b[39;00m \u001b[38;5;28mNone\u001b[39m\n\u001b[0;32m   1220\u001b[0m \u001b[38;5;28;01mexcept\u001b[39;00m \u001b[38;5;167;01mException\u001b[39;00m:\n\u001b[0;32m   1221\u001b[0m     \u001b[38;5;28mself\u001b[39m\u001b[38;5;241m.\u001b[39mlog\u001b[38;5;241m.\u001b[39mwarning(\u001b[38;5;124m\"\u001b[39m\u001b[38;5;124mInvalid Message:\u001b[39m\u001b[38;5;124m\"\u001b[39m, exc_info\u001b[38;5;241m=\u001b[39m\u001b[38;5;28;01mTrue\u001b[39;00m)\n",
      "\u001b[1;31mKeyboardInterrupt\u001b[0m: Interrupted by user"
     ]
    }
   ],
   "source": [
    "for missingfeaturetuple in missing_features_with_count_list:\n",
    "    missingvaluefeature = missingfeaturetuple['columnname']\n",
    "    missingcount = missingfeaturetuple['nan_count']\n",
    "    print(\"-------------------------------------\")\n",
    "    print(f\"--- {missingvaluefeature}   :  {missingcount} ---\")\n",
    "    variant_df = load_prepare_amex_dataset(f\"train_data_{missingvaluefeature}\")\n",
    "    print(variant_df.describe())\n",
    "    input()"
   ]
  },
  {
   "cell_type": "code",
   "execution_count": null,
   "id": "7a3e0bc7-a9a4-4f8a-bfcf-382606ca487e",
   "metadata": {},
   "outputs": [],
   "source": [
    "\n",
    "%%time\n",
    "for missingfeaturetuple in missing_features_with_count_list:\n",
    "    missingvaluefeature = missingfeaturetuple['columnname']\n",
    "    missingcount = missingfeaturetuple['nan_count']\n",
    "    print(\"-------------------------------------\")\n",
    "    print(f\"--- {missingvaluefeature}   :  {missingcount} ---\")\n",
    "    variant_df = load_prepare_amex_dataset(f\"train_data_{missingvaluefeature}\")\n",
    "    print(variant_df)\n",
    "    \n",
    "    df_train_last1 = variant_df.groupby('customer_ID').last()\n",
    "    df_train_last1 = df_train_last1.reset_index()\n",
    "    df_train_wt = pd.merge(df_train_last1, train_label_df, how='inner', on = 'customer_ID')#.reset_index()\n",
    "    \n",
    "    features_x = [f for f in df_train_wt.columns if f != 'customer_ID' and f != 'target' and f!='S_2']\n",
    "    feature_y = 'target'\n",
    "    df_x = df_train_wt[features_x]\n",
    "    df_y = df_train_wt[feature_y]\n",
    "\n",
    "    kf = StratifiedKFold(n_splits=5, shuffle=True)\n",
    "    fold_scores = []\n",
    "    for fold, (idx_train, idx_dev) in enumerate(kf.split(df_x, df_y)):\n",
    "        train_x, dev_x, train_y, dev_y, model = None, None, None, None, None\n",
    "        start_time = datetime.now()\n",
    "        X_tr = df_train_wt.iloc[idx_train][features_x]\n",
    "        X_va = df_train_wt.iloc[idx_dev][features_x]\n",
    "        y_tr = df_train_wt[feature_y][idx_train].values\n",
    "        y_va = df_train_wt[feature_y][idx_dev].values\n",
    "        for importance_type in ['split','gain']:\n",
    "            model = create_model_with_config(importance_type=importance_type)\n",
    "            model.fit(X_tr, y_tr,\n",
    "                          eval_set = [(X_va, y_va)], \n",
    "                          eval_metric=[lgbm_eval_metric_amex],\n",
    "                          callbacks=[log_evaluation(100)])\n",
    "\n",
    "            y_va_pred = model.predict_proba(X_va, raw_score=True)\n",
    "            score = fast_amex_metric(y_va, y_va_pred)\n",
    "            n_trees = model.best_iteration_\n",
    "            if n_trees is None: n_trees = model.n_estimators\n",
    "            print(\"-------------------------------------\")\n",
    "            display(HTML(f\"<h3>Fold {fold+1} | {str(datetime.now() - start_time)[-12:-7]} |\"\n",
    "                  f\" {n_trees:5} trees |\"\n",
    "                  f\"                Score = {score:.5f} | Importance: {importance_type}</h3>\"))\n",
    "            print(\"-------------------------------------\")\n",
    "            fold_scores.append(score)\n",
    "\n",
    "            feature_importance_tuples = sorted(zip(X_tr.columns,model.feature_importances_), key=lambda x:x[1])\n",
    "            # feature_importance_tuples = sorted(zip(X_tr.columns,model.feature_importance(importance_type='gain')), key=lambda x:x[1])\n",
    "            feature_importance_map = {k:v for k,v in feature_importance_tuples}\n",
    "            feature_imp = pd.DataFrame(feature_importance_tuples, columns=['feature','importance'])\n",
    "            fig = pltex.bar(feature_imp, x='importance', y='feature', height=500)\n",
    "            fig.show()\n",
    "\n",
    "\n",
    "       \n",
    "\n",
    "    display(HTML(f\"<h3>OVERALL SCORE : {np.mean(fold_scores)}</h3>\"))"
   ]
  },
  {
   "cell_type": "code",
   "execution_count": 157,
   "id": "5dfd2366-3122-4433-9a5d-39a8be5d7700",
   "metadata": {},
   "outputs": [
    {
     "ename": "AttributeError",
     "evalue": "'LGBMClassifier' object has no attribute 'feature_importance'",
     "output_type": "error",
     "traceback": [
      "\u001b[1;31m---------------------------------------------------------------------------\u001b[0m",
      "\u001b[1;31mAttributeError\u001b[0m                            Traceback (most recent call last)",
      "Input \u001b[1;32mIn [157]\u001b[0m, in \u001b[0;36m<cell line: 2>\u001b[1;34m()\u001b[0m\n\u001b[0;32m      1\u001b[0m \u001b[38;5;66;03m# feature_importance_tuples = sorted(zip(X_tr.columns,model.feature_importances_), key=lambda x:x[1])\u001b[39;00m\n\u001b[1;32m----> 2\u001b[0m feature_importance_tuples \u001b[38;5;241m=\u001b[39m \u001b[38;5;28msorted\u001b[39m(\u001b[38;5;28mzip\u001b[39m(X_tr\u001b[38;5;241m.\u001b[39mcolumns,\u001b[43mmodel\u001b[49m\u001b[38;5;241;43m.\u001b[39;49m\u001b[43mfeature_importance\u001b[49m(importance_type\u001b[38;5;241m=\u001b[39m\u001b[38;5;124m'\u001b[39m\u001b[38;5;124mgain\u001b[39m\u001b[38;5;124m'\u001b[39m)), key\u001b[38;5;241m=\u001b[39m\u001b[38;5;28;01mlambda\u001b[39;00m x:x[\u001b[38;5;241m1\u001b[39m])\n",
      "\u001b[1;31mAttributeError\u001b[0m: 'LGBMClassifier' object has no attribute 'feature_importance'"
     ]
    }
   ],
   "source": []
  },
  {
   "cell_type": "code",
   "execution_count": 150,
   "id": "281316b0-0116-40df-9937-a2b206e65fe3",
   "metadata": {},
   "outputs": [],
   "source": []
  },
  {
   "cell_type": "code",
   "execution_count": 151,
   "id": "d12b5712-3c49-46c0-b4c1-b4d7582b7b51",
   "metadata": {},
   "outputs": [
    {
     "data": {
      "text/plain": [
       "{'S_3_local_nearest_interpolate': 3922,\n",
       " 'S_3_global_min': 4375,\n",
       " 'S_3_local_first': 5075,\n",
       " 'S_3': 6018,\n",
       " 'S_3_local_min': 6225,\n",
       " 'S_3_global_median': 7388,\n",
       " 'S_3_global_max': 11558,\n",
       " 'S_3_local_mean': 15447,\n",
       " 'S_3_global_mean': 15624,\n",
       " 'S_3_local_max': 15693,\n",
       " 'S_3_local_linear_interpolate': 16088}"
      ]
     },
     "execution_count": 151,
     "metadata": {},
     "output_type": "execute_result"
    }
   ],
   "source": [
    "feature_importance_map\n"
   ]
  },
  {
   "cell_type": "code",
   "execution_count": 152,
   "id": "16827319-381e-4e10-b375-b0e4ed1b3749",
   "metadata": {},
   "outputs": [],
   "source": []
  },
  {
   "cell_type": "code",
   "execution_count": null,
   "id": "bb2a851d-12ac-48e8-a3b8-36ba9499edd1",
   "metadata": {},
   "outputs": [],
   "source": [
    "# feature_imp"
   ]
  },
  {
   "cell_type": "code",
   "execution_count": 156,
   "id": "fc906fe0-d3d1-4b05-861f-45ffc92727db",
   "metadata": {},
   "outputs": [
    {
     "data": {
      "application/vnd.plotly.v1+json": {
       "config": {
        "plotlyServerURL": "https://plot.ly"
       },
       "data": [
        {
         "alignmentgroup": "True",
         "hovertemplate": "importance=%{x}<br>feature=%{y}<extra></extra>",
         "legendgroup": "",
         "marker": {
          "color": "#636efa",
          "pattern": {
           "shape": ""
          }
         },
         "name": "",
         "offsetgroup": "",
         "orientation": "h",
         "showlegend": false,
         "textposition": "auto",
         "type": "bar",
         "x": [
          3922,
          4375,
          5075,
          6018,
          6225,
          7388,
          11558,
          15447,
          15624,
          15693,
          16088
         ],
         "xaxis": "x",
         "y": [
          "S_3_local_nearest_interpolate",
          "S_3_global_min",
          "S_3_local_first",
          "S_3",
          "S_3_local_min",
          "S_3_global_median",
          "S_3_global_max",
          "S_3_local_mean",
          "S_3_global_mean",
          "S_3_local_max",
          "S_3_local_linear_interpolate"
         ],
         "yaxis": "y"
        }
       ],
       "layout": {
        "autosize": true,
        "barmode": "relative",
        "legend": {
         "tracegroupgap": 0
        },
        "margin": {
         "t": 60
        },
        "template": {
         "data": {
          "bar": [
           {
            "error_x": {
             "color": "#2a3f5f"
            },
            "error_y": {
             "color": "#2a3f5f"
            },
            "marker": {
             "line": {
              "color": "#E5ECF6",
              "width": 0.5
             },
             "pattern": {
              "fillmode": "overlay",
              "size": 10,
              "solidity": 0.2
             }
            },
            "type": "bar"
           }
          ],
          "barpolar": [
           {
            "marker": {
             "line": {
              "color": "#E5ECF6",
              "width": 0.5
             },
             "pattern": {
              "fillmode": "overlay",
              "size": 10,
              "solidity": 0.2
             }
            },
            "type": "barpolar"
           }
          ],
          "carpet": [
           {
            "aaxis": {
             "endlinecolor": "#2a3f5f",
             "gridcolor": "white",
             "linecolor": "white",
             "minorgridcolor": "white",
             "startlinecolor": "#2a3f5f"
            },
            "baxis": {
             "endlinecolor": "#2a3f5f",
             "gridcolor": "white",
             "linecolor": "white",
             "minorgridcolor": "white",
             "startlinecolor": "#2a3f5f"
            },
            "type": "carpet"
           }
          ],
          "choropleth": [
           {
            "colorbar": {
             "outlinewidth": 0,
             "ticks": ""
            },
            "type": "choropleth"
           }
          ],
          "contour": [
           {
            "colorbar": {
             "outlinewidth": 0,
             "ticks": ""
            },
            "colorscale": [
             [
              0,
              "#0d0887"
             ],
             [
              0.1111111111111111,
              "#46039f"
             ],
             [
              0.2222222222222222,
              "#7201a8"
             ],
             [
              0.3333333333333333,
              "#9c179e"
             ],
             [
              0.4444444444444444,
              "#bd3786"
             ],
             [
              0.5555555555555556,
              "#d8576b"
             ],
             [
              0.6666666666666666,
              "#ed7953"
             ],
             [
              0.7777777777777778,
              "#fb9f3a"
             ],
             [
              0.8888888888888888,
              "#fdca26"
             ],
             [
              1,
              "#f0f921"
             ]
            ],
            "type": "contour"
           }
          ],
          "contourcarpet": [
           {
            "colorbar": {
             "outlinewidth": 0,
             "ticks": ""
            },
            "type": "contourcarpet"
           }
          ],
          "heatmap": [
           {
            "colorbar": {
             "outlinewidth": 0,
             "ticks": ""
            },
            "colorscale": [
             [
              0,
              "#0d0887"
             ],
             [
              0.1111111111111111,
              "#46039f"
             ],
             [
              0.2222222222222222,
              "#7201a8"
             ],
             [
              0.3333333333333333,
              "#9c179e"
             ],
             [
              0.4444444444444444,
              "#bd3786"
             ],
             [
              0.5555555555555556,
              "#d8576b"
             ],
             [
              0.6666666666666666,
              "#ed7953"
             ],
             [
              0.7777777777777778,
              "#fb9f3a"
             ],
             [
              0.8888888888888888,
              "#fdca26"
             ],
             [
              1,
              "#f0f921"
             ]
            ],
            "type": "heatmap"
           }
          ],
          "heatmapgl": [
           {
            "colorbar": {
             "outlinewidth": 0,
             "ticks": ""
            },
            "colorscale": [
             [
              0,
              "#0d0887"
             ],
             [
              0.1111111111111111,
              "#46039f"
             ],
             [
              0.2222222222222222,
              "#7201a8"
             ],
             [
              0.3333333333333333,
              "#9c179e"
             ],
             [
              0.4444444444444444,
              "#bd3786"
             ],
             [
              0.5555555555555556,
              "#d8576b"
             ],
             [
              0.6666666666666666,
              "#ed7953"
             ],
             [
              0.7777777777777778,
              "#fb9f3a"
             ],
             [
              0.8888888888888888,
              "#fdca26"
             ],
             [
              1,
              "#f0f921"
             ]
            ],
            "type": "heatmapgl"
           }
          ],
          "histogram": [
           {
            "marker": {
             "pattern": {
              "fillmode": "overlay",
              "size": 10,
              "solidity": 0.2
             }
            },
            "type": "histogram"
           }
          ],
          "histogram2d": [
           {
            "colorbar": {
             "outlinewidth": 0,
             "ticks": ""
            },
            "colorscale": [
             [
              0,
              "#0d0887"
             ],
             [
              0.1111111111111111,
              "#46039f"
             ],
             [
              0.2222222222222222,
              "#7201a8"
             ],
             [
              0.3333333333333333,
              "#9c179e"
             ],
             [
              0.4444444444444444,
              "#bd3786"
             ],
             [
              0.5555555555555556,
              "#d8576b"
             ],
             [
              0.6666666666666666,
              "#ed7953"
             ],
             [
              0.7777777777777778,
              "#fb9f3a"
             ],
             [
              0.8888888888888888,
              "#fdca26"
             ],
             [
              1,
              "#f0f921"
             ]
            ],
            "type": "histogram2d"
           }
          ],
          "histogram2dcontour": [
           {
            "colorbar": {
             "outlinewidth": 0,
             "ticks": ""
            },
            "colorscale": [
             [
              0,
              "#0d0887"
             ],
             [
              0.1111111111111111,
              "#46039f"
             ],
             [
              0.2222222222222222,
              "#7201a8"
             ],
             [
              0.3333333333333333,
              "#9c179e"
             ],
             [
              0.4444444444444444,
              "#bd3786"
             ],
             [
              0.5555555555555556,
              "#d8576b"
             ],
             [
              0.6666666666666666,
              "#ed7953"
             ],
             [
              0.7777777777777778,
              "#fb9f3a"
             ],
             [
              0.8888888888888888,
              "#fdca26"
             ],
             [
              1,
              "#f0f921"
             ]
            ],
            "type": "histogram2dcontour"
           }
          ],
          "mesh3d": [
           {
            "colorbar": {
             "outlinewidth": 0,
             "ticks": ""
            },
            "type": "mesh3d"
           }
          ],
          "parcoords": [
           {
            "line": {
             "colorbar": {
              "outlinewidth": 0,
              "ticks": ""
             }
            },
            "type": "parcoords"
           }
          ],
          "pie": [
           {
            "automargin": true,
            "type": "pie"
           }
          ],
          "scatter": [
           {
            "fillpattern": {
             "fillmode": "overlay",
             "size": 10,
             "solidity": 0.2
            },
            "type": "scatter"
           }
          ],
          "scatter3d": [
           {
            "line": {
             "colorbar": {
              "outlinewidth": 0,
              "ticks": ""
             }
            },
            "marker": {
             "colorbar": {
              "outlinewidth": 0,
              "ticks": ""
             }
            },
            "type": "scatter3d"
           }
          ],
          "scattercarpet": [
           {
            "marker": {
             "colorbar": {
              "outlinewidth": 0,
              "ticks": ""
             }
            },
            "type": "scattercarpet"
           }
          ],
          "scattergeo": [
           {
            "marker": {
             "colorbar": {
              "outlinewidth": 0,
              "ticks": ""
             }
            },
            "type": "scattergeo"
           }
          ],
          "scattergl": [
           {
            "marker": {
             "colorbar": {
              "outlinewidth": 0,
              "ticks": ""
             }
            },
            "type": "scattergl"
           }
          ],
          "scattermapbox": [
           {
            "marker": {
             "colorbar": {
              "outlinewidth": 0,
              "ticks": ""
             }
            },
            "type": "scattermapbox"
           }
          ],
          "scatterpolar": [
           {
            "marker": {
             "colorbar": {
              "outlinewidth": 0,
              "ticks": ""
             }
            },
            "type": "scatterpolar"
           }
          ],
          "scatterpolargl": [
           {
            "marker": {
             "colorbar": {
              "outlinewidth": 0,
              "ticks": ""
             }
            },
            "type": "scatterpolargl"
           }
          ],
          "scatterternary": [
           {
            "marker": {
             "colorbar": {
              "outlinewidth": 0,
              "ticks": ""
             }
            },
            "type": "scatterternary"
           }
          ],
          "surface": [
           {
            "colorbar": {
             "outlinewidth": 0,
             "ticks": ""
            },
            "colorscale": [
             [
              0,
              "#0d0887"
             ],
             [
              0.1111111111111111,
              "#46039f"
             ],
             [
              0.2222222222222222,
              "#7201a8"
             ],
             [
              0.3333333333333333,
              "#9c179e"
             ],
             [
              0.4444444444444444,
              "#bd3786"
             ],
             [
              0.5555555555555556,
              "#d8576b"
             ],
             [
              0.6666666666666666,
              "#ed7953"
             ],
             [
              0.7777777777777778,
              "#fb9f3a"
             ],
             [
              0.8888888888888888,
              "#fdca26"
             ],
             [
              1,
              "#f0f921"
             ]
            ],
            "type": "surface"
           }
          ],
          "table": [
           {
            "cells": {
             "fill": {
              "color": "#EBF0F8"
             },
             "line": {
              "color": "white"
             }
            },
            "header": {
             "fill": {
              "color": "#C8D4E3"
             },
             "line": {
              "color": "white"
             }
            },
            "type": "table"
           }
          ]
         },
         "layout": {
          "annotationdefaults": {
           "arrowcolor": "#2a3f5f",
           "arrowhead": 0,
           "arrowwidth": 1
          },
          "autotypenumbers": "strict",
          "coloraxis": {
           "colorbar": {
            "outlinewidth": 0,
            "ticks": ""
           }
          },
          "colorscale": {
           "diverging": [
            [
             0,
             "#8e0152"
            ],
            [
             0.1,
             "#c51b7d"
            ],
            [
             0.2,
             "#de77ae"
            ],
            [
             0.3,
             "#f1b6da"
            ],
            [
             0.4,
             "#fde0ef"
            ],
            [
             0.5,
             "#f7f7f7"
            ],
            [
             0.6,
             "#e6f5d0"
            ],
            [
             0.7,
             "#b8e186"
            ],
            [
             0.8,
             "#7fbc41"
            ],
            [
             0.9,
             "#4d9221"
            ],
            [
             1,
             "#276419"
            ]
           ],
           "sequential": [
            [
             0,
             "#0d0887"
            ],
            [
             0.1111111111111111,
             "#46039f"
            ],
            [
             0.2222222222222222,
             "#7201a8"
            ],
            [
             0.3333333333333333,
             "#9c179e"
            ],
            [
             0.4444444444444444,
             "#bd3786"
            ],
            [
             0.5555555555555556,
             "#d8576b"
            ],
            [
             0.6666666666666666,
             "#ed7953"
            ],
            [
             0.7777777777777778,
             "#fb9f3a"
            ],
            [
             0.8888888888888888,
             "#fdca26"
            ],
            [
             1,
             "#f0f921"
            ]
           ],
           "sequentialminus": [
            [
             0,
             "#0d0887"
            ],
            [
             0.1111111111111111,
             "#46039f"
            ],
            [
             0.2222222222222222,
             "#7201a8"
            ],
            [
             0.3333333333333333,
             "#9c179e"
            ],
            [
             0.4444444444444444,
             "#bd3786"
            ],
            [
             0.5555555555555556,
             "#d8576b"
            ],
            [
             0.6666666666666666,
             "#ed7953"
            ],
            [
             0.7777777777777778,
             "#fb9f3a"
            ],
            [
             0.8888888888888888,
             "#fdca26"
            ],
            [
             1,
             "#f0f921"
            ]
           ]
          },
          "colorway": [
           "#636efa",
           "#EF553B",
           "#00cc96",
           "#ab63fa",
           "#FFA15A",
           "#19d3f3",
           "#FF6692",
           "#B6E880",
           "#FF97FF",
           "#FECB52"
          ],
          "font": {
           "color": "#2a3f5f"
          },
          "geo": {
           "bgcolor": "white",
           "lakecolor": "white",
           "landcolor": "#E5ECF6",
           "showlakes": true,
           "showland": true,
           "subunitcolor": "white"
          },
          "hoverlabel": {
           "align": "left"
          },
          "hovermode": "closest",
          "mapbox": {
           "style": "light"
          },
          "paper_bgcolor": "white",
          "plot_bgcolor": "#E5ECF6",
          "polar": {
           "angularaxis": {
            "gridcolor": "white",
            "linecolor": "white",
            "ticks": ""
           },
           "bgcolor": "#E5ECF6",
           "radialaxis": {
            "gridcolor": "white",
            "linecolor": "white",
            "ticks": ""
           }
          },
          "scene": {
           "xaxis": {
            "backgroundcolor": "#E5ECF6",
            "gridcolor": "white",
            "gridwidth": 2,
            "linecolor": "white",
            "showbackground": true,
            "ticks": "",
            "zerolinecolor": "white"
           },
           "yaxis": {
            "backgroundcolor": "#E5ECF6",
            "gridcolor": "white",
            "gridwidth": 2,
            "linecolor": "white",
            "showbackground": true,
            "ticks": "",
            "zerolinecolor": "white"
           },
           "zaxis": {
            "backgroundcolor": "#E5ECF6",
            "gridcolor": "white",
            "gridwidth": 2,
            "linecolor": "white",
            "showbackground": true,
            "ticks": "",
            "zerolinecolor": "white"
           }
          },
          "shapedefaults": {
           "line": {
            "color": "#2a3f5f"
           }
          },
          "ternary": {
           "aaxis": {
            "gridcolor": "white",
            "linecolor": "white",
            "ticks": ""
           },
           "baxis": {
            "gridcolor": "white",
            "linecolor": "white",
            "ticks": ""
           },
           "bgcolor": "#E5ECF6",
           "caxis": {
            "gridcolor": "white",
            "linecolor": "white",
            "ticks": ""
           }
          },
          "title": {
           "x": 0.05
          },
          "xaxis": {
           "automargin": true,
           "gridcolor": "white",
           "linecolor": "white",
           "ticks": "",
           "title": {
            "standoff": 15
           },
           "zerolinecolor": "white",
           "zerolinewidth": 2
          },
          "yaxis": {
           "automargin": true,
           "gridcolor": "white",
           "linecolor": "white",
           "ticks": "",
           "title": {
            "standoff": 15
           },
           "zerolinecolor": "white",
           "zerolinewidth": 2
          }
         }
        },
        "xaxis": {
         "anchor": "y",
         "autorange": true,
         "domain": [
          0,
          1
         ],
         "range": [
          0,
          16934.736842105263
         ],
         "title": {
          "text": "importance"
         },
         "type": "linear"
        },
        "yaxis": {
         "anchor": "x",
         "autorange": true,
         "domain": [
          0,
          1
         ],
         "range": [
          -0.5,
          10.5
         ],
         "title": {
          "text": "feature"
         },
         "type": "category"
        }
       }
      },
      "image/png": "[encoded data removed]",
      "text/html": [
       "<div>                            <div id=\"c6ae8a17-b7e4-4622-be5d-63a2cbc582dd\" class=\"plotly-graph-div\" style=\"height:500px; width:100%;\"></div>            <script type=\"text/javascript\">                require([\"plotly\"], function(Plotly) {                    window.PLOTLYENV=window.PLOTLYENV || {};                                    if (document.getElementById(\"c6ae8a17-b7e4-4622-be5d-63a2cbc582dd\")) {                    Plotly.newPlot(                        \"c6ae8a17-b7e4-4622-be5d-63a2cbc582dd\",                        [{\"alignmentgroup\":\"True\",\"hovertemplate\":\"importance=%{x}<br>feature=%{y}<extra></extra>\",\"legendgroup\":\"\",\"marker\":{\"color\":\"#636efa\",\"pattern\":{\"shape\":\"\"}},\"name\":\"\",\"offsetgroup\":\"\",\"orientation\":\"h\",\"showlegend\":false,\"textposition\":\"auto\",\"x\":[3922,4375,5075,6018,6225,7388,11558,15447,15624,15693,16088],\"xaxis\":\"x\",\"y\":[\"S_3_local_nearest_interpolate\",\"S_3_global_min\",\"S_3_local_first\",\"S_3\",\"S_3_local_min\",\"S_3_global_median\",\"S_3_global_max\",\"S_3_local_mean\",\"S_3_global_mean\",\"S_3_local_max\",\"S_3_local_linear_interpolate\"],\"yaxis\":\"y\",\"type\":\"bar\"}],                        {\"template\":{\"data\":{\"histogram2dcontour\":[{\"type\":\"histogram2dcontour\",\"colorbar\":{\"outlinewidth\":0,\"ticks\":\"\"},\"colorscale\":[[0.0,\"#0d0887\"],[0.1111111111111111,\"#46039f\"],[0.2222222222222222,\"#7201a8\"],[0.3333333333333333,\"#9c179e\"],[0.4444444444444444,\"#bd3786\"],[0.5555555555555556,\"#d8576b\"],[0.6666666666666666,\"#ed7953\"],[0.7777777777777778,\"#fb9f3a\"],[0.8888888888888888,\"#fdca26\"],[1.0,\"#f0f921\"]]}],\"choropleth\":[{\"type\":\"choropleth\",\"colorbar\":{\"outlinewidth\":0,\"ticks\":\"\"}}],\"histogram2d\":[{\"type\":\"histogram2d\",\"colorbar\":{\"outlinewidth\":0,\"ticks\":\"\"},\"colorscale\":[[0.0,\"#0d0887\"],[0.1111111111111111,\"#46039f\"],[0.2222222222222222,\"#7201a8\"],[0.3333333333333333,\"#9c179e\"],[0.4444444444444444,\"#bd3786\"],[0.5555555555555556,\"#d8576b\"],[0.6666666666666666,\"#ed7953\"],[0.7777777777777778,\"#fb9f3a\"],[0.8888888888888888,\"#fdca26\"],[1.0,\"#f0f921\"]]}],\"heatmap\":[{\"type\":\"heatmap\",\"colorbar\":{\"outlinewidth\":0,\"ticks\":\"\"},\"colorscale\":[[0.0,\"#0d0887\"],[0.1111111111111111,\"#46039f\"],[0.2222222222222222,\"#7201a8\"],[0.3333333333333333,\"#9c179e\"],[0.4444444444444444,\"#bd3786\"],[0.5555555555555556,\"#d8576b\"],[0.6666666666666666,\"#ed7953\"],[0.7777777777777778,\"#fb9f3a\"],[0.8888888888888888,\"#fdca26\"],[1.0,\"#f0f921\"]]}],\"heatmapgl\":[{\"type\":\"heatmapgl\",\"colorbar\":{\"outlinewidth\":0,\"ticks\":\"\"},\"colorscale\":[[0.0,\"#0d0887\"],[0.1111111111111111,\"#46039f\"],[0.2222222222222222,\"#7201a8\"],[0.3333333333333333,\"#9c179e\"],[0.4444444444444444,\"#bd3786\"],[0.5555555555555556,\"#d8576b\"],[0.6666666666666666,\"#ed7953\"],[0.7777777777777778,\"#fb9f3a\"],[0.8888888888888888,\"#fdca26\"],[1.0,\"#f0f921\"]]}],\"contourcarpet\":[{\"type\":\"contourcarpet\",\"colorbar\":{\"outlinewidth\":0,\"ticks\":\"\"}}],\"contour\":[{\"type\":\"contour\",\"colorbar\":{\"outlinewidth\":0,\"ticks\":\"\"},\"colorscale\":[[0.0,\"#0d0887\"],[0.1111111111111111,\"#46039f\"],[0.2222222222222222,\"#7201a8\"],[0.3333333333333333,\"#9c179e\"],[0.4444444444444444,\"#bd3786\"],[0.5555555555555556,\"#d8576b\"],[0.6666666666666666,\"#ed7953\"],[0.7777777777777778,\"#fb9f3a\"],[0.8888888888888888,\"#fdca26\"],[1.0,\"#f0f921\"]]}],\"surface\":[{\"type\":\"surface\",\"colorbar\":{\"outlinewidth\":0,\"ticks\":\"\"},\"colorscale\":[[0.0,\"#0d0887\"],[0.1111111111111111,\"#46039f\"],[0.2222222222222222,\"#7201a8\"],[0.3333333333333333,\"#9c179e\"],[0.4444444444444444,\"#bd3786\"],[0.5555555555555556,\"#d8576b\"],[0.6666666666666666,\"#ed7953\"],[0.7777777777777778,\"#fb9f3a\"],[0.8888888888888888,\"#fdca26\"],[1.0,\"#f0f921\"]]}],\"mesh3d\":[{\"type\":\"mesh3d\",\"colorbar\":{\"outlinewidth\":0,\"ticks\":\"\"}}],\"scatter\":[{\"fillpattern\":{\"fillmode\":\"overlay\",\"size\":10,\"solidity\":0.2},\"type\":\"scatter\"}],\"parcoords\":[{\"type\":\"parcoords\",\"line\":{\"colorbar\":{\"outlinewidth\":0,\"ticks\":\"\"}}}],\"scatterpolargl\":[{\"type\":\"scatterpolargl\",\"marker\":{\"colorbar\":{\"outlinewidth\":0,\"ticks\":\"\"}}}],\"bar\":[{\"error_x\":{\"color\":\"#2a3f5f\"},\"error_y\":{\"color\":\"#2a3f5f\"},\"marker\":{\"line\":{\"color\":\"#E5ECF6\",\"width\":0.5},\"pattern\":{\"fillmode\":\"overlay\",\"size\":10,\"solidity\":0.2}},\"type\":\"bar\"}],\"scattergeo\":[{\"type\":\"scattergeo\",\"marker\":{\"colorbar\":{\"outlinewidth\":0,\"ticks\":\"\"}}}],\"scatterpolar\":[{\"type\":\"scatterpolar\",\"marker\":{\"colorbar\":{\"outlinewidth\":0,\"ticks\":\"\"}}}],\"histogram\":[{\"marker\":{\"pattern\":{\"fillmode\":\"overlay\",\"size\":10,\"solidity\":0.2}},\"type\":\"histogram\"}],\"scattergl\":[{\"type\":\"scattergl\",\"marker\":{\"colorbar\":{\"outlinewidth\":0,\"ticks\":\"\"}}}],\"scatter3d\":[{\"type\":\"scatter3d\",\"line\":{\"colorbar\":{\"outlinewidth\":0,\"ticks\":\"\"}},\"marker\":{\"colorbar\":{\"outlinewidth\":0,\"ticks\":\"\"}}}],\"scattermapbox\":[{\"type\":\"scattermapbox\",\"marker\":{\"colorbar\":{\"outlinewidth\":0,\"ticks\":\"\"}}}],\"scatterternary\":[{\"type\":\"scatterternary\",\"marker\":{\"colorbar\":{\"outlinewidth\":0,\"ticks\":\"\"}}}],\"scattercarpet\":[{\"type\":\"scattercarpet\",\"marker\":{\"colorbar\":{\"outlinewidth\":0,\"ticks\":\"\"}}}],\"carpet\":[{\"aaxis\":{\"endlinecolor\":\"#2a3f5f\",\"gridcolor\":\"white\",\"linecolor\":\"white\",\"minorgridcolor\":\"white\",\"startlinecolor\":\"#2a3f5f\"},\"baxis\":{\"endlinecolor\":\"#2a3f5f\",\"gridcolor\":\"white\",\"linecolor\":\"white\",\"minorgridcolor\":\"white\",\"startlinecolor\":\"#2a3f5f\"},\"type\":\"carpet\"}],\"table\":[{\"cells\":{\"fill\":{\"color\":\"#EBF0F8\"},\"line\":{\"color\":\"white\"}},\"header\":{\"fill\":{\"color\":\"#C8D4E3\"},\"line\":{\"color\":\"white\"}},\"type\":\"table\"}],\"barpolar\":[{\"marker\":{\"line\":{\"color\":\"#E5ECF6\",\"width\":0.5},\"pattern\":{\"fillmode\":\"overlay\",\"size\":10,\"solidity\":0.2}},\"type\":\"barpolar\"}],\"pie\":[{\"automargin\":true,\"type\":\"pie\"}]},\"layout\":{\"autotypenumbers\":\"strict\",\"colorway\":[\"#636efa\",\"#EF553B\",\"#00cc96\",\"#ab63fa\",\"#FFA15A\",\"#19d3f3\",\"#FF6692\",\"#B6E880\",\"#FF97FF\",\"#FECB52\"],\"font\":{\"color\":\"#2a3f5f\"},\"hovermode\":\"closest\",\"hoverlabel\":{\"align\":\"left\"},\"paper_bgcolor\":\"white\",\"plot_bgcolor\":\"#E5ECF6\",\"polar\":{\"bgcolor\":\"#E5ECF6\",\"angularaxis\":{\"gridcolor\":\"white\",\"linecolor\":\"white\",\"ticks\":\"\"},\"radialaxis\":{\"gridcolor\":\"white\",\"linecolor\":\"white\",\"ticks\":\"\"}},\"ternary\":{\"bgcolor\":\"#E5ECF6\",\"aaxis\":{\"gridcolor\":\"white\",\"linecolor\":\"white\",\"ticks\":\"\"},\"baxis\":{\"gridcolor\":\"white\",\"linecolor\":\"white\",\"ticks\":\"\"},\"caxis\":{\"gridcolor\":\"white\",\"linecolor\":\"white\",\"ticks\":\"\"}},\"coloraxis\":{\"colorbar\":{\"outlinewidth\":0,\"ticks\":\"\"}},\"colorscale\":{\"sequential\":[[0.0,\"#0d0887\"],[0.1111111111111111,\"#46039f\"],[0.2222222222222222,\"#7201a8\"],[0.3333333333333333,\"#9c179e\"],[0.4444444444444444,\"#bd3786\"],[0.5555555555555556,\"#d8576b\"],[0.6666666666666666,\"#ed7953\"],[0.7777777777777778,\"#fb9f3a\"],[0.8888888888888888,\"#fdca26\"],[1.0,\"#f0f921\"]],\"sequentialminus\":[[0.0,\"#0d0887\"],[0.1111111111111111,\"#46039f\"],[0.2222222222222222,\"#7201a8\"],[0.3333333333333333,\"#9c179e\"],[0.4444444444444444,\"#bd3786\"],[0.5555555555555556,\"#d8576b\"],[0.6666666666666666,\"#ed7953\"],[0.7777777777777778,\"#fb9f3a\"],[0.8888888888888888,\"#fdca26\"],[1.0,\"#f0f921\"]],\"diverging\":[[0,\"#8e0152\"],[0.1,\"#c51b7d\"],[0.2,\"#de77ae\"],[0.3,\"#f1b6da\"],[0.4,\"#fde0ef\"],[0.5,\"#f7f7f7\"],[0.6,\"#e6f5d0\"],[0.7,\"#b8e186\"],[0.8,\"#7fbc41\"],[0.9,\"#4d9221\"],[1,\"#276419\"]]},\"xaxis\":{\"gridcolor\":\"white\",\"linecolor\":\"white\",\"ticks\":\"\",\"title\":{\"standoff\":15},\"zerolinecolor\":\"white\",\"automargin\":true,\"zerolinewidth\":2},\"yaxis\":{\"gridcolor\":\"white\",\"linecolor\":\"white\",\"ticks\":\"\",\"title\":{\"standoff\":15},\"zerolinecolor\":\"white\",\"automargin\":true,\"zerolinewidth\":2},\"scene\":{\"xaxis\":{\"backgroundcolor\":\"#E5ECF6\",\"gridcolor\":\"white\",\"linecolor\":\"white\",\"showbackground\":true,\"ticks\":\"\",\"zerolinecolor\":\"white\",\"gridwidth\":2},\"yaxis\":{\"backgroundcolor\":\"#E5ECF6\",\"gridcolor\":\"white\",\"linecolor\":\"white\",\"showbackground\":true,\"ticks\":\"\",\"zerolinecolor\":\"white\",\"gridwidth\":2},\"zaxis\":{\"backgroundcolor\":\"#E5ECF6\",\"gridcolor\":\"white\",\"linecolor\":\"white\",\"showbackground\":true,\"ticks\":\"\",\"zerolinecolor\":\"white\",\"gridwidth\":2}},\"shapedefaults\":{\"line\":{\"color\":\"#2a3f5f\"}},\"annotationdefaults\":{\"arrowcolor\":\"#2a3f5f\",\"arrowhead\":0,\"arrowwidth\":1},\"geo\":{\"bgcolor\":\"white\",\"landcolor\":\"#E5ECF6\",\"subunitcolor\":\"white\",\"showland\":true,\"showlakes\":true,\"lakecolor\":\"white\"},\"title\":{\"x\":0.05},\"mapbox\":{\"style\":\"light\"}}},\"xaxis\":{\"anchor\":\"y\",\"domain\":[0.0,1.0],\"title\":{\"text\":\"importance\"}},\"yaxis\":{\"anchor\":\"x\",\"domain\":[0.0,1.0],\"title\":{\"text\":\"feature\"}},\"legend\":{\"tracegroupgap\":0},\"margin\":{\"t\":60},\"barmode\":\"relative\",\"height\":500},                        {\"responsive\": true}                    ).then(function(){\n",
       "                            \n",
       "var gd = document.getElementById('c6ae8a17-b7e4-4622-be5d-63a2cbc582dd');\n",
       "var x = new MutationObserver(function (mutations, observer) {{\n",
       "        var display = window.getComputedStyle(gd).display;\n",
       "        if (!display || display === 'none') {{\n",
       "            console.log([gd, 'removed!']);\n",
       "            Plotly.purge(gd);\n",
       "            observer.disconnect();\n",
       "        }}\n",
       "}});\n",
       "\n",
       "// Listen for the removal of the full notebook cells\n",
       "var notebookContainer = gd.closest('#notebook-container');\n",
       "if (notebookContainer) {{\n",
       "    x.observe(notebookContainer, {childList: true});\n",
       "}}\n",
       "\n",
       "// Listen for the clearing of the current output cell\n",
       "var outputEl = gd.closest('.output');\n",
       "if (outputEl) {{\n",
       "    x.observe(outputEl, {childList: true});\n",
       "}}\n",
       "\n",
       "                        })                };                });            </script>        </div>"
      ]
     },
     "metadata": {},
     "output_type": "display_data"
    }
   ],
   "source": []
  },
  {
   "cell_type": "code",
   "execution_count": null,
   "id": "57a4eb0b-633a-4112-9f4c-a910f4f48049",
   "metadata": {},
   "outputs": [],
   "source": [
    "len(idx_train)"
   ]
  },
  {
   "cell_type": "code",
   "execution_count": null,
   "id": "d61c8aa9-6115-4ddd-aa0d-5d4f5a6a161f",
   "metadata": {},
   "outputs": [],
   "source": []
  }
 ],
 "metadata": {
  "kernelspec": {
   "display_name": "Python 3 (ipykernel)",
   "language": "python",
   "name": "python3"
  },
  "language_info": {
   "codemirror_mode": {
    "name": "ipython",
    "version": 3
   },
   "file_extension": ".py",
   "mimetype": "text/x-python",
   "name": "python",
   "nbconvert_exporter": "python",
   "pygments_lexer": "ipython3",
   "version": "3.10.4"
  }
 },
 "nbformat": 4,
 "nbformat_minor": 5
}
