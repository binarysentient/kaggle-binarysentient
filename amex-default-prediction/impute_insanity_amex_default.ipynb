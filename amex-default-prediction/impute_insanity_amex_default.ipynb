{
 "cells": [
  {
   "cell_type": "markdown",
   "id": "b4dade30-94ed-4d49-bb1e-553b91996bb0",
   "metadata": {},
   "source": [
    "## IMPUTE INSANITY!:\n",
    "### before we move onto neural networks we need to impute the NANs\n",
    "#### How do we even know we've correctly imputed?\n",
    "#### **Try out every impute methods and per feature set train the GBM and see which one got most importance**\n",
    "\n",
    "### TODO\n",
    "- #### [KNN , DeepLearner, other novel ways to impute](https://towardsdatascience.com/6-different-ways-to-compensate-for-missing-values-data-imputation-with-examples-6022d9ca0779)\n",
    "  - KNN thoughts: we can perhaps use subset of features with no nans, but then the records will become similar, and decision trees already predict the same result for similar looking rows? then what's the point of imputing value same as similar looking rows?\n",
    "- ### DON't Impute rather provide the Flag wether the feature has value or not, kinda like mask; we did this in Optiver (not the transformer sequence mask , but we have mask about weather the second/grouped seconds is missing or not)\n",
    "  - #### [Results on passing information about missing values to neural networks](https://machinelearningmastery.com/binary-flags-for-missing-values-for-machine-learning/)\n",
    "- ### AMEND ABOVE: Impute as well as pass the missing Flag too, so neural network learns better\n",
    "- ### Categorical Imputation: train on data with missing categorical values as target variable! **We can even use TEST set to do this!!!! yay!**\n",
    "  - #### [Training to find missing categorical values](https://www.analyticsvidhya.com/blog/2021/04/how-to-handle-missing-values-of-categorical-variables/)\n",
    "\n",
    "### IMPORTANT FLOAT16 aggregations return NONE!!! mean, sum most of it doesn't work :-/"
   ]
  },
  {
   "cell_type": "markdown",
   "id": "9d809121-a984-441c-8885-a94938548420",
   "metadata": {},
   "source": [
    "## TODO:\n",
    "- ### MULTILEVEL IMPUTATION DEFAULT\n",
    "- ### LEVEL 1: out of all the variant+original; select the one with best amex scores DEFAULT_EMP1\n",
    "    - #### This is partial nans\n",
    "- ### Level 2: now that we have partial none df with best variants(including original with nans) ; TRAIN ML MODEL to have PREDICTED/BS variant\n",
    "    - #### In the order of lowest missing values to highest missing values\n",
    "    - #### we Target the feature with lowest amount on NAN as we have maximum training rows; then slowly cascade to more missing row features\n",
    "    - #### once we have computed PREDICTED/BS variants for all of the features with nans\n",
    "- ### Level 3: from DEFAULT_EMP1 vs PREDICTED variant select the one with maximum amex score (this is kinda like back to stage 1 but with improved train_df_wt)\n",
    "    - #### repetetively select and choose the best varint out of the two\n",
    "    - #### DEFAULT_EMP2 is generated!\n",
    "    - #### Now there is a scope of repeating Level 2 again with using base_df of EMP2 and then going to EMP3,"
   ]
  },
  {
   "cell_type": "code",
   "execution_count": 1,
   "id": "799d3de7-7230-42ee-b699-26d02974f93b",
   "metadata": {},
   "outputs": [],
   "source": [
    "WHERE_THIS = \"local\" # local|kaggle\n",
    "\n",
    "BS_DATASET = \"amex-default-prediction-binarysentient\"\n",
    "if WHERE_THIS == \"kaggle\":\n",
    "    INPUT_PATH = \"/kaggle/input/amex-default-prediction/\"\n",
    "    OUTPUT_PATH = \"/kaggle/working/\"\n",
    "    TEMP_PATH = \"/kaggle/temp/\"\n",
    "elif WHERE_THIS == \"local\":\n",
    "    INPUT_PATH = \"input/amex-default-prediction/\"\n",
    "    OUTPUT_PATH = \"working/\"\n",
    "    TEMP_PATH = \"temp/\"\n"
   ]
  },
  {
   "cell_type": "code",
   "execution_count": 166,
   "id": "1b8e156e-282d-4a57-8738-46695bcc46cb",
   "metadata": {},
   "outputs": [
    {
     "name": "stdout",
     "output_type": "stream",
     "text": [
      "input/amex-default-prediction/sample_submission.csv\n",
      "input/amex-default-prediction/test_data.csv\n",
      "input/amex-default-prediction/train_data.csv\n",
      "input/amex-default-prediction/train_labels.csv\n",
      "input/amex-default-prediction/.ipynb_checkpoints\\sample_submission-checkpoint.csv\n"
     ]
    }
   ],
   "source": [
    "# This Python 3 environment comes with many helpful analytics libraries installed\n",
    "# It is defined by the kaggle/python Docker image: https://github.com/kaggle/docker-python\n",
    "# For example, here's several helpful packages to load\n",
    "\n",
    "import gc\n",
    "import os\n",
    "from datetime import datetime\n",
    "import torch\n",
    "\n",
    "\n",
    "import numpy as np # linear algebra\n",
    "import pandas as pd # data processing, CSV file I/O (e.g. pd.read_csv)\n",
    "from IPython.display import display, HTML\n",
    "from lightgbm import LGBMClassifier, log_evaluation\n",
    "from sklearn.model_selection import StratifiedKFold\n",
    "import plotly.express as pltex\n",
    "\n",
    "import impute_insanity\n",
    "from impute_insanity import load_prepare_amex_dataset\n",
    "# Input data files are available in the read-only \"../input/\" directory\n",
    "# For example, running this (by clicking run or pressing Shift+Enter) will list all files under the input directory\n",
    "\n",
    "\n",
    "for dirname, _, filenames in os.walk(INPUT_PATH):\n",
    "    for filename in filenames:\n",
    "        print(os.path.join(dirname, filename))\n",
    "\n",
    "# You can write up to 20GB to the current directory (/kaggle/working/) that gets preserved as output when you create a version using \"Save & Run All\" \n",
    "# You can also write temporary files to /kaggle/temp/, but they won't be saved outside of the current session"
   ]
  },
  {
   "cell_type": "code",
   "execution_count": 132,
   "id": "f240c1ff-1841-49f9-b7af-c868c9dd855d",
   "metadata": {},
   "outputs": [],
   "source": [
    "object_features = ['customer_ID']\n",
    "datetime_features = ['S_2']\n",
    "target_features = ['target']\n",
    "cat_features = ['B_30', 'B_38', 'D_114', 'D_116', 'D_117', 'D_120', 'D_126', 'D_63', 'D_64', 'D_66', 'D_68']\n",
    "numeric_features = ['R_2', 'S_25', 'D_118', 'B_5', 'D_60', 'B_21', 'D_115', 'S_15', 'D_84', 'D_122', 'B_9', 'B_33', 'D_53', 'R_24', 'D_94', 'D_56', 'D_139', 'R_28', 'B_3', 'S_20', 'B_31', 'D_133', 'B_2', 'S_12', 'D_71', 'D_96', 'S_7', 'D_72', 'B_36', 'B_41', 'S_5', 'D_41', 'R_22', 'R_8', 'D_140', 'D_47', 'D_89', 'P_2', 'R_19', 'D_59', 'B_23', 'S_3', 'D_145', 'D_103', 'B_19', 'R_20', 'D_73', 'D_136', 'D_141', 'D_142', 'B_22', 'D_46', 'B_29', 'B_25', 'D_128', 'B_18', 'D_86', 'D_109', 'B_8', 'B_17', 'R_17', 'B_12', 'D_54', 'D_74', 'S_16', 'B_6', 'D_49', 'D_80', 'S_8', 'B_7', 'D_144', 'B_27', 'B_26', 'R_25', 'R_23', 'D_82', 'D_111', 'B_10', 'D_113', 'R_4', 'D_48', 'R_26', 'S_23', 'B_11', 'D_104', 'D_134', 'D_79', 'P_3', 'D_132', 'D_137', 'D_135', 'B_28', 'D_88', 'S_13', 'D_51', 'D_61', 'D_75', 'D_69', 'R_16', 'S_6', 'S_17', 'D_93', 'B_20', 'D_112', 'D_123', 'D_130', 'B_1', 'D_78', 'D_92', 'S_27', 'D_44', 'B_16', 'R_5', 'D_43', 'S_18', 'B_15', 'D_39', 'D_50', 'D_55', 'S_9', 'D_105', 'D_70', 'R_18', 'D_125', 'D_58', 'S_24', 'D_110', 'D_42', 'R_6', 'D_81', 'R_7', 'D_138', 'D_52', 'R_27', 'D_124', 'D_45', 'D_91', 'D_108', 'S_22', 'B_14', 'D_83', 'R_13', 'D_87', 'S_19', 'D_131', 'R_21', 'B_40', 'R_3', 'D_65', 'B_13', 'D_129', 'D_119', 'B_32', 'R_9', 'B_24', 'D_127', 'D_106', 'D_102', 'R_1', 'R_14', 'B_37', 'D_107', 'R_15', 'R_12', 'P_4', 'R_10', 'customer_ID', 'D_121', 'R_11', 'S_11', 'D_76', 'D_143', 'B_39', 'B_42', 'D_62', 'B_4', 'S_26', 'D_77']\n",
    "    "
   ]
  },
  {
   "cell_type": "code",
   "execution_count": 5,
   "id": "b2e62d91-78a3-44d5-a4dc-3697f03206a5",
   "metadata": {},
   "outputs": [],
   "source": [
    "def amex_metric(y_true: pd.DataFrame, y_pred: pd.DataFrame) -> float:\n",
    "\n",
    "    def top_four_percent_captured(y_true: pd.DataFrame, y_pred: pd.DataFrame) -> float:\n",
    "        df = (pd.concat([y_true, y_pred], axis='columns')\n",
    "              .sort_values('prediction', ascending=False))\n",
    "        df['weight'] = df['target'].apply(lambda x: 20 if x==0 else 1)\n",
    "        four_pct_cutoff = int(0.04 * df['weight'].sum())\n",
    "        df['weight_cumsum'] = df['weight'].cumsum()\n",
    "        df_cutoff = df.loc[df['weight_cumsum'] <= four_pct_cutoff]\n",
    "        return (df_cutoff['target'] == 1).sum() / (df['target'] == 1).sum()\n",
    "        \n",
    "    def weighted_gini(y_true: pd.DataFrame, y_pred: pd.DataFrame) -> float:\n",
    "        df = (pd.concat([y_true, y_pred], axis='columns')\n",
    "              .sort_values('prediction', ascending=False))\n",
    "        df['weight'] = df['target'].apply(lambda x: 20 if x==0 else 1)\n",
    "        df['random'] = (df['weight'] / df['weight'].sum()).cumsum()\n",
    "        total_pos = (df['target'] * df['weight']).sum()\n",
    "        df['cum_pos_found'] = (df['target'] * df['weight']).cumsum()\n",
    "        df['lorentz'] = df['cum_pos_found'] / total_pos\n",
    "        df['gini'] = (df['lorentz'] - df['random']) * df['weight']\n",
    "        return df['gini'].sum()\n",
    "\n",
    "    def normalized_weighted_gini(y_true: pd.DataFrame, y_pred: pd.DataFrame) -> float:\n",
    "        y_true_pred = y_true.rename(columns={'target': 'prediction'})\n",
    "        return weighted_gini(y_true, y_pred) / weighted_gini(y_true, y_true_pred)\n",
    "\n",
    "    g = normalized_weighted_gini(y_true, y_pred)\n",
    "    d = top_four_percent_captured(y_true, y_pred)\n",
    "\n",
    "    return 0.5 * (g + d)\n",
    "\n",
    "## TODO: FAST AMEX implementation is not accurate; convert the dataframe accurate version to directly work with numpy arrays\n",
    "# @yunchonggan's fast metric implementation\n",
    "# From https://www.kaggle.com/competitions/amex-default-prediction/discussion/328020\n",
    "def fast_amex_metric(y_true: np.array, y_pred: np.array) -> float:\n",
    "\n",
    "    # count of positives and negatives\n",
    "    n_pos = y_true.sum()\n",
    "    n_neg = y_true.shape[0] - n_pos\n",
    "\n",
    "    # sorting by descring prediction values\n",
    "    indices = np.argsort(y_pred)[::-1]\n",
    "    preds, target = y_pred[indices], y_true[indices]\n",
    "\n",
    "    # filter the top 4% by cumulative row weights\n",
    "    weight = 20.0 - target * 19.0\n",
    "    cum_norm_weight = (weight / weight.sum()).cumsum()\n",
    "    four_pct_filter = cum_norm_weight <= 0.04\n",
    "\n",
    "    # default rate captured at 4%\n",
    "    d = target[four_pct_filter].sum() / n_pos\n",
    "\n",
    "    # weighted gini coefficient\n",
    "    lorentz = (target / n_pos).cumsum()\n",
    "    gini = ((lorentz - cum_norm_weight) * weight).sum()\n",
    "\n",
    "    # max weighted gini coefficient\n",
    "    gini_max = 10 * n_neg * (1 - 19 / (n_pos + 20 * n_neg))\n",
    "\n",
    "    # normalized weighted gini coefficient\n",
    "    g = gini / gini_max\n",
    "\n",
    "    return 0.5 * (g + d)\n",
    "\n",
    "# Need Lightgbm supported eval metric\n",
    "#Custom eval function expects a callable with following signatures: func(y_true, y_pred), func(y_true, y_pred, weight) or func(y_true, y_pred, weight, group) and returns (eval_name, eval_result, is_higher_better) or list of (eval_name, eval_result, is_higher_better):\n",
    "def lgbm_eval_metric_amex(y_true, y_pred):\n",
    "    amex_metric = fast_amex_metric(y_true, y_pred)\n",
    "    return ('amex', amex_metric, True)"
   ]
  },
  {
   "cell_type": "code",
   "execution_count": 6,
   "id": "e4ccf182-f698-4fec-bd9b-d386027d57ea",
   "metadata": {},
   "outputs": [
    {
     "data": {
      "text/html": [
       "<div>\n",
       "<style scoped>\n",
       "    .dataframe tbody tr th:only-of-type {\n",
       "        vertical-align: middle;\n",
       "    }\n",
       "\n",
       "    .dataframe tbody tr th {\n",
       "        vertical-align: top;\n",
       "    }\n",
       "\n",
       "    .dataframe thead th {\n",
       "        text-align: right;\n",
       "    }\n",
       "</style>\n",
       "<table border=\"1\" class=\"dataframe\">\n",
       "  <thead>\n",
       "    <tr style=\"text-align: right;\">\n",
       "      <th></th>\n",
       "      <th>customer_ID</th>\n",
       "      <th>target</th>\n",
       "    </tr>\n",
       "  </thead>\n",
       "  <tbody>\n",
       "    <tr>\n",
       "      <th>0</th>\n",
       "      <td>0000099d6bd597052cdcda90ffabf56573fe9d7c79be5f...</td>\n",
       "      <td>0.0</td>\n",
       "    </tr>\n",
       "    <tr>\n",
       "      <th>1</th>\n",
       "      <td>00000fd6641609c6ece5454664794f0340ad84dddce9a2...</td>\n",
       "      <td>0.0</td>\n",
       "    </tr>\n",
       "    <tr>\n",
       "      <th>2</th>\n",
       "      <td>00001b22f846c82c51f6e3958ccd81970162bae8b007e8...</td>\n",
       "      <td>0.0</td>\n",
       "    </tr>\n",
       "    <tr>\n",
       "      <th>3</th>\n",
       "      <td>000041bdba6ecadd89a52d11886e8eaaec9325906c9723...</td>\n",
       "      <td>0.0</td>\n",
       "    </tr>\n",
       "    <tr>\n",
       "      <th>4</th>\n",
       "      <td>00007889e4fcd2614b6cbe7f8f3d2e5c728eca32d9eb8a...</td>\n",
       "      <td>0.0</td>\n",
       "    </tr>\n",
       "    <tr>\n",
       "      <th>...</th>\n",
       "      <td>...</td>\n",
       "      <td>...</td>\n",
       "    </tr>\n",
       "    <tr>\n",
       "      <th>458908</th>\n",
       "      <td>ffff41c8a52833b56430603969b9ca48d208e7c192c6a4...</td>\n",
       "      <td>0.0</td>\n",
       "    </tr>\n",
       "    <tr>\n",
       "      <th>458909</th>\n",
       "      <td>ffff518bb2075e4816ee3fe9f3b152c57fc0e6f01bf7fd...</td>\n",
       "      <td>0.0</td>\n",
       "    </tr>\n",
       "    <tr>\n",
       "      <th>458910</th>\n",
       "      <td>ffff9984b999fccb2b6127635ed0736dda94e544e67e02...</td>\n",
       "      <td>0.0</td>\n",
       "    </tr>\n",
       "    <tr>\n",
       "      <th>458911</th>\n",
       "      <td>ffffa5c46bc8de74f5a4554e74e239c8dee6b9baf38814...</td>\n",
       "      <td>1.0</td>\n",
       "    </tr>\n",
       "    <tr>\n",
       "      <th>458912</th>\n",
       "      <td>fffff1d38b785cef84adeace64f8f83db3a0c31e8d92ea...</td>\n",
       "      <td>0.0</td>\n",
       "    </tr>\n",
       "  </tbody>\n",
       "</table>\n",
       "<p>458913 rows × 2 columns</p>\n",
       "</div>"
      ],
      "text/plain": [
       "                                              customer_ID  target\n",
       "0       0000099d6bd597052cdcda90ffabf56573fe9d7c79be5f...     0.0\n",
       "1       00000fd6641609c6ece5454664794f0340ad84dddce9a2...     0.0\n",
       "2       00001b22f846c82c51f6e3958ccd81970162bae8b007e8...     0.0\n",
       "3       000041bdba6ecadd89a52d11886e8eaaec9325906c9723...     0.0\n",
       "4       00007889e4fcd2614b6cbe7f8f3d2e5c728eca32d9eb8a...     0.0\n",
       "...                                                   ...     ...\n",
       "458908  ffff41c8a52833b56430603969b9ca48d208e7c192c6a4...     0.0\n",
       "458909  ffff518bb2075e4816ee3fe9f3b152c57fc0e6f01bf7fd...     0.0\n",
       "458910  ffff9984b999fccb2b6127635ed0736dda94e544e67e02...     0.0\n",
       "458911  ffffa5c46bc8de74f5a4554e74e239c8dee6b9baf38814...     1.0\n",
       "458912  fffff1d38b785cef84adeace64f8f83db3a0c31e8d92ea...     0.0\n",
       "\n",
       "[458913 rows x 2 columns]"
      ]
     },
     "execution_count": 6,
     "metadata": {},
     "output_type": "execute_result"
    }
   ],
   "source": [
    "train_label_df = load_prepare_amex_dataset('train_labels')#, index_col='customer_ID')\n",
    "train_label_df"
   ]
  },
  {
   "cell_type": "code",
   "execution_count": 7,
   "id": "09052bcc-5d49-4107-a017-2b27a1624677",
   "metadata": {},
   "outputs": [],
   "source": [
    "prediction_labels = train_label_df.copy()\n",
    "# prediction_labels['prediction'] = prediction_labels['target'] \n",
    "# prediction_labels['prediction'] = prediction_labels['target'] - 3\n",
    "prediction_labels['prediction'] = 1000\n",
    "del prediction_labels['target'] \n"
   ]
  },
  {
   "cell_type": "markdown",
   "id": "6cfd1a55-95ff-4d87-9a34-c65d1dd30564",
   "metadata": {},
   "source": [
    "### Predictions impact on Evaluation Metric\n",
    "- #### all predictions 0 :   score 0.018829875288988086\n",
    "- #### all predictions 1 :   score 0.018829875288988086\n",
    "- #### all predictions 0.4 : score 0.018829875288988086\n",
    "- #### same as target      : score 1.0\n",
    "- #### target * 10         : score 1.0\n",
    "- #### target * 0.001      : score 1.0\n",
    "- #### target - 3          : score 1.0\n",
    "- #### target + 3          : score 1.0\n",
    "\n",
    "## The evaluation metrics is solid! amazing, need to understand more\n",
    "## TODO: FAST AMEX implementation is not accurate; convert the dataframe accurate version to directly work with numpy arrays"
   ]
  },
  {
   "cell_type": "code",
   "execution_count": 8,
   "id": "cf09d96f-a3aa-4382-a65e-1a58c4588135",
   "metadata": {},
   "outputs": [
    {
     "name": "stdout",
     "output_type": "stream",
     "text": [
      "0.02260958442726859\n"
     ]
    }
   ],
   "source": [
    "## TODO: FAST AMEX implementation is not accurate; convert the dataframe accurate version to directly work with numpy arrays\n",
    "# print(amex_metric(train_labels, prediction_labels))\n",
    "print(fast_amex_metric(train_label_df['target'], prediction_labels['prediction']))"
   ]
  },
  {
   "cell_type": "code",
   "execution_count": 9,
   "id": "78c037fc-0aaf-4c09-8807-0aae76e5c119",
   "metadata": {},
   "outputs": [],
   "source": [
    "def create_model_with_config(random_state=1, n_estimators=1200, importance_type=None, early_stopping_rounds=None):\n",
    "    \"\"\"\n",
    "    Creates model with our desired and some default hyper params\n",
    "    importance_type: split|gain\n",
    "    \"\"\"\n",
    "    return LGBMClassifier(n_estimators=n_estimators,\n",
    "                          learning_rate=0.03, reg_lambda=50,\n",
    "                          min_child_samples=2400,\n",
    "                          num_leaves=95,\n",
    "                          colsample_bytree=0.19,early_stopping_rounds=early_stopping_rounds,\n",
    "                          max_bins=511, random_state=random_state, importance_type=importance_type)"
   ]
  },
  {
   "cell_type": "markdown",
   "id": "fe33434f-4986-4a7b-8ac4-de48eb0052ed",
   "metadata": {},
   "source": [
    "## Precision impact on scores:\n",
    "\n",
    "### float32: 0.788541\n",
    "### float16: 0.788748, 0.788649, 0.788821\n",
    "### float64: 0.788276, 0.789053, 0.789025, 0.788543\n",
    "\n",
    "\n",
    "## Default\n",
    "\n",
    "## EMP1\n"
   ]
  },
  {
   "cell_type": "code",
   "execution_count": 10,
   "id": "959bc1be-77fe-42db-8dde-de902027aa09",
   "metadata": {},
   "outputs": [],
   "source": [
    "fold_score_track = {}\n",
    "def track_score(key, score):\n",
    "    key = str(key)\n",
    "    if key not in fold_score_track:\n",
    "        fold_score_track[key] = []\n",
    "    fold_score_track[key].append(score)\n",
    "\n",
    "def show_score(key):\n",
    "    key = str(key)\n",
    "    display(HTML(f\"<h3>{key} OVERALL SCORE : {np.mean(fold_score_track[key]):0.6f}</h3>\"))"
   ]
  },
  {
   "cell_type": "code",
   "execution_count": 11,
   "id": "dbc6a1fb-bd36-4639-873a-1bd93ca20f5c",
   "metadata": {},
   "outputs": [],
   "source": []
  },
  {
   "cell_type": "code",
   "execution_count": 13,
   "id": "a6078835-3a40-4e2a-b669-7452e2f0c62a",
   "metadata": {},
   "outputs": [
    {
     "name": "stdout",
     "output_type": "stream",
     "text": [
      "CPU times: total: 3min 55s\n",
      "Wall time: 3min 55s\n"
     ]
    }
   ],
   "source": []
  },
  {
   "cell_type": "code",
   "execution_count": null,
   "id": "28da9083-1a02-4478-9a90-2c24146cc1e4",
   "metadata": {},
   "outputs": [],
   "source": []
  },
  {
   "cell_type": "code",
   "execution_count": 57,
   "id": "f6368f18-9663-418e-84eb-413299e659fb",
   "metadata": {},
   "outputs": [],
   "source": [
    "def create_lgbm_model_with_config(random_state=1, n_estimators=1200, importance_type=None, early_stopping_rounds=None):\n",
    "    \"\"\"\n",
    "    Creates model with our desired and some default hyper params\n",
    "    importance_type: split|gain\n",
    "    \"\"\"\n",
    "    if early_stopping_rounds is None:\n",
    "        early_stopping_rounds = n_estimators//5\n",
    "    return LGBMClassifier(n_estimators=n_estimators,\n",
    "                          learning_rate=0.03, reg_lambda=50,\n",
    "                          min_child_samples=2400,\n",
    "                          num_leaves=95, num_threads=12,\n",
    "                          colsample_bytree=0.19,early_stopping_rounds=early_stopping_rounds,\n",
    "                          max_bins=511, random_state=random_state, importance_type=importance_type)\n"
   ]
  },
  {
   "cell_type": "code",
   "execution_count": 179,
   "id": "381bb1be-dea6-48e3-adac-21b57db064fb",
   "metadata": {},
   "outputs": [
    {
     "name": "stdout",
     "output_type": "stream",
     "text": [
      "Read test\n",
      "Computed avg test\n"
     ]
    },
    {
     "name": "stderr",
     "output_type": "stream",
     "text": [
      "<timed exec>:26: FutureWarning: Dropping invalid columns in DataFrameGroupBy.min is deprecated. In a future version, a TypeError will be raised. Before calling .min, select only columns which should be valid for the function.\n"
     ]
    },
    {
     "name": "stdout",
     "output_type": "stream",
     "text": [
      "Computed min test\n"
     ]
    },
    {
     "name": "stderr",
     "output_type": "stream",
     "text": [
      "<timed exec>:33: FutureWarning: Dropping invalid columns in DataFrameGroupBy.max is deprecated. In a future version, a TypeError will be raised. Before calling .max, select only columns which should be valid for the function.\n"
     ]
    },
    {
     "name": "stdout",
     "output_type": "stream",
     "text": [
      "Computed max test\n",
      "Computed last test\n",
      "test shape: (924621, 459)\n",
      "Read train\n",
      "Computed avg train\n"
     ]
    },
    {
     "name": "stderr",
     "output_type": "stream",
     "text": [
      "<timed exec>:26: FutureWarning: Dropping invalid columns in DataFrameGroupBy.min is deprecated. In a future version, a TypeError will be raised. Before calling .min, select only columns which should be valid for the function.\n"
     ]
    },
    {
     "name": "stdout",
     "output_type": "stream",
     "text": [
      "Computed min train\n"
     ]
    },
    {
     "name": "stderr",
     "output_type": "stream",
     "text": [
      "<timed exec>:33: FutureWarning: Dropping invalid columns in DataFrameGroupBy.max is deprecated. In a future version, a TypeError will be raised. Before calling .max, select only columns which should be valid for the function.\n"
     ]
    },
    {
     "name": "stdout",
     "output_type": "stream",
     "text": [
      "Computed max train\n",
      "Computed last train\n",
      "train shape: (458913, 459)\n",
      "target shape: (458913,)\n",
      "CPU times: total: 3min 12s\n",
      "Wall time: 1min 52s\n"
     ]
    }
   ],
   "source": [
    "%%time\n",
    "features_avg = ['B_1', 'B_2', 'B_3', 'B_4', 'B_5', 'B_6', 'B_8', 'B_9', 'B_10', 'B_11', 'B_12', 'B_13', 'B_14', 'B_15', 'B_16', 'B_17', 'B_18', 'B_19', 'B_20', 'B_21', 'B_22', 'B_23', 'B_24', 'B_25', 'B_28', 'B_29', 'B_30', 'B_32', 'B_33', 'B_37', 'B_38', 'B_39', 'B_40', 'B_41', 'B_42', 'D_39', 'D_41', 'D_42', 'D_43', 'D_44', 'D_45', 'D_46', 'D_47', 'D_48', 'D_50', 'D_51', 'D_53', 'D_54', 'D_55', 'D_58', 'D_59', 'D_60', 'D_61', 'D_62', 'D_65', 'D_66', 'D_69', 'D_70', 'D_71', 'D_72', 'D_73', 'D_74', 'D_75', 'D_76', 'D_77', 'D_78', 'D_80', 'D_82', 'D_84', 'D_86', 'D_91', 'D_92', 'D_94', 'D_96', 'D_103', 'D_104', 'D_108', 'D_112', 'D_113', 'D_114', 'D_115', 'D_117', 'D_118', 'D_119', 'D_120', 'D_121', 'D_122', 'D_123', 'D_124', 'D_125', 'D_126', 'D_128', 'D_129', 'D_131', 'D_132', 'D_133', 'D_134', 'D_135', 'D_136', 'D_140', 'D_141', 'D_142', 'D_144', 'D_145', 'P_2', 'P_3', 'P_4', 'R_1', 'R_2', 'R_3', 'R_7', 'R_8', 'R_9', 'R_10', 'R_11', 'R_14', 'R_15', 'R_16', 'R_17', 'R_20', 'R_21', 'R_22', 'R_24', 'R_26', 'R_27', 'S_3', 'S_5', 'S_6', 'S_7', 'S_9', 'S_11', 'S_12', 'S_13', 'S_15', 'S_16', 'S_18', 'S_22', 'S_23', 'S_25', 'S_26']\n",
    "features_avg = list(set(features_avg).difference(set(cat_features)))\n",
    "features_min = ['B_2', 'B_4', 'B_5', 'B_9', 'B_13', 'B_14', 'B_15', 'B_16', 'B_17', 'B_19', 'B_20', 'B_28', 'B_29', 'B_33', 'B_36', 'B_42', 'D_39', 'D_41', 'D_42', 'D_45', 'D_46', 'D_48', 'D_50', 'D_51', 'D_53', 'D_55', 'D_56', 'D_58', 'D_59', 'D_60', 'D_62', 'D_70', 'D_71', 'D_74', 'D_75', 'D_78', 'D_83', 'D_102', 'D_112', 'D_113', 'D_115', 'D_118', 'D_119', 'D_121', 'D_122', 'D_128', 'D_132', 'D_140', 'D_141', 'D_144', 'D_145', 'P_2', 'P_3', 'R_1', 'R_27', 'S_3', 'S_5', 'S_7', 'S_9', 'S_11', 'S_12', 'S_23', 'S_25']\n",
    "features_min = list(set(features_min).difference(set(cat_features)))\n",
    "features_max = ['B_1', 'B_2', 'B_3', 'B_4', 'B_5', 'B_6', 'B_7', 'B_8', 'B_9', 'B_10', 'B_12', 'B_13', 'B_14', 'B_15', 'B_16', 'B_17', 'B_18', 'B_19', 'B_21', 'B_23', 'B_24', 'B_25', 'B_29', 'B_30', 'B_33', 'B_37', 'B_38', 'B_39', 'B_40', 'B_42', 'D_39', 'D_41', 'D_42', 'D_43', 'D_44', 'D_45', 'D_46', 'D_47', 'D_48', 'D_49', 'D_50', 'D_52', 'D_55', 'D_56', 'D_58', 'D_59', 'D_60', 'D_61', 'D_63', 'D_64', 'D_65', 'D_70', 'D_71', 'D_72', 'D_73', 'D_74', 'D_76', 'D_77', 'D_78', 'D_80', 'D_82', 'D_84', 'D_91', 'D_102', 'D_105', 'D_107', 'D_110', 'D_111', 'D_112', 'D_115', 'D_116', 'D_117', 'D_118', 'D_119', 'D_121', 'D_122', 'D_123', 'D_124', 'D_125', 'D_126', 'D_128', 'D_131', 'D_132', 'D_133', 'D_134', 'D_135', 'D_136', 'D_138', 'D_140', 'D_141', 'D_142', 'D_144', 'D_145', 'P_2', 'P_3', 'P_4', 'R_1', 'R_3', 'R_5', 'R_6', 'R_7', 'R_8', 'R_10', 'R_11', 'R_14', 'R_17', 'R_20', 'R_26', 'R_27', 'S_3', 'S_5', 'S_7', 'S_8', 'S_11', 'S_12', 'S_13', 'S_15', 'S_16', 'S_22', 'S_23', 'S_24', 'S_25', 'S_26', 'S_27']\n",
    "features_max = list(set(features_max).difference(set(cat_features)))\n",
    "features_last = ['B_1', 'B_2', 'B_3', 'B_4', 'B_5', 'B_6', 'B_7', 'B_8', 'B_9', 'B_10', 'B_11', 'B_12', 'B_13', 'B_14', 'B_15', 'B_16', 'B_17', 'B_18', 'B_19', 'B_20', 'B_21', 'B_22', 'B_23', 'B_24', 'B_25', 'B_26', 'B_28', 'B_29', 'B_30', 'B_32', 'B_33', 'B_36', 'B_37', 'B_38', 'B_39', 'B_40', 'B_41', 'B_42', 'D_39', 'D_41', 'D_42', 'D_43', 'D_44', 'D_45', 'D_46', 'D_47', 'D_48', 'D_49', 'D_50', 'D_51', 'D_52', 'D_53', 'D_54', 'D_55', 'D_56', 'D_58', 'D_59', 'D_60', 'D_61', 'D_62', 'D_63', 'D_64', 'D_65', 'D_69', 'D_70', 'D_71', 'D_72', 'D_73', 'D_75', 'D_76', 'D_77', 'D_78', 'D_79', 'D_80', 'D_81', 'D_82', 'D_83', 'D_86', 'D_91', 'D_96', 'D_105', 'D_106', 'D_112', 'D_114', 'D_119', 'D_120', 'D_121', 'D_122', 'D_124', 'D_125', 'D_126', 'D_127', 'D_130', 'D_131', 'D_132', 'D_133', 'D_134', 'D_138', 'D_140', 'D_141', 'D_142', 'D_145', 'P_2', 'P_3', 'P_4', 'R_1', 'R_2', 'R_3', 'R_4', 'R_5', 'R_6', 'R_7', 'R_8', 'R_9', 'R_10', 'R_11', 'R_12', 'R_13', 'R_14', 'R_15', 'R_19', 'R_20', 'R_26', 'R_27', 'S_3', 'S_5', 'S_6', 'S_7', 'S_8', 'S_9', 'S_11', 'S_12', 'S_13', 'S_16', 'S_19', 'S_20', 'S_22', 'S_23', 'S_24', 'S_25', 'S_26', 'S_27']\n",
    "features_last = list(set(features_last).union(set(cat_features)))\n",
    "for i in ['test', 'train']:\n",
    "    df = load_prepare_amex_dataset(f\"{i}_data_emp1\")\n",
    "    cid = pd.Categorical(df.pop('customer_ID'), ordered=True)\n",
    "    last = (cid != np.roll(cid, -1)) # mask for last statement of every customer\n",
    "    if 'target' in df.columns:\n",
    "        df.drop(columns=['target'], inplace=True)\n",
    "    gc.collect()\n",
    "    print('Read', i)\n",
    "    df_avg = (df\n",
    "              .groupby(cid)\n",
    "              .mean()[features_avg]\n",
    "              .rename(columns={f: f\"{f}_avg\" for f in features_avg})\n",
    "             )\n",
    "    gc.collect()\n",
    "    print('Computed avg', i)\n",
    "    df_min = (df\n",
    "              .groupby(cid)\n",
    "              .min()[features_min]\n",
    "              .rename(columns={f: f\"{f}_min\" for f in features_min})\n",
    "             )\n",
    "    gc.collect()\n",
    "    print('Computed min', i)\n",
    "    df_max = (df\n",
    "              .groupby(cid)\n",
    "              .max()[features_max]\n",
    "              .rename(columns={f: f\"{f}_max\" for f in features_max})\n",
    "             )\n",
    "    gc.collect()\n",
    "    print('Computed max', i)\n",
    "    df = (df.loc[last, features_last]\n",
    "          .rename(columns={f: f\"{f}_last\" for f in features_last})\n",
    "          .set_index(np.asarray(cid[last]))\n",
    "         )\n",
    "    gc.collect()\n",
    "    print('Computed last', i)\n",
    "    df = pd.concat([df, df_min, df_max, df_avg], axis=1)\n",
    "    if i == 'train': df_train = df\n",
    "    else: df_test = df\n",
    "    print(f\"{i} shape: {df.shape}\")\n",
    "    del df, df_avg, df_min, df_max, cid, last\n",
    "\n",
    "target = load_prepare_amex_dataset('train_labels').target.values\n",
    "print(f\"target shape: {target.shape}\")"
   ]
  },
  {
   "cell_type": "code",
   "execution_count": 87,
   "id": "3608451e-1569-4a8c-a4be-6be2ed1f6c92",
   "metadata": {},
   "outputs": [
    {
     "name": "stdout",
     "output_type": "stream",
     "text": [
      "train_data nan 122\n",
      "train_data_emp1 nan 51\n",
      "test_data nan 121\n",
      "test_data_emp1 nan 50\n"
     ]
    },
    {
     "data": {
      "text/plain": [
       "0"
      ]
     },
     "execution_count": 87,
     "metadata": {},
     "output_type": "execute_result"
    }
   ],
   "source": [
    "for dataset in ['train_data','train_data_emp1', 'test_data','test_data_emp1']:\n",
    "    df = load_prepare_amex_dataset(dataset)\n",
    "    nanmap = df.isna().sum().reset_index().rename({'index':'feature',0:'nan_count'}, axis=1).to_dict('records')\n",
    "    print(dataset, \"nan\", len([x for x in nanmap if x['nan_count']>0]))\n",
    "    del df\n",
    "gc.collect()"
   ]
  },
  {
   "cell_type": "code",
   "execution_count": 177,
   "id": "a0622f8c-3f1e-45e7-af4f-d611bd8943b8",
   "metadata": {},
   "outputs": [
    {
     "name": "stdout",
     "output_type": "stream",
     "text": [
      "train_data nan 122\n",
      "train_data_emp1 nan 35\n",
      "test_data nan 121\n",
      "test_data_emp1 nan 38\n"
     ]
    },
    {
     "data": {
      "text/plain": [
       "0"
      ]
     },
     "execution_count": 177,
     "metadata": {},
     "output_type": "execute_result"
    }
   ],
   "source": [
    "for dataset in ['train_data','train_data_emp1', 'test_data','test_data_emp1']:\n",
    "    df = load_prepare_amex_dataset(dataset)\n",
    "    nanmap = df.isna().sum().reset_index().rename({'index':'feature',0:'nan_count'}, axis=1).to_dict('records')\n",
    "    print(dataset, \"nan\", len([x for x in nanmap if x['nan_count']>0]))\n",
    "    del df\n",
    "gc.collect()"
   ]
  },
  {
   "cell_type": "code",
   "execution_count": null,
   "id": "6166adb4-de23-43f3-aa6f-b17ac7d71b5f",
   "metadata": {},
   "outputs": [
    {
     "name": "stdout",
     "output_type": "stream",
     "text": [
      "------ FOLD: 1 of 5 -------\n",
      "[LightGBM] [Warning] num_threads is set=12, n_jobs=-1 will be ignored. Current value: num_threads=12\n",
      "[LightGBM] [Warning] early_stopping_round is set=240, early_stopping_rounds=240 will be ignored. Current value: early_stopping_round=240\n"
     ]
    },
    {
     "name": "stderr",
     "output_type": "stream",
     "text": [
      "C:\\Users\\nisha\\miniconda3\\envs\\kaggle\\lib\\site-packages\\lightgbm\\basic.py:1780: UserWarning: Overriding the parameters from Reference Dataset.\n",
      "  _log_warning('Overriding the parameters from Reference Dataset.')\n",
      "C:\\Users\\nisha\\miniconda3\\envs\\kaggle\\lib\\site-packages\\lightgbm\\basic.py:1513: UserWarning: categorical_column in param dict is overridden.\n",
      "  _log_warning(f'{cat_alias} in param dict is overridden.')\n"
     ]
    },
    {
     "name": "stdout",
     "output_type": "stream",
     "text": [
      "[100]\tvalid_0's binary_logloss: 0.243287\tvalid_0's amex: 0.771298\n",
      "[200]\tvalid_0's binary_logloss: 0.223107\tvalid_0's amex: 0.783541\n",
      "[300]\tvalid_0's binary_logloss: 0.218108\tvalid_0's amex: 0.789187\n",
      "[400]\tvalid_0's binary_logloss: 0.215963\tvalid_0's amex: 0.791742\n",
      "[500]\tvalid_0's binary_logloss: 0.214869\tvalid_0's amex: 0.793569\n",
      "[600]\tvalid_0's binary_logloss: 0.21419\tvalid_0's amex: 0.793555\n",
      "[700]\tvalid_0's binary_logloss: 0.2138\tvalid_0's amex: 0.79423\n",
      "[800]\tvalid_0's binary_logloss: 0.213579\tvalid_0's amex: 0.79508\n",
      "[900]\tvalid_0's binary_logloss: 0.213386\tvalid_0's amex: 0.795875\n",
      "[1000]\tvalid_0's binary_logloss: 0.213252\tvalid_0's amex: 0.79714\n",
      "[1100]\tvalid_0's binary_logloss: 0.213187\tvalid_0's amex: 0.796124\n",
      "[1200]\tvalid_0's binary_logloss: 0.21313\tvalid_0's amex: 0.796311\n",
      "-------------------------------------\n"
     ]
    },
    {
     "data": {
      "text/html": [
       "<h3>Fold 1 | 01:52 |  1199 trees |                Score = 0.79627 | Importance: Gain</h3>"
      ],
      "text/plain": [
       "<IPython.core.display.HTML object>"
      ]
     },
     "metadata": {},
     "output_type": "display_data"
    },
    {
     "name": "stdout",
     "output_type": "stream",
     "text": [
      "-------------------------------------\n",
      "------ FOLD: 2 of 5 -------\n",
      "[LightGBM] [Warning] num_threads is set=12, n_jobs=-1 will be ignored. Current value: num_threads=12\n",
      "[LightGBM] [Warning] early_stopping_round is set=240, early_stopping_rounds=240 will be ignored. Current value: early_stopping_round=240\n"
     ]
    },
    {
     "name": "stderr",
     "output_type": "stream",
     "text": [
      "C:\\Users\\nisha\\miniconda3\\envs\\kaggle\\lib\\site-packages\\lightgbm\\basic.py:1780: UserWarning: Overriding the parameters from Reference Dataset.\n",
      "  _log_warning('Overriding the parameters from Reference Dataset.')\n",
      "C:\\Users\\nisha\\miniconda3\\envs\\kaggle\\lib\\site-packages\\lightgbm\\basic.py:1513: UserWarning: categorical_column in param dict is overridden.\n",
      "  _log_warning(f'{cat_alias} in param dict is overridden.')\n"
     ]
    },
    {
     "name": "stdout",
     "output_type": "stream",
     "text": [
      "[100]\tvalid_0's binary_logloss: 0.246341\tvalid_0's amex: 0.76624\n",
      "[200]\tvalid_0's binary_logloss: 0.226888\tvalid_0's amex: 0.780396\n",
      "[300]\tvalid_0's binary_logloss: 0.221912\tvalid_0's amex: 0.785894\n",
      "[400]\tvalid_0's binary_logloss: 0.219746\tvalid_0's amex: 0.788532\n",
      "[500]\tvalid_0's binary_logloss: 0.218685\tvalid_0's amex: 0.790452\n",
      "[600]\tvalid_0's binary_logloss: 0.218031\tvalid_0's amex: 0.791606\n",
      "[700]\tvalid_0's binary_logloss: 0.217681\tvalid_0's amex: 0.79202\n",
      "[800]\tvalid_0's binary_logloss: 0.21746\tvalid_0's amex: 0.792841\n",
      "[900]\tvalid_0's binary_logloss: 0.217272\tvalid_0's amex: 0.793225\n",
      "[1000]\tvalid_0's binary_logloss: 0.217094\tvalid_0's amex: 0.793544\n",
      "[1100]\tvalid_0's binary_logloss: 0.216968\tvalid_0's amex: 0.793234\n",
      "[1200]\tvalid_0's binary_logloss: 0.216883\tvalid_0's amex: 0.793453\n",
      "-------------------------------------\n"
     ]
    },
    {
     "data": {
      "text/html": [
       "<h3>Fold 2 | 01:51 |  1197 trees |                Score = 0.79333 | Importance: Gain</h3>"
      ],
      "text/plain": [
       "<IPython.core.display.HTML object>"
      ]
     },
     "metadata": {},
     "output_type": "display_data"
    },
    {
     "name": "stdout",
     "output_type": "stream",
     "text": [
      "-------------------------------------\n",
      "------ FOLD: 3 of 5 -------\n",
      "[LightGBM] [Warning] num_threads is set=12, n_jobs=-1 will be ignored. Current value: num_threads=12\n",
      "[LightGBM] [Warning] early_stopping_round is set=240, early_stopping_rounds=240 will be ignored. Current value: early_stopping_round=240\n"
     ]
    },
    {
     "name": "stderr",
     "output_type": "stream",
     "text": [
      "C:\\Users\\nisha\\miniconda3\\envs\\kaggle\\lib\\site-packages\\lightgbm\\basic.py:1780: UserWarning: Overriding the parameters from Reference Dataset.\n",
      "  _log_warning('Overriding the parameters from Reference Dataset.')\n",
      "C:\\Users\\nisha\\miniconda3\\envs\\kaggle\\lib\\site-packages\\lightgbm\\basic.py:1513: UserWarning: categorical_column in param dict is overridden.\n",
      "  _log_warning(f'{cat_alias} in param dict is overridden.')\n"
     ]
    },
    {
     "name": "stdout",
     "output_type": "stream",
     "text": [
      "[100]\tvalid_0's binary_logloss: 0.246567\tvalid_0's amex: 0.759674\n",
      "[200]\tvalid_0's binary_logloss: 0.227483\tvalid_0's amex: 0.774546\n",
      "[300]\tvalid_0's binary_logloss: 0.222832\tvalid_0's amex: 0.780311\n",
      "[400]\tvalid_0's binary_logloss: 0.220826\tvalid_0's amex: 0.784083\n",
      "[500]\tvalid_0's binary_logloss: 0.219743\tvalid_0's amex: 0.786467\n",
      "[600]\tvalid_0's binary_logloss: 0.219013\tvalid_0's amex: 0.788352\n",
      "[700]\tvalid_0's binary_logloss: 0.218621\tvalid_0's amex: 0.788621\n",
      "[800]\tvalid_0's binary_logloss: 0.218399\tvalid_0's amex: 0.789376\n",
      "[900]\tvalid_0's binary_logloss: 0.21825\tvalid_0's amex: 0.789685\n",
      "[1000]\tvalid_0's binary_logloss: 0.218178\tvalid_0's amex: 0.790198\n",
      "[1100]\tvalid_0's binary_logloss: 0.218119\tvalid_0's amex: 0.790562\n",
      "[1200]\tvalid_0's binary_logloss: 0.218071\tvalid_0's amex: 0.790081\n",
      "-------------------------------------\n"
     ]
    },
    {
     "data": {
      "text/html": [
       "<h3>Fold 3 | 01:51 |  1181 trees |                Score = 0.79040 | Importance: Gain</h3>"
      ],
      "text/plain": [
       "<IPython.core.display.HTML object>"
      ]
     },
     "metadata": {},
     "output_type": "display_data"
    },
    {
     "name": "stdout",
     "output_type": "stream",
     "text": [
      "-------------------------------------\n",
      "------ FOLD: 4 of 5 -------\n",
      "[LightGBM] [Warning] num_threads is set=12, n_jobs=-1 will be ignored. Current value: num_threads=12\n",
      "[LightGBM] [Warning] early_stopping_round is set=240, early_stopping_rounds=240 will be ignored. Current value: early_stopping_round=240\n"
     ]
    },
    {
     "name": "stderr",
     "output_type": "stream",
     "text": [
      "C:\\Users\\nisha\\miniconda3\\envs\\kaggle\\lib\\site-packages\\lightgbm\\basic.py:1780: UserWarning: Overriding the parameters from Reference Dataset.\n",
      "  _log_warning('Overriding the parameters from Reference Dataset.')\n",
      "C:\\Users\\nisha\\miniconda3\\envs\\kaggle\\lib\\site-packages\\lightgbm\\basic.py:1513: UserWarning: categorical_column in param dict is overridden.\n",
      "  _log_warning(f'{cat_alias} in param dict is overridden.')\n"
     ]
    },
    {
     "name": "stdout",
     "output_type": "stream",
     "text": [
      "[100]\tvalid_0's binary_logloss: 0.246879\tvalid_0's amex: 0.76426\n",
      "[200]\tvalid_0's binary_logloss: 0.22754\tvalid_0's amex: 0.780273\n",
      "[300]\tvalid_0's binary_logloss: 0.222654\tvalid_0's amex: 0.786762\n",
      "[400]\tvalid_0's binary_logloss: 0.220674\tvalid_0's amex: 0.789562\n",
      "[500]\tvalid_0's binary_logloss: 0.219611\tvalid_0's amex: 0.79004\n",
      "[600]\tvalid_0's binary_logloss: 0.218983\tvalid_0's amex: 0.790909\n",
      "[700]\tvalid_0's binary_logloss: 0.2186\tvalid_0's amex: 0.791825\n",
      "[800]\tvalid_0's binary_logloss: 0.218321\tvalid_0's amex: 0.790938\n",
      "[900]\tvalid_0's binary_logloss: 0.218186\tvalid_0's amex: 0.79141\n",
      "-------------------------------------\n"
     ]
    },
    {
     "data": {
      "text/html": [
       "<h3>Fold 4 | 01:39 |   740 trees |                Score = 0.79213 | Importance: Gain</h3>"
      ],
      "text/plain": [
       "<IPython.core.display.HTML object>"
      ]
     },
     "metadata": {},
     "output_type": "display_data"
    },
    {
     "name": "stdout",
     "output_type": "stream",
     "text": [
      "-------------------------------------\n",
      "------ FOLD: 5 of 5 -------\n",
      "[LightGBM] [Warning] num_threads is set=12, n_jobs=-1 will be ignored. Current value: num_threads=12\n",
      "[LightGBM] [Warning] early_stopping_round is set=240, early_stopping_rounds=240 will be ignored. Current value: early_stopping_round=240\n"
     ]
    },
    {
     "name": "stderr",
     "output_type": "stream",
     "text": [
      "C:\\Users\\nisha\\miniconda3\\envs\\kaggle\\lib\\site-packages\\lightgbm\\basic.py:1780: UserWarning: Overriding the parameters from Reference Dataset.\n",
      "  _log_warning('Overriding the parameters from Reference Dataset.')\n",
      "C:\\Users\\nisha\\miniconda3\\envs\\kaggle\\lib\\site-packages\\lightgbm\\basic.py:1513: UserWarning: categorical_column in param dict is overridden.\n",
      "  _log_warning(f'{cat_alias} in param dict is overridden.')\n"
     ]
    },
    {
     "name": "stdout",
     "output_type": "stream",
     "text": [
      "[100]\tvalid_0's binary_logloss: 0.246518\tvalid_0's amex: 0.764719\n",
      "[200]\tvalid_0's binary_logloss: 0.227155\tvalid_0's amex: 0.780172\n"
     ]
    }
   ],
   "source": [
    "%%time\n",
    "# variant_df = variant_df[reversed(list(variant_df.columns))]\n",
    "# we keep this copy so that original feature doens't stay on top!!!\n",
    "# it's some weird quirk i found\n",
    "# variant_df[missingvaluefeature+\"_COPY\"] = variant_df[missingvaluefeature]\n",
    "# del variant_df[missingvaluefeature]\n",
    "features_x = [f for f in df_train.columns if f != 'customer_ID' and f != 'target' and f!='S_2']\n",
    "feature_y = 'target'\n",
    "# df_x = df_train[features_x]\n",
    "# df_y = df_train_wt[feature_y]\n",
    "# target =\n",
    "\n",
    "total_splits = 5\n",
    "kf = StratifiedKFold(n_splits=total_splits, shuffle=True)\n",
    "fold_scores = []\n",
    "models = []\n",
    "# NOT TOO SURE about feature_importances when all features are variants!! it's non decisive\n",
    "for fold, (idx_train, idx_dev) in enumerate(kf.split(df_train, target)):\n",
    "    print(f\"------ FOLD: {fold+1} of {total_splits} -------\")\n",
    "    train_x, dev_x, train_y, dev_y, model = None, None, None, None, None\n",
    "    start_time = datetime.now()\n",
    "\n",
    "    X_tr = df_train.iloc[idx_train][features_x]\n",
    "    X_va = df_train.iloc[idx_dev][features_x]\n",
    "    y_tr = target[idx_train]\n",
    "    y_va = target[idx_dev]\n",
    "   \n",
    "    model = create_lgbm_model_with_config(importance_type='gain')\n",
    "    model.fit(X_tr, y_tr,\n",
    "                  eval_set = [(X_va, y_va)], \n",
    "                  eval_metric=[lgbm_eval_metric_amex],\n",
    "                  callbacks=[log_evaluation(100)])\n",
    "\n",
    "    y_va_pred = model.predict_proba(X_va, raw_score=True)\n",
    "    score = fast_amex_metric(y_va, y_va_pred)\n",
    "    n_trees = model.best_iteration_\n",
    "    if n_trees is None: n_trees = model.n_estimators\n",
    "    print(\"-------------------------------------\")\n",
    "    display(HTML(f\"<h3>Fold {fold+1} | {str(datetime.now() - start_time)[-12:-7]} |\"\n",
    "          f\" {n_trees:5} trees |\"\n",
    "          f\"                Score = {score:.5f} | Importance: Gain</h3>\"))\n",
    "    print(\"-------------------------------------\")\n",
    "    # fold_scores.append(score)\n",
    "    track_score(features_x, score)\n",
    "    models.append(model)\n",
    "    # feature_importance_tuples = sorted(zip(X_tr.columns,model.feature_importances_), key=lambda x:x[1])\n",
    "    # # feature_importance_tuples = sorted(zip(X_tr.columns,model.feature_importance(importance_type='gain')), key=lambda x:x[1])\n",
    "    # feature_importance_map = {k:v for k,v in feature_importance_tuples}\n",
    "    # feature_imp = pd.DataFrame(feature_importance_tuples, columns=['feature','importance'])\n",
    "    # fig = pltex.bar(feature_imp, x='importance', y='feature', height=500)\n",
    "    # fig.show()\n",
    "\n",
    "\n",
    "    # track_score(features_x, score)\n",
    "            # feature_importance_tuples = sorted(zip(X_tr.columns,model.feature_importances_), key=lambda x:x[1])\n",
    "            # # feature_importance_tuples = sorted(zip(X_tr.columns,model.feature_importance(importance_type='gain')), key=lambda x:x[1])\n",
    "            # feature_importance_map = {k:v for k,v in feature_importance_tuples}\n",
    "            # feature_imp = pd.DataFrame(feature_importance_tuples, columns=['feature','importance'])\n",
    "            # fig = pltex.bar(feature_imp, x='importance', y='feature', height=500)\n",
    "            # fig.show()\n",
    "\n",
    "show_score(features_x)\n",
    "        \n",
    "    # input(\"-------- ENTER TO CONINUE -------\")\n",
    "       \n",
    "\n",
    "    "
   ]
  },
  {
   "cell_type": "code",
   "execution_count": 85,
   "id": "281316b0-0116-40df-9937-a2b206e65fe3",
   "metadata": {},
   "outputs": [
    {
     "data": {
      "text/plain": [
       "18763"
      ]
     },
     "execution_count": 85,
     "metadata": {},
     "output_type": "execute_result"
    }
   ],
   "source": [
    "gc.collect()"
   ]
  },
  {
   "cell_type": "code",
   "execution_count": 23,
   "id": "b363782e-2426-45b8-a0a0-a6d8c4bb0eb2",
   "metadata": {},
   "outputs": [
    {
     "name": "stdout",
     "output_type": "stream",
     "text": [
      "CPU times: total: 9min 3s\n",
      "Wall time: 8min 2s\n"
     ]
    }
   ],
   "source": [
    "%%time\n",
    "# df_test = load_prepare_amex_dataset(\"test_data_emp1\")\n",
    "# df_test_last1 = df_test.groupby('customer_ID').last()\n",
    "# df_test_last1 = df_test_last1.reset_index()\n",
    "# df_test_wt = pd.merge(df_test_last1, train_label_df, how='inner', on = 'customer_ID')#.reset_index()"
   ]
  },
  {
   "cell_type": "code",
   "execution_count": 59,
   "id": "06178114-6abe-4988-af33-356d5a59063a",
   "metadata": {},
   "outputs": [],
   "source": [
    "features_x = [f for f in df_test.columns if f not in ['customer_ID', 'target', 'prediction', 'S_2']]\n",
    "X_tr = df_test[features_x]\n",
    "\n",
    "predictions = []\n",
    "for model in models:\n",
    "    preds = model.predict_proba(X_tr)\n",
    "    predictions.append(preds[:,1])#/len(models)\n",
    "    \n"
   ]
  },
  {
   "cell_type": "code",
   "execution_count": 63,
   "id": "a85e5291-43e1-427e-ba8d-a3e45b6cd493",
   "metadata": {},
   "outputs": [
    {
     "data": {
      "text/plain": [
       "924621"
      ]
     },
     "execution_count": 63,
     "metadata": {},
     "output_type": "execute_result"
    }
   ],
   "source": []
  },
  {
   "cell_type": "code",
   "execution_count": 66,
   "id": "d61c8aa9-6115-4ddd-aa0d-5d4f5a6a161f",
   "metadata": {},
   "outputs": [],
   "source": [
    "df_test_last1['prediction'] = np.max(predictions, axis=0)\n",
    "df_test_last1[['customer_ID','prediction']].to_csv(\"submission.csv\",index=False)"
   ]
  },
  {
   "cell_type": "markdown",
   "id": "7d876111-9020-48cd-8ff2-62e00c1ef8a0",
   "metadata": {},
   "source": [
    "```\n",
    "Data: EMP0\n",
    "Features: similar aggregation like https://www.kaggle.com/code/ambrosm/amex-lightgbm-quickstart, except Cat aggs\n",
    "Model: 5 fold, lgbm standard\n",
    "Ensemble: choose max prediction value;highest proba out of 5 models\n",
    "```"
   ]
  }
 ],
 "metadata": {
  "kernelspec": {
   "display_name": "Python 3 (ipykernel)",
   "language": "python",
   "name": "python3"
  },
  "language_info": {
   "codemirror_mode": {
    "name": "ipython",
    "version": 3
   },
   "file_extension": ".py",
   "mimetype": "text/x-python",
   "name": "python",
   "nbconvert_exporter": "python",
   "pygments_lexer": "ipython3",
   "version": "3.10.4"
  }
 },
 "nbformat": 4,
 "nbformat_minor": 5
}
