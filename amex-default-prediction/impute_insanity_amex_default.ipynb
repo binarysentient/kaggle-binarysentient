{
 "cells": [
  {
   "cell_type": "markdown",
   "id": "b4dade30-94ed-4d49-bb1e-553b91996bb0",
   "metadata": {},
   "source": [
    "## IMPUTE INSANITY!:\n",
    "### before we move onto neural networks we need to impute the NANs\n",
    "#### How do we even know we've correctly imputed?\n",
    "#### **Try out every impute methods and per feature set train the GBM and see which one got most importance**\n",
    "\n",
    "### TODO\n",
    "- #### [KNN , DeepLearner, other novel ways to impute](https://towardsdatascience.com/6-different-ways-to-compensate-for-missing-values-data-imputation-with-examples-6022d9ca0779)\n",
    "  - KNN thoughts: we can perhaps use subset of features with no nans, but then the records will become similar, and decision trees already predict the same result for similar looking rows? then what's the point of imputing value same as similar looking rows?\n",
    "- ### DON't Impute rather provide the Flag wether the feature has value or not, kinda like mask; we did this in Optiver (not the transformer sequence mask , but we have mask about weather the second/grouped seconds is missing or not)\n",
    "  - #### [Results on passing information about missing values to neural networks](https://machinelearningmastery.com/binary-flags-for-missing-values-for-machine-learning/)\n",
    "- ### AMEND ABOVE: Impute as well as pass the missing Flag too, so neural network learns better\n",
    "- ### Categorical Imputation: train on data with missing categorical values as target variable! **We can even use TEST set to do this!!!! yay!**\n",
    "  - #### [Training to find missing categorical values](https://www.analyticsvidhya.com/blog/2021/04/how-to-handle-missing-values-of-categorical-variables/)\n",
    "\n",
    "### IMPORTANT FLOAT16 aggregations return NONE!!! mean, sum most of it doesn't work :-/"
   ]
  },
  {
   "cell_type": "markdown",
   "id": "9d809121-a984-441c-8885-a94938548420",
   "metadata": {},
   "source": [
    "## TODO:\n",
    "- ### MULTILEVEL IMPUTATION DEFAULT\n",
    "- ### LEVEL 1: out of all the variant+original; select the one with best amex scores DEFAULT_EMP1\n",
    "    - #### This is partial nans\n",
    "- ### Level 2: now that we have partial none df with best variants(including original with nans) ; TRAIN ML MODEL to have PREDICTED/BS variant\n",
    "    - #### In the order of lowest missing values to highest missing values\n",
    "    - #### we Target the feature with lowest amount on NAN as we have maximum training rows; then slowly cascade to more missing row features\n",
    "    - #### once we have computed PREDICTED/BS variants for all of the features with nans\n",
    "- ### Level 3: from DEFAULT_EMP1 vs PREDICTED variant select the one with maximum amex score (this is kinda like back to stage 1 but with improved train_df_wt)\n",
    "    - #### repetetively select and choose the best varint out of the two\n",
    "    - #### DEFAULT_EMP2 is generated!\n",
    "    - #### Now there is a scope of repeating Level 2 again with using base_df of EMP2 and then going to EMP3,"
   ]
  },
  {
   "cell_type": "code",
   "execution_count": 1,
   "id": "799d3de7-7230-42ee-b699-26d02974f93b",
   "metadata": {},
   "outputs": [],
   "source": [
    "WHERE_THIS = \"local\" # local|kaggle\n",
    "\n",
    "BS_DATASET = \"amex-default-prediction-binarysentient\"\n",
    "if WHERE_THIS == \"kaggle\":\n",
    "    INPUT_PATH = \"/kaggle/input/amex-default-prediction/\"\n",
    "    OUTPUT_PATH = \"/kaggle/working/\"\n",
    "    TEMP_PATH = \"/kaggle/temp/\"\n",
    "elif WHERE_THIS == \"local\":\n",
    "    INPUT_PATH = \"input/amex-default-prediction/\"\n",
    "    OUTPUT_PATH = \"working/\"\n",
    "    TEMP_PATH = \"temp/\"\n"
   ]
  },
  {
   "cell_type": "code",
   "execution_count": 4,
   "id": "1b8e156e-282d-4a57-8738-46695bcc46cb",
   "metadata": {},
   "outputs": [
    {
     "name": "stdout",
     "output_type": "stream",
     "text": [
      "input/amex-default-prediction/sample_submission.csv\n",
      "input/amex-default-prediction/test_data.csv\n",
      "input/amex-default-prediction/train_data.csv\n",
      "input/amex-default-prediction/train_labels.csv\n"
     ]
    }
   ],
   "source": [
    "# This Python 3 environment comes with many helpful analytics libraries installed\n",
    "# It is defined by the kaggle/python Docker image: https://github.com/kaggle/docker-python\n",
    "# For example, here's several helpful packages to load\n",
    "\n",
    "import gc\n",
    "import os\n",
    "from datetime import datetime\n",
    "import torch\n",
    "\n",
    "\n",
    "import numpy as np # linear algebra\n",
    "import pandas as pd # data processing, CSV file I/O (e.g. pd.read_csv)\n",
    "from IPython.display import display, HTML\n",
    "from lightgbm import LGBMClassifier, log_evaluation\n",
    "from sklearn.model_selection import StratifiedKFold\n",
    "import plotly.express as pltex\n",
    "\n",
    "from impute_insanity import load_prepare_amex_dataset\n",
    "# Input data files are available in the read-only \"../input/\" directory\n",
    "# For example, running this (by clicking run or pressing Shift+Enter) will list all files under the input directory\n",
    "\n",
    "\n",
    "for dirname, _, filenames in os.walk(INPUT_PATH):\n",
    "    for filename in filenames:\n",
    "        print(os.path.join(dirname, filename))\n",
    "\n",
    "# You can write up to 20GB to the current directory (/kaggle/working/) that gets preserved as output when you create a version using \"Save & Run All\" \n",
    "# You can also write temporary files to /kaggle/temp/, but they won't be saved outside of the current session"
   ]
  },
  {
   "cell_type": "code",
   "execution_count": 6,
   "id": "14d808fa-40af-4229-bcb9-2d59fb7bf573",
   "metadata": {},
   "outputs": [],
   "source": [
    "df_train = load_prepare_amex_dataset(\"train_data\")"
   ]
  },
  {
   "cell_type": "code",
   "execution_count": 15,
   "id": "f240c1ff-1841-49f9-b7af-c868c9dd855d",
   "metadata": {},
   "outputs": [
    {
     "name": "stdout",
     "output_type": "stream",
     "text": [
      "['D_94', 'S_24', 'B_11', 'R_24', 'S_3', 'D_130', 'D_115', 'D_78', 'R_3', 'D_56', 'D_80', 'P_4', 'D_112', 'R_22', 'B_1', 'D_144', 'B_2', 'S_22', 'D_81', 'B_16', 'D_141', 'D_92', 'R_6', 'R_20', 'D_62', 'D_106', 'R_16', 'S_12', 'S_25', 'D_122', 'D_79', 'R_13', 'B_27', 'S_15', 'R_23', 'D_72', 'D_53', 'B_24', 'D_75', 'D_60', 'R_11', 'B_19', 'D_42', 'D_108', 'R_15', 'B_31', 'R_18', 'R_28', 'D_71', 'D_87', 'D_41', 'B_18', 'R_26', 'B_10', 'D_82', 'D_142', 'D_65', 'B_37', 'D_69', 'R_9', 'D_138', 'B_23', 'D_58', 'B_32', 'B_39', 'D_113', 'D_131', 'D_109', 'D_76', 'D_39', 'B_12', 'B_29', 'D_48', 'R_8', 'R_27', 'B_13', 'D_119', 'D_86', 'D_145', 'S_11', 'D_45', 'D_52', 'D_44', 'D_47', 'R_1', 'R_19', 'D_49', 'D_136', 'S_20', 'D_89', 'D_55', 'D_118', 'D_135', 'D_61', 'R_7', 'S_18', 'D_54', 'D_84', 'D_140', 'D_104', 'D_143', 'B_4', 'S_26', 'D_46', 'R_21', 'S_23', 'D_105', 'D_88', 'D_110', 'D_134', 'R_25', 'R_10', 'D_70', 'R_17', 'B_41', 'B_25', 'R_12', 'D_59', 'B_36', 'D_51', 'R_14', 'B_33', 'S_8', 'B_40', 'S_17', 'D_121', 'D_96', 'P_2', 'D_91', 'D_128', 'B_5', 'B_17', 'D_139', 'S_16', 'B_21', 'D_111', 'D_102', 'B_6', 'D_93', 'D_73', 'D_43', 'B_22', 'B_7', 'D_129', 'B_14', 'S_7', 'S_5', 'B_42', 'B_9', 'S_13', 'D_124', 'S_27', 'D_132', 'D_125', 'D_103', 'D_137', 'S_6', 'B_3', 'S_9', 'B_26', 'D_50', 'D_77', 'B_15', 'D_133', 'S_19', 'D_74', 'B_20', 'R_4', 'D_127', 'R_2', 'B_8', 'B_28', 'D_123', 'P_3', 'R_5', 'D_107', 'D_83']\n"
     ]
    }
   ],
   "source": [
    "object_features = ['customer_ID']\n",
    "datetime_features = ['S_2']\n",
    "cat_features = ['B_30', 'B_38', 'D_114', 'D_116', 'D_117', 'D_120', 'D_126', 'D_63', 'D_64', 'D_66', 'D_68']\n",
    "train_dtypes_set = set()\n",
    "column_dtypes_map = {}\n",
    "all_columns = []\n",
    "\n",
    "for columnname in df_train.columns:\n",
    "        # print(columnname, df_train_peek[columnname].dtype)\n",
    "    all_columns.append(columnname)\n",
    "    train_dtypes_set.add(df_train[columnname].dtype.name)\n",
    "    column_dtypes_map[columnname] = df_train[columnname].dtype.name\n",
    "numeric_features = list(set(column_dtypes_map.keys()).difference(set(cat_features+datetime_features+object_features)))\n",
    "print(numeric_features)"
   ]
  },
  {
   "cell_type": "code",
   "execution_count": 16,
   "id": "b4a5f481-28ee-4de7-add5-08a4afc8c032",
   "metadata": {},
   "outputs": [],
   "source": [
    "missing_counts_df = df_train.isna().sum().reset_index()\n",
    "missing_counts_df = missing_counts_df.rename({'index':'columnname', 0:'nan_count'}, axis=1)"
   ]
  },
  {
   "cell_type": "code",
   "execution_count": 20,
   "id": "bc954835-f033-4133-b78d-7ab02c574c45",
   "metadata": {},
   "outputs": [],
   "source": [
    "missing_features_with_count_list = [x for x in missing_counts_df.to_dict('records') if x['columnname'].startswith('') and x['nan_count']>0]\n",
    "missing_features_with_count_list = sorted(missing_features_with_count_list, key=lambda x:x['nan_count'])\n",
    "features_missing_values_count_map = {x['columnname']:x['nan_count'] for x in missing_counts_df.to_dict('records')}\n",
    "missing_values_features = [x['columnname'] for x in missing_features_with_count_list]"
   ]
  },
  {
   "cell_type": "code",
   "execution_count": 22,
   "id": "b2e62d91-78a3-44d5-a4dc-3697f03206a5",
   "metadata": {},
   "outputs": [],
   "source": [
    "def amex_metric(y_true: pd.DataFrame, y_pred: pd.DataFrame) -> float:\n",
    "\n",
    "    def top_four_percent_captured(y_true: pd.DataFrame, y_pred: pd.DataFrame) -> float:\n",
    "        df = (pd.concat([y_true, y_pred], axis='columns')\n",
    "              .sort_values('prediction', ascending=False))\n",
    "        df['weight'] = df['target'].apply(lambda x: 20 if x==0 else 1)\n",
    "        four_pct_cutoff = int(0.04 * df['weight'].sum())\n",
    "        df['weight_cumsum'] = df['weight'].cumsum()\n",
    "        df_cutoff = df.loc[df['weight_cumsum'] <= four_pct_cutoff]\n",
    "        return (df_cutoff['target'] == 1).sum() / (df['target'] == 1).sum()\n",
    "        \n",
    "    def weighted_gini(y_true: pd.DataFrame, y_pred: pd.DataFrame) -> float:\n",
    "        df = (pd.concat([y_true, y_pred], axis='columns')\n",
    "              .sort_values('prediction', ascending=False))\n",
    "        df['weight'] = df['target'].apply(lambda x: 20 if x==0 else 1)\n",
    "        df['random'] = (df['weight'] / df['weight'].sum()).cumsum()\n",
    "        total_pos = (df['target'] * df['weight']).sum()\n",
    "        df['cum_pos_found'] = (df['target'] * df['weight']).cumsum()\n",
    "        df['lorentz'] = df['cum_pos_found'] / total_pos\n",
    "        df['gini'] = (df['lorentz'] - df['random']) * df['weight']\n",
    "        return df['gini'].sum()\n",
    "\n",
    "    def normalized_weighted_gini(y_true: pd.DataFrame, y_pred: pd.DataFrame) -> float:\n",
    "        y_true_pred = y_true.rename(columns={'target': 'prediction'})\n",
    "        return weighted_gini(y_true, y_pred) / weighted_gini(y_true, y_true_pred)\n",
    "\n",
    "    g = normalized_weighted_gini(y_true, y_pred)\n",
    "    d = top_four_percent_captured(y_true, y_pred)\n",
    "\n",
    "    return 0.5 * (g + d)\n",
    "\n",
    "## TODO: FAST AMEX implementation is not accurate; convert the dataframe accurate version to directly work with numpy arrays\n",
    "# @yunchonggan's fast metric implementation\n",
    "# From https://www.kaggle.com/competitions/amex-default-prediction/discussion/328020\n",
    "def fast_amex_metric(y_true: np.array, y_pred: np.array) -> float:\n",
    "\n",
    "    # count of positives and negatives\n",
    "    n_pos = y_true.sum()\n",
    "    n_neg = y_true.shape[0] - n_pos\n",
    "\n",
    "    # sorting by descring prediction values\n",
    "    indices = np.argsort(y_pred)[::-1]\n",
    "    preds, target = y_pred[indices], y_true[indices]\n",
    "\n",
    "    # filter the top 4% by cumulative row weights\n",
    "    weight = 20.0 - target * 19.0\n",
    "    cum_norm_weight = (weight / weight.sum()).cumsum()\n",
    "    four_pct_filter = cum_norm_weight <= 0.04\n",
    "\n",
    "    # default rate captured at 4%\n",
    "    d = target[four_pct_filter].sum() / n_pos\n",
    "\n",
    "    # weighted gini coefficient\n",
    "    lorentz = (target / n_pos).cumsum()\n",
    "    gini = ((lorentz - cum_norm_weight) * weight).sum()\n",
    "\n",
    "    # max weighted gini coefficient\n",
    "    gini_max = 10 * n_neg * (1 - 19 / (n_pos + 20 * n_neg))\n",
    "\n",
    "    # normalized weighted gini coefficient\n",
    "    g = gini / gini_max\n",
    "\n",
    "    return 0.5 * (g + d)\n",
    "\n",
    "# Need Lightgbm supported eval metric\n",
    "#Custom eval function expects a callable with following signatures: func(y_true, y_pred), func(y_true, y_pred, weight) or func(y_true, y_pred, weight, group) and returns (eval_name, eval_result, is_higher_better) or list of (eval_name, eval_result, is_higher_better):\n",
    "def lgbm_eval_metric_amex(y_true, y_pred):\n",
    "    amex_metric = fast_amex_metric(y_true, y_pred)\n",
    "    return ('amex', amex_metric, True)"
   ]
  },
  {
   "cell_type": "code",
   "execution_count": 26,
   "id": "e4ccf182-f698-4fec-bd9b-d386027d57ea",
   "metadata": {},
   "outputs": [
    {
     "data": {
      "text/html": [
       "<div>\n",
       "<style scoped>\n",
       "    .dataframe tbody tr th:only-of-type {\n",
       "        vertical-align: middle;\n",
       "    }\n",
       "\n",
       "    .dataframe tbody tr th {\n",
       "        vertical-align: top;\n",
       "    }\n",
       "\n",
       "    .dataframe thead th {\n",
       "        text-align: right;\n",
       "    }\n",
       "</style>\n",
       "<table border=\"1\" class=\"dataframe\">\n",
       "  <thead>\n",
       "    <tr style=\"text-align: right;\">\n",
       "      <th></th>\n",
       "      <th>customer_ID</th>\n",
       "      <th>target</th>\n",
       "    </tr>\n",
       "  </thead>\n",
       "  <tbody>\n",
       "    <tr>\n",
       "      <th>0</th>\n",
       "      <td>0000099d6bd597052cdcda90ffabf56573fe9d7c79be5f...</td>\n",
       "      <td>0.0</td>\n",
       "    </tr>\n",
       "    <tr>\n",
       "      <th>1</th>\n",
       "      <td>00000fd6641609c6ece5454664794f0340ad84dddce9a2...</td>\n",
       "      <td>0.0</td>\n",
       "    </tr>\n",
       "    <tr>\n",
       "      <th>2</th>\n",
       "      <td>00001b22f846c82c51f6e3958ccd81970162bae8b007e8...</td>\n",
       "      <td>0.0</td>\n",
       "    </tr>\n",
       "    <tr>\n",
       "      <th>3</th>\n",
       "      <td>000041bdba6ecadd89a52d11886e8eaaec9325906c9723...</td>\n",
       "      <td>0.0</td>\n",
       "    </tr>\n",
       "    <tr>\n",
       "      <th>4</th>\n",
       "      <td>00007889e4fcd2614b6cbe7f8f3d2e5c728eca32d9eb8a...</td>\n",
       "      <td>0.0</td>\n",
       "    </tr>\n",
       "    <tr>\n",
       "      <th>...</th>\n",
       "      <td>...</td>\n",
       "      <td>...</td>\n",
       "    </tr>\n",
       "    <tr>\n",
       "      <th>458908</th>\n",
       "      <td>ffff41c8a52833b56430603969b9ca48d208e7c192c6a4...</td>\n",
       "      <td>0.0</td>\n",
       "    </tr>\n",
       "    <tr>\n",
       "      <th>458909</th>\n",
       "      <td>ffff518bb2075e4816ee3fe9f3b152c57fc0e6f01bf7fd...</td>\n",
       "      <td>0.0</td>\n",
       "    </tr>\n",
       "    <tr>\n",
       "      <th>458910</th>\n",
       "      <td>ffff9984b999fccb2b6127635ed0736dda94e544e67e02...</td>\n",
       "      <td>0.0</td>\n",
       "    </tr>\n",
       "    <tr>\n",
       "      <th>458911</th>\n",
       "      <td>ffffa5c46bc8de74f5a4554e74e239c8dee6b9baf38814...</td>\n",
       "      <td>1.0</td>\n",
       "    </tr>\n",
       "    <tr>\n",
       "      <th>458912</th>\n",
       "      <td>fffff1d38b785cef84adeace64f8f83db3a0c31e8d92ea...</td>\n",
       "      <td>0.0</td>\n",
       "    </tr>\n",
       "  </tbody>\n",
       "</table>\n",
       "<p>458913 rows × 2 columns</p>\n",
       "</div>"
      ],
      "text/plain": [
       "                                              customer_ID  target\n",
       "0       0000099d6bd597052cdcda90ffabf56573fe9d7c79be5f...     0.0\n",
       "1       00000fd6641609c6ece5454664794f0340ad84dddce9a2...     0.0\n",
       "2       00001b22f846c82c51f6e3958ccd81970162bae8b007e8...     0.0\n",
       "3       000041bdba6ecadd89a52d11886e8eaaec9325906c9723...     0.0\n",
       "4       00007889e4fcd2614b6cbe7f8f3d2e5c728eca32d9eb8a...     0.0\n",
       "...                                                   ...     ...\n",
       "458908  ffff41c8a52833b56430603969b9ca48d208e7c192c6a4...     0.0\n",
       "458909  ffff518bb2075e4816ee3fe9f3b152c57fc0e6f01bf7fd...     0.0\n",
       "458910  ffff9984b999fccb2b6127635ed0736dda94e544e67e02...     0.0\n",
       "458911  ffffa5c46bc8de74f5a4554e74e239c8dee6b9baf38814...     1.0\n",
       "458912  fffff1d38b785cef84adeace64f8f83db3a0c31e8d92ea...     0.0\n",
       "\n",
       "[458913 rows x 2 columns]"
      ]
     },
     "execution_count": 26,
     "metadata": {},
     "output_type": "execute_result"
    }
   ],
   "source": [
    "train_label_df = load_prepare_amex_dataset('train_labels')#, index_col='customer_ID')\n",
    "train_label_df"
   ]
  },
  {
   "cell_type": "code",
   "execution_count": 27,
   "id": "09052bcc-5d49-4107-a017-2b27a1624677",
   "metadata": {},
   "outputs": [],
   "source": [
    "prediction_labels = train_label_df.copy()\n",
    "# prediction_labels['prediction'] = prediction_labels['target'] \n",
    "# prediction_labels['prediction'] = prediction_labels['target'] - 3\n",
    "prediction_labels['prediction'] = 1000\n",
    "del prediction_labels['target'] \n"
   ]
  },
  {
   "cell_type": "markdown",
   "id": "6cfd1a55-95ff-4d87-9a34-c65d1dd30564",
   "metadata": {},
   "source": [
    "### Predictions impact on Evaluation Metric\n",
    "- #### all predictions 0 :   score 0.018829875288988086\n",
    "- #### all predictions 1 :   score 0.018829875288988086\n",
    "- #### all predictions 0.4 : score 0.018829875288988086\n",
    "- #### same as target      : score 1.0\n",
    "- #### target * 10         : score 1.0\n",
    "- #### target * 0.001      : score 1.0\n",
    "- #### target - 3          : score 1.0\n",
    "- #### target + 3          : score 1.0\n",
    "\n",
    "## The evaluation metrics is solid! amazing, need to understand more\n",
    "## TODO: FAST AMEX implementation is not accurate; convert the dataframe accurate version to directly work with numpy arrays"
   ]
  },
  {
   "cell_type": "code",
   "execution_count": 28,
   "id": "cf09d96f-a3aa-4382-a65e-1a58c4588135",
   "metadata": {},
   "outputs": [
    {
     "name": "stdout",
     "output_type": "stream",
     "text": [
      "0.02260958442726859\n"
     ]
    }
   ],
   "source": [
    "## TODO: FAST AMEX implementation is not accurate; convert the dataframe accurate version to directly work with numpy arrays\n",
    "# print(amex_metric(train_labels, prediction_labels))\n",
    "print(fast_amex_metric(train_label_df['target'], prediction_labels['prediction']))"
   ]
  },
  {
   "cell_type": "code",
   "execution_count": 59,
   "id": "78c037fc-0aaf-4c09-8807-0aae76e5c119",
   "metadata": {},
   "outputs": [],
   "source": [
    "def create_model_with_config(random_state=1, n_estimators=1200, importance_type=None, early_stopping_rounds=None):\n",
    "    \"\"\"\n",
    "    Creates model with our desired and some default hyper params\n",
    "    importance_type: split|gain\n",
    "    \"\"\"\n",
    "    return LGBMClassifier(n_estimators=n_estimators,\n",
    "                          learning_rate=0.03, reg_lambda=50,\n",
    "                          min_child_samples=2400,\n",
    "                          num_leaves=95,\n",
    "                          colsample_bytree=0.19,early_stopping_rounds=early_stopping_rounds,\n",
    "                          max_bins=511, random_state=random_state, importance_type=importance_type)"
   ]
  },
  {
   "cell_type": "markdown",
   "id": "fe33434f-4986-4a7b-8ac4-de48eb0052ed",
   "metadata": {},
   "source": [
    "## Precision impact on scores:\n",
    "\n",
    "### float32: 0.788541\n",
    "### float16: 0.788748, 0.788649, 0.788821\n",
    "### float64: 0.788276, 0.789053, 0.789025, 0.788543"
   ]
  },
  {
   "cell_type": "code",
   "execution_count": 36,
   "id": "4144702b-78c8-4cc7-a134-cf2ac97377b3",
   "metadata": {},
   "outputs": [
    {
     "data": {
      "text/html": [
       "<div>\n",
       "<style scoped>\n",
       "    .dataframe tbody tr th:only-of-type {\n",
       "        vertical-align: middle;\n",
       "    }\n",
       "\n",
       "    .dataframe tbody tr th {\n",
       "        vertical-align: top;\n",
       "    }\n",
       "\n",
       "    .dataframe thead th {\n",
       "        text-align: right;\n",
       "    }\n",
       "</style>\n",
       "<table border=\"1\" class=\"dataframe\">\n",
       "  <thead>\n",
       "    <tr style=\"text-align: right;\">\n",
       "      <th></th>\n",
       "      <th>customer_ID</th>\n",
       "      <th>B_41</th>\n",
       "      <th>B_41_global_mean</th>\n",
       "      <th>B_41_global_min</th>\n",
       "      <th>B_41_global_max</th>\n",
       "      <th>B_41_global_median</th>\n",
       "      <th>B_41_local_mean</th>\n",
       "      <th>B_41_local_linear_interpolate</th>\n",
       "      <th>B_41_local_nearest_interpolate</th>\n",
       "      <th>target</th>\n",
       "    </tr>\n",
       "  </thead>\n",
       "  <tbody>\n",
       "    <tr>\n",
       "      <th>0</th>\n",
       "      <td>0000099d6bd597052cdcda90ffabf56573fe9d7c79be5f...</td>\n",
       "      <td>0.003973</td>\n",
       "      <td>0.003973</td>\n",
       "      <td>0.003973</td>\n",
       "      <td>0.003973</td>\n",
       "      <td>0.003973</td>\n",
       "      <td>NaN</td>\n",
       "      <td>NaN</td>\n",
       "      <td>NaN</td>\n",
       "      <td>0.0</td>\n",
       "    </tr>\n",
       "    <tr>\n",
       "      <th>1</th>\n",
       "      <td>00000fd6641609c6ece5454664794f0340ad84dddce9a2...</td>\n",
       "      <td>0.002943</td>\n",
       "      <td>0.002943</td>\n",
       "      <td>0.002943</td>\n",
       "      <td>0.002943</td>\n",
       "      <td>0.002943</td>\n",
       "      <td>NaN</td>\n",
       "      <td>NaN</td>\n",
       "      <td>NaN</td>\n",
       "      <td>0.0</td>\n",
       "    </tr>\n",
       "    <tr>\n",
       "      <th>2</th>\n",
       "      <td>00001b22f846c82c51f6e3958ccd81970162bae8b007e8...</td>\n",
       "      <td>0.004133</td>\n",
       "      <td>0.004133</td>\n",
       "      <td>0.004133</td>\n",
       "      <td>0.004133</td>\n",
       "      <td>0.004133</td>\n",
       "      <td>NaN</td>\n",
       "      <td>NaN</td>\n",
       "      <td>NaN</td>\n",
       "      <td>0.0</td>\n",
       "    </tr>\n",
       "    <tr>\n",
       "      <th>3</th>\n",
       "      <td>000041bdba6ecadd89a52d11886e8eaaec9325906c9723...</td>\n",
       "      <td>0.004254</td>\n",
       "      <td>0.004254</td>\n",
       "      <td>0.004254</td>\n",
       "      <td>0.004254</td>\n",
       "      <td>0.004254</td>\n",
       "      <td>NaN</td>\n",
       "      <td>NaN</td>\n",
       "      <td>NaN</td>\n",
       "      <td>0.0</td>\n",
       "    </tr>\n",
       "    <tr>\n",
       "      <th>4</th>\n",
       "      <td>00007889e4fcd2614b6cbe7f8f3d2e5c728eca32d9eb8a...</td>\n",
       "      <td>0.001068</td>\n",
       "      <td>0.001068</td>\n",
       "      <td>0.001068</td>\n",
       "      <td>0.001068</td>\n",
       "      <td>0.001068</td>\n",
       "      <td>NaN</td>\n",
       "      <td>NaN</td>\n",
       "      <td>NaN</td>\n",
       "      <td>0.0</td>\n",
       "    </tr>\n",
       "    <tr>\n",
       "      <th>...</th>\n",
       "      <td>...</td>\n",
       "      <td>...</td>\n",
       "      <td>...</td>\n",
       "      <td>...</td>\n",
       "      <td>...</td>\n",
       "      <td>...</td>\n",
       "      <td>...</td>\n",
       "      <td>...</td>\n",
       "      <td>...</td>\n",
       "      <td>...</td>\n",
       "    </tr>\n",
       "    <tr>\n",
       "      <th>458908</th>\n",
       "      <td>ffff41c8a52833b56430603969b9ca48d208e7c192c6a4...</td>\n",
       "      <td>0.005314</td>\n",
       "      <td>0.005314</td>\n",
       "      <td>0.005314</td>\n",
       "      <td>0.005314</td>\n",
       "      <td>0.005314</td>\n",
       "      <td>NaN</td>\n",
       "      <td>NaN</td>\n",
       "      <td>NaN</td>\n",
       "      <td>0.0</td>\n",
       "    </tr>\n",
       "    <tr>\n",
       "      <th>458909</th>\n",
       "      <td>ffff518bb2075e4816ee3fe9f3b152c57fc0e6f01bf7fd...</td>\n",
       "      <td>0.005134</td>\n",
       "      <td>0.005134</td>\n",
       "      <td>0.005134</td>\n",
       "      <td>0.005134</td>\n",
       "      <td>0.005134</td>\n",
       "      <td>NaN</td>\n",
       "      <td>NaN</td>\n",
       "      <td>NaN</td>\n",
       "      <td>0.0</td>\n",
       "    </tr>\n",
       "    <tr>\n",
       "      <th>458910</th>\n",
       "      <td>ffff9984b999fccb2b6127635ed0736dda94e544e67e02...</td>\n",
       "      <td>0.001513</td>\n",
       "      <td>0.001513</td>\n",
       "      <td>0.001513</td>\n",
       "      <td>0.001513</td>\n",
       "      <td>0.001513</td>\n",
       "      <td>NaN</td>\n",
       "      <td>NaN</td>\n",
       "      <td>NaN</td>\n",
       "      <td>0.0</td>\n",
       "    </tr>\n",
       "    <tr>\n",
       "      <th>458911</th>\n",
       "      <td>ffffa5c46bc8de74f5a4554e74e239c8dee6b9baf38814...</td>\n",
       "      <td>0.006067</td>\n",
       "      <td>0.006067</td>\n",
       "      <td>0.006067</td>\n",
       "      <td>0.006067</td>\n",
       "      <td>0.006067</td>\n",
       "      <td>NaN</td>\n",
       "      <td>NaN</td>\n",
       "      <td>NaN</td>\n",
       "      <td>1.0</td>\n",
       "    </tr>\n",
       "    <tr>\n",
       "      <th>458912</th>\n",
       "      <td>fffff1d38b785cef84adeace64f8f83db3a0c31e8d92ea...</td>\n",
       "      <td>0.002392</td>\n",
       "      <td>0.002392</td>\n",
       "      <td>0.002392</td>\n",
       "      <td>0.002392</td>\n",
       "      <td>0.002392</td>\n",
       "      <td>NaN</td>\n",
       "      <td>NaN</td>\n",
       "      <td>NaN</td>\n",
       "      <td>0.0</td>\n",
       "    </tr>\n",
       "  </tbody>\n",
       "</table>\n",
       "<p>458913 rows × 10 columns</p>\n",
       "</div>"
      ],
      "text/plain": [
       "                                              customer_ID      B_41  \\\n",
       "0       0000099d6bd597052cdcda90ffabf56573fe9d7c79be5f...  0.003973   \n",
       "1       00000fd6641609c6ece5454664794f0340ad84dddce9a2...  0.002943   \n",
       "2       00001b22f846c82c51f6e3958ccd81970162bae8b007e8...  0.004133   \n",
       "3       000041bdba6ecadd89a52d11886e8eaaec9325906c9723...  0.004254   \n",
       "4       00007889e4fcd2614b6cbe7f8f3d2e5c728eca32d9eb8a...  0.001068   \n",
       "...                                                   ...       ...   \n",
       "458908  ffff41c8a52833b56430603969b9ca48d208e7c192c6a4...  0.005314   \n",
       "458909  ffff518bb2075e4816ee3fe9f3b152c57fc0e6f01bf7fd...  0.005134   \n",
       "458910  ffff9984b999fccb2b6127635ed0736dda94e544e67e02...  0.001513   \n",
       "458911  ffffa5c46bc8de74f5a4554e74e239c8dee6b9baf38814...  0.006067   \n",
       "458912  fffff1d38b785cef84adeace64f8f83db3a0c31e8d92ea...  0.002392   \n",
       "\n",
       "        B_41_global_mean  B_41_global_min  B_41_global_max  \\\n",
       "0               0.003973         0.003973         0.003973   \n",
       "1               0.002943         0.002943         0.002943   \n",
       "2               0.004133         0.004133         0.004133   \n",
       "3               0.004254         0.004254         0.004254   \n",
       "4               0.001068         0.001068         0.001068   \n",
       "...                  ...              ...              ...   \n",
       "458908          0.005314         0.005314         0.005314   \n",
       "458909          0.005134         0.005134         0.005134   \n",
       "458910          0.001513         0.001513         0.001513   \n",
       "458911          0.006067         0.006067         0.006067   \n",
       "458912          0.002392         0.002392         0.002392   \n",
       "\n",
       "        B_41_global_median  B_41_local_mean  B_41_local_linear_interpolate  \\\n",
       "0                 0.003973              NaN                            NaN   \n",
       "1                 0.002943              NaN                            NaN   \n",
       "2                 0.004133              NaN                            NaN   \n",
       "3                 0.004254              NaN                            NaN   \n",
       "4                 0.001068              NaN                            NaN   \n",
       "...                    ...              ...                            ...   \n",
       "458908            0.005314              NaN                            NaN   \n",
       "458909            0.005134              NaN                            NaN   \n",
       "458910            0.001513              NaN                            NaN   \n",
       "458911            0.006067              NaN                            NaN   \n",
       "458912            0.002392              NaN                            NaN   \n",
       "\n",
       "        B_41_local_nearest_interpolate  target  \n",
       "0                                  NaN     0.0  \n",
       "1                                  NaN     0.0  \n",
       "2                                  NaN     0.0  \n",
       "3                                  NaN     0.0  \n",
       "4                                  NaN     0.0  \n",
       "...                                ...     ...  \n",
       "458908                             NaN     0.0  \n",
       "458909                             NaN     0.0  \n",
       "458910                             NaN     0.0  \n",
       "458911                             NaN     1.0  \n",
       "458912                             NaN     0.0  \n",
       "\n",
       "[458913 rows x 10 columns]"
      ]
     },
     "execution_count": 36,
     "metadata": {},
     "output_type": "execute_result"
    }
   ],
   "source": [
    "df_train_last1 = variant_df.groupby('customer_ID').last()\n",
    "df_train_last1 = df_train_last1.reset_index()\n",
    "df_train_wt = pd.merge(df_train_last1, train_label_df, how='inner', on = 'customer_ID')\n",
    "df_train_wt"
   ]
  },
  {
   "cell_type": "code",
   "execution_count": 42,
   "id": "63a022f6-d38f-4aea-9fdd-a09f487b2604",
   "metadata": {},
   "outputs": [
    {
     "data": {
      "text/plain": [
       "count    690.000000\n",
       "mean       0.028858\n",
       "std        0.232675\n",
       "min        0.000502\n",
       "25%        0.003447\n",
       "50%        0.005052\n",
       "75%        0.006605\n",
       "max        4.501401\n",
       "Name: B_41_local_linear_interpolate, dtype: float64"
      ]
     },
     "execution_count": 42,
     "metadata": {},
     "output_type": "execute_result"
    }
   ],
   "source": [
    "df_train_wt['B_41_local_linear_interpolate'].describe()"
   ]
  },
  {
   "cell_type": "code",
   "execution_count": null,
   "id": "692ad3e3-4398-4e15-970a-2ca2a393d3ff",
   "metadata": {},
   "outputs": [],
   "source": [
    "for missingfeaturetuple in missing_features_with_count_list:\n",
    "    missingvaluefeature = missingfeaturetuple['columnname']\n",
    "    missingcount = missingfeaturetuple['nan_count']\n",
    "    print(\"-------------------------------------\")\n",
    "    print(f\"--- {missingvaluefeature}   :  {missingcount} ---\")\n",
    "    variant_df = load_prepare_amex_dataset(f\"train_data_{missingvaluefeature}\")\n",
    "    print(variant_df.describe())\n",
    "    input()"
   ]
  },
  {
   "cell_type": "code",
   "execution_count": 57,
   "id": "22150f8d-6527-4f28-ace7-5db49af7fc16",
   "metadata": {},
   "outputs": [
    {
     "data": {
      "text/plain": [
       "[{'columnname': 'R_7', 'nan_count': 1},\n",
       " {'columnname': 'R_14', 'nan_count': 1},\n",
       " {'columnname': 'B_40', 'nan_count': 53},\n",
       " {'columnname': 'R_12', 'nan_count': 56},\n",
       " {'columnname': 'B_37', 'nan_count': 56},\n",
       " {'columnname': 'R_20', 'nan_count': 75},\n",
       " {'columnname': 'B_6', 'nan_count': 233},\n",
       " {'columnname': 'S_23', 'nan_count': 445},\n",
       " {'columnname': 'S_26', 'nan_count': 634},\n",
       " {'columnname': 'B_41', 'nan_count': 690},\n",
       " {'columnname': 'D_109', 'nan_count': 1597},\n",
       " {'columnname': 'B_2', 'nan_count': 2016},\n",
       " {'columnname': 'D_41', 'nan_count': 2016},\n",
       " {'columnname': 'B_3', 'nan_count': 2016},\n",
       " {'columnname': 'D_54', 'nan_count': 2016},\n",
       " {'columnname': 'B_16', 'nan_count': 2016},\n",
       " {'columnname': 'B_19', 'nan_count': 2016},\n",
       " {'columnname': 'B_20', 'nan_count': 2016},\n",
       " {'columnname': 'B_22', 'nan_count': 2016},\n",
       " {'columnname': 'B_26', 'nan_count': 2016},\n",
       " {'columnname': 'B_27', 'nan_count': 2016},\n",
       " {'columnname': 'B_30', 'nan_count': 2016},\n",
       " {'columnname': 'B_33', 'nan_count': 2016},\n",
       " {'columnname': 'B_38', 'nan_count': 2016},\n",
       " {'columnname': 'D_45', 'nan_count': 2017},\n",
       " {'columnname': 'D_112', 'nan_count': 2650},\n",
       " {'columnname': 'B_15', 'nan_count': 6923},\n",
       " {'columnname': 'B_25', 'nan_count': 6923},\n",
       " {'columnname': 'S_25', 'nan_count': 12847},\n",
       " {'columnname': 'S_24', 'nan_count': 18593},\n",
       " {'columnname': 'S_22', 'nan_count': 19024},\n",
       " {'columnname': 'D_74', 'nan_count': 21773},\n",
       " {'columnname': 'D_80', 'nan_count': 21773},\n",
       " {'columnname': 'B_8', 'nan_count': 22268},\n",
       " {'columnname': 'D_72', 'nan_count': 23708},\n",
       " {'columnname': 'D_81', 'nan_count': 25687},\n",
       " {'columnname': 'D_52', 'nan_count': 29563},\n",
       " {'columnname': 'D_84', 'nan_count': 29563},\n",
       " {'columnname': 'D_89', 'nan_count': 29563},\n",
       " {'columnname': 'D_140', 'nan_count': 40632},\n",
       " {'columnname': 'D_102', 'nan_count': 40655},\n",
       " {'columnname': 'D_144', 'nan_count': 40727},\n",
       " {'columnname': 'D_133', 'nan_count': 42716},\n",
       " {'columnname': 'P_2', 'nan_count': 45985},\n",
       " {'columnname': 'B_13', 'nan_count': 49519},\n",
       " {'columnname': 'D_79', 'nan_count': 75939},\n",
       " {'columnname': 'D_70', 'nan_count': 94917},\n",
       " {'columnname': 'D_103', 'nan_count': 101548},\n",
       " {'columnname': 'D_104', 'nan_count': 101548},\n",
       " {'columnname': 'D_107', 'nan_count': 101548},\n",
       " {'columnname': 'D_128', 'nan_count': 101548},\n",
       " {'columnname': 'D_129', 'nan_count': 101548},\n",
       " {'columnname': 'D_130', 'nan_count': 101548},\n",
       " {'columnname': 'D_131', 'nan_count': 101548},\n",
       " {'columnname': 'D_139', 'nan_count': 101548},\n",
       " {'columnname': 'D_141', 'nan_count': 101548},\n",
       " {'columnname': 'D_143', 'nan_count': 101548},\n",
       " {'columnname': 'D_145', 'nan_count': 101548},\n",
       " {'columnname': 'D_59', 'nan_count': 106725},\n",
       " {'columnname': 'D_126', 'nan_count': 116816},\n",
       " {'columnname': 'R_27', 'nan_count': 128703},\n",
       " {'columnname': 'D_91', 'nan_count': 157216},\n",
       " {'columnname': 'D_113', 'nan_count': 176716},\n",
       " {'columnname': 'D_114', 'nan_count': 176716},\n",
       " {'columnname': 'D_115', 'nan_count': 176716},\n",
       " {'columnname': 'D_116', 'nan_count': 176716},\n",
       " {'columnname': 'D_117', 'nan_count': 176716},\n",
       " {'columnname': 'D_118', 'nan_count': 176716},\n",
       " {'columnname': 'D_119', 'nan_count': 176716},\n",
       " {'columnname': 'D_120', 'nan_count': 176716},\n",
       " {'columnname': 'D_121', 'nan_count': 176716},\n",
       " {'columnname': 'D_122', 'nan_count': 176716},\n",
       " {'columnname': 'D_123', 'nan_count': 176716},\n",
       " {'columnname': 'D_124', 'nan_count': 176716},\n",
       " {'columnname': 'D_125', 'nan_count': 176716},\n",
       " {'columnname': 'D_55', 'nan_count': 184803},\n",
       " {'columnname': 'D_69', 'nan_count': 194473},\n",
       " {'columnname': 'D_83', 'nan_count': 194473},\n",
       " {'columnname': 'D_68', 'nan_count': 216503},\n",
       " {'columnname': 'D_64', 'nan_count': 217442},\n",
       " {'columnname': 'D_44', 'nan_count': 274319},\n",
       " {'columnname': 'D_78', 'nan_count': 274319},\n",
       " {'columnname': 'P_3', 'nan_count': 301492},\n",
       " {'columnname': 'D_61', 'nan_count': 598052},\n",
       " {'columnname': 'D_48', 'nan_count': 718725},\n",
       " {'columnname': 'D_62', 'nan_count': 758161},\n",
       " {'columnname': 'S_3', 'nan_count': 1020544},\n",
       " {'columnname': 'S_7', 'nan_count': 1020544},\n",
       " {'columnname': 'D_46', 'nan_count': 1211699},\n",
       " {'columnname': 'S_27', 'nan_count': 1400935},\n",
       " {'columnname': 'D_43', 'nan_count': 1658396},\n",
       " {'columnname': 'D_77', 'nan_count': 2513912},\n",
       " {'columnname': 'S_9', 'nan_count': 2933643},\n",
       " {'columnname': 'D_56', 'nan_count': 2990943},\n",
       " {'columnname': 'D_105', 'nan_count': 3021431},\n",
       " {'columnname': 'B_17', 'nan_count': 3137598},\n",
       " {'columnname': 'D_50', 'nan_count': 3142402},\n",
       " {'columnname': 'D_82', 'nan_count': 4058614},\n",
       " {'columnname': 'D_53', 'nan_count': 4084585},\n",
       " {'columnname': 'D_142', 'nan_count': 4587043},\n",
       " {'columnname': 'D_42', 'nan_count': 4740137},\n",
       " {'columnname': 'D_66', 'nan_count': 4908097},\n",
       " {'columnname': 'D_76', 'nan_count': 4908954},\n",
       " {'columnname': 'R_26', 'nan_count': 4922146},\n",
       " {'columnname': 'D_49', 'nan_count': 4985917},\n",
       " {'columnname': 'D_132', 'nan_count': 4988874},\n",
       " {'columnname': 'D_106', 'nan_count': 4990102},\n",
       " {'columnname': 'B_29', 'nan_count': 5150035},\n",
       " {'columnname': 'R_9', 'nan_count': 5218918},\n",
       " {'columnname': 'D_134', 'nan_count': 5336752},\n",
       " {'columnname': 'D_135', 'nan_count': 5336752},\n",
       " {'columnname': 'D_136', 'nan_count': 5336752},\n",
       " {'columnname': 'D_137', 'nan_count': 5336752},\n",
       " {'columnname': 'D_138', 'nan_count': 5336752},\n",
       " {'columnname': 'B_42', 'nan_count': 5459973},\n",
       " {'columnname': 'D_73', 'nan_count': 5475595},\n",
       " {'columnname': 'B_39', 'nan_count': 5497819},\n",
       " {'columnname': 'D_110', 'nan_count': 5500117},\n",
       " {'columnname': 'D_111', 'nan_count': 5500117},\n",
       " {'columnname': 'D_108', 'nan_count': 5502513},\n",
       " {'columnname': 'D_88', 'nan_count': 5525447},\n",
       " {'columnname': 'D_87', 'nan_count': 5527586}]"
      ]
     },
     "execution_count": 57,
     "metadata": {},
     "output_type": "execute_result"
    }
   ],
   "source": [
    "missing_features_with_count_list\n"
   ]
  },
  {
   "cell_type": "code",
   "execution_count": 72,
   "id": "959bc1be-77fe-42db-8dde-de902027aa09",
   "metadata": {},
   "outputs": [],
   "source": [
    "fold_score_track = {}\n",
    "def track_score(key, score):\n",
    "    key = str(key)\n",
    "    if key not in fold_score_track:\n",
    "        fold_score_track[key] = []\n",
    "    fold_score_track[key].append(score)\n",
    "\n",
    "def show_score(key):\n",
    "    key = str(key)\n",
    "    display(HTML(f\"<h3>{key} OVERALL SCORE : {np.mean(fold_score_track[key])*100:0.3f}</h3>\"))"
   ]
  },
  {
   "cell_type": "code",
   "execution_count": 84,
   "id": "6166adb4-de23-43f3-aa6f-b17ac7d71b5f",
   "metadata": {},
   "outputs": [
    {
     "name": "stdout",
     "output_type": "stream",
     "text": [
      "-------------------------------------\n"
     ]
    },
    {
     "data": {
      "text/html": [
       "<h2>D_76</h2>"
      ],
      "text/plain": [
       "<IPython.core.display.HTML object>"
      ]
     },
     "metadata": {},
     "output_type": "display_data"
    },
    {
     "name": "stdout",
     "output_type": "stream",
     "text": [
      "--- D_76   :  has 4908954 nan ---\n",
      "------ FOLD: 1 of 5 -------\n",
      "[100]\tvalid_0's binary_logloss: 0.556408\tvalid_0's amex: 0.0712171\n",
      "[LightGBM] [Warning] early_stopping_round is set=100, early_stopping_rounds=100 will be ignored. Current value: early_stopping_round=100\n",
      "[100]\tvalid_0's binary_logloss: 0.558039\tvalid_0's amex: 0.0667944\n",
      "[LightGBM] [Warning] early_stopping_round is set=100, early_stopping_rounds=100 will be ignored. Current value: early_stopping_round=100\n",
      "[100]\tvalid_0's binary_logloss: 0.557874\tvalid_0's amex: 0.0667943\n",
      "[200]\tvalid_0's binary_logloss: 0.55765\tvalid_0's amex: 0.0667972\n",
      "[LightGBM] [Warning] early_stopping_round is set=100, early_stopping_rounds=100 will be ignored. Current value: early_stopping_round=100\n",
      "[100]\tvalid_0's binary_logloss: 0.557881\tvalid_0's amex: 0.0667202\n",
      "[200]\tvalid_0's binary_logloss: 0.557654\tvalid_0's amex: 0.066724\n",
      "[300]\tvalid_0's binary_logloss: 0.557652\tvalid_0's amex: 0.0666061\n",
      "[LightGBM] [Warning] early_stopping_round is set=100, early_stopping_rounds=100 will be ignored. Current value: early_stopping_round=100\n",
      "[100]\tvalid_0's binary_logloss: 0.5579\tvalid_0's amex: 0.0667657\n",
      "[200]\tvalid_0's binary_logloss: 0.557662\tvalid_0's amex: 0.0667667\n",
      "[LightGBM] [Warning] early_stopping_round is set=100, early_stopping_rounds=100 will be ignored. Current value: early_stopping_round=100\n",
      "[100]\tvalid_0's binary_logloss: 0.556409\tvalid_0's amex: 0.0728496\n",
      "[LightGBM] [Warning] early_stopping_round is set=100, early_stopping_rounds=100 will be ignored. Current value: early_stopping_round=100\n",
      "[100]\tvalid_0's binary_logloss: 0.556448\tvalid_0's amex: 0.0711698\n",
      "[LightGBM] [Warning] early_stopping_round is set=100, early_stopping_rounds=100 will be ignored. Current value: early_stopping_round=100\n",
      "[100]\tvalid_0's binary_logloss: 0.556448\tvalid_0's amex: 0.0711698\n",
      "------ FOLD: 2 of 5 -------\n",
      "[LightGBM] [Warning] early_stopping_round is set=100, early_stopping_rounds=100 will be ignored. Current value: early_stopping_round=100\n",
      "[100]\tvalid_0's binary_logloss: 0.556626\tvalid_0's amex: 0.0742072\n",
      "[LightGBM] [Warning] early_stopping_round is set=100, early_stopping_rounds=100 will be ignored. Current value: early_stopping_round=100\n",
      "[100]\tvalid_0's binary_logloss: 0.558184\tvalid_0's amex: 0.0694745\n",
      "[200]\tvalid_0's binary_logloss: 0.558119\tvalid_0's amex: 0.0697426\n",
      "[LightGBM] [Warning] early_stopping_round is set=100, early_stopping_rounds=100 will be ignored. Current value: early_stopping_round=100\n",
      "[100]\tvalid_0's binary_logloss: 0.557995\tvalid_0's amex: 0.069965\n",
      "[200]\tvalid_0's binary_logloss: 0.557791\tvalid_0's amex: 0.0699808\n",
      "[300]\tvalid_0's binary_logloss: 0.557792\tvalid_0's amex: 0.0699871\n",
      "[LightGBM] [Warning] early_stopping_round is set=100, early_stopping_rounds=100 will be ignored. Current value: early_stopping_round=100\n",
      "[100]\tvalid_0's binary_logloss: 0.558001\tvalid_0's amex: 0.0699646\n",
      "[200]\tvalid_0's binary_logloss: 0.557775\tvalid_0's amex: 0.0695528\n",
      "[LightGBM] [Warning] early_stopping_round is set=100, early_stopping_rounds=100 will be ignored. Current value: early_stopping_round=100\n",
      "[100]\tvalid_0's binary_logloss: 0.558017\tvalid_0's amex: 0.0695101\n",
      "[LightGBM] [Warning] early_stopping_round is set=100, early_stopping_rounds=100 will be ignored. Current value: early_stopping_round=100\n",
      "[100]\tvalid_0's binary_logloss: 0.556656\tvalid_0's amex: 0.0750888\n",
      "[LightGBM] [Warning] early_stopping_round is set=100, early_stopping_rounds=100 will be ignored. Current value: early_stopping_round=100\n",
      "[100]\tvalid_0's binary_logloss: 0.556672\tvalid_0's amex: 0.0742295\n",
      "[200]\tvalid_0's binary_logloss: 0.556621\tvalid_0's amex: 0.0755073\n",
      "[LightGBM] [Warning] early_stopping_round is set=100, early_stopping_rounds=100 will be ignored. Current value: early_stopping_round=100\n",
      "[100]\tvalid_0's binary_logloss: 0.556672\tvalid_0's amex: 0.0742295\n",
      "[200]\tvalid_0's binary_logloss: 0.556621\tvalid_0's amex: 0.0755073\n",
      "------ FOLD: 3 of 5 -------\n",
      "[LightGBM] [Warning] early_stopping_round is set=100, early_stopping_rounds=100 will be ignored. Current value: early_stopping_round=100\n",
      "[100]\tvalid_0's binary_logloss: 0.556573\tvalid_0's amex: 0.0758913\n",
      "[200]\tvalid_0's binary_logloss: 0.556395\tvalid_0's amex: 0.0749089\n",
      "[LightGBM] [Warning] early_stopping_round is set=100, early_stopping_rounds=100 will be ignored. Current value: early_stopping_round=100\n",
      "[100]\tvalid_0's binary_logloss: 0.55836\tvalid_0's amex: 0.0701729\n",
      "[LightGBM] [Warning] early_stopping_round is set=100, early_stopping_rounds=100 will be ignored. Current value: early_stopping_round=100\n",
      "[100]\tvalid_0's binary_logloss: 0.558197\tvalid_0's amex: 0.070315\n",
      "[200]\tvalid_0's binary_logloss: 0.558048\tvalid_0's amex: 0.0696862\n",
      "[LightGBM] [Warning] early_stopping_round is set=100, early_stopping_rounds=100 will be ignored. Current value: early_stopping_round=100\n",
      "[100]\tvalid_0's binary_logloss: 0.558187\tvalid_0's amex: 0.0709268\n",
      "[LightGBM] [Warning] early_stopping_round is set=100, early_stopping_rounds=100 will be ignored. Current value: early_stopping_round=100\n",
      "[100]\tvalid_0's binary_logloss: 0.558194\tvalid_0's amex: 0.0709287\n",
      "[LightGBM] [Warning] early_stopping_round is set=100, early_stopping_rounds=100 will be ignored. Current value: early_stopping_round=100\n",
      "[100]\tvalid_0's binary_logloss: 0.556547\tvalid_0's amex: 0.0765215\n",
      "[200]\tvalid_0's binary_logloss: 0.556515\tvalid_0's amex: 0.075218\n",
      "[LightGBM] [Warning] early_stopping_round is set=100, early_stopping_rounds=100 will be ignored. Current value: early_stopping_round=100\n",
      "[100]\tvalid_0's binary_logloss: 0.556606\tvalid_0's amex: 0.0746571\n",
      "[200]\tvalid_0's binary_logloss: 0.556598\tvalid_0's amex: 0.0751203\n",
      "[LightGBM] [Warning] early_stopping_round is set=100, early_stopping_rounds=100 will be ignored. Current value: early_stopping_round=100\n",
      "[100]\tvalid_0's binary_logloss: 0.556606\tvalid_0's amex: 0.0746571\n",
      "[200]\tvalid_0's binary_logloss: 0.556598\tvalid_0's amex: 0.0751203\n",
      "------ FOLD: 4 of 5 -------\n",
      "[LightGBM] [Warning] early_stopping_round is set=100, early_stopping_rounds=100 will be ignored. Current value: early_stopping_round=100\n",
      "[100]\tvalid_0's binary_logloss: 0.556175\tvalid_0's amex: 0.0748283\n",
      "[200]\tvalid_0's binary_logloss: 0.555956\tvalid_0's amex: 0.0746116\n",
      "[300]\tvalid_0's binary_logloss: 0.555958\tvalid_0's amex: 0.0749314\n",
      "[LightGBM] [Warning] early_stopping_round is set=100, early_stopping_rounds=100 will be ignored. Current value: early_stopping_round=100\n",
      "[100]\tvalid_0's binary_logloss: 0.557831\tvalid_0's amex: 0.0689143\n",
      "[LightGBM] [Warning] early_stopping_round is set=100, early_stopping_rounds=100 will be ignored. Current value: early_stopping_round=100\n",
      "[100]\tvalid_0's binary_logloss: 0.557645\tvalid_0's amex: 0.0689177\n",
      "[LightGBM] [Warning] early_stopping_round is set=100, early_stopping_rounds=100 will be ignored. Current value: early_stopping_round=100\n",
      "[100]\tvalid_0's binary_logloss: 0.557655\tvalid_0's amex: 0.0689212\n",
      "[LightGBM] [Warning] early_stopping_round is set=100, early_stopping_rounds=100 will be ignored. Current value: early_stopping_round=100\n",
      "[100]\tvalid_0's binary_logloss: 0.557688\tvalid_0's amex: 0.0689123\n",
      "[LightGBM] [Warning] early_stopping_round is set=100, early_stopping_rounds=100 will be ignored. Current value: early_stopping_round=100\n",
      "[100]\tvalid_0's binary_logloss: 0.556164\tvalid_0's amex: 0.0749484\n",
      "[200]\tvalid_0's binary_logloss: 0.55609\tvalid_0's amex: 0.0752595\n",
      "[300]\tvalid_0's binary_logloss: 0.556083\tvalid_0's amex: 0.0753551\n",
      "[LightGBM] [Warning] early_stopping_round is set=100, early_stopping_rounds=100 will be ignored. Current value: early_stopping_round=100\n",
      "[100]\tvalid_0's binary_logloss: 0.556265\tvalid_0's amex: 0.0748022\n",
      "[LightGBM] [Warning] early_stopping_round is set=100, early_stopping_rounds=100 will be ignored. Current value: early_stopping_round=100\n",
      "[100]\tvalid_0's binary_logloss: 0.556265\tvalid_0's amex: 0.0748022\n",
      "------ FOLD: 5 of 5 -------\n",
      "[LightGBM] [Warning] early_stopping_round is set=100, early_stopping_rounds=100 will be ignored. Current value: early_stopping_round=100\n",
      "[100]\tvalid_0's binary_logloss: 0.556435\tvalid_0's amex: 0.0781699\n",
      "[LightGBM] [Warning] early_stopping_round is set=100, early_stopping_rounds=100 will be ignored. Current value: early_stopping_round=100\n",
      "[100]\tvalid_0's binary_logloss: 0.557999\tvalid_0's amex: 0.0736543\n",
      "[LightGBM] [Warning] early_stopping_round is set=100, early_stopping_rounds=100 will be ignored. Current value: early_stopping_round=100\n",
      "[100]\tvalid_0's binary_logloss: 0.557828\tvalid_0's amex: 0.0737235\n",
      "[LightGBM] [Warning] early_stopping_round is set=100, early_stopping_rounds=100 will be ignored. Current value: early_stopping_round=100\n",
      "[100]\tvalid_0's binary_logloss: 0.557825\tvalid_0's amex: 0.0734938\n",
      "[LightGBM] [Warning] early_stopping_round is set=100, early_stopping_rounds=100 will be ignored. Current value: early_stopping_round=100\n",
      "[100]\tvalid_0's binary_logloss: 0.557867\tvalid_0's amex: 0.0728113\n",
      "[LightGBM] [Warning] early_stopping_round is set=100, early_stopping_rounds=100 will be ignored. Current value: early_stopping_round=100\n",
      "[100]\tvalid_0's binary_logloss: 0.556469\tvalid_0's amex: 0.0788183\n",
      "[LightGBM] [Warning] early_stopping_round is set=100, early_stopping_rounds=100 will be ignored. Current value: early_stopping_round=100\n",
      "[100]\tvalid_0's binary_logloss: 0.556493\tvalid_0's amex: 0.0782726\n",
      "[LightGBM] [Warning] early_stopping_round is set=100, early_stopping_rounds=100 will be ignored. Current value: early_stopping_round=100\n",
      "[100]\tvalid_0's binary_logloss: 0.556493\tvalid_0's amex: 0.0782726\n"
     ]
    },
    {
     "data": {
      "text/html": [
       "<h3>['D_76'] OVERALL SCORE : 7.535</h3>"
      ],
      "text/plain": [
       "<IPython.core.display.HTML object>"
      ]
     },
     "metadata": {},
     "output_type": "display_data"
    },
    {
     "data": {
      "text/html": [
       "<h3>['D_76_global_mean'] OVERALL SCORE : 7.003</h3>"
      ],
      "text/plain": [
       "<IPython.core.display.HTML object>"
      ]
     },
     "metadata": {},
     "output_type": "display_data"
    },
    {
     "data": {
      "text/html": [
       "<h3>['D_76_global_min'] OVERALL SCORE : 7.016</h3>"
      ],
      "text/plain": [
       "<IPython.core.display.HTML object>"
      ]
     },
     "metadata": {},
     "output_type": "display_data"
    },
    {
     "data": {
      "text/html": [
       "<h3>['D_76_global_max'] OVERALL SCORE : 7.020</h3>"
      ],
      "text/plain": [
       "<IPython.core.display.HTML object>"
      ]
     },
     "metadata": {},
     "output_type": "display_data"
    },
    {
     "data": {
      "text/html": [
       "<h3>['D_76_global_median'] OVERALL SCORE : 6.993</h3>"
      ],
      "text/plain": [
       "<IPython.core.display.HTML object>"
      ]
     },
     "metadata": {},
     "output_type": "display_data"
    },
    {
     "data": {
      "text/html": [
       "<h3>['D_76_local_mean'] OVERALL SCORE : 7.582</h3>"
      ],
      "text/plain": [
       "<IPython.core.display.HTML object>"
      ]
     },
     "metadata": {},
     "output_type": "display_data"
    },
    {
     "data": {
      "text/html": [
       "<h3>['D_76_local_linear_interpolate'] OVERALL SCORE : 7.540</h3>"
      ],
      "text/plain": [
       "<IPython.core.display.HTML object>"
      ]
     },
     "metadata": {},
     "output_type": "display_data"
    },
    {
     "data": {
      "text/html": [
       "<h3>['D_76_local_nearest_interpolate'] OVERALL SCORE : 7.540</h3>"
      ],
      "text/plain": [
       "<IPython.core.display.HTML object>"
      ]
     },
     "metadata": {},
     "output_type": "display_data"
    },
    {
     "name": "stdout",
     "output_type": "stream",
     "text": [
      "-------------------------------------\n"
     ]
    },
    {
     "data": {
      "text/html": [
       "<h2>R_26</h2>"
      ],
      "text/plain": [
       "<IPython.core.display.HTML object>"
      ]
     },
     "metadata": {},
     "output_type": "display_data"
    },
    {
     "name": "stdout",
     "output_type": "stream",
     "text": [
      "--- R_26   :  has 4922146 nan ---\n",
      "------ FOLD: 1 of 5 -------\n",
      "[LightGBM] [Warning] early_stopping_round is set=100, early_stopping_rounds=100 will be ignored. Current value: early_stopping_round=100\n",
      "[100]\tvalid_0's binary_logloss: 0.535155\tvalid_0's amex: 0.200186\n",
      "[LightGBM] [Warning] early_stopping_round is set=100, early_stopping_rounds=100 will be ignored. Current value: early_stopping_round=100\n",
      "[100]\tvalid_0's binary_logloss: 0.535173\tvalid_0's amex: 0.200258\n",
      "[LightGBM] [Warning] early_stopping_round is set=100, early_stopping_rounds=100 will be ignored. Current value: early_stopping_round=100\n",
      "[100]\tvalid_0's binary_logloss: 0.535193\tvalid_0's amex: 0.199742\n",
      "[LightGBM] [Warning] early_stopping_round is set=100, early_stopping_rounds=100 will be ignored. Current value: early_stopping_round=100\n",
      "[100]\tvalid_0's binary_logloss: 0.535162\tvalid_0's amex: 0.200382\n",
      "[LightGBM] [Warning] early_stopping_round is set=100, early_stopping_rounds=100 will be ignored. Current value: early_stopping_round=100\n",
      "[100]\tvalid_0's binary_logloss: 0.535422\tvalid_0's amex: 0.200506\n",
      "[LightGBM] [Warning] early_stopping_round is set=100, early_stopping_rounds=100 will be ignored. Current value: early_stopping_round=100\n",
      "[100]\tvalid_0's binary_logloss: 0.535126\tvalid_0's amex: 0.200793\n",
      "[LightGBM] [Warning] early_stopping_round is set=100, early_stopping_rounds=100 will be ignored. Current value: early_stopping_round=100\n",
      "[100]\tvalid_0's binary_logloss: 0.53513\tvalid_0's amex: 0.200669\n",
      "[LightGBM] [Warning] early_stopping_round is set=100, early_stopping_rounds=100 will be ignored. Current value: early_stopping_round=100\n",
      "[100]\tvalid_0's binary_logloss: 0.53513\tvalid_0's amex: 0.200669\n",
      "------ FOLD: 2 of 5 -------\n",
      "[LightGBM] [Warning] early_stopping_round is set=100, early_stopping_rounds=100 will be ignored. Current value: early_stopping_round=100\n",
      "[100]\tvalid_0's binary_logloss: 0.534885\tvalid_0's amex: 0.199236\n",
      "[200]\tvalid_0's binary_logloss: 0.534789\tvalid_0's amex: 0.199024\n",
      "[LightGBM] [Warning] early_stopping_round is set=100, early_stopping_rounds=100 will be ignored. Current value: early_stopping_round=100\n",
      "[100]\tvalid_0's binary_logloss: 0.534938\tvalid_0's amex: 0.19895\n",
      "[LightGBM] [Warning] early_stopping_round is set=100, early_stopping_rounds=100 will be ignored. Current value: early_stopping_round=100\n",
      "[100]\tvalid_0's binary_logloss: 0.534921\tvalid_0's amex: 0.198553\n",
      "[LightGBM] [Warning] early_stopping_round is set=100, early_stopping_rounds=100 will be ignored. Current value: early_stopping_round=100\n",
      "[100]\tvalid_0's binary_logloss: 0.534912\tvalid_0's amex: 0.198895\n",
      "[200]\tvalid_0's binary_logloss: 0.534801\tvalid_0's amex: 0.198938\n",
      "[LightGBM] [Warning] early_stopping_round is set=100, early_stopping_rounds=100 will be ignored. Current value: early_stopping_round=100\n",
      "[100]\tvalid_0's binary_logloss: 0.535029\tvalid_0's amex: 0.199392\n",
      "[LightGBM] [Warning] early_stopping_round is set=100, early_stopping_rounds=100 will be ignored. Current value: early_stopping_round=100\n",
      "[100]\tvalid_0's binary_logloss: 0.534905\tvalid_0's amex: 0.199161\n",
      "[LightGBM] [Warning] early_stopping_round is set=100, early_stopping_rounds=100 will be ignored. Current value: early_stopping_round=100\n",
      "[100]\tvalid_0's binary_logloss: 0.534911\tvalid_0's amex: 0.1991\n",
      "[200]\tvalid_0's binary_logloss: 0.534816\tvalid_0's amex: 0.19882\n",
      "[LightGBM] [Warning] early_stopping_round is set=100, early_stopping_rounds=100 will be ignored. Current value: early_stopping_round=100\n",
      "[100]\tvalid_0's binary_logloss: 0.534911\tvalid_0's amex: 0.1991\n",
      "[200]\tvalid_0's binary_logloss: 0.534816\tvalid_0's amex: 0.19882\n",
      "------ FOLD: 3 of 5 -------\n",
      "[LightGBM] [Warning] early_stopping_round is set=100, early_stopping_rounds=100 will be ignored. Current value: early_stopping_round=100\n",
      "[100]\tvalid_0's binary_logloss: 0.535124\tvalid_0's amex: 0.197576\n",
      "[LightGBM] [Warning] early_stopping_round is set=100, early_stopping_rounds=100 will be ignored. Current value: early_stopping_round=100\n",
      "[100]\tvalid_0's binary_logloss: 0.535157\tvalid_0's amex: 0.19694\n",
      "[LightGBM] [Warning] early_stopping_round is set=100, early_stopping_rounds=100 will be ignored. Current value: early_stopping_round=100\n",
      "[100]\tvalid_0's binary_logloss: 0.535144\tvalid_0's amex: 0.196713\n",
      "[LightGBM] [Warning] early_stopping_round is set=100, early_stopping_rounds=100 will be ignored. Current value: early_stopping_round=100\n",
      "[100]\tvalid_0's binary_logloss: 0.535151\tvalid_0's amex: 0.196704\n",
      "[LightGBM] [Warning] early_stopping_round is set=100, early_stopping_rounds=100 will be ignored. Current value: early_stopping_round=100\n",
      "[100]\tvalid_0's binary_logloss: 0.535343\tvalid_0's amex: 0.196758\n",
      "[LightGBM] [Warning] early_stopping_round is set=100, early_stopping_rounds=100 will be ignored. Current value: early_stopping_round=100\n",
      "[100]\tvalid_0's binary_logloss: 0.535128\tvalid_0's amex: 0.196873\n",
      "[LightGBM] [Warning] early_stopping_round is set=100, early_stopping_rounds=100 will be ignored. Current value: early_stopping_round=100\n",
      "[100]\tvalid_0's binary_logloss: 0.535131\tvalid_0's amex: 0.197098\n",
      "[LightGBM] [Warning] early_stopping_round is set=100, early_stopping_rounds=100 will be ignored. Current value: early_stopping_round=100\n",
      "[100]\tvalid_0's binary_logloss: 0.535131\tvalid_0's amex: 0.197098\n",
      "------ FOLD: 4 of 5 -------\n",
      "[LightGBM] [Warning] early_stopping_round is set=100, early_stopping_rounds=100 will be ignored. Current value: early_stopping_round=100\n",
      "[100]\tvalid_0's binary_logloss: 0.534321\tvalid_0's amex: 0.203158\n",
      "[LightGBM] [Warning] early_stopping_round is set=100, early_stopping_rounds=100 will be ignored. Current value: early_stopping_round=100\n",
      "[100]\tvalid_0's binary_logloss: 0.534429\tvalid_0's amex: 0.203117\n",
      "[200]\tvalid_0's binary_logloss: 0.534282\tvalid_0's amex: 0.202985\n",
      "[LightGBM] [Warning] early_stopping_round is set=100, early_stopping_rounds=100 will be ignored. Current value: early_stopping_round=100\n",
      "[100]\tvalid_0's binary_logloss: 0.534426\tvalid_0's amex: 0.203174\n",
      "[LightGBM] [Warning] early_stopping_round is set=100, early_stopping_rounds=100 will be ignored. Current value: early_stopping_round=100\n",
      "[100]\tvalid_0's binary_logloss: 0.534441\tvalid_0's amex: 0.203149\n",
      "[LightGBM] [Warning] early_stopping_round is set=100, early_stopping_rounds=100 will be ignored. Current value: early_stopping_round=100\n",
      "[100]\tvalid_0's binary_logloss: 0.534589\tvalid_0's amex: 0.202863\n",
      "[200]\tvalid_0's binary_logloss: 0.534377\tvalid_0's amex: 0.203145\n",
      "[LightGBM] [Warning] early_stopping_round is set=100, early_stopping_rounds=100 will be ignored. Current value: early_stopping_round=100\n",
      "[100]\tvalid_0's binary_logloss: 0.534365\tvalid_0's amex: 0.202634\n",
      "[LightGBM] [Warning] early_stopping_round is set=100, early_stopping_rounds=100 will be ignored. Current value: early_stopping_round=100\n",
      "[100]\tvalid_0's binary_logloss: 0.53436\tvalid_0's amex: 0.203706\n",
      "[LightGBM] [Warning] early_stopping_round is set=100, early_stopping_rounds=100 will be ignored. Current value: early_stopping_round=100\n",
      "[100]\tvalid_0's binary_logloss: 0.53436\tvalid_0's amex: 0.203706\n",
      "------ FOLD: 5 of 5 -------\n",
      "[LightGBM] [Warning] early_stopping_round is set=100, early_stopping_rounds=100 will be ignored. Current value: early_stopping_round=100\n",
      "[100]\tvalid_0's binary_logloss: 0.536712\tvalid_0's amex: 0.195068\n",
      "[LightGBM] [Warning] early_stopping_round is set=100, early_stopping_rounds=100 will be ignored. Current value: early_stopping_round=100\n",
      "[100]\tvalid_0's binary_logloss: 0.536755\tvalid_0's amex: 0.194949\n",
      "[LightGBM] [Warning] early_stopping_round is set=100, early_stopping_rounds=100 will be ignored. Current value: early_stopping_round=100\n",
      "[100]\tvalid_0's binary_logloss: 0.536763\tvalid_0's amex: 0.195206\n",
      "[LightGBM] [Warning] early_stopping_round is set=100, early_stopping_rounds=100 will be ignored. Current value: early_stopping_round=100\n",
      "[100]\tvalid_0's binary_logloss: 0.536756\tvalid_0's amex: 0.194885\n",
      "[LightGBM] [Warning] early_stopping_round is set=100, early_stopping_rounds=100 will be ignored. Current value: early_stopping_round=100\n",
      "[100]\tvalid_0's binary_logloss: 0.537084\tvalid_0's amex: 0.194303\n",
      "[LightGBM] [Warning] early_stopping_round is set=100, early_stopping_rounds=100 will be ignored. Current value: early_stopping_round=100\n",
      "[100]\tvalid_0's binary_logloss: 0.536718\tvalid_0's amex: 0.1952\n",
      "[LightGBM] [Warning] early_stopping_round is set=100, early_stopping_rounds=100 will be ignored. Current value: early_stopping_round=100\n",
      "[100]\tvalid_0's binary_logloss: 0.536712\tvalid_0's amex: 0.194853\n",
      "[LightGBM] [Warning] early_stopping_round is set=100, early_stopping_rounds=100 will be ignored. Current value: early_stopping_round=100\n",
      "[100]\tvalid_0's binary_logloss: 0.536712\tvalid_0's amex: 0.194853\n"
     ]
    },
    {
     "data": {
      "text/html": [
       "<h3>['R_26'] OVERALL SCORE : 19.985</h3>"
      ],
      "text/plain": [
       "<IPython.core.display.HTML object>"
      ]
     },
     "metadata": {},
     "output_type": "display_data"
    },
    {
     "data": {
      "text/html": [
       "<h3>['R_26_global_mean'] OVERALL SCORE : 19.975</h3>"
      ],
      "text/plain": [
       "<IPython.core.display.HTML object>"
      ]
     },
     "metadata": {},
     "output_type": "display_data"
    },
    {
     "data": {
      "text/html": [
       "<h3>['R_26_global_min'] OVERALL SCORE : 19.941</h3>"
      ],
      "text/plain": [
       "<IPython.core.display.HTML object>"
      ]
     },
     "metadata": {},
     "output_type": "display_data"
    },
    {
     "data": {
      "text/html": [
       "<h3>['R_26_global_max'] OVERALL SCORE : 19.966</h3>"
      ],
      "text/plain": [
       "<IPython.core.display.HTML object>"
      ]
     },
     "metadata": {},
     "output_type": "display_data"
    },
    {
     "data": {
      "text/html": [
       "<h3>['R_26_global_median'] OVERALL SCORE : 19.937</h3>"
      ],
      "text/plain": [
       "<IPython.core.display.HTML object>"
      ]
     },
     "metadata": {},
     "output_type": "display_data"
    },
    {
     "data": {
      "text/html": [
       "<h3>['R_26_local_mean'] OVERALL SCORE : 19.962</h3>"
      ],
      "text/plain": [
       "<IPython.core.display.HTML object>"
      ]
     },
     "metadata": {},
     "output_type": "display_data"
    },
    {
     "data": {
      "text/html": [
       "<h3>['R_26_local_linear_interpolate'] OVERALL SCORE : 19.954</h3>"
      ],
      "text/plain": [
       "<IPython.core.display.HTML object>"
      ]
     },
     "metadata": {},
     "output_type": "display_data"
    },
    {
     "data": {
      "text/html": [
       "<h3>['R_26_local_nearest_interpolate'] OVERALL SCORE : 19.954</h3>"
      ],
      "text/plain": [
       "<IPython.core.display.HTML object>"
      ]
     },
     "metadata": {},
     "output_type": "display_data"
    },
    {
     "name": "stdout",
     "output_type": "stream",
     "text": [
      "-------------------------------------\n"
     ]
    },
    {
     "data": {
      "text/html": [
       "<h2>D_49</h2>"
      ],
      "text/plain": [
       "<IPython.core.display.HTML object>"
      ]
     },
     "metadata": {},
     "output_type": "display_data"
    },
    {
     "name": "stdout",
     "output_type": "stream",
     "text": [
      "--- D_49   :  has 4985917 nan ---\n",
      "------ FOLD: 1 of 5 -------\n",
      "[LightGBM] [Warning] early_stopping_round is set=100, early_stopping_rounds=100 will be ignored. Current value: early_stopping_round=100\n",
      "[100]\tvalid_0's binary_logloss: 0.541441\tvalid_0's amex: 0.172314\n",
      "[LightGBM] [Warning] early_stopping_round is set=100, early_stopping_rounds=100 will be ignored. Current value: early_stopping_round=100\n",
      "[100]\tvalid_0's binary_logloss: 0.54296\tvalid_0's amex: 0.16636\n",
      "[LightGBM] [Warning] early_stopping_round is set=100, early_stopping_rounds=100 will be ignored. Current value: early_stopping_round=100\n",
      "[100]\tvalid_0's binary_logloss: 0.542916\tvalid_0's amex: 0.165313\n",
      "[LightGBM] [Warning] early_stopping_round is set=100, early_stopping_rounds=100 will be ignored. Current value: early_stopping_round=100\n",
      "[100]\tvalid_0's binary_logloss: 0.542899\tvalid_0's amex: 0.165437\n",
      "[LightGBM] [Warning] early_stopping_round is set=100, early_stopping_rounds=100 will be ignored. Current value: early_stopping_round=100\n",
      "[100]\tvalid_0's binary_logloss: 0.542904\tvalid_0's amex: 0.165551\n",
      "[LightGBM] [Warning] early_stopping_round is set=100, early_stopping_rounds=100 will be ignored. Current value: early_stopping_round=100\n",
      "[100]\tvalid_0's binary_logloss: 0.541546\tvalid_0's amex: 0.169591\n",
      "[200]\tvalid_0's binary_logloss: 0.541453\tvalid_0's amex: 0.170887\n",
      "[LightGBM] [Warning] early_stopping_round is set=100, early_stopping_rounds=100 will be ignored. Current value: early_stopping_round=100\n",
      "[100]\tvalid_0's binary_logloss: 0.541475\tvalid_0's amex: 0.171032\n",
      "[LightGBM] [Warning] early_stopping_round is set=100, early_stopping_rounds=100 will be ignored. Current value: early_stopping_round=100\n",
      "[100]\tvalid_0's binary_logloss: 0.541475\tvalid_0's amex: 0.171032\n",
      "------ FOLD: 2 of 5 -------\n",
      "[LightGBM] [Warning] early_stopping_round is set=100, early_stopping_rounds=100 will be ignored. Current value: early_stopping_round=100\n",
      "[100]\tvalid_0's binary_logloss: 0.542023\tvalid_0's amex: 0.172336\n",
      "[LightGBM] [Warning] early_stopping_round is set=100, early_stopping_rounds=100 will be ignored. Current value: early_stopping_round=100\n",
      "[100]\tvalid_0's binary_logloss: 0.543761\tvalid_0's amex: 0.164646\n",
      "[LightGBM] [Warning] early_stopping_round is set=100, early_stopping_rounds=100 will be ignored. Current value: early_stopping_round=100\n",
      "[100]\tvalid_0's binary_logloss: 0.543759\tvalid_0's amex: 0.164398\n",
      "[LightGBM] [Warning] early_stopping_round is set=100, early_stopping_rounds=100 will be ignored. Current value: early_stopping_round=100\n",
      "[100]\tvalid_0's binary_logloss: 0.543771\tvalid_0's amex: 0.164458\n",
      "[LightGBM] [Warning] early_stopping_round is set=100, early_stopping_rounds=100 will be ignored. Current value: early_stopping_round=100\n",
      "[100]\tvalid_0's binary_logloss: 0.543786\tvalid_0's amex: 0.163869\n",
      "[LightGBM] [Warning] early_stopping_round is set=100, early_stopping_rounds=100 will be ignored. Current value: early_stopping_round=100\n",
      "[100]\tvalid_0's binary_logloss: 0.542106\tvalid_0's amex: 0.171019\n",
      "[LightGBM] [Warning] early_stopping_round is set=100, early_stopping_rounds=100 will be ignored. Current value: early_stopping_round=100\n",
      "[100]\tvalid_0's binary_logloss: 0.542021\tvalid_0's amex: 0.172463\n",
      "[LightGBM] [Warning] early_stopping_round is set=100, early_stopping_rounds=100 will be ignored. Current value: early_stopping_round=100\n",
      "[100]\tvalid_0's binary_logloss: 0.542021\tvalid_0's amex: 0.172463\n",
      "------ FOLD: 3 of 5 -------\n",
      "[LightGBM] [Warning] early_stopping_round is set=100, early_stopping_rounds=100 will be ignored. Current value: early_stopping_round=100\n",
      "[100]\tvalid_0's binary_logloss: 0.543095\tvalid_0's amex: 0.16817\n",
      "[LightGBM] [Warning] early_stopping_round is set=100, early_stopping_rounds=100 will be ignored. Current value: early_stopping_round=100\n",
      "[100]\tvalid_0's binary_logloss: 0.544877\tvalid_0's amex: 0.160778\n",
      "[LightGBM] [Warning] early_stopping_round is set=100, early_stopping_rounds=100 will be ignored. Current value: early_stopping_round=100\n",
      "[100]\tvalid_0's binary_logloss: 0.54487\tvalid_0's amex: 0.160828\n",
      "[LightGBM] [Warning] early_stopping_round is set=100, early_stopping_rounds=100 will be ignored. Current value: early_stopping_round=100\n",
      "[100]\tvalid_0's binary_logloss: 0.544864\tvalid_0's amex: 0.161001\n",
      "[LightGBM] [Warning] early_stopping_round is set=100, early_stopping_rounds=100 will be ignored. Current value: early_stopping_round=100\n",
      "[100]\tvalid_0's binary_logloss: 0.544876\tvalid_0's amex: 0.160685\n",
      "[LightGBM] [Warning] early_stopping_round is set=100, early_stopping_rounds=100 will be ignored. Current value: early_stopping_round=100\n",
      "[100]\tvalid_0's binary_logloss: 0.543244\tvalid_0's amex: 0.167119\n",
      "[LightGBM] [Warning] early_stopping_round is set=100, early_stopping_rounds=100 will be ignored. Current value: early_stopping_round=100\n",
      "[100]\tvalid_0's binary_logloss: 0.543127\tvalid_0's amex: 0.167789\n",
      "[LightGBM] [Warning] early_stopping_round is set=100, early_stopping_rounds=100 will be ignored. Current value: early_stopping_round=100\n",
      "[100]\tvalid_0's binary_logloss: 0.543127\tvalid_0's amex: 0.167789\n",
      "------ FOLD: 4 of 5 -------\n",
      "[LightGBM] [Warning] early_stopping_round is set=100, early_stopping_rounds=100 will be ignored. Current value: early_stopping_round=100\n",
      "[100]\tvalid_0's binary_logloss: 0.54172\tvalid_0's amex: 0.176073\n",
      "[LightGBM] [Warning] early_stopping_round is set=100, early_stopping_rounds=100 will be ignored. Current value: early_stopping_round=100\n",
      "[100]\tvalid_0's binary_logloss: 0.543948\tvalid_0's amex: 0.169336\n",
      "[200]\tvalid_0's binary_logloss: 0.543953\tvalid_0's amex: 0.16976\n",
      "[LightGBM] [Warning] early_stopping_round is set=100, early_stopping_rounds=100 will be ignored. Current value: early_stopping_round=100\n",
      "[100]\tvalid_0's binary_logloss: 0.543938\tvalid_0's amex: 0.169442\n",
      "[LightGBM] [Warning] early_stopping_round is set=100, early_stopping_rounds=100 will be ignored. Current value: early_stopping_round=100\n",
      "[100]\tvalid_0's binary_logloss: 0.543939\tvalid_0's amex: 0.169305\n",
      "[LightGBM] [Warning] early_stopping_round is set=100, early_stopping_rounds=100 will be ignored. Current value: early_stopping_round=100\n",
      "[100]\tvalid_0's binary_logloss: 0.543984\tvalid_0's amex: 0.169117\n",
      "[200]\tvalid_0's binary_logloss: 0.543981\tvalid_0's amex: 0.169335\n",
      "[LightGBM] [Warning] early_stopping_round is set=100, early_stopping_rounds=100 will be ignored. Current value: early_stopping_round=100\n",
      "[100]\tvalid_0's binary_logloss: 0.541753\tvalid_0's amex: 0.174901\n",
      "[200]\tvalid_0's binary_logloss: 0.541707\tvalid_0's amex: 0.17452\n",
      "[LightGBM] [Warning] early_stopping_round is set=100, early_stopping_rounds=100 will be ignored. Current value: early_stopping_round=100\n",
      "[100]\tvalid_0's binary_logloss: 0.541732\tvalid_0's amex: 0.175091\n",
      "[LightGBM] [Warning] early_stopping_round is set=100, early_stopping_rounds=100 will be ignored. Current value: early_stopping_round=100\n",
      "[100]\tvalid_0's binary_logloss: 0.541732\tvalid_0's amex: 0.175091\n",
      "------ FOLD: 5 of 5 -------\n",
      "[LightGBM] [Warning] early_stopping_round is set=100, early_stopping_rounds=100 will be ignored. Current value: early_stopping_round=100\n",
      "[100]\tvalid_0's binary_logloss: 0.541063\tvalid_0's amex: 0.178051\n",
      "[200]\tvalid_0's binary_logloss: 0.540952\tvalid_0's amex: 0.178995\n",
      "[LightGBM] [Warning] early_stopping_round is set=100, early_stopping_rounds=100 will be ignored. Current value: early_stopping_round=100\n",
      "[100]\tvalid_0's binary_logloss: 0.543023\tvalid_0's amex: 0.172442\n",
      "[200]\tvalid_0's binary_logloss: 0.542934\tvalid_0's amex: 0.173159\n",
      "[LightGBM] [Warning] early_stopping_round is set=100, early_stopping_rounds=100 will be ignored. Current value: early_stopping_round=100\n",
      "[100]\tvalid_0's binary_logloss: 0.542998\tvalid_0's amex: 0.171994\n",
      "[LightGBM] [Warning] early_stopping_round is set=100, early_stopping_rounds=100 will be ignored. Current value: early_stopping_round=100\n",
      "[100]\tvalid_0's binary_logloss: 0.542972\tvalid_0's amex: 0.172251\n",
      "[LightGBM] [Warning] early_stopping_round is set=100, early_stopping_rounds=100 will be ignored. Current value: early_stopping_round=100\n",
      "[100]\tvalid_0's binary_logloss: 0.543017\tvalid_0's amex: 0.172051\n",
      "[LightGBM] [Warning] early_stopping_round is set=100, early_stopping_rounds=100 will be ignored. Current value: early_stopping_round=100\n",
      "[100]\tvalid_0's binary_logloss: 0.541148\tvalid_0's amex: 0.177492\n",
      "[LightGBM] [Warning] early_stopping_round is set=100, early_stopping_rounds=100 will be ignored. Current value: early_stopping_round=100\n",
      "[100]\tvalid_0's binary_logloss: 0.5411\tvalid_0's amex: 0.17814\n",
      "[200]\tvalid_0's binary_logloss: 0.540992\tvalid_0's amex: 0.179697\n",
      "[LightGBM] [Warning] early_stopping_round is set=100, early_stopping_rounds=100 will be ignored. Current value: early_stopping_round=100\n",
      "[100]\tvalid_0's binary_logloss: 0.5411\tvalid_0's amex: 0.17814\n",
      "[200]\tvalid_0's binary_logloss: 0.540992\tvalid_0's amex: 0.179697\n"
     ]
    },
    {
     "data": {
      "text/html": [
       "<h3>['D_49'] OVERALL SCORE : 17.422</h3>"
      ],
      "text/plain": [
       "<IPython.core.display.HTML object>"
      ]
     },
     "metadata": {},
     "output_type": "display_data"
    },
    {
     "data": {
      "text/html": [
       "<h3>['D_49_global_mean'] OVERALL SCORE : 16.786</h3>"
      ],
      "text/plain": [
       "<IPython.core.display.HTML object>"
      ]
     },
     "metadata": {},
     "output_type": "display_data"
    },
    {
     "data": {
      "text/html": [
       "<h3>['D_49_global_min'] OVERALL SCORE : 16.822</h3>"
      ],
      "text/plain": [
       "<IPython.core.display.HTML object>"
      ]
     },
     "metadata": {},
     "output_type": "display_data"
    },
    {
     "data": {
      "text/html": [
       "<h3>['D_49_global_max'] OVERALL SCORE : 16.819</h3>"
      ],
      "text/plain": [
       "<IPython.core.display.HTML object>"
      ]
     },
     "metadata": {},
     "output_type": "display_data"
    },
    {
     "data": {
      "text/html": [
       "<h3>['D_49_global_median'] OVERALL SCORE : 16.814</h3>"
      ],
      "text/plain": [
       "<IPython.core.display.HTML object>"
      ]
     },
     "metadata": {},
     "output_type": "display_data"
    },
    {
     "data": {
      "text/html": [
       "<h3>['D_49_local_mean'] OVERALL SCORE : 17.299</h3>"
      ],
      "text/plain": [
       "<IPython.core.display.HTML object>"
      ]
     },
     "metadata": {},
     "output_type": "display_data"
    },
    {
     "data": {
      "text/html": [
       "<h3>['D_49_local_linear_interpolate'] OVERALL SCORE : 17.423</h3>"
      ],
      "text/plain": [
       "<IPython.core.display.HTML object>"
      ]
     },
     "metadata": {},
     "output_type": "display_data"
    },
    {
     "data": {
      "text/html": [
       "<h3>['D_49_local_nearest_interpolate'] OVERALL SCORE : 17.423</h3>"
      ],
      "text/plain": [
       "<IPython.core.display.HTML object>"
      ]
     },
     "metadata": {},
     "output_type": "display_data"
    },
    {
     "name": "stdout",
     "output_type": "stream",
     "text": [
      "-------------------------------------\n"
     ]
    },
    {
     "data": {
      "text/html": [
       "<h2>D_132</h2>"
      ],
      "text/plain": [
       "<IPython.core.display.HTML object>"
      ]
     },
     "metadata": {},
     "output_type": "display_data"
    },
    {
     "name": "stdout",
     "output_type": "stream",
     "text": [
      "--- D_132   :  has 4988874 nan ---\n",
      "------ FOLD: 1 of 5 -------\n",
      "[LightGBM] [Warning] early_stopping_round is set=100, early_stopping_rounds=100 will be ignored. Current value: early_stopping_round=100\n",
      "[100]\tvalid_0's binary_logloss: 0.540815\tvalid_0's amex: 0.177442\n",
      "[200]\tvalid_0's binary_logloss: 0.540737\tvalid_0's amex: 0.178613\n",
      "[LightGBM] [Warning] early_stopping_round is set=100, early_stopping_rounds=100 will be ignored. Current value: early_stopping_round=100\n",
      "[100]\tvalid_0's binary_logloss: 0.543081\tvalid_0's amex: 0.173262\n",
      "[200]\tvalid_0's binary_logloss: 0.543021\tvalid_0's amex: 0.172733\n",
      "[LightGBM] [Warning] early_stopping_round is set=100, early_stopping_rounds=100 will be ignored. Current value: early_stopping_round=100\n",
      "[100]\tvalid_0's binary_logloss: 0.543023\tvalid_0's amex: 0.173766\n",
      "[200]\tvalid_0's binary_logloss: 0.542956\tvalid_0's amex: 0.174563\n",
      "[LightGBM] [Warning] early_stopping_round is set=100, early_stopping_rounds=100 will be ignored. Current value: early_stopping_round=100\n",
      "[100]\tvalid_0's binary_logloss: 0.543027\tvalid_0's amex: 0.173016\n",
      "[200]\tvalid_0's binary_logloss: 0.542965\tvalid_0's amex: 0.173069\n",
      "[LightGBM] [Warning] early_stopping_round is set=100, early_stopping_rounds=100 will be ignored. Current value: early_stopping_round=100\n",
      "[100]\tvalid_0's binary_logloss: 0.543071\tvalid_0's amex: 0.172428\n",
      "[LightGBM] [Warning] early_stopping_round is set=100, early_stopping_rounds=100 will be ignored. Current value: early_stopping_round=100\n",
      "[100]\tvalid_0's binary_logloss: 0.540982\tvalid_0's amex: 0.177741\n",
      "[200]\tvalid_0's binary_logloss: 0.5409\tvalid_0's amex: 0.178631\n",
      "[LightGBM] [Warning] early_stopping_round is set=100, early_stopping_rounds=100 will be ignored. Current value: early_stopping_round=100\n",
      "[100]\tvalid_0's binary_logloss: 0.540933\tvalid_0's amex: 0.178506\n",
      "[200]\tvalid_0's binary_logloss: 0.54084\tvalid_0's amex: 0.177701\n",
      "[LightGBM] [Warning] early_stopping_round is set=100, early_stopping_rounds=100 will be ignored. Current value: early_stopping_round=100\n",
      "[100]\tvalid_0's binary_logloss: 0.540933\tvalid_0's amex: 0.178506\n",
      "[200]\tvalid_0's binary_logloss: 0.54084\tvalid_0's amex: 0.177701\n",
      "------ FOLD: 2 of 5 -------\n",
      "[LightGBM] [Warning] early_stopping_round is set=100, early_stopping_rounds=100 will be ignored. Current value: early_stopping_round=100\n",
      "[100]\tvalid_0's binary_logloss: 0.541152\tvalid_0's amex: 0.178035\n",
      "[200]\tvalid_0's binary_logloss: 0.541092\tvalid_0's amex: 0.177472\n",
      "[LightGBM] [Warning] early_stopping_round is set=100, early_stopping_rounds=100 will be ignored. Current value: early_stopping_round=100\n",
      "[100]\tvalid_0's binary_logloss: 0.543489\tvalid_0's amex: 0.171627\n",
      "[LightGBM] [Warning] early_stopping_round is set=100, early_stopping_rounds=100 will be ignored. Current value: early_stopping_round=100\n",
      "[100]\tvalid_0's binary_logloss: 0.543438\tvalid_0's amex: 0.172787\n",
      "[200]\tvalid_0's binary_logloss: 0.543387\tvalid_0's amex: 0.172295\n",
      "[LightGBM] [Warning] early_stopping_round is set=100, early_stopping_rounds=100 will be ignored. Current value: early_stopping_round=100\n",
      "[100]\tvalid_0's binary_logloss: 0.543474\tvalid_0's amex: 0.172195\n",
      "[200]\tvalid_0's binary_logloss: 0.543433\tvalid_0's amex: 0.172992\n",
      "[LightGBM] [Warning] early_stopping_round is set=100, early_stopping_rounds=100 will be ignored. Current value: early_stopping_round=100\n",
      "[100]\tvalid_0's binary_logloss: 0.543474\tvalid_0's amex: 0.172345\n",
      "[LightGBM] [Warning] early_stopping_round is set=100, early_stopping_rounds=100 will be ignored. Current value: early_stopping_round=100\n",
      "[100]\tvalid_0's binary_logloss: 0.541303\tvalid_0's amex: 0.177618\n",
      "[LightGBM] [Warning] early_stopping_round is set=100, early_stopping_rounds=100 will be ignored. Current value: early_stopping_round=100\n",
      "[100]\tvalid_0's binary_logloss: 0.541202\tvalid_0's amex: 0.178269\n",
      "[LightGBM] [Warning] early_stopping_round is set=100, early_stopping_rounds=100 will be ignored. Current value: early_stopping_round=100\n",
      "[100]\tvalid_0's binary_logloss: 0.541202\tvalid_0's amex: 0.178269\n",
      "------ FOLD: 3 of 5 -------\n",
      "[LightGBM] [Warning] early_stopping_round is set=100, early_stopping_rounds=100 will be ignored. Current value: early_stopping_round=100\n",
      "[100]\tvalid_0's binary_logloss: 0.541557\tvalid_0's amex: 0.175236\n",
      "[LightGBM] [Warning] early_stopping_round is set=100, early_stopping_rounds=100 will be ignored. Current value: early_stopping_round=100\n",
      "[100]\tvalid_0's binary_logloss: 0.54338\tvalid_0's amex: 0.17064\n",
      "[LightGBM] [Warning] early_stopping_round is set=100, early_stopping_rounds=100 will be ignored. Current value: early_stopping_round=100\n",
      "[100]\tvalid_0's binary_logloss: 0.543342\tvalid_0's amex: 0.170416\n",
      "[LightGBM] [Warning] early_stopping_round is set=100, early_stopping_rounds=100 will be ignored. Current value: early_stopping_round=100\n",
      "[100]\tvalid_0's binary_logloss: 0.543339\tvalid_0's amex: 0.17026\n",
      "[LightGBM] [Warning] early_stopping_round is set=100, early_stopping_rounds=100 will be ignored. Current value: early_stopping_round=100\n",
      "[100]\tvalid_0's binary_logloss: 0.543372\tvalid_0's amex: 0.171329\n",
      "[LightGBM] [Warning] early_stopping_round is set=100, early_stopping_rounds=100 will be ignored. Current value: early_stopping_round=100\n",
      "[100]\tvalid_0's binary_logloss: 0.541723\tvalid_0's amex: 0.17334\n",
      "[LightGBM] [Warning] early_stopping_round is set=100, early_stopping_rounds=100 will be ignored. Current value: early_stopping_round=100\n",
      "[100]\tvalid_0's binary_logloss: 0.541575\tvalid_0's amex: 0.175883\n",
      "[LightGBM] [Warning] early_stopping_round is set=100, early_stopping_rounds=100 will be ignored. Current value: early_stopping_round=100\n",
      "[100]\tvalid_0's binary_logloss: 0.541575\tvalid_0's amex: 0.175883\n",
      "------ FOLD: 4 of 5 -------\n",
      "[LightGBM] [Warning] early_stopping_round is set=100, early_stopping_rounds=100 will be ignored. Current value: early_stopping_round=100\n",
      "[100]\tvalid_0's binary_logloss: 0.540545\tvalid_0's amex: 0.179085\n",
      "[LightGBM] [Warning] early_stopping_round is set=100, early_stopping_rounds=100 will be ignored. Current value: early_stopping_round=100\n",
      "[100]\tvalid_0's binary_logloss: 0.542278\tvalid_0's amex: 0.17601\n",
      "[LightGBM] [Warning] early_stopping_round is set=100, early_stopping_rounds=100 will be ignored. Current value: early_stopping_round=100\n",
      "[100]\tvalid_0's binary_logloss: 0.54228\tvalid_0's amex: 0.175943\n",
      "[LightGBM] [Warning] early_stopping_round is set=100, early_stopping_rounds=100 will be ignored. Current value: early_stopping_round=100\n",
      "[100]\tvalid_0's binary_logloss: 0.54224\tvalid_0's amex: 0.176411\n",
      "[LightGBM] [Warning] early_stopping_round is set=100, early_stopping_rounds=100 will be ignored. Current value: early_stopping_round=100\n",
      "[100]\tvalid_0's binary_logloss: 0.54226\tvalid_0's amex: 0.176828\n",
      "[LightGBM] [Warning] early_stopping_round is set=100, early_stopping_rounds=100 will be ignored. Current value: early_stopping_round=100\n",
      "[100]\tvalid_0's binary_logloss: 0.540618\tvalid_0's amex: 0.179189\n",
      "[LightGBM] [Warning] early_stopping_round is set=100, early_stopping_rounds=100 will be ignored. Current value: early_stopping_round=100\n",
      "[100]\tvalid_0's binary_logloss: 0.540596\tvalid_0's amex: 0.178894\n",
      "[LightGBM] [Warning] early_stopping_round is set=100, early_stopping_rounds=100 will be ignored. Current value: early_stopping_round=100\n",
      "[100]\tvalid_0's binary_logloss: 0.540596\tvalid_0's amex: 0.178894\n",
      "------ FOLD: 5 of 5 -------\n",
      "[LightGBM] [Warning] early_stopping_round is set=100, early_stopping_rounds=100 will be ignored. Current value: early_stopping_round=100\n",
      "[100]\tvalid_0's binary_logloss: 0.540761\tvalid_0's amex: 0.17633\n",
      "[LightGBM] [Warning] early_stopping_round is set=100, early_stopping_rounds=100 will be ignored. Current value: early_stopping_round=100\n",
      "[100]\tvalid_0's binary_logloss: 0.54321\tvalid_0's amex: 0.173307\n",
      "[LightGBM] [Warning] early_stopping_round is set=100, early_stopping_rounds=100 will be ignored. Current value: early_stopping_round=100\n",
      "[100]\tvalid_0's binary_logloss: 0.543214\tvalid_0's amex: 0.172977\n",
      "[LightGBM] [Warning] early_stopping_round is set=100, early_stopping_rounds=100 will be ignored. Current value: early_stopping_round=100\n",
      "[100]\tvalid_0's binary_logloss: 0.543175\tvalid_0's amex: 0.173975\n",
      "[LightGBM] [Warning] early_stopping_round is set=100, early_stopping_rounds=100 will be ignored. Current value: early_stopping_round=100\n",
      "[100]\tvalid_0's binary_logloss: 0.543243\tvalid_0's amex: 0.173616\n",
      "[LightGBM] [Warning] early_stopping_round is set=100, early_stopping_rounds=100 will be ignored. Current value: early_stopping_round=100\n",
      "[100]\tvalid_0's binary_logloss: 0.540853\tvalid_0's amex: 0.178536\n",
      "[LightGBM] [Warning] early_stopping_round is set=100, early_stopping_rounds=100 will be ignored. Current value: early_stopping_round=100\n",
      "[100]\tvalid_0's binary_logloss: 0.540829\tvalid_0's amex: 0.178176\n",
      "[LightGBM] [Warning] early_stopping_round is set=100, early_stopping_rounds=100 will be ignored. Current value: early_stopping_round=100\n",
      "[100]\tvalid_0's binary_logloss: 0.540829\tvalid_0's amex: 0.178176\n"
     ]
    },
    {
     "data": {
      "text/html": [
       "<h3>['D_132'] OVERALL SCORE : 17.919</h3>"
      ],
      "text/plain": [
       "<IPython.core.display.HTML object>"
      ]
     },
     "metadata": {},
     "output_type": "display_data"
    },
    {
     "data": {
      "text/html": [
       "<h3>['D_132_global_mean'] OVERALL SCORE : 17.451</h3>"
      ],
      "text/plain": [
       "<IPython.core.display.HTML object>"
      ]
     },
     "metadata": {},
     "output_type": "display_data"
    },
    {
     "data": {
      "text/html": [
       "<h3>['D_132_global_min'] OVERALL SCORE : 17.411</h3>"
      ],
      "text/plain": [
       "<IPython.core.display.HTML object>"
      ]
     },
     "metadata": {},
     "output_type": "display_data"
    },
    {
     "data": {
      "text/html": [
       "<h3>['D_132_global_max'] OVERALL SCORE : 17.439</h3>"
      ],
      "text/plain": [
       "<IPython.core.display.HTML object>"
      ]
     },
     "metadata": {},
     "output_type": "display_data"
    },
    {
     "data": {
      "text/html": [
       "<h3>['D_132_global_median'] OVERALL SCORE : 17.426</h3>"
      ],
      "text/plain": [
       "<IPython.core.display.HTML object>"
      ]
     },
     "metadata": {},
     "output_type": "display_data"
    },
    {
     "data": {
      "text/html": [
       "<h3>['D_132_local_mean'] OVERALL SCORE : 17.883</h3>"
      ],
      "text/plain": [
       "<IPython.core.display.HTML object>"
      ]
     },
     "metadata": {},
     "output_type": "display_data"
    },
    {
     "data": {
      "text/html": [
       "<h3>['D_132_local_linear_interpolate'] OVERALL SCORE : 17.905</h3>"
      ],
      "text/plain": [
       "<IPython.core.display.HTML object>"
      ]
     },
     "metadata": {},
     "output_type": "display_data"
    },
    {
     "data": {
      "text/html": [
       "<h3>['D_132_local_nearest_interpolate'] OVERALL SCORE : 17.905</h3>"
      ],
      "text/plain": [
       "<IPython.core.display.HTML object>"
      ]
     },
     "metadata": {},
     "output_type": "display_data"
    },
    {
     "name": "stdout",
     "output_type": "stream",
     "text": [
      "-------------------------------------\n"
     ]
    },
    {
     "data": {
      "text/html": [
       "<h2>D_106</h2>"
      ],
      "text/plain": [
       "<IPython.core.display.HTML object>"
      ]
     },
     "metadata": {},
     "output_type": "display_data"
    },
    {
     "name": "stdout",
     "output_type": "stream",
     "text": [
      "--- D_106   :  has 4990102 nan ---\n",
      "------ FOLD: 1 of 5 -------\n",
      "[LightGBM] [Warning] early_stopping_round is set=100, early_stopping_rounds=100 will be ignored. Current value: early_stopping_round=100\n",
      "[100]\tvalid_0's binary_logloss: 0.541615\tvalid_0's amex: 0.175785\n",
      "[LightGBM] [Warning] early_stopping_round is set=100, early_stopping_rounds=100 will be ignored. Current value: early_stopping_round=100\n",
      "[100]\tvalid_0's binary_logloss: 0.543199\tvalid_0's amex: 0.172989\n",
      "[200]\tvalid_0's binary_logloss: 0.54311\tvalid_0's amex: 0.173225\n",
      "[LightGBM] [Warning] early_stopping_round is set=100, early_stopping_rounds=100 will be ignored. Current value: early_stopping_round=100\n",
      "[100]\tvalid_0's binary_logloss: 0.543202\tvalid_0's amex: 0.172593\n",
      "[200]\tvalid_0's binary_logloss: 0.543112\tvalid_0's amex: 0.172469\n",
      "[LightGBM] [Warning] early_stopping_round is set=100, early_stopping_rounds=100 will be ignored. Current value: early_stopping_round=100\n",
      "[100]\tvalid_0's binary_logloss: 0.543145\tvalid_0's amex: 0.172046\n",
      "[200]\tvalid_0's binary_logloss: 0.543055\tvalid_0's amex: 0.172522\n",
      "[LightGBM] [Warning] early_stopping_round is set=100, early_stopping_rounds=100 will be ignored. Current value: early_stopping_round=100\n",
      "[100]\tvalid_0's binary_logloss: 0.543211\tvalid_0's amex: 0.172182\n",
      "[LightGBM] [Warning] early_stopping_round is set=100, early_stopping_rounds=100 will be ignored. Current value: early_stopping_round=100\n",
      "[100]\tvalid_0's binary_logloss: 0.54178\tvalid_0's amex: 0.178018\n",
      "[200]\tvalid_0's binary_logloss: 0.541629\tvalid_0's amex: 0.178668\n",
      "[300]\tvalid_0's binary_logloss: 0.541591\tvalid_0's amex: 0.17871\n",
      "[LightGBM] [Warning] early_stopping_round is set=100, early_stopping_rounds=100 will be ignored. Current value: early_stopping_round=100\n",
      "[100]\tvalid_0's binary_logloss: 0.541766\tvalid_0's amex: 0.17527\n",
      "[LightGBM] [Warning] early_stopping_round is set=100, early_stopping_rounds=100 will be ignored. Current value: early_stopping_round=100\n",
      "[100]\tvalid_0's binary_logloss: 0.541766\tvalid_0's amex: 0.17527\n",
      "------ FOLD: 2 of 5 -------\n",
      "[LightGBM] [Warning] early_stopping_round is set=100, early_stopping_rounds=100 will be ignored. Current value: early_stopping_round=100\n",
      "[100]\tvalid_0's binary_logloss: 0.541737\tvalid_0's amex: 0.170887\n",
      "[LightGBM] [Warning] early_stopping_round is set=100, early_stopping_rounds=100 will be ignored. Current value: early_stopping_round=100\n",
      "[100]\tvalid_0's binary_logloss: 0.543342\tvalid_0's amex: 0.167468\n",
      "[200]\tvalid_0's binary_logloss: 0.543239\tvalid_0's amex: 0.167533\n",
      "[300]\tvalid_0's binary_logloss: 0.543247\tvalid_0's amex: 0.167516\n",
      "[LightGBM] [Warning] early_stopping_round is set=100, early_stopping_rounds=100 will be ignored. Current value: early_stopping_round=100\n",
      "[100]\tvalid_0's binary_logloss: 0.543293\tvalid_0's amex: 0.166966\n",
      "[LightGBM] [Warning] early_stopping_round is set=100, early_stopping_rounds=100 will be ignored. Current value: early_stopping_round=100\n",
      "[100]\tvalid_0's binary_logloss: 0.543284\tvalid_0's amex: 0.167803\n",
      "[LightGBM] [Warning] early_stopping_round is set=100, early_stopping_rounds=100 will be ignored. Current value: early_stopping_round=100\n",
      "[100]\tvalid_0's binary_logloss: 0.543331\tvalid_0's amex: 0.167078\n",
      "[LightGBM] [Warning] early_stopping_round is set=100, early_stopping_rounds=100 will be ignored. Current value: early_stopping_round=100\n",
      "[100]\tvalid_0's binary_logloss: 0.541848\tvalid_0's amex: 0.169561\n",
      "[200]\tvalid_0's binary_logloss: 0.541728\tvalid_0's amex: 0.17099\n",
      "[LightGBM] [Warning] early_stopping_round is set=100, early_stopping_rounds=100 will be ignored. Current value: early_stopping_round=100\n",
      "[100]\tvalid_0's binary_logloss: 0.541826\tvalid_0's amex: 0.171477\n",
      "[200]\tvalid_0's binary_logloss: 0.541728\tvalid_0's amex: 0.171338\n",
      "[LightGBM] [Warning] early_stopping_round is set=100, early_stopping_rounds=100 will be ignored. Current value: early_stopping_round=100\n",
      "[100]\tvalid_0's binary_logloss: 0.541826\tvalid_0's amex: 0.171477\n",
      "[200]\tvalid_0's binary_logloss: 0.541728\tvalid_0's amex: 0.171338\n",
      "------ FOLD: 3 of 5 -------\n",
      "[LightGBM] [Warning] early_stopping_round is set=100, early_stopping_rounds=100 will be ignored. Current value: early_stopping_round=100\n",
      "[100]\tvalid_0's binary_logloss: 0.542015\tvalid_0's amex: 0.170663\n",
      "[LightGBM] [Warning] early_stopping_round is set=100, early_stopping_rounds=100 will be ignored. Current value: early_stopping_round=100\n",
      "[100]\tvalid_0's binary_logloss: 0.544069\tvalid_0's amex: 0.165463\n",
      "[LightGBM] [Warning] early_stopping_round is set=100, early_stopping_rounds=100 will be ignored. Current value: early_stopping_round=100\n",
      "[100]\tvalid_0's binary_logloss: 0.544019\tvalid_0's amex: 0.165386\n",
      "[LightGBM] [Warning] early_stopping_round is set=100, early_stopping_rounds=100 will be ignored. Current value: early_stopping_round=100\n",
      "[100]\tvalid_0's binary_logloss: 0.544019\tvalid_0's amex: 0.165264\n",
      "[LightGBM] [Warning] early_stopping_round is set=100, early_stopping_rounds=100 will be ignored. Current value: early_stopping_round=100\n",
      "[100]\tvalid_0's binary_logloss: 0.544029\tvalid_0's amex: 0.165377\n",
      "[LightGBM] [Warning] early_stopping_round is set=100, early_stopping_rounds=100 will be ignored. Current value: early_stopping_round=100\n",
      "[100]\tvalid_0's binary_logloss: 0.542009\tvalid_0's amex: 0.17192\n",
      "[LightGBM] [Warning] early_stopping_round is set=100, early_stopping_rounds=100 will be ignored. Current value: early_stopping_round=100\n",
      "[100]\tvalid_0's binary_logloss: 0.542033\tvalid_0's amex: 0.171698\n",
      "[LightGBM] [Warning] early_stopping_round is set=100, early_stopping_rounds=100 will be ignored. Current value: early_stopping_round=100\n",
      "[100]\tvalid_0's binary_logloss: 0.542033\tvalid_0's amex: 0.171698\n",
      "------ FOLD: 4 of 5 -------\n",
      "[LightGBM] [Warning] early_stopping_round is set=100, early_stopping_rounds=100 will be ignored. Current value: early_stopping_round=100\n",
      "[100]\tvalid_0's binary_logloss: 0.541554\tvalid_0's amex: 0.17248\n",
      "[LightGBM] [Warning] early_stopping_round is set=100, early_stopping_rounds=100 will be ignored. Current value: early_stopping_round=100\n",
      "[100]\tvalid_0's binary_logloss: 0.544105\tvalid_0's amex: 0.16703\n",
      "[LightGBM] [Warning] early_stopping_round is set=100, early_stopping_rounds=100 will be ignored. Current value: early_stopping_round=100\n",
      "[100]\tvalid_0's binary_logloss: 0.544094\tvalid_0's amex: 0.16641\n",
      "[200]\tvalid_0's binary_logloss: 0.54404\tvalid_0's amex: 0.166451\n",
      "[LightGBM] [Warning] early_stopping_round is set=100, early_stopping_rounds=100 will be ignored. Current value: early_stopping_round=100\n",
      "[100]\tvalid_0's binary_logloss: 0.544093\tvalid_0's amex: 0.165423\n",
      "[200]\tvalid_0's binary_logloss: 0.54406\tvalid_0's amex: 0.164978\n",
      "[LightGBM] [Warning] early_stopping_round is set=100, early_stopping_rounds=100 will be ignored. Current value: early_stopping_round=100\n",
      "[100]\tvalid_0's binary_logloss: 0.544169\tvalid_0's amex: 0.165594\n",
      "[LightGBM] [Warning] early_stopping_round is set=100, early_stopping_rounds=100 will be ignored. Current value: early_stopping_round=100\n",
      "[100]\tvalid_0's binary_logloss: 0.541617\tvalid_0's amex: 0.173185\n",
      "[200]\tvalid_0's binary_logloss: 0.541488\tvalid_0's amex: 0.173483\n",
      "[LightGBM] [Warning] early_stopping_round is set=100, early_stopping_rounds=100 will be ignored. Current value: early_stopping_round=100\n",
      "[100]\tvalid_0's binary_logloss: 0.541609\tvalid_0's amex: 0.173633\n",
      "[LightGBM] [Warning] early_stopping_round is set=100, early_stopping_rounds=100 will be ignored. Current value: early_stopping_round=100\n",
      "[100]\tvalid_0's binary_logloss: 0.541609\tvalid_0's amex: 0.173633\n",
      "------ FOLD: 5 of 5 -------\n",
      "[LightGBM] [Warning] early_stopping_round is set=100, early_stopping_rounds=100 will be ignored. Current value: early_stopping_round=100\n",
      "[100]\tvalid_0's binary_logloss: 0.542334\tvalid_0's amex: 0.171082\n",
      "[LightGBM] [Warning] early_stopping_round is set=100, early_stopping_rounds=100 will be ignored. Current value: early_stopping_round=100\n",
      "[100]\tvalid_0's binary_logloss: 0.543915\tvalid_0's amex: 0.167722\n",
      "[LightGBM] [Warning] early_stopping_round is set=100, early_stopping_rounds=100 will be ignored. Current value: early_stopping_round=100\n",
      "[100]\tvalid_0's binary_logloss: 0.543904\tvalid_0's amex: 0.166994\n",
      "[LightGBM] [Warning] early_stopping_round is set=100, early_stopping_rounds=100 will be ignored. Current value: early_stopping_round=100\n",
      "[100]\tvalid_0's binary_logloss: 0.543875\tvalid_0's amex: 0.166029\n",
      "[LightGBM] [Warning] early_stopping_round is set=100, early_stopping_rounds=100 will be ignored. Current value: early_stopping_round=100\n",
      "[100]\tvalid_0's binary_logloss: 0.543895\tvalid_0's amex: 0.167722\n",
      "[LightGBM] [Warning] early_stopping_round is set=100, early_stopping_rounds=100 will be ignored. Current value: early_stopping_round=100\n",
      "[100]\tvalid_0's binary_logloss: 0.542328\tvalid_0's amex: 0.174092\n",
      "[LightGBM] [Warning] early_stopping_round is set=100, early_stopping_rounds=100 will be ignored. Current value: early_stopping_round=100\n",
      "[100]\tvalid_0's binary_logloss: 0.542376\tvalid_0's amex: 0.171531\n",
      "[LightGBM] [Warning] early_stopping_round is set=100, early_stopping_rounds=100 will be ignored. Current value: early_stopping_round=100\n",
      "[100]\tvalid_0's binary_logloss: 0.542376\tvalid_0's amex: 0.171531\n"
     ]
    },
    {
     "data": {
      "text/html": [
       "<h3>['D_106'] OVERALL SCORE : 17.371</h3>"
      ],
      "text/plain": [
       "<IPython.core.display.HTML object>"
      ]
     },
     "metadata": {},
     "output_type": "display_data"
    },
    {
     "data": {
      "text/html": [
       "<h3>['D_106_global_mean'] OVERALL SCORE : 16.901</h3>"
      ],
      "text/plain": [
       "<IPython.core.display.HTML object>"
      ]
     },
     "metadata": {},
     "output_type": "display_data"
    },
    {
     "data": {
      "text/html": [
       "<h3>['D_106_global_min'] OVERALL SCORE : 16.891</h3>"
      ],
      "text/plain": [
       "<IPython.core.display.HTML object>"
      ]
     },
     "metadata": {},
     "output_type": "display_data"
    },
    {
     "data": {
      "text/html": [
       "<h3>['D_106_global_max'] OVERALL SCORE : 16.892</h3>"
      ],
      "text/plain": [
       "<IPython.core.display.HTML object>"
      ]
     },
     "metadata": {},
     "output_type": "display_data"
    },
    {
     "data": {
      "text/html": [
       "<h3>['D_106_global_median'] OVERALL SCORE : 16.889</h3>"
      ],
      "text/plain": [
       "<IPython.core.display.HTML object>"
      ]
     },
     "metadata": {},
     "output_type": "display_data"
    },
    {
     "data": {
      "text/html": [
       "<h3>['D_106_local_mean'] OVERALL SCORE : 17.488</h3>"
      ],
      "text/plain": [
       "<IPython.core.display.HTML object>"
      ]
     },
     "metadata": {},
     "output_type": "display_data"
    },
    {
     "data": {
      "text/html": [
       "<h3>['D_106_local_linear_interpolate'] OVERALL SCORE : 17.393</h3>"
      ],
      "text/plain": [
       "<IPython.core.display.HTML object>"
      ]
     },
     "metadata": {},
     "output_type": "display_data"
    },
    {
     "data": {
      "text/html": [
       "<h3>['D_106_local_nearest_interpolate'] OVERALL SCORE : 17.393</h3>"
      ],
      "text/plain": [
       "<IPython.core.display.HTML object>"
      ]
     },
     "metadata": {},
     "output_type": "display_data"
    },
    {
     "name": "stdout",
     "output_type": "stream",
     "text": [
      "-------------------------------------\n"
     ]
    },
    {
     "data": {
      "text/html": [
       "<h2>B_29</h2>"
      ],
      "text/plain": [
       "<IPython.core.display.HTML object>"
      ]
     },
     "metadata": {},
     "output_type": "display_data"
    },
    {
     "name": "stdout",
     "output_type": "stream",
     "text": [
      "--- B_29   :  has 5150035 nan ---\n",
      "------ FOLD: 1 of 5 -------\n",
      "[LightGBM] [Warning] early_stopping_round is set=100, early_stopping_rounds=100 will be ignored. Current value: early_stopping_round=100\n",
      "[100]\tvalid_0's binary_logloss: 0.571641\tvalid_0's amex: 0.0309189\n",
      "[LightGBM] [Warning] early_stopping_round is set=100, early_stopping_rounds=100 will be ignored. Current value: early_stopping_round=100\n",
      "[100]\tvalid_0's binary_logloss: 0.571971\tvalid_0's amex: 0.0201998\n",
      "[LightGBM] [Warning] early_stopping_round is set=100, early_stopping_rounds=100 will be ignored. Current value: early_stopping_round=100\n",
      "[100]\tvalid_0's binary_logloss: 0.5719\tvalid_0's amex: 0.0225045\n",
      "[LightGBM] [Warning] early_stopping_round is set=100, early_stopping_rounds=100 will be ignored. Current value: early_stopping_round=100\n",
      "[100]\tvalid_0's binary_logloss: 0.571899\tvalid_0's amex: 0.0223515\n",
      "[200]\tvalid_0's binary_logloss: 0.571858\tvalid_0's amex: 0.0225894\n",
      "[LightGBM] [Warning] early_stopping_round is set=100, early_stopping_rounds=100 will be ignored. Current value: early_stopping_round=100\n",
      "[100]\tvalid_0's binary_logloss: 0.571907\tvalid_0's amex: 0.0226112\n",
      "[LightGBM] [Warning] early_stopping_round is set=100, early_stopping_rounds=100 will be ignored. Current value: early_stopping_round=100\n",
      "[100]\tvalid_0's binary_logloss: 0.571301\tvalid_0's amex: 0.0307953\n",
      "[LightGBM] [Warning] early_stopping_round is set=100, early_stopping_rounds=100 will be ignored. Current value: early_stopping_round=100\n",
      "[100]\tvalid_0's binary_logloss: 0.571675\tvalid_0's amex: 0.0290602\n",
      "[LightGBM] [Warning] early_stopping_round is set=100, early_stopping_rounds=100 will be ignored. Current value: early_stopping_round=100\n",
      "[100]\tvalid_0's binary_logloss: 0.571675\tvalid_0's amex: 0.0290602\n",
      "------ FOLD: 2 of 5 -------\n",
      "[LightGBM] [Warning] early_stopping_round is set=100, early_stopping_rounds=100 will be ignored. Current value: early_stopping_round=100\n",
      "[100]\tvalid_0's binary_logloss: 0.571618\tvalid_0's amex: 0.0310593\n",
      "[LightGBM] [Warning] early_stopping_round is set=100, early_stopping_rounds=100 will be ignored. Current value: early_stopping_round=100\n",
      "[100]\tvalid_0's binary_logloss: 0.571928\tvalid_0's amex: 0.0241481\n",
      "[LightGBM] [Warning] early_stopping_round is set=100, early_stopping_rounds=100 will be ignored. Current value: early_stopping_round=100\n",
      "[100]\tvalid_0's binary_logloss: 0.571921\tvalid_0's amex: 0.0246587\n",
      "[LightGBM] [Warning] early_stopping_round is set=100, early_stopping_rounds=100 will be ignored. Current value: early_stopping_round=100\n",
      "[100]\tvalid_0's binary_logloss: 0.571899\tvalid_0's amex: 0.0241674\n",
      "[LightGBM] [Warning] early_stopping_round is set=100, early_stopping_rounds=100 will be ignored. Current value: early_stopping_round=100\n",
      "[100]\tvalid_0's binary_logloss: 0.571923\tvalid_0's amex: 0.0243833\n",
      "[LightGBM] [Warning] early_stopping_round is set=100, early_stopping_rounds=100 will be ignored. Current value: early_stopping_round=100\n",
      "[100]\tvalid_0's binary_logloss: 0.57142\tvalid_0's amex: 0.031867\n",
      "[LightGBM] [Warning] early_stopping_round is set=100, early_stopping_rounds=100 will be ignored. Current value: early_stopping_round=100\n",
      "[100]\tvalid_0's binary_logloss: 0.571613\tvalid_0's amex: 0.032015\n",
      "[LightGBM] [Warning] early_stopping_round is set=100, early_stopping_rounds=100 will be ignored. Current value: early_stopping_round=100\n",
      "[100]\tvalid_0's binary_logloss: 0.571613\tvalid_0's amex: 0.032015\n",
      "------ FOLD: 3 of 5 -------\n",
      "[LightGBM] [Warning] early_stopping_round is set=100, early_stopping_rounds=100 will be ignored. Current value: early_stopping_round=100\n",
      "[100]\tvalid_0's binary_logloss: 0.571577\tvalid_0's amex: 0.028979\n",
      "[LightGBM] [Warning] early_stopping_round is set=100, early_stopping_rounds=100 will be ignored. Current value: early_stopping_round=100\n",
      "[100]\tvalid_0's binary_logloss: 0.571938\tvalid_0's amex: 0.0181933\n",
      "[LightGBM] [Warning] early_stopping_round is set=100, early_stopping_rounds=100 will be ignored. Current value: early_stopping_round=100\n",
      "[100]\tvalid_0's binary_logloss: 0.571892\tvalid_0's amex: 0.0204821\n",
      "[LightGBM] [Warning] early_stopping_round is set=100, early_stopping_rounds=100 will be ignored. Current value: early_stopping_round=100\n",
      "[100]\tvalid_0's binary_logloss: 0.571876\tvalid_0's amex: 0.020041\n",
      "[200]\tvalid_0's binary_logloss: 0.571852\tvalid_0's amex: 0.0203689\n",
      "[LightGBM] [Warning] early_stopping_round is set=100, early_stopping_rounds=100 will be ignored. Current value: early_stopping_round=100\n",
      "[100]\tvalid_0's binary_logloss: 0.571895\tvalid_0's amex: 0.0210969\n",
      "[LightGBM] [Warning] early_stopping_round is set=100, early_stopping_rounds=100 will be ignored. Current value: early_stopping_round=100\n",
      "[100]\tvalid_0's binary_logloss: 0.571495\tvalid_0's amex: 0.0274297\n",
      "[LightGBM] [Warning] early_stopping_round is set=100, early_stopping_rounds=100 will be ignored. Current value: early_stopping_round=100\n",
      "[100]\tvalid_0's binary_logloss: 0.571611\tvalid_0's amex: 0.0279149\n",
      "[LightGBM] [Warning] early_stopping_round is set=100, early_stopping_rounds=100 will be ignored. Current value: early_stopping_round=100\n",
      "[100]\tvalid_0's binary_logloss: 0.571611\tvalid_0's amex: 0.0279149\n",
      "------ FOLD: 4 of 5 -------\n",
      "[LightGBM] [Warning] early_stopping_round is set=100, early_stopping_rounds=100 will be ignored. Current value: early_stopping_round=100\n",
      "[100]\tvalid_0's binary_logloss: 0.571598\tvalid_0's amex: 0.0313196\n",
      "[200]\tvalid_0's binary_logloss: 0.571556\tvalid_0's amex: 0.0313228\n",
      "[LightGBM] [Warning] early_stopping_round is set=100, early_stopping_rounds=100 will be ignored. Current value: early_stopping_round=100\n",
      "[100]\tvalid_0's binary_logloss: 0.571945\tvalid_0's amex: 0.022296\n",
      "[LightGBM] [Warning] early_stopping_round is set=100, early_stopping_rounds=100 will be ignored. Current value: early_stopping_round=100\n",
      "[100]\tvalid_0's binary_logloss: 0.571896\tvalid_0's amex: 0.0248041\n",
      "[LightGBM] [Warning] early_stopping_round is set=100, early_stopping_rounds=100 will be ignored. Current value: early_stopping_round=100\n",
      "[100]\tvalid_0's binary_logloss: 0.571879\tvalid_0's amex: 0.0240984\n",
      "[LightGBM] [Warning] early_stopping_round is set=100, early_stopping_rounds=100 will be ignored. Current value: early_stopping_round=100\n",
      "[100]\tvalid_0's binary_logloss: 0.571896\tvalid_0's amex: 0.0249551\n",
      "[200]\tvalid_0's binary_logloss: 0.571892\tvalid_0's amex: 0.0251038\n",
      "[LightGBM] [Warning] early_stopping_round is set=100, early_stopping_rounds=100 will be ignored. Current value: early_stopping_round=100\n",
      "[100]\tvalid_0's binary_logloss: 0.571423\tvalid_0's amex: 0.0290807\n",
      "[LightGBM] [Warning] early_stopping_round is set=100, early_stopping_rounds=100 will be ignored. Current value: early_stopping_round=100\n",
      "[100]\tvalid_0's binary_logloss: 0.571643\tvalid_0's amex: 0.0294533\n",
      "[LightGBM] [Warning] early_stopping_round is set=100, early_stopping_rounds=100 will be ignored. Current value: early_stopping_round=100\n",
      "[100]\tvalid_0's binary_logloss: 0.571643\tvalid_0's amex: 0.0294533\n",
      "------ FOLD: 5 of 5 -------\n",
      "[LightGBM] [Warning] early_stopping_round is set=100, early_stopping_rounds=100 will be ignored. Current value: early_stopping_round=100\n",
      "[100]\tvalid_0's binary_logloss: 0.571507\tvalid_0's amex: 0.0334076\n",
      "[LightGBM] [Warning] early_stopping_round is set=100, early_stopping_rounds=100 will be ignored. Current value: early_stopping_round=100\n",
      "[100]\tvalid_0's binary_logloss: 0.57192\tvalid_0's amex: 0.0266479\n",
      "[LightGBM] [Warning] early_stopping_round is set=100, early_stopping_rounds=100 will be ignored. Current value: early_stopping_round=100\n",
      "[100]\tvalid_0's binary_logloss: 0.571869\tvalid_0's amex: 0.0269197\n",
      "[LightGBM] [Warning] early_stopping_round is set=100, early_stopping_rounds=100 will be ignored. Current value: early_stopping_round=100\n",
      "[100]\tvalid_0's binary_logloss: 0.571855\tvalid_0's amex: 0.02666\n",
      "[LightGBM] [Warning] early_stopping_round is set=100, early_stopping_rounds=100 will be ignored. Current value: early_stopping_round=100\n",
      "[100]\tvalid_0's binary_logloss: 0.571872\tvalid_0's amex: 0.0279573\n",
      "[LightGBM] [Warning] early_stopping_round is set=100, early_stopping_rounds=100 will be ignored. Current value: early_stopping_round=100\n",
      "[100]\tvalid_0's binary_logloss: 0.571367\tvalid_0's amex: 0.0323291\n",
      "[LightGBM] [Warning] early_stopping_round is set=100, early_stopping_rounds=100 will be ignored. Current value: early_stopping_round=100\n",
      "[100]\tvalid_0's binary_logloss: 0.571541\tvalid_0's amex: 0.0320422\n",
      "[200]\tvalid_0's binary_logloss: 0.571535\tvalid_0's amex: 0.0320318\n",
      "[LightGBM] [Warning] early_stopping_round is set=100, early_stopping_rounds=100 will be ignored. Current value: early_stopping_round=100\n",
      "[100]\tvalid_0's binary_logloss: 0.571541\tvalid_0's amex: 0.0320422\n",
      "[200]\tvalid_0's binary_logloss: 0.571535\tvalid_0's amex: 0.0320318\n"
     ]
    },
    {
     "data": {
      "text/html": [
       "<h3>['B_29'] OVERALL SCORE : 3.177</h3>"
      ],
      "text/plain": [
       "<IPython.core.display.HTML object>"
      ]
     },
     "metadata": {},
     "output_type": "display_data"
    },
    {
     "data": {
      "text/html": [
       "<h3>['B_29_global_mean'] OVERALL SCORE : 2.246</h3>"
      ],
      "text/plain": [
       "<IPython.core.display.HTML object>"
      ]
     },
     "metadata": {},
     "output_type": "display_data"
    },
    {
     "data": {
      "text/html": [
       "<h3>['B_29_global_min'] OVERALL SCORE : 2.479</h3>"
      ],
      "text/plain": [
       "<IPython.core.display.HTML object>"
      ]
     },
     "metadata": {},
     "output_type": "display_data"
    },
    {
     "data": {
      "text/html": [
       "<h3>['B_29_global_max'] OVERALL SCORE : 2.447</h3>"
      ],
      "text/plain": [
       "<IPython.core.display.HTML object>"
      ]
     },
     "metadata": {},
     "output_type": "display_data"
    },
    {
     "data": {
      "text/html": [
       "<h3>['B_29_global_median'] OVERALL SCORE : 2.484</h3>"
      ],
      "text/plain": [
       "<IPython.core.display.HTML object>"
      ]
     },
     "metadata": {},
     "output_type": "display_data"
    },
    {
     "data": {
      "text/html": [
       "<h3>['B_29_local_mean'] OVERALL SCORE : 3.083</h3>"
      ],
      "text/plain": [
       "<IPython.core.display.HTML object>"
      ]
     },
     "metadata": {},
     "output_type": "display_data"
    },
    {
     "data": {
      "text/html": [
       "<h3>['B_29_local_linear_interpolate'] OVERALL SCORE : 3.017</h3>"
      ],
      "text/plain": [
       "<IPython.core.display.HTML object>"
      ]
     },
     "metadata": {},
     "output_type": "display_data"
    },
    {
     "data": {
      "text/html": [
       "<h3>['B_29_local_nearest_interpolate'] OVERALL SCORE : 3.017</h3>"
      ],
      "text/plain": [
       "<IPython.core.display.HTML object>"
      ]
     },
     "metadata": {},
     "output_type": "display_data"
    },
    {
     "name": "stdout",
     "output_type": "stream",
     "text": [
      "-------------------------------------\n"
     ]
    },
    {
     "data": {
      "text/html": [
       "<h2>R_9</h2>"
      ],
      "text/plain": [
       "<IPython.core.display.HTML object>"
      ]
     },
     "metadata": {},
     "output_type": "display_data"
    },
    {
     "name": "stdout",
     "output_type": "stream",
     "text": [
      "--- R_9   :  has 5218918 nan ---\n",
      "------ FOLD: 1 of 5 -------\n",
      "[LightGBM] [Warning] early_stopping_round is set=100, early_stopping_rounds=100 will be ignored. Current value: early_stopping_round=100\n",
      "[100]\tvalid_0's binary_logloss: 0.549015\tvalid_0's amex: 0.15464\n",
      "[LightGBM] [Warning] early_stopping_round is set=100, early_stopping_rounds=100 will be ignored. Current value: early_stopping_round=100\n",
      "[100]\tvalid_0's binary_logloss: 0.554735\tvalid_0's amex: 0.129378\n",
      "[LightGBM] [Warning] early_stopping_round is set=100, early_stopping_rounds=100 will be ignored. Current value: early_stopping_round=100\n",
      "[100]\tvalid_0's binary_logloss: 0.554754\tvalid_0's amex: 0.129188\n",
      "[200]\tvalid_0's binary_logloss: 0.554731\tvalid_0's amex: 0.129307\n",
      "[LightGBM] [Warning] early_stopping_round is set=100, early_stopping_rounds=100 will be ignored. Current value: early_stopping_round=100\n",
      "[100]\tvalid_0's binary_logloss: 0.554714\tvalid_0's amex: 0.129602\n",
      "[LightGBM] [Warning] early_stopping_round is set=100, early_stopping_rounds=100 will be ignored. Current value: early_stopping_round=100\n",
      "[100]\tvalid_0's binary_logloss: 0.55478\tvalid_0's amex: 0.129128\n",
      "[200]\tvalid_0's binary_logloss: 0.55476\tvalid_0's amex: 0.129326\n",
      "[LightGBM] [Warning] early_stopping_round is set=100, early_stopping_rounds=100 will be ignored. Current value: early_stopping_round=100\n",
      "[100]\tvalid_0's binary_logloss: 0.54895\tvalid_0's amex: 0.156057\n",
      "[LightGBM] [Warning] early_stopping_round is set=100, early_stopping_rounds=100 will be ignored. Current value: early_stopping_round=100\n",
      "[100]\tvalid_0's binary_logloss: 0.54904\tvalid_0's amex: 0.154372\n",
      "[LightGBM] [Warning] early_stopping_round is set=100, early_stopping_rounds=100 will be ignored. Current value: early_stopping_round=100\n",
      "[100]\tvalid_0's binary_logloss: 0.54904\tvalid_0's amex: 0.154372\n",
      "------ FOLD: 2 of 5 -------\n",
      "[LightGBM] [Warning] early_stopping_round is set=100, early_stopping_rounds=100 will be ignored. Current value: early_stopping_round=100\n",
      "[100]\tvalid_0's binary_logloss: 0.549189\tvalid_0's amex: 0.149628\n",
      "[LightGBM] [Warning] early_stopping_round is set=100, early_stopping_rounds=100 will be ignored. Current value: early_stopping_round=100\n",
      "[100]\tvalid_0's binary_logloss: 0.554675\tvalid_0's amex: 0.12596\n",
      "[200]\tvalid_0's binary_logloss: 0.554622\tvalid_0's amex: 0.125857\n",
      "[LightGBM] [Warning] early_stopping_round is set=100, early_stopping_rounds=100 will be ignored. Current value: early_stopping_round=100\n",
      "[100]\tvalid_0's binary_logloss: 0.554662\tvalid_0's amex: 0.125279\n",
      "[200]\tvalid_0's binary_logloss: 0.554615\tvalid_0's amex: 0.12533\n",
      "[LightGBM] [Warning] early_stopping_round is set=100, early_stopping_rounds=100 will be ignored. Current value: early_stopping_round=100\n",
      "[100]\tvalid_0's binary_logloss: 0.554644\tvalid_0's amex: 0.125718\n",
      "[200]\tvalid_0's binary_logloss: 0.554603\tvalid_0's amex: 0.125591\n",
      "[LightGBM] [Warning] early_stopping_round is set=100, early_stopping_rounds=100 will be ignored. Current value: early_stopping_round=100\n",
      "[100]\tvalid_0's binary_logloss: 0.554679\tvalid_0's amex: 0.125689\n",
      "[200]\tvalid_0's binary_logloss: 0.554629\tvalid_0's amex: 0.12565\n",
      "[LightGBM] [Warning] early_stopping_round is set=100, early_stopping_rounds=100 will be ignored. Current value: early_stopping_round=100\n",
      "[100]\tvalid_0's binary_logloss: 0.549249\tvalid_0's amex: 0.150275\n",
      "[LightGBM] [Warning] early_stopping_round is set=100, early_stopping_rounds=100 will be ignored. Current value: early_stopping_round=100\n",
      "[100]\tvalid_0's binary_logloss: 0.549215\tvalid_0's amex: 0.149538\n",
      "[LightGBM] [Warning] early_stopping_round is set=100, early_stopping_rounds=100 will be ignored. Current value: early_stopping_round=100\n",
      "[100]\tvalid_0's binary_logloss: 0.549215\tvalid_0's amex: 0.149538\n",
      "------ FOLD: 3 of 5 -------\n",
      "[LightGBM] [Warning] early_stopping_round is set=100, early_stopping_rounds=100 will be ignored. Current value: early_stopping_round=100\n",
      "[100]\tvalid_0's binary_logloss: 0.549283\tvalid_0's amex: 0.152822\n",
      "[200]\tvalid_0's binary_logloss: 0.54925\tvalid_0's amex: 0.152549\n",
      "[LightGBM] [Warning] early_stopping_round is set=100, early_stopping_rounds=100 will be ignored. Current value: early_stopping_round=100\n",
      "[100]\tvalid_0's binary_logloss: 0.555377\tvalid_0's amex: 0.125239\n",
      "[200]\tvalid_0's binary_logloss: 0.555387\tvalid_0's amex: 0.1254\n",
      "[LightGBM] [Warning] early_stopping_round is set=100, early_stopping_rounds=100 will be ignored. Current value: early_stopping_round=100\n",
      "[100]\tvalid_0's binary_logloss: 0.555379\tvalid_0's amex: 0.125395\n",
      "[200]\tvalid_0's binary_logloss: 0.555372\tvalid_0's amex: 0.125012\n",
      "[LightGBM] [Warning] early_stopping_round is set=100, early_stopping_rounds=100 will be ignored. Current value: early_stopping_round=100\n",
      "[100]\tvalid_0's binary_logloss: 0.55535\tvalid_0's amex: 0.125436\n",
      "[200]\tvalid_0's binary_logloss: 0.555357\tvalid_0's amex: 0.125273\n",
      "[LightGBM] [Warning] early_stopping_round is set=100, early_stopping_rounds=100 will be ignored. Current value: early_stopping_round=100\n",
      "[100]\tvalid_0's binary_logloss: 0.555378\tvalid_0's amex: 0.12546\n",
      "[200]\tvalid_0's binary_logloss: 0.555368\tvalid_0's amex: 0.125381\n",
      "[LightGBM] [Warning] early_stopping_round is set=100, early_stopping_rounds=100 will be ignored. Current value: early_stopping_round=100\n",
      "[100]\tvalid_0's binary_logloss: 0.549309\tvalid_0's amex: 0.149724\n",
      "[LightGBM] [Warning] early_stopping_round is set=100, early_stopping_rounds=100 will be ignored. Current value: early_stopping_round=100\n",
      "[100]\tvalid_0's binary_logloss: 0.549307\tvalid_0's amex: 0.153015\n",
      "[200]\tvalid_0's binary_logloss: 0.549278\tvalid_0's amex: 0.151953\n",
      "[LightGBM] [Warning] early_stopping_round is set=100, early_stopping_rounds=100 will be ignored. Current value: early_stopping_round=100\n",
      "[100]\tvalid_0's binary_logloss: 0.549307\tvalid_0's amex: 0.153015\n",
      "[200]\tvalid_0's binary_logloss: 0.549278\tvalid_0's amex: 0.151953\n",
      "------ FOLD: 4 of 5 -------\n",
      "[LightGBM] [Warning] early_stopping_round is set=100, early_stopping_rounds=100 will be ignored. Current value: early_stopping_round=100\n",
      "[100]\tvalid_0's binary_logloss: 0.549667\tvalid_0's amex: 0.149518\n",
      "[LightGBM] [Warning] early_stopping_round is set=100, early_stopping_rounds=100 will be ignored. Current value: early_stopping_round=100\n",
      "[100]\tvalid_0's binary_logloss: 0.554865\tvalid_0's amex: 0.126926\n",
      "[LightGBM] [Warning] early_stopping_round is set=100, early_stopping_rounds=100 will be ignored. Current value: early_stopping_round=100\n",
      "[100]\tvalid_0's binary_logloss: 0.554855\tvalid_0's amex: 0.126952\n",
      "[LightGBM] [Warning] early_stopping_round is set=100, early_stopping_rounds=100 will be ignored. Current value: early_stopping_round=100\n",
      "[100]\tvalid_0's binary_logloss: 0.554873\tvalid_0's amex: 0.127122\n",
      "[200]\tvalid_0's binary_logloss: 0.554839\tvalid_0's amex: 0.126812\n",
      "[LightGBM] [Warning] early_stopping_round is set=100, early_stopping_rounds=100 will be ignored. Current value: early_stopping_round=100\n",
      "[100]\tvalid_0's binary_logloss: 0.554869\tvalid_0's amex: 0.126678\n",
      "[LightGBM] [Warning] early_stopping_round is set=100, early_stopping_rounds=100 will be ignored. Current value: early_stopping_round=100\n",
      "[100]\tvalid_0's binary_logloss: 0.549618\tvalid_0's amex: 0.151663\n",
      "[200]\tvalid_0's binary_logloss: 0.549596\tvalid_0's amex: 0.151512\n",
      "[LightGBM] [Warning] early_stopping_round is set=100, early_stopping_rounds=100 will be ignored. Current value: early_stopping_round=100\n",
      "[100]\tvalid_0's binary_logloss: 0.549661\tvalid_0's amex: 0.15014\n",
      "[LightGBM] [Warning] early_stopping_round is set=100, early_stopping_rounds=100 will be ignored. Current value: early_stopping_round=100\n",
      "[100]\tvalid_0's binary_logloss: 0.549661\tvalid_0's amex: 0.15014\n",
      "------ FOLD: 5 of 5 -------\n",
      "[LightGBM] [Warning] early_stopping_round is set=100, early_stopping_rounds=100 will be ignored. Current value: early_stopping_round=100\n",
      "[100]\tvalid_0's binary_logloss: 0.548506\tvalid_0's amex: 0.154051\n",
      "[LightGBM] [Warning] early_stopping_round is set=100, early_stopping_rounds=100 will be ignored. Current value: early_stopping_round=100\n",
      "[100]\tvalid_0's binary_logloss: 0.554028\tvalid_0's amex: 0.12789\n",
      "[LightGBM] [Warning] early_stopping_round is set=100, early_stopping_rounds=100 will be ignored. Current value: early_stopping_round=100\n",
      "[100]\tvalid_0's binary_logloss: 0.554041\tvalid_0's amex: 0.127873\n",
      "[200]\tvalid_0's binary_logloss: 0.553969\tvalid_0's amex: 0.127598\n",
      "[LightGBM] [Warning] early_stopping_round is set=100, early_stopping_rounds=100 will be ignored. Current value: early_stopping_round=100\n",
      "[100]\tvalid_0's binary_logloss: 0.554029\tvalid_0's amex: 0.127827\n",
      "[LightGBM] [Warning] early_stopping_round is set=100, early_stopping_rounds=100 will be ignored. Current value: early_stopping_round=100\n",
      "[100]\tvalid_0's binary_logloss: 0.554056\tvalid_0's amex: 0.127912\n",
      "[200]\tvalid_0's binary_logloss: 0.553981\tvalid_0's amex: 0.127898\n",
      "[LightGBM] [Warning] early_stopping_round is set=100, early_stopping_rounds=100 will be ignored. Current value: early_stopping_round=100\n",
      "[100]\tvalid_0's binary_logloss: 0.54855\tvalid_0's amex: 0.154906\n",
      "[LightGBM] [Warning] early_stopping_round is set=100, early_stopping_rounds=100 will be ignored. Current value: early_stopping_round=100\n",
      "[100]\tvalid_0's binary_logloss: 0.548498\tvalid_0's amex: 0.154496\n",
      "[200]\tvalid_0's binary_logloss: 0.548423\tvalid_0's amex: 0.153571\n",
      "[LightGBM] [Warning] early_stopping_round is set=100, early_stopping_rounds=100 will be ignored. Current value: early_stopping_round=100\n",
      "[100]\tvalid_0's binary_logloss: 0.548498\tvalid_0's amex: 0.154496\n",
      "[200]\tvalid_0's binary_logloss: 0.548423\tvalid_0's amex: 0.153571\n"
     ]
    },
    {
     "data": {
      "text/html": [
       "<h3>['R_9'] OVERALL SCORE : 15.309</h3>"
      ],
      "text/plain": [
       "<IPython.core.display.HTML object>"
      ]
     },
     "metadata": {},
     "output_type": "display_data"
    },
    {
     "data": {
      "text/html": [
       "<h3>['R_9_global_mean'] OVERALL SCORE : 12.725</h3>"
      ],
      "text/plain": [
       "<IPython.core.display.HTML object>"
      ]
     },
     "metadata": {},
     "output_type": "display_data"
    },
    {
     "data": {
      "text/html": [
       "<h3>['R_9_global_min'] OVERALL SCORE : 12.728</h3>"
      ],
      "text/plain": [
       "<IPython.core.display.HTML object>"
      ]
     },
     "metadata": {},
     "output_type": "display_data"
    },
    {
     "data": {
      "text/html": [
       "<h3>['R_9_global_max'] OVERALL SCORE : 12.729</h3>"
      ],
      "text/plain": [
       "<IPython.core.display.HTML object>"
      ]
     },
     "metadata": {},
     "output_type": "display_data"
    },
    {
     "data": {
      "text/html": [
       "<h3>['R_9_global_median'] OVERALL SCORE : 12.692</h3>"
      ],
      "text/plain": [
       "<IPython.core.display.HTML object>"
      ]
     },
     "metadata": {},
     "output_type": "display_data"
    },
    {
     "data": {
      "text/html": [
       "<h3>['R_9_local_mean'] OVERALL SCORE : 15.383</h3>"
      ],
      "text/plain": [
       "<IPython.core.display.HTML object>"
      ]
     },
     "metadata": {},
     "output_type": "display_data"
    },
    {
     "data": {
      "text/html": [
       "<h3>['R_9_local_linear_interpolate'] OVERALL SCORE : 15.291</h3>"
      ],
      "text/plain": [
       "<IPython.core.display.HTML object>"
      ]
     },
     "metadata": {},
     "output_type": "display_data"
    },
    {
     "data": {
      "text/html": [
       "<h3>['R_9_local_nearest_interpolate'] OVERALL SCORE : 15.291</h3>"
      ],
      "text/plain": [
       "<IPython.core.display.HTML object>"
      ]
     },
     "metadata": {},
     "output_type": "display_data"
    },
    {
     "name": "stdout",
     "output_type": "stream",
     "text": [
      "-------------------------------------\n"
     ]
    },
    {
     "data": {
      "text/html": [
       "<h2>D_134</h2>"
      ],
      "text/plain": [
       "<IPython.core.display.HTML object>"
      ]
     },
     "metadata": {},
     "output_type": "display_data"
    },
    {
     "name": "stdout",
     "output_type": "stream",
     "text": [
      "--- D_134   :  has 5336752 nan ---\n",
      "------ FOLD: 1 of 5 -------\n",
      "[LightGBM] [Warning] early_stopping_round is set=100, early_stopping_rounds=100 will be ignored. Current value: early_stopping_round=100\n",
      "[100]\tvalid_0's binary_logloss: 0.551775\tvalid_0's amex: 0.145137\n",
      "[LightGBM] [Warning] early_stopping_round is set=100, early_stopping_rounds=100 will be ignored. Current value: early_stopping_round=100\n",
      "[100]\tvalid_0's binary_logloss: 0.562508\tvalid_0's amex: 0.082129\n",
      "[LightGBM] [Warning] early_stopping_round is set=100, early_stopping_rounds=100 will be ignored. Current value: early_stopping_round=100\n",
      "[100]\tvalid_0's binary_logloss: 0.56251\tvalid_0's amex: 0.0823631\n",
      "[200]\tvalid_0's binary_logloss: 0.562445\tvalid_0's amex: 0.0824542\n",
      "[300]\tvalid_0's binary_logloss: 0.562415\tvalid_0's amex: 0.0824572\n",
      "[400]\tvalid_0's binary_logloss: 0.562398\tvalid_0's amex: 0.082461\n",
      "[LightGBM] [Warning] early_stopping_round is set=100, early_stopping_rounds=100 will be ignored. Current value: early_stopping_round=100\n",
      "[100]\tvalid_0's binary_logloss: 0.562485\tvalid_0's amex: 0.081858\n",
      "[LightGBM] [Warning] early_stopping_round is set=100, early_stopping_rounds=100 will be ignored. Current value: early_stopping_round=100\n",
      "[100]\tvalid_0's binary_logloss: 0.562509\tvalid_0's amex: 0.0817999\n",
      "[LightGBM] [Warning] early_stopping_round is set=100, early_stopping_rounds=100 will be ignored. Current value: early_stopping_round=100\n",
      "[100]\tvalid_0's binary_logloss: 0.551847\tvalid_0's amex: 0.144521\n",
      "[200]\tvalid_0's binary_logloss: 0.551705\tvalid_0's amex: 0.14547\n",
      "[LightGBM] [Warning] early_stopping_round is set=100, early_stopping_rounds=100 will be ignored. Current value: early_stopping_round=100\n",
      "[100]\tvalid_0's binary_logloss: 0.551876\tvalid_0's amex: 0.145106\n",
      "[LightGBM] [Warning] early_stopping_round is set=100, early_stopping_rounds=100 will be ignored. Current value: early_stopping_round=100\n",
      "[100]\tvalid_0's binary_logloss: 0.551876\tvalid_0's amex: 0.145106\n",
      "------ FOLD: 2 of 5 -------\n",
      "[LightGBM] [Warning] early_stopping_round is set=100, early_stopping_rounds=100 will be ignored. Current value: early_stopping_round=100\n",
      "[100]\tvalid_0's binary_logloss: 0.551868\tvalid_0's amex: 0.14524\n",
      "[LightGBM] [Warning] early_stopping_round is set=100, early_stopping_rounds=100 will be ignored. Current value: early_stopping_round=100\n",
      "[100]\tvalid_0's binary_logloss: 0.561649\tvalid_0's amex: 0.0861184\n",
      "[200]\tvalid_0's binary_logloss: 0.561552\tvalid_0's amex: 0.0861271\n",
      "[300]\tvalid_0's binary_logloss: 0.561538\tvalid_0's amex: 0.0861283\n",
      "[400]\tvalid_0's binary_logloss: 0.561528\tvalid_0's amex: 0.0861302\n",
      "[500]\tvalid_0's binary_logloss: 0.561519\tvalid_0's amex: 0.0861335\n",
      "[600]\tvalid_0's binary_logloss: 0.561515\tvalid_0's amex: 0.0861336\n",
      "[LightGBM] [Warning] early_stopping_round is set=100, early_stopping_rounds=100 will be ignored. Current value: early_stopping_round=100\n",
      "[100]\tvalid_0's binary_logloss: 0.561653\tvalid_0's amex: 0.0860125\n",
      "[LightGBM] [Warning] early_stopping_round is set=100, early_stopping_rounds=100 will be ignored. Current value: early_stopping_round=100\n",
      "[100]\tvalid_0's binary_logloss: 0.561656\tvalid_0's amex: 0.0861052\n",
      "[200]\tvalid_0's binary_logloss: 0.561565\tvalid_0's amex: 0.086105\n",
      "[300]\tvalid_0's binary_logloss: 0.561552\tvalid_0's amex: 0.0861086\n",
      "[400]\tvalid_0's binary_logloss: 0.561547\tvalid_0's amex: 0.0861055\n",
      "[LightGBM] [Warning] early_stopping_round is set=100, early_stopping_rounds=100 will be ignored. Current value: early_stopping_round=100\n",
      "[100]\tvalid_0's binary_logloss: 0.561696\tvalid_0's amex: 0.0860869\n",
      "[200]\tvalid_0's binary_logloss: 0.561605\tvalid_0's amex: 0.0860965\n",
      "[300]\tvalid_0's binary_logloss: 0.561596\tvalid_0's amex: 0.0860999\n",
      "[LightGBM] [Warning] early_stopping_round is set=100, early_stopping_rounds=100 will be ignored. Current value: early_stopping_round=100\n",
      "[100]\tvalid_0's binary_logloss: 0.551941\tvalid_0's amex: 0.14578\n",
      "[200]\tvalid_0's binary_logloss: 0.551788\tvalid_0's amex: 0.145339\n",
      "[LightGBM] [Warning] early_stopping_round is set=100, early_stopping_rounds=100 will be ignored. Current value: early_stopping_round=100\n",
      "[100]\tvalid_0's binary_logloss: 0.551922\tvalid_0's amex: 0.145457\n",
      "[LightGBM] [Warning] early_stopping_round is set=100, early_stopping_rounds=100 will be ignored. Current value: early_stopping_round=100\n",
      "[100]\tvalid_0's binary_logloss: 0.551922\tvalid_0's amex: 0.145457\n",
      "------ FOLD: 3 of 5 -------\n",
      "[LightGBM] [Warning] early_stopping_round is set=100, early_stopping_rounds=100 will be ignored. Current value: early_stopping_round=100\n",
      "[100]\tvalid_0's binary_logloss: 0.55145\tvalid_0's amex: 0.147523\n",
      "[200]\tvalid_0's binary_logloss: 0.551271\tvalid_0's amex: 0.147603\n",
      "[LightGBM] [Warning] early_stopping_round is set=100, early_stopping_rounds=100 will be ignored. Current value: early_stopping_round=100\n",
      "[100]\tvalid_0's binary_logloss: 0.562377\tvalid_0's amex: 0.0821783\n",
      "[LightGBM] [Warning] early_stopping_round is set=100, early_stopping_rounds=100 will be ignored. Current value: early_stopping_round=100\n",
      "[100]\tvalid_0's binary_logloss: 0.562379\tvalid_0's amex: 0.0833882\n",
      "[200]\tvalid_0's binary_logloss: 0.562347\tvalid_0's amex: 0.0826784\n",
      "[LightGBM] [Warning] early_stopping_round is set=100, early_stopping_rounds=100 will be ignored. Current value: early_stopping_round=100\n",
      "[100]\tvalid_0's binary_logloss: 0.562393\tvalid_0's amex: 0.083002\n",
      "[LightGBM] [Warning] early_stopping_round is set=100, early_stopping_rounds=100 will be ignored. Current value: early_stopping_round=100\n",
      "[100]\tvalid_0's binary_logloss: 0.562437\tvalid_0's amex: 0.0825751\n",
      "[LightGBM] [Warning] early_stopping_round is set=100, early_stopping_rounds=100 will be ignored. Current value: early_stopping_round=100\n",
      "[100]\tvalid_0's binary_logloss: 0.551401\tvalid_0's amex: 0.147759\n",
      "[LightGBM] [Warning] early_stopping_round is set=100, early_stopping_rounds=100 will be ignored. Current value: early_stopping_round=100\n",
      "[100]\tvalid_0's binary_logloss: 0.551445\tvalid_0's amex: 0.147568\n",
      "[LightGBM] [Warning] early_stopping_round is set=100, early_stopping_rounds=100 will be ignored. Current value: early_stopping_round=100\n",
      "[100]\tvalid_0's binary_logloss: 0.551445\tvalid_0's amex: 0.147568\n",
      "------ FOLD: 4 of 5 -------\n",
      "[LightGBM] [Warning] early_stopping_round is set=100, early_stopping_rounds=100 will be ignored. Current value: early_stopping_round=100\n",
      "[100]\tvalid_0's binary_logloss: 0.550815\tvalid_0's amex: 0.148608\n",
      "[LightGBM] [Warning] early_stopping_round is set=100, early_stopping_rounds=100 will be ignored. Current value: early_stopping_round=100\n",
      "[100]\tvalid_0's binary_logloss: 0.561841\tvalid_0's amex: 0.0832553\n",
      "[200]\tvalid_0's binary_logloss: 0.56175\tvalid_0's amex: 0.0832739\n",
      "[LightGBM] [Warning] early_stopping_round is set=100, early_stopping_rounds=100 will be ignored. Current value: early_stopping_round=100\n",
      "[100]\tvalid_0's binary_logloss: 0.561774\tvalid_0's amex: 0.0833352\n",
      "[200]\tvalid_0's binary_logloss: 0.561739\tvalid_0's amex: 0.0831878\n",
      "[LightGBM] [Warning] early_stopping_round is set=100, early_stopping_rounds=100 will be ignored. Current value: early_stopping_round=100\n",
      "[100]\tvalid_0's binary_logloss: 0.561779\tvalid_0's amex: 0.0833318\n",
      "[200]\tvalid_0's binary_logloss: 0.561717\tvalid_0's amex: 0.0833808\n",
      "[LightGBM] [Warning] early_stopping_round is set=100, early_stopping_rounds=100 will be ignored. Current value: early_stopping_round=100\n",
      "[100]\tvalid_0's binary_logloss: 0.561772\tvalid_0's amex: 0.0832623\n",
      "[LightGBM] [Warning] early_stopping_round is set=100, early_stopping_rounds=100 will be ignored. Current value: early_stopping_round=100\n",
      "[100]\tvalid_0's binary_logloss: 0.550852\tvalid_0's amex: 0.148474\n",
      "[LightGBM] [Warning] early_stopping_round is set=100, early_stopping_rounds=100 will be ignored. Current value: early_stopping_round=100\n",
      "[100]\tvalid_0's binary_logloss: 0.550876\tvalid_0's amex: 0.148604\n",
      "[200]\tvalid_0's binary_logloss: 0.550602\tvalid_0's amex: 0.148907\n",
      "[LightGBM] [Warning] early_stopping_round is set=100, early_stopping_rounds=100 will be ignored. Current value: early_stopping_round=100\n",
      "[100]\tvalid_0's binary_logloss: 0.550876\tvalid_0's amex: 0.148604\n",
      "[200]\tvalid_0's binary_logloss: 0.550602\tvalid_0's amex: 0.148907\n",
      "------ FOLD: 5 of 5 -------\n",
      "[LightGBM] [Warning] early_stopping_round is set=100, early_stopping_rounds=100 will be ignored. Current value: early_stopping_round=100\n",
      "[100]\tvalid_0's binary_logloss: 0.55109\tvalid_0's amex: 0.15035\n",
      "[LightGBM] [Warning] early_stopping_round is set=100, early_stopping_rounds=100 will be ignored. Current value: early_stopping_round=100\n",
      "[100]\tvalid_0's binary_logloss: 0.562042\tvalid_0's amex: 0.086198\n",
      "[LightGBM] [Warning] early_stopping_round is set=100, early_stopping_rounds=100 will be ignored. Current value: early_stopping_round=100\n",
      "[100]\tvalid_0's binary_logloss: 0.562001\tvalid_0's amex: 0.0862171\n",
      "[200]\tvalid_0's binary_logloss: 0.561906\tvalid_0's amex: 0.0862245\n",
      "[300]\tvalid_0's binary_logloss: 0.561865\tvalid_0's amex: 0.0862812\n",
      "[400]\tvalid_0's binary_logloss: 0.561838\tvalid_0's amex: 0.0862884\n",
      "[500]\tvalid_0's binary_logloss: 0.561821\tvalid_0's amex: 0.0862932\n",
      "[600]\tvalid_0's binary_logloss: 0.561811\tvalid_0's amex: 0.086292\n",
      "[LightGBM] [Warning] early_stopping_round is set=100, early_stopping_rounds=100 will be ignored. Current value: early_stopping_round=100\n",
      "[100]\tvalid_0's binary_logloss: 0.562012\tvalid_0's amex: 0.0863432\n",
      "[LightGBM] [Warning] early_stopping_round is set=100, early_stopping_rounds=100 will be ignored. Current value: early_stopping_round=100\n",
      "[100]\tvalid_0's binary_logloss: 0.562022\tvalid_0's amex: 0.0859362\n",
      "[200]\tvalid_0's binary_logloss: 0.561944\tvalid_0's amex: 0.0859632\n",
      "[LightGBM] [Warning] early_stopping_round is set=100, early_stopping_rounds=100 will be ignored. Current value: early_stopping_round=100\n",
      "[100]\tvalid_0's binary_logloss: 0.551138\tvalid_0's amex: 0.15018\n",
      "[LightGBM] [Warning] early_stopping_round is set=100, early_stopping_rounds=100 will be ignored. Current value: early_stopping_round=100\n",
      "[100]\tvalid_0's binary_logloss: 0.551121\tvalid_0's amex: 0.150308\n",
      "[LightGBM] [Warning] early_stopping_round is set=100, early_stopping_rounds=100 will be ignored. Current value: early_stopping_round=100\n",
      "[100]\tvalid_0's binary_logloss: 0.551121\tvalid_0's amex: 0.150308\n"
     ]
    },
    {
     "data": {
      "text/html": [
       "<h3>['D_134'] OVERALL SCORE : 14.778</h3>"
      ],
      "text/plain": [
       "<IPython.core.display.HTML object>"
      ]
     },
     "metadata": {},
     "output_type": "display_data"
    },
    {
     "data": {
      "text/html": [
       "<h3>['D_134_global_mean'] OVERALL SCORE : 8.411</h3>"
      ],
      "text/plain": [
       "<IPython.core.display.HTML object>"
      ]
     },
     "metadata": {},
     "output_type": "display_data"
    },
    {
     "data": {
      "text/html": [
       "<h3>['D_134_global_min'] OVERALL SCORE : 8.432</h3>"
      ],
      "text/plain": [
       "<IPython.core.display.HTML object>"
      ]
     },
     "metadata": {},
     "output_type": "display_data"
    },
    {
     "data": {
      "text/html": [
       "<h3>['D_134_global_max'] OVERALL SCORE : 8.428</h3>"
      ],
      "text/plain": [
       "<IPython.core.display.HTML object>"
      ]
     },
     "metadata": {},
     "output_type": "display_data"
    },
    {
     "data": {
      "text/html": [
       "<h3>['D_134_global_median'] OVERALL SCORE : 8.413</h3>"
      ],
      "text/plain": [
       "<IPython.core.display.HTML object>"
      ]
     },
     "metadata": {},
     "output_type": "display_data"
    },
    {
     "data": {
      "text/html": [
       "<h3>['D_134_local_mean'] OVERALL SCORE : 14.798</h3>"
      ],
      "text/plain": [
       "<IPython.core.display.HTML object>"
      ]
     },
     "metadata": {},
     "output_type": "display_data"
    },
    {
     "data": {
      "text/html": [
       "<h3>['D_134_local_linear_interpolate'] OVERALL SCORE : 14.765</h3>"
      ],
      "text/plain": [
       "<IPython.core.display.HTML object>"
      ]
     },
     "metadata": {},
     "output_type": "display_data"
    },
    {
     "data": {
      "text/html": [
       "<h3>['D_134_local_nearest_interpolate'] OVERALL SCORE : 14.765</h3>"
      ],
      "text/plain": [
       "<IPython.core.display.HTML object>"
      ]
     },
     "metadata": {},
     "output_type": "display_data"
    },
    {
     "name": "stdout",
     "output_type": "stream",
     "text": [
      "-------------------------------------\n"
     ]
    },
    {
     "data": {
      "text/html": [
       "<h2>D_135</h2>"
      ],
      "text/plain": [
       "<IPython.core.display.HTML object>"
      ]
     },
     "metadata": {},
     "output_type": "display_data"
    },
    {
     "name": "stdout",
     "output_type": "stream",
     "text": [
      "--- D_135   :  has 5336752 nan ---\n",
      "------ FOLD: 1 of 5 -------\n",
      "[LightGBM] [Warning] early_stopping_round is set=100, early_stopping_rounds=100 will be ignored. Current value: early_stopping_round=100\n",
      "[100]\tvalid_0's binary_logloss: 0.552426\tvalid_0's amex: 0.14152\n",
      "[LightGBM] [Warning] early_stopping_round is set=100, early_stopping_rounds=100 will be ignored. Current value: early_stopping_round=100\n",
      "[100]\tvalid_0's binary_logloss: 0.563217\tvalid_0's amex: 0.0768079\n",
      "[LightGBM] [Warning] early_stopping_round is set=100, early_stopping_rounds=100 will be ignored. Current value: early_stopping_round=100\n",
      "[100]\tvalid_0's binary_logloss: 0.562918\tvalid_0's amex: 0.078966\n",
      "[LightGBM] [Warning] early_stopping_round is set=100, early_stopping_rounds=100 will be ignored. Current value: early_stopping_round=100\n",
      "[100]\tvalid_0's binary_logloss: 0.562924\tvalid_0's amex: 0.078969\n",
      "[LightGBM] [Warning] early_stopping_round is set=100, early_stopping_rounds=100 will be ignored. Current value: early_stopping_round=100\n",
      "[100]\tvalid_0's binary_logloss: 0.562923\tvalid_0's amex: 0.0789688\n",
      "[200]\tvalid_0's binary_logloss: 0.562916\tvalid_0's amex: 0.0789739\n",
      "[LightGBM] [Warning] early_stopping_round is set=100, early_stopping_rounds=100 will be ignored. Current value: early_stopping_round=100\n",
      "[100]\tvalid_0's binary_logloss: 0.553706\tvalid_0's amex: 0.136511\n",
      "[200]\tvalid_0's binary_logloss: 0.553663\tvalid_0's amex: 0.136752\n",
      "[300]\tvalid_0's binary_logloss: 0.553662\tvalid_0's amex: 0.136738\n",
      "[LightGBM] [Warning] early_stopping_round is set=100, early_stopping_rounds=100 will be ignored. Current value: early_stopping_round=100\n",
      "[100]\tvalid_0's binary_logloss: 0.552767\tvalid_0's amex: 0.139847\n",
      "[200]\tvalid_0's binary_logloss: 0.552727\tvalid_0's amex: 0.139834\n",
      "[LightGBM] [Warning] early_stopping_round is set=100, early_stopping_rounds=100 will be ignored. Current value: early_stopping_round=100\n",
      "[100]\tvalid_0's binary_logloss: 0.552767\tvalid_0's amex: 0.139847\n",
      "[200]\tvalid_0's binary_logloss: 0.552727\tvalid_0's amex: 0.139834\n",
      "------ FOLD: 2 of 5 -------\n",
      "[LightGBM] [Warning] early_stopping_round is set=100, early_stopping_rounds=100 will be ignored. Current value: early_stopping_round=100\n",
      "[100]\tvalid_0's binary_logloss: 0.551801\tvalid_0's amex: 0.146885\n",
      "[200]\tvalid_0's binary_logloss: 0.551767\tvalid_0's amex: 0.145439\n",
      "[LightGBM] [Warning] early_stopping_round is set=100, early_stopping_rounds=100 will be ignored. Current value: early_stopping_round=100\n",
      "[100]\tvalid_0's binary_logloss: 0.562077\tvalid_0's amex: 0.0845622\n",
      "[LightGBM] [Warning] early_stopping_round is set=100, early_stopping_rounds=100 will be ignored. Current value: early_stopping_round=100\n",
      "[100]\tvalid_0's binary_logloss: 0.561843\tvalid_0's amex: 0.0861892\n",
      "[LightGBM] [Warning] early_stopping_round is set=100, early_stopping_rounds=100 will be ignored. Current value: early_stopping_round=100\n",
      "[100]\tvalid_0's binary_logloss: 0.561825\tvalid_0's amex: 0.0861128\n",
      "[LightGBM] [Warning] early_stopping_round is set=100, early_stopping_rounds=100 will be ignored. Current value: early_stopping_round=100\n",
      "[100]\tvalid_0's binary_logloss: 0.561848\tvalid_0's amex: 0.0860465\n",
      "[LightGBM] [Warning] early_stopping_round is set=100, early_stopping_rounds=100 will be ignored. Current value: early_stopping_round=100\n",
      "[100]\tvalid_0's binary_logloss: 0.553201\tvalid_0's amex: 0.141074\n",
      "[LightGBM] [Warning] early_stopping_round is set=100, early_stopping_rounds=100 will be ignored. Current value: early_stopping_round=100\n",
      "[100]\tvalid_0's binary_logloss: 0.552069\tvalid_0's amex: 0.146307\n",
      "[LightGBM] [Warning] early_stopping_round is set=100, early_stopping_rounds=100 will be ignored. Current value: early_stopping_round=100\n",
      "[100]\tvalid_0's binary_logloss: 0.552069\tvalid_0's amex: 0.146307\n",
      "------ FOLD: 3 of 5 -------\n",
      "[LightGBM] [Warning] early_stopping_round is set=100, early_stopping_rounds=100 will be ignored. Current value: early_stopping_round=100\n",
      "[100]\tvalid_0's binary_logloss: 0.551976\tvalid_0's amex: 0.142162\n",
      "[LightGBM] [Warning] early_stopping_round is set=100, early_stopping_rounds=100 will be ignored. Current value: early_stopping_round=100\n",
      "[100]\tvalid_0's binary_logloss: 0.562224\tvalid_0's amex: 0.0818385\n",
      "[200]\tvalid_0's binary_logloss: 0.562198\tvalid_0's amex: 0.0817317\n",
      "[LightGBM] [Warning] early_stopping_round is set=100, early_stopping_rounds=100 will be ignored. Current value: early_stopping_round=100\n",
      "[100]\tvalid_0's binary_logloss: 0.562073\tvalid_0's amex: 0.0832749\n",
      "[200]\tvalid_0's binary_logloss: 0.562101\tvalid_0's amex: 0.083273\n",
      "[LightGBM] [Warning] early_stopping_round is set=100, early_stopping_rounds=100 will be ignored. Current value: early_stopping_round=100\n",
      "[100]\tvalid_0's binary_logloss: 0.562059\tvalid_0's amex: 0.0830578\n",
      "[LightGBM] [Warning] early_stopping_round is set=100, early_stopping_rounds=100 will be ignored. Current value: early_stopping_round=100\n",
      "[100]\tvalid_0's binary_logloss: 0.562067\tvalid_0's amex: 0.0830603\n",
      "[LightGBM] [Warning] early_stopping_round is set=100, early_stopping_rounds=100 will be ignored. Current value: early_stopping_round=100\n",
      "[100]\tvalid_0's binary_logloss: 0.553486\tvalid_0's amex: 0.136833\n",
      "[LightGBM] [Warning] early_stopping_round is set=100, early_stopping_rounds=100 will be ignored. Current value: early_stopping_round=100\n",
      "[100]\tvalid_0's binary_logloss: 0.552181\tvalid_0's amex: 0.141391\n",
      "[LightGBM] [Warning] early_stopping_round is set=100, early_stopping_rounds=100 will be ignored. Current value: early_stopping_round=100\n",
      "[100]\tvalid_0's binary_logloss: 0.552181\tvalid_0's amex: 0.141391\n",
      "------ FOLD: 4 of 5 -------\n",
      "[LightGBM] [Warning] early_stopping_round is set=100, early_stopping_rounds=100 will be ignored. Current value: early_stopping_round=100\n",
      "[100]\tvalid_0's binary_logloss: 0.551582\tvalid_0's amex: 0.148289\n",
      "[200]\tvalid_0's binary_logloss: 0.551531\tvalid_0's amex: 0.148464\n",
      "[LightGBM] [Warning] early_stopping_round is set=100, early_stopping_rounds=100 will be ignored. Current value: early_stopping_round=100\n",
      "[100]\tvalid_0's binary_logloss: 0.562499\tvalid_0's amex: 0.0850904\n",
      "[200]\tvalid_0's binary_logloss: 0.562501\tvalid_0's amex: 0.0851044\n",
      "[LightGBM] [Warning] early_stopping_round is set=100, early_stopping_rounds=100 will be ignored. Current value: early_stopping_round=100\n",
      "[100]\tvalid_0's binary_logloss: 0.562225\tvalid_0's amex: 0.0867143\n",
      "[LightGBM] [Warning] early_stopping_round is set=100, early_stopping_rounds=100 will be ignored. Current value: early_stopping_round=100\n",
      "[100]\tvalid_0's binary_logloss: 0.562236\tvalid_0's amex: 0.0867142\n",
      "[LightGBM] [Warning] early_stopping_round is set=100, early_stopping_rounds=100 will be ignored. Current value: early_stopping_round=100\n",
      "[100]\tvalid_0's binary_logloss: 0.562234\tvalid_0's amex: 0.0866292\n",
      "[200]\tvalid_0's binary_logloss: 0.562223\tvalid_0's amex: 0.0866475\n",
      "[300]\tvalid_0's binary_logloss: 0.562217\tvalid_0's amex: 0.0866594\n",
      "[400]\tvalid_0's binary_logloss: 0.562214\tvalid_0's amex: 0.086663\n",
      "[500]\tvalid_0's binary_logloss: 0.562213\tvalid_0's amex: 0.0866729\n",
      "[600]\tvalid_0's binary_logloss: 0.562212\tvalid_0's amex: 0.0866802\n",
      "[LightGBM] [Warning] early_stopping_round is set=100, early_stopping_rounds=100 will be ignored. Current value: early_stopping_round=100\n",
      "[100]\tvalid_0's binary_logloss: 0.553089\tvalid_0's amex: 0.141838\n",
      "[LightGBM] [Warning] early_stopping_round is set=100, early_stopping_rounds=100 will be ignored. Current value: early_stopping_round=100\n",
      "[100]\tvalid_0's binary_logloss: 0.55188\tvalid_0's amex: 0.146939\n",
      "[200]\tvalid_0's binary_logloss: 0.551835\tvalid_0's amex: 0.147091\n",
      "[LightGBM] [Warning] early_stopping_round is set=100, early_stopping_rounds=100 will be ignored. Current value: early_stopping_round=100\n",
      "[100]\tvalid_0's binary_logloss: 0.55188\tvalid_0's amex: 0.146939\n",
      "[200]\tvalid_0's binary_logloss: 0.551835\tvalid_0's amex: 0.147091\n",
      "------ FOLD: 5 of 5 -------\n",
      "[LightGBM] [Warning] early_stopping_round is set=100, early_stopping_rounds=100 will be ignored. Current value: early_stopping_round=100\n",
      "[100]\tvalid_0's binary_logloss: 0.551457\tvalid_0's amex: 0.146015\n",
      "[200]\tvalid_0's binary_logloss: 0.551402\tvalid_0's amex: 0.146036\n",
      "[300]\tvalid_0's binary_logloss: 0.551414\tvalid_0's amex: 0.145383\n",
      "[LightGBM] [Warning] early_stopping_round is set=100, early_stopping_rounds=100 will be ignored. Current value: early_stopping_round=100\n",
      "[100]\tvalid_0's binary_logloss: 0.56237\tvalid_0's amex: 0.0828386\n",
      "[LightGBM] [Warning] early_stopping_round is set=100, early_stopping_rounds=100 will be ignored. Current value: early_stopping_round=100\n",
      "[100]\tvalid_0's binary_logloss: 0.562156\tvalid_0's amex: 0.0842126\n",
      "[LightGBM] [Warning] early_stopping_round is set=100, early_stopping_rounds=100 will be ignored. Current value: early_stopping_round=100\n",
      "[100]\tvalid_0's binary_logloss: 0.562157\tvalid_0's amex: 0.0841185\n",
      "[LightGBM] [Warning] early_stopping_round is set=100, early_stopping_rounds=100 will be ignored. Current value: early_stopping_round=100\n",
      "[100]\tvalid_0's binary_logloss: 0.562183\tvalid_0's amex: 0.0836241\n",
      "[LightGBM] [Warning] early_stopping_round is set=100, early_stopping_rounds=100 will be ignored. Current value: early_stopping_round=100\n",
      "[100]\tvalid_0's binary_logloss: 0.552945\tvalid_0's amex: 0.14159\n",
      "[LightGBM] [Warning] early_stopping_round is set=100, early_stopping_rounds=100 will be ignored. Current value: early_stopping_round=100\n",
      "[100]\tvalid_0's binary_logloss: 0.551698\tvalid_0's amex: 0.145213\n",
      "[200]\tvalid_0's binary_logloss: 0.551642\tvalid_0's amex: 0.145262\n",
      "[LightGBM] [Warning] early_stopping_round is set=100, early_stopping_rounds=100 will be ignored. Current value: early_stopping_round=100\n",
      "[100]\tvalid_0's binary_logloss: 0.551698\tvalid_0's amex: 0.145213\n",
      "[200]\tvalid_0's binary_logloss: 0.551642\tvalid_0's amex: 0.145262\n"
     ]
    },
    {
     "data": {
      "text/html": [
       "<h3>['D_135'] OVERALL SCORE : 14.546</h3>"
      ],
      "text/plain": [
       "<IPython.core.display.HTML object>"
      ]
     },
     "metadata": {},
     "output_type": "display_data"
    },
    {
     "data": {
      "text/html": [
       "<h3>['D_135_global_mean'] OVERALL SCORE : 8.231</h3>"
      ],
      "text/plain": [
       "<IPython.core.display.HTML object>"
      ]
     },
     "metadata": {},
     "output_type": "display_data"
    },
    {
     "data": {
      "text/html": [
       "<h3>['D_135_global_min'] OVERALL SCORE : 8.394</h3>"
      ],
      "text/plain": [
       "<IPython.core.display.HTML object>"
      ]
     },
     "metadata": {},
     "output_type": "display_data"
    },
    {
     "data": {
      "text/html": [
       "<h3>['D_135_global_max'] OVERALL SCORE : 8.385</h3>"
      ],
      "text/plain": [
       "<IPython.core.display.HTML object>"
      ]
     },
     "metadata": {},
     "output_type": "display_data"
    },
    {
     "data": {
      "text/html": [
       "<h3>['D_135_global_median'] OVERALL SCORE : 8.370</h3>"
      ],
      "text/plain": [
       "<IPython.core.display.HTML object>"
      ]
     },
     "metadata": {},
     "output_type": "display_data"
    },
    {
     "data": {
      "text/html": [
       "<h3>['D_135_local_mean'] OVERALL SCORE : 14.003</h3>"
      ],
      "text/plain": [
       "<IPython.core.display.HTML object>"
      ]
     },
     "metadata": {},
     "output_type": "display_data"
    },
    {
     "data": {
      "text/html": [
       "<h3>['D_135_local_linear_interpolate'] OVERALL SCORE : 14.456</h3>"
      ],
      "text/plain": [
       "<IPython.core.display.HTML object>"
      ]
     },
     "metadata": {},
     "output_type": "display_data"
    },
    {
     "data": {
      "text/html": [
       "<h3>['D_135_local_nearest_interpolate'] OVERALL SCORE : 14.456</h3>"
      ],
      "text/plain": [
       "<IPython.core.display.HTML object>"
      ]
     },
     "metadata": {},
     "output_type": "display_data"
    },
    {
     "name": "stdout",
     "output_type": "stream",
     "text": [
      "-------------------------------------\n"
     ]
    },
    {
     "data": {
      "text/html": [
       "<h2>D_136</h2>"
      ],
      "text/plain": [
       "<IPython.core.display.HTML object>"
      ]
     },
     "metadata": {},
     "output_type": "display_data"
    },
    {
     "name": "stdout",
     "output_type": "stream",
     "text": [
      "--- D_136   :  has 5336752 nan ---\n",
      "------ FOLD: 1 of 5 -------\n",
      "[LightGBM] [Warning] early_stopping_round is set=100, early_stopping_rounds=100 will be ignored. Current value: early_stopping_round=100\n",
      "[100]\tvalid_0's binary_logloss: 0.552897\tvalid_0's amex: 0.139058\n",
      "[LightGBM] [Warning] early_stopping_round is set=100, early_stopping_rounds=100 will be ignored. Current value: early_stopping_round=100\n",
      "[100]\tvalid_0's binary_logloss: 0.562916\tvalid_0's amex: 0.0808853\n",
      "[LightGBM] [Warning] early_stopping_round is set=100, early_stopping_rounds=100 will be ignored. Current value: early_stopping_round=100\n",
      "[100]\tvalid_0's binary_logloss: 0.562942\tvalid_0's amex: 0.0809809\n",
      "[LightGBM] [Warning] early_stopping_round is set=100, early_stopping_rounds=100 will be ignored. Current value: early_stopping_round=100\n",
      "[100]\tvalid_0's binary_logloss: 0.562928\tvalid_0's amex: 0.080927\n",
      "[LightGBM] [Warning] early_stopping_round is set=100, early_stopping_rounds=100 will be ignored. Current value: early_stopping_round=100\n",
      "[100]\tvalid_0's binary_logloss: 0.562932\tvalid_0's amex: 0.0807208\n",
      "[LightGBM] [Warning] early_stopping_round is set=100, early_stopping_rounds=100 will be ignored. Current value: early_stopping_round=100\n",
      "[100]\tvalid_0's binary_logloss: 0.552766\tvalid_0's amex: 0.139307\n",
      "[LightGBM] [Warning] early_stopping_round is set=100, early_stopping_rounds=100 will be ignored. Current value: early_stopping_round=100\n",
      "[100]\tvalid_0's binary_logloss: 0.552908\tvalid_0's amex: 0.139326\n",
      "[LightGBM] [Warning] early_stopping_round is set=100, early_stopping_rounds=100 will be ignored. Current value: early_stopping_round=100\n",
      "[100]\tvalid_0's binary_logloss: 0.552908\tvalid_0's amex: 0.139326\n",
      "------ FOLD: 2 of 5 -------\n",
      "[LightGBM] [Warning] early_stopping_round is set=100, early_stopping_rounds=100 will be ignored. Current value: early_stopping_round=100\n",
      "[100]\tvalid_0's binary_logloss: 0.551736\tvalid_0's amex: 0.144765\n",
      "[LightGBM] [Warning] early_stopping_round is set=100, early_stopping_rounds=100 will be ignored. Current value: early_stopping_round=100\n",
      "[100]\tvalid_0's binary_logloss: 0.562069\tvalid_0's amex: 0.0863702\n",
      "[LightGBM] [Warning] early_stopping_round is set=100, early_stopping_rounds=100 will be ignored. Current value: early_stopping_round=100\n",
      "[100]\tvalid_0's binary_logloss: 0.562068\tvalid_0's amex: 0.0863717\n",
      "[200]\tvalid_0's binary_logloss: 0.562052\tvalid_0's amex: 0.0863714\n",
      "[LightGBM] [Warning] early_stopping_round is set=100, early_stopping_rounds=100 will be ignored. Current value: early_stopping_round=100\n",
      "[100]\tvalid_0's binary_logloss: 0.562067\tvalid_0's amex: 0.086366\n",
      "[200]\tvalid_0's binary_logloss: 0.562048\tvalid_0's amex: 0.0863714\n",
      "[LightGBM] [Warning] early_stopping_round is set=100, early_stopping_rounds=100 will be ignored. Current value: early_stopping_round=100\n",
      "[100]\tvalid_0's binary_logloss: 0.562063\tvalid_0's amex: 0.0863727\n",
      "[LightGBM] [Warning] early_stopping_round is set=100, early_stopping_rounds=100 will be ignored. Current value: early_stopping_round=100\n",
      "[100]\tvalid_0's binary_logloss: 0.551567\tvalid_0's amex: 0.146737\n",
      "[LightGBM] [Warning] early_stopping_round is set=100, early_stopping_rounds=100 will be ignored. Current value: early_stopping_round=100\n",
      "[100]\tvalid_0's binary_logloss: 0.551734\tvalid_0's amex: 0.145688\n",
      "[LightGBM] [Warning] early_stopping_round is set=100, early_stopping_rounds=100 will be ignored. Current value: early_stopping_round=100\n",
      "[100]\tvalid_0's binary_logloss: 0.551734\tvalid_0's amex: 0.145688\n",
      "------ FOLD: 3 of 5 -------\n",
      "[LightGBM] [Warning] early_stopping_round is set=100, early_stopping_rounds=100 will be ignored. Current value: early_stopping_round=100\n",
      "[100]\tvalid_0's binary_logloss: 0.550462\tvalid_0's amex: 0.152774\n",
      "[LightGBM] [Warning] early_stopping_round is set=100, early_stopping_rounds=100 will be ignored. Current value: early_stopping_round=100\n",
      "[100]\tvalid_0's binary_logloss: 0.562049\tvalid_0's amex: 0.0861394\n",
      "[200]\tvalid_0's binary_logloss: 0.562005\tvalid_0's amex: 0.0862892\n",
      "[LightGBM] [Warning] early_stopping_round is set=100, early_stopping_rounds=100 will be ignored. Current value: early_stopping_round=100\n",
      "[100]\tvalid_0's binary_logloss: 0.562026\tvalid_0's amex: 0.0860469\n",
      "[LightGBM] [Warning] early_stopping_round is set=100, early_stopping_rounds=100 will be ignored. Current value: early_stopping_round=100\n",
      "[100]\tvalid_0's binary_logloss: 0.562029\tvalid_0's amex: 0.0860516\n",
      "[200]\tvalid_0's binary_logloss: 0.561981\tvalid_0's amex: 0.0860486\n",
      "[LightGBM] [Warning] early_stopping_round is set=100, early_stopping_rounds=100 will be ignored. Current value: early_stopping_round=100\n",
      "[100]\tvalid_0's binary_logloss: 0.56202\tvalid_0's amex: 0.0860465\n",
      "[LightGBM] [Warning] early_stopping_round is set=100, early_stopping_rounds=100 will be ignored. Current value: early_stopping_round=100\n",
      "[100]\tvalid_0's binary_logloss: 0.550387\tvalid_0's amex: 0.152344\n",
      "[LightGBM] [Warning] early_stopping_round is set=100, early_stopping_rounds=100 will be ignored. Current value: early_stopping_round=100\n",
      "[100]\tvalid_0's binary_logloss: 0.550467\tvalid_0's amex: 0.152281\n",
      "[LightGBM] [Warning] early_stopping_round is set=100, early_stopping_rounds=100 will be ignored. Current value: early_stopping_round=100\n",
      "[100]\tvalid_0's binary_logloss: 0.550467\tvalid_0's amex: 0.152281\n",
      "------ FOLD: 4 of 5 -------\n",
      "[LightGBM] [Warning] early_stopping_round is set=100, early_stopping_rounds=100 will be ignored. Current value: early_stopping_round=100\n",
      "[100]\tvalid_0's binary_logloss: 0.551489\tvalid_0's amex: 0.14499\n",
      "[LightGBM] [Warning] early_stopping_round is set=100, early_stopping_rounds=100 will be ignored. Current value: early_stopping_round=100\n",
      "[100]\tvalid_0's binary_logloss: 0.562135\tvalid_0's amex: 0.0832797\n",
      "[LightGBM] [Warning] early_stopping_round is set=100, early_stopping_rounds=100 will be ignored. Current value: early_stopping_round=100\n",
      "[100]\tvalid_0's binary_logloss: 0.562132\tvalid_0's amex: 0.0831676\n",
      "[LightGBM] [Warning] early_stopping_round is set=100, early_stopping_rounds=100 will be ignored. Current value: early_stopping_round=100\n",
      "[100]\tvalid_0's binary_logloss: 0.562119\tvalid_0's amex: 0.0832129\n",
      "[LightGBM] [Warning] early_stopping_round is set=100, early_stopping_rounds=100 will be ignored. Current value: early_stopping_round=100\n",
      "[100]\tvalid_0's binary_logloss: 0.562128\tvalid_0's amex: 0.0832344\n",
      "[LightGBM] [Warning] early_stopping_round is set=100, early_stopping_rounds=100 will be ignored. Current value: early_stopping_round=100\n",
      "[100]\tvalid_0's binary_logloss: 0.551476\tvalid_0's amex: 0.145302\n",
      "[200]\tvalid_0's binary_logloss: 0.551441\tvalid_0's amex: 0.145691\n",
      "[LightGBM] [Warning] early_stopping_round is set=100, early_stopping_rounds=100 will be ignored. Current value: early_stopping_round=100\n",
      "[100]\tvalid_0's binary_logloss: 0.551485\tvalid_0's amex: 0.145708\n",
      "[LightGBM] [Warning] early_stopping_round is set=100, early_stopping_rounds=100 will be ignored. Current value: early_stopping_round=100\n",
      "[100]\tvalid_0's binary_logloss: 0.551485\tvalid_0's amex: 0.145708\n",
      "------ FOLD: 5 of 5 -------\n",
      "[LightGBM] [Warning] early_stopping_round is set=100, early_stopping_rounds=100 will be ignored. Current value: early_stopping_round=100\n",
      "[100]\tvalid_0's binary_logloss: 0.552577\tvalid_0's amex: 0.138133\n",
      "[200]\tvalid_0's binary_logloss: 0.552578\tvalid_0's amex: 0.138065\n",
      "[LightGBM] [Warning] early_stopping_round is set=100, early_stopping_rounds=100 will be ignored. Current value: early_stopping_round=100\n",
      "[100]\tvalid_0's binary_logloss: 0.561898\tvalid_0's amex: 0.0829633\n",
      "[LightGBM] [Warning] early_stopping_round is set=100, early_stopping_rounds=100 will be ignored. Current value: early_stopping_round=100\n",
      "[100]\tvalid_0's binary_logloss: 0.56189\tvalid_0's amex: 0.0826427\n",
      "[LightGBM] [Warning] early_stopping_round is set=100, early_stopping_rounds=100 will be ignored. Current value: early_stopping_round=100\n",
      "[100]\tvalid_0's binary_logloss: 0.561906\tvalid_0's amex: 0.0828833\n",
      "[200]\tvalid_0's binary_logloss: 0.561868\tvalid_0's amex: 0.082878\n",
      "[300]\tvalid_0's binary_logloss: 0.561866\tvalid_0's amex: 0.0828884\n",
      "[LightGBM] [Warning] early_stopping_round is set=100, early_stopping_rounds=100 will be ignored. Current value: early_stopping_round=100\n",
      "[100]\tvalid_0's binary_logloss: 0.561905\tvalid_0's amex: 0.0828144\n",
      "[200]\tvalid_0's binary_logloss: 0.561864\tvalid_0's amex: 0.0829046\n",
      "[LightGBM] [Warning] early_stopping_round is set=100, early_stopping_rounds=100 will be ignored. Current value: early_stopping_round=100\n",
      "[100]\tvalid_0's binary_logloss: 0.552603\tvalid_0's amex: 0.137747\n",
      "[LightGBM] [Warning] early_stopping_round is set=100, early_stopping_rounds=100 will be ignored. Current value: early_stopping_round=100\n",
      "[100]\tvalid_0's binary_logloss: 0.552577\tvalid_0's amex: 0.138033\n",
      "[LightGBM] [Warning] early_stopping_round is set=100, early_stopping_rounds=100 will be ignored. Current value: early_stopping_round=100\n",
      "[100]\tvalid_0's binary_logloss: 0.552577\tvalid_0's amex: 0.138033\n"
     ]
    },
    {
     "data": {
      "text/html": [
       "<h3>['D_136'] OVERALL SCORE : 14.512</h3>"
      ],
      "text/plain": [
       "<IPython.core.display.HTML object>"
      ]
     },
     "metadata": {},
     "output_type": "display_data"
    },
    {
     "data": {
      "text/html": [
       "<h3>['D_136_global_mean'] OVERALL SCORE : 8.401</h3>"
      ],
      "text/plain": [
       "<IPython.core.display.HTML object>"
      ]
     },
     "metadata": {},
     "output_type": "display_data"
    },
    {
     "data": {
      "text/html": [
       "<h3>['D_136_global_min'] OVERALL SCORE : 8.398</h3>"
      ],
      "text/plain": [
       "<IPython.core.display.HTML object>"
      ]
     },
     "metadata": {},
     "output_type": "display_data"
    },
    {
     "data": {
      "text/html": [
       "<h3>['D_136_global_max'] OVERALL SCORE : 8.395</h3>"
      ],
      "text/plain": [
       "<IPython.core.display.HTML object>"
      ]
     },
     "metadata": {},
     "output_type": "display_data"
    },
    {
     "data": {
      "text/html": [
       "<h3>['D_136_global_median'] OVERALL SCORE : 8.399</h3>"
      ],
      "text/plain": [
       "<IPython.core.display.HTML object>"
      ]
     },
     "metadata": {},
     "output_type": "display_data"
    },
    {
     "data": {
      "text/html": [
       "<h3>['D_136_local_mean'] OVERALL SCORE : 14.555</h3>"
      ],
      "text/plain": [
       "<IPython.core.display.HTML object>"
      ]
     },
     "metadata": {},
     "output_type": "display_data"
    },
    {
     "data": {
      "text/html": [
       "<h3>['D_136_local_linear_interpolate'] OVERALL SCORE : 14.539</h3>"
      ],
      "text/plain": [
       "<IPython.core.display.HTML object>"
      ]
     },
     "metadata": {},
     "output_type": "display_data"
    },
    {
     "data": {
      "text/html": [
       "<h3>['D_136_local_nearest_interpolate'] OVERALL SCORE : 14.539</h3>"
      ],
      "text/plain": [
       "<IPython.core.display.HTML object>"
      ]
     },
     "metadata": {},
     "output_type": "display_data"
    },
    {
     "name": "stdout",
     "output_type": "stream",
     "text": [
      "-------------------------------------\n"
     ]
    },
    {
     "data": {
      "text/html": [
       "<h2>D_137</h2>"
      ],
      "text/plain": [
       "<IPython.core.display.HTML object>"
      ]
     },
     "metadata": {},
     "output_type": "display_data"
    },
    {
     "name": "stdout",
     "output_type": "stream",
     "text": [
      "--- D_137   :  has 5336752 nan ---\n",
      "------ FOLD: 1 of 5 -------\n",
      "[LightGBM] [Warning] early_stopping_round is set=100, early_stopping_rounds=100 will be ignored. Current value: early_stopping_round=100\n",
      "[100]\tvalid_0's binary_logloss: 0.551812\tvalid_0's amex: 0.143917\n",
      "[200]\tvalid_0's binary_logloss: 0.55179\tvalid_0's amex: 0.143674\n",
      "[LightGBM] [Warning] early_stopping_round is set=100, early_stopping_rounds=100 will be ignored. Current value: early_stopping_round=100\n",
      "[100]\tvalid_0's binary_logloss: 0.562793\tvalid_0's amex: 0.0827109\n",
      "[LightGBM] [Warning] early_stopping_round is set=100, early_stopping_rounds=100 will be ignored. Current value: early_stopping_round=100\n",
      "[100]\tvalid_0's binary_logloss: 0.562655\tvalid_0's amex: 0.0836832\n",
      "[LightGBM] [Warning] early_stopping_round is set=100, early_stopping_rounds=100 will be ignored. Current value: early_stopping_round=100\n",
      "[100]\tvalid_0's binary_logloss: 0.562661\tvalid_0's amex: 0.083682\n",
      "[LightGBM] [Warning] early_stopping_round is set=100, early_stopping_rounds=100 will be ignored. Current value: early_stopping_round=100\n",
      "[100]\tvalid_0's binary_logloss: 0.562657\tvalid_0's amex: 0.0836828\n",
      "[LightGBM] [Warning] early_stopping_round is set=100, early_stopping_rounds=100 will be ignored. Current value: early_stopping_round=100\n",
      "[100]\tvalid_0's binary_logloss: 0.552433\tvalid_0's amex: 0.140921\n",
      "[LightGBM] [Warning] early_stopping_round is set=100, early_stopping_rounds=100 will be ignored. Current value: early_stopping_round=100\n",
      "[100]\tvalid_0's binary_logloss: 0.551932\tvalid_0's amex: 0.143497\n",
      "[LightGBM] [Warning] early_stopping_round is set=100, early_stopping_rounds=100 will be ignored. Current value: early_stopping_round=100\n",
      "[100]\tvalid_0's binary_logloss: 0.551932\tvalid_0's amex: 0.143497\n",
      "------ FOLD: 2 of 5 -------\n",
      "[LightGBM] [Warning] early_stopping_round is set=100, early_stopping_rounds=100 will be ignored. Current value: early_stopping_round=100\n",
      "[100]\tvalid_0's binary_logloss: 0.55104\tvalid_0's amex: 0.14977\n",
      "[LightGBM] [Warning] early_stopping_round is set=100, early_stopping_rounds=100 will be ignored. Current value: early_stopping_round=100\n",
      "[100]\tvalid_0's binary_logloss: 0.56184\tvalid_0's amex: 0.0894427\n",
      "[LightGBM] [Warning] early_stopping_round is set=100, early_stopping_rounds=100 will be ignored. Current value: early_stopping_round=100\n",
      "[100]\tvalid_0's binary_logloss: 0.561722\tvalid_0's amex: 0.0901239\n",
      "[LightGBM] [Warning] early_stopping_round is set=100, early_stopping_rounds=100 will be ignored. Current value: early_stopping_round=100\n",
      "[100]\tvalid_0's binary_logloss: 0.561711\tvalid_0's amex: 0.0899871\n",
      "[LightGBM] [Warning] early_stopping_round is set=100, early_stopping_rounds=100 will be ignored. Current value: early_stopping_round=100\n",
      "[100]\tvalid_0's binary_logloss: 0.561716\tvalid_0's amex: 0.090024\n",
      "[200]\tvalid_0's binary_logloss: 0.561671\tvalid_0's amex: 0.0901282\n",
      "[LightGBM] [Warning] early_stopping_round is set=100, early_stopping_rounds=100 will be ignored. Current value: early_stopping_round=100\n",
      "[100]\tvalid_0's binary_logloss: 0.551603\tvalid_0's amex: 0.147981\n",
      "[LightGBM] [Warning] early_stopping_round is set=100, early_stopping_rounds=100 will be ignored. Current value: early_stopping_round=100\n",
      "[100]\tvalid_0's binary_logloss: 0.551187\tvalid_0's amex: 0.149638\n",
      "[LightGBM] [Warning] early_stopping_round is set=100, early_stopping_rounds=100 will be ignored. Current value: early_stopping_round=100\n",
      "[100]\tvalid_0's binary_logloss: 0.551187\tvalid_0's amex: 0.149638\n",
      "------ FOLD: 3 of 5 -------\n",
      "[LightGBM] [Warning] early_stopping_round is set=100, early_stopping_rounds=100 will be ignored. Current value: early_stopping_round=100\n",
      "[100]\tvalid_0's binary_logloss: 0.551795\tvalid_0's amex: 0.146607\n",
      "[200]\tvalid_0's binary_logloss: 0.551759\tvalid_0's amex: 0.145775\n",
      "[LightGBM] [Warning] early_stopping_round is set=100, early_stopping_rounds=100 will be ignored. Current value: early_stopping_round=100\n",
      "[100]\tvalid_0's binary_logloss: 0.562478\tvalid_0's amex: 0.0832094\n",
      "[200]\tvalid_0's binary_logloss: 0.56247\tvalid_0's amex: 0.0833668\n",
      "[LightGBM] [Warning] early_stopping_round is set=100, early_stopping_rounds=100 will be ignored. Current value: early_stopping_round=100\n",
      "[100]\tvalid_0's binary_logloss: 0.562401\tvalid_0's amex: 0.0836711\n",
      "[LightGBM] [Warning] early_stopping_round is set=100, early_stopping_rounds=100 will be ignored. Current value: early_stopping_round=100\n",
      "[100]\tvalid_0's binary_logloss: 0.562403\tvalid_0's amex: 0.0838588\n",
      "[LightGBM] [Warning] early_stopping_round is set=100, early_stopping_rounds=100 will be ignored. Current value: early_stopping_round=100\n",
      "[100]\tvalid_0's binary_logloss: 0.562435\tvalid_0's amex: 0.0838566\n",
      "[200]\tvalid_0's binary_logloss: 0.562426\tvalid_0's amex: 0.0836415\n",
      "[LightGBM] [Warning] early_stopping_round is set=100, early_stopping_rounds=100 will be ignored. Current value: early_stopping_round=100\n",
      "[100]\tvalid_0's binary_logloss: 0.552402\tvalid_0's amex: 0.144574\n",
      "[200]\tvalid_0's binary_logloss: 0.55235\tvalid_0's amex: 0.144599\n",
      "[LightGBM] [Warning] early_stopping_round is set=100, early_stopping_rounds=100 will be ignored. Current value: early_stopping_round=100\n",
      "[100]\tvalid_0's binary_logloss: 0.551872\tvalid_0's amex: 0.146468\n",
      "[200]\tvalid_0's binary_logloss: 0.551843\tvalid_0's amex: 0.146038\n",
      "[LightGBM] [Warning] early_stopping_round is set=100, early_stopping_rounds=100 will be ignored. Current value: early_stopping_round=100\n",
      "[100]\tvalid_0's binary_logloss: 0.551872\tvalid_0's amex: 0.146468\n",
      "[200]\tvalid_0's binary_logloss: 0.551843\tvalid_0's amex: 0.146038\n",
      "------ FOLD: 4 of 5 -------\n",
      "[LightGBM] [Warning] early_stopping_round is set=100, early_stopping_rounds=100 will be ignored. Current value: early_stopping_round=100\n",
      "[100]\tvalid_0's binary_logloss: 0.551847\tvalid_0's amex: 0.143475\n",
      "[LightGBM] [Warning] early_stopping_round is set=100, early_stopping_rounds=100 will be ignored. Current value: early_stopping_round=100\n",
      "[100]\tvalid_0's binary_logloss: 0.562201\tvalid_0's amex: 0.0801719\n",
      "[200]\tvalid_0's binary_logloss: 0.562174\tvalid_0's amex: 0.0801532\n",
      "[LightGBM] [Warning] early_stopping_round is set=100, early_stopping_rounds=100 will be ignored. Current value: early_stopping_round=100\n",
      "[100]\tvalid_0's binary_logloss: 0.562157\tvalid_0's amex: 0.0803185\n",
      "[200]\tvalid_0's binary_logloss: 0.562118\tvalid_0's amex: 0.0803217\n",
      "[LightGBM] [Warning] early_stopping_round is set=100, early_stopping_rounds=100 will be ignored. Current value: early_stopping_round=100\n",
      "[100]\tvalid_0's binary_logloss: 0.562149\tvalid_0's amex: 0.0803669\n",
      "[LightGBM] [Warning] early_stopping_round is set=100, early_stopping_rounds=100 will be ignored. Current value: early_stopping_round=100\n",
      "[100]\tvalid_0's binary_logloss: 0.562157\tvalid_0's amex: 0.0802742\n",
      "[LightGBM] [Warning] early_stopping_round is set=100, early_stopping_rounds=100 will be ignored. Current value: early_stopping_round=100\n",
      "[100]\tvalid_0's binary_logloss: 0.55244\tvalid_0's amex: 0.140425\n",
      "[LightGBM] [Warning] early_stopping_round is set=100, early_stopping_rounds=100 will be ignored. Current value: early_stopping_round=100\n",
      "[100]\tvalid_0's binary_logloss: 0.551913\tvalid_0's amex: 0.143525\n",
      "[LightGBM] [Warning] early_stopping_round is set=100, early_stopping_rounds=100 will be ignored. Current value: early_stopping_round=100\n",
      "[100]\tvalid_0's binary_logloss: 0.551913\tvalid_0's amex: 0.143525\n",
      "------ FOLD: 5 of 5 -------\n",
      "[LightGBM] [Warning] early_stopping_round is set=100, early_stopping_rounds=100 will be ignored. Current value: early_stopping_round=100\n",
      "[100]\tvalid_0's binary_logloss: 0.552821\tvalid_0's amex: 0.137378\n",
      "[LightGBM] [Warning] early_stopping_round is set=100, early_stopping_rounds=100 will be ignored. Current value: early_stopping_round=100\n",
      "[100]\tvalid_0's binary_logloss: 0.562321\tvalid_0's amex: 0.081004\n",
      "[200]\tvalid_0's binary_logloss: 0.562288\tvalid_0's amex: 0.0810026\n",
      "[300]\tvalid_0's binary_logloss: 0.562284\tvalid_0's amex: 0.0809981\n",
      "[LightGBM] [Warning] early_stopping_round is set=100, early_stopping_rounds=100 will be ignored. Current value: early_stopping_round=100\n",
      "[100]\tvalid_0's binary_logloss: 0.562258\tvalid_0's amex: 0.0816474\n",
      "[200]\tvalid_0's binary_logloss: 0.562222\tvalid_0's amex: 0.08166\n",
      "[LightGBM] [Warning] early_stopping_round is set=100, early_stopping_rounds=100 will be ignored. Current value: early_stopping_round=100\n",
      "[100]\tvalid_0's binary_logloss: 0.562255\tvalid_0's amex: 0.0815803\n",
      "[LightGBM] [Warning] early_stopping_round is set=100, early_stopping_rounds=100 will be ignored. Current value: early_stopping_round=100\n",
      "[100]\tvalid_0's binary_logloss: 0.562288\tvalid_0's amex: 0.081556\n",
      "[LightGBM] [Warning] early_stopping_round is set=100, early_stopping_rounds=100 will be ignored. Current value: early_stopping_round=100\n",
      "[100]\tvalid_0's binary_logloss: 0.553378\tvalid_0's amex: 0.135803\n",
      "[LightGBM] [Warning] early_stopping_round is set=100, early_stopping_rounds=100 will be ignored. Current value: early_stopping_round=100\n",
      "[100]\tvalid_0's binary_logloss: 0.552915\tvalid_0's amex: 0.137103\n",
      "[LightGBM] [Warning] early_stopping_round is set=100, early_stopping_rounds=100 will be ignored. Current value: early_stopping_round=100\n",
      "[100]\tvalid_0's binary_logloss: 0.552915\tvalid_0's amex: 0.137103\n"
     ]
    },
    {
     "data": {
      "text/html": [
       "<h3>['D_137'] OVERALL SCORE : 14.490</h3>"
      ],
      "text/plain": [
       "<IPython.core.display.HTML object>"
      ]
     },
     "metadata": {},
     "output_type": "display_data"
    },
    {
     "data": {
      "text/html": [
       "<h3>['D_137_global_mean'] OVERALL SCORE : 8.335</h3>"
      ],
      "text/plain": [
       "<IPython.core.display.HTML object>"
      ]
     },
     "metadata": {},
     "output_type": "display_data"
    },
    {
     "data": {
      "text/html": [
       "<h3>['D_137_global_min'] OVERALL SCORE : 8.417</h3>"
      ],
      "text/plain": [
       "<IPython.core.display.HTML object>"
      ]
     },
     "metadata": {},
     "output_type": "display_data"
    },
    {
     "data": {
      "text/html": [
       "<h3>['D_137_global_max'] OVERALL SCORE : 8.415</h3>"
      ],
      "text/plain": [
       "<IPython.core.display.HTML object>"
      ]
     },
     "metadata": {},
     "output_type": "display_data"
    },
    {
     "data": {
      "text/html": [
       "<h3>['D_137_global_median'] OVERALL SCORE : 8.394</h3>"
      ],
      "text/plain": [
       "<IPython.core.display.HTML object>"
      ]
     },
     "metadata": {},
     "output_type": "display_data"
    },
    {
     "data": {
      "text/html": [
       "<h3>['D_137_local_mean'] OVERALL SCORE : 14.287</h3>"
      ],
      "text/plain": [
       "<IPython.core.display.HTML object>"
      ]
     },
     "metadata": {},
     "output_type": "display_data"
    },
    {
     "data": {
      "text/html": [
       "<h3>['D_137_local_linear_interpolate'] OVERALL SCORE : 14.477</h3>"
      ],
      "text/plain": [
       "<IPython.core.display.HTML object>"
      ]
     },
     "metadata": {},
     "output_type": "display_data"
    },
    {
     "data": {
      "text/html": [
       "<h3>['D_137_local_nearest_interpolate'] OVERALL SCORE : 14.477</h3>"
      ],
      "text/plain": [
       "<IPython.core.display.HTML object>"
      ]
     },
     "metadata": {},
     "output_type": "display_data"
    },
    {
     "name": "stdout",
     "output_type": "stream",
     "text": [
      "-------------------------------------\n"
     ]
    },
    {
     "data": {
      "text/html": [
       "<h2>D_138</h2>"
      ],
      "text/plain": [
       "<IPython.core.display.HTML object>"
      ]
     },
     "metadata": {},
     "output_type": "display_data"
    },
    {
     "name": "stdout",
     "output_type": "stream",
     "text": [
      "--- D_138   :  has 5336752 nan ---\n",
      "------ FOLD: 1 of 5 -------\n",
      "[LightGBM] [Warning] early_stopping_round is set=100, early_stopping_rounds=100 will be ignored. Current value: early_stopping_round=100\n",
      "[100]\tvalid_0's binary_logloss: 0.551911\tvalid_0's amex: 0.144107\n",
      "[200]\tvalid_0's binary_logloss: 0.551878\tvalid_0's amex: 0.144033\n",
      "[LightGBM] [Warning] early_stopping_round is set=100, early_stopping_rounds=100 will be ignored. Current value: early_stopping_round=100\n",
      "[100]\tvalid_0's binary_logloss: 0.561772\tvalid_0's amex: 0.0855246\n",
      "[LightGBM] [Warning] early_stopping_round is set=100, early_stopping_rounds=100 will be ignored. Current value: early_stopping_round=100\n",
      "[100]\tvalid_0's binary_logloss: 0.561766\tvalid_0's amex: 0.0855738\n",
      "[LightGBM] [Warning] early_stopping_round is set=100, early_stopping_rounds=100 will be ignored. Current value: early_stopping_round=100\n",
      "[100]\tvalid_0's binary_logloss: 0.561766\tvalid_0's amex: 0.085448\n",
      "[LightGBM] [Warning] early_stopping_round is set=100, early_stopping_rounds=100 will be ignored. Current value: early_stopping_round=100\n",
      "[100]\tvalid_0's binary_logloss: 0.561771\tvalid_0's amex: 0.0864221\n",
      "[LightGBM] [Warning] early_stopping_round is set=100, early_stopping_rounds=100 will be ignored. Current value: early_stopping_round=100\n",
      "[100]\tvalid_0's binary_logloss: 0.551904\tvalid_0's amex: 0.144713\n",
      "[LightGBM] [Warning] early_stopping_round is set=100, early_stopping_rounds=100 will be ignored. Current value: early_stopping_round=100\n",
      "[100]\tvalid_0's binary_logloss: 0.551913\tvalid_0's amex: 0.143823\n",
      "[LightGBM] [Warning] early_stopping_round is set=100, early_stopping_rounds=100 will be ignored. Current value: early_stopping_round=100\n",
      "[100]\tvalid_0's binary_logloss: 0.551913\tvalid_0's amex: 0.143823\n",
      "------ FOLD: 2 of 5 -------\n",
      "[LightGBM] [Warning] early_stopping_round is set=100, early_stopping_rounds=100 will be ignored. Current value: early_stopping_round=100\n",
      "[100]\tvalid_0's binary_logloss: 0.552288\tvalid_0's amex: 0.140943\n",
      "[200]\tvalid_0's binary_logloss: 0.552265\tvalid_0's amex: 0.1409\n",
      "[300]\tvalid_0's binary_logloss: 0.552261\tvalid_0's amex: 0.141569\n",
      "[LightGBM] [Warning] early_stopping_round is set=100, early_stopping_rounds=100 will be ignored. Current value: early_stopping_round=100\n",
      "[100]\tvalid_0's binary_logloss: 0.562593\tvalid_0's amex: 0.083185\n",
      "[200]\tvalid_0's binary_logloss: 0.56259\tvalid_0's amex: 0.0833131\n",
      "[LightGBM] [Warning] early_stopping_round is set=100, early_stopping_rounds=100 will be ignored. Current value: early_stopping_round=100\n",
      "[100]\tvalid_0's binary_logloss: 0.562601\tvalid_0's amex: 0.0832021\n",
      "[200]\tvalid_0's binary_logloss: 0.56259\tvalid_0's amex: 0.0831817\n",
      "[LightGBM] [Warning] early_stopping_round is set=100, early_stopping_rounds=100 will be ignored. Current value: early_stopping_round=100\n",
      "[100]\tvalid_0's binary_logloss: 0.562596\tvalid_0's amex: 0.0832058\n",
      "[200]\tvalid_0's binary_logloss: 0.562595\tvalid_0's amex: 0.0832139\n",
      "[LightGBM] [Warning] early_stopping_round is set=100, early_stopping_rounds=100 will be ignored. Current value: early_stopping_round=100\n",
      "[100]\tvalid_0's binary_logloss: 0.562594\tvalid_0's amex: 0.082989\n",
      "[LightGBM] [Warning] early_stopping_round is set=100, early_stopping_rounds=100 will be ignored. Current value: early_stopping_round=100\n",
      "[100]\tvalid_0's binary_logloss: 0.552212\tvalid_0's amex: 0.142257\n",
      "[LightGBM] [Warning] early_stopping_round is set=100, early_stopping_rounds=100 will be ignored. Current value: early_stopping_round=100\n",
      "[100]\tvalid_0's binary_logloss: 0.552284\tvalid_0's amex: 0.14088\n",
      "[LightGBM] [Warning] early_stopping_round is set=100, early_stopping_rounds=100 will be ignored. Current value: early_stopping_round=100\n",
      "[100]\tvalid_0's binary_logloss: 0.552284\tvalid_0's amex: 0.14088\n",
      "------ FOLD: 3 of 5 -------\n",
      "[LightGBM] [Warning] early_stopping_round is set=100, early_stopping_rounds=100 will be ignored. Current value: early_stopping_round=100\n",
      "[100]\tvalid_0's binary_logloss: 0.552347\tvalid_0's amex: 0.143215\n",
      "[LightGBM] [Warning] early_stopping_round is set=100, early_stopping_rounds=100 will be ignored. Current value: early_stopping_round=100\n",
      "[100]\tvalid_0's binary_logloss: 0.562238\tvalid_0's amex: 0.0832079\n",
      "[LightGBM] [Warning] early_stopping_round is set=100, early_stopping_rounds=100 will be ignored. Current value: early_stopping_round=100\n",
      "[100]\tvalid_0's binary_logloss: 0.56225\tvalid_0's amex: 0.0831558\n",
      "[LightGBM] [Warning] early_stopping_round is set=100, early_stopping_rounds=100 will be ignored. Current value: early_stopping_round=100\n",
      "[100]\tvalid_0's binary_logloss: 0.562249\tvalid_0's amex: 0.0831546\n",
      "[LightGBM] [Warning] early_stopping_round is set=100, early_stopping_rounds=100 will be ignored. Current value: early_stopping_round=100\n",
      "[100]\tvalid_0's binary_logloss: 0.562239\tvalid_0's amex: 0.0833274\n",
      "[200]\tvalid_0's binary_logloss: 0.562211\tvalid_0's amex: 0.083295\n",
      "[LightGBM] [Warning] early_stopping_round is set=100, early_stopping_rounds=100 will be ignored. Current value: early_stopping_round=100\n",
      "[100]\tvalid_0's binary_logloss: 0.552301\tvalid_0's amex: 0.1436\n",
      "[LightGBM] [Warning] early_stopping_round is set=100, early_stopping_rounds=100 will be ignored. Current value: early_stopping_round=100\n",
      "[100]\tvalid_0's binary_logloss: 0.552339\tvalid_0's amex: 0.143407\n",
      "[LightGBM] [Warning] early_stopping_round is set=100, early_stopping_rounds=100 will be ignored. Current value: early_stopping_round=100\n",
      "[100]\tvalid_0's binary_logloss: 0.552339\tvalid_0's amex: 0.143407\n",
      "------ FOLD: 4 of 5 -------\n",
      "[LightGBM] [Warning] early_stopping_round is set=100, early_stopping_rounds=100 will be ignored. Current value: early_stopping_round=100\n",
      "[100]\tvalid_0's binary_logloss: 0.551389\tvalid_0's amex: 0.147494\n",
      "[200]\tvalid_0's binary_logloss: 0.551318\tvalid_0's amex: 0.146745\n",
      "[LightGBM] [Warning] early_stopping_round is set=100, early_stopping_rounds=100 will be ignored. Current value: early_stopping_round=100\n",
      "[100]\tvalid_0's binary_logloss: 0.561837\tvalid_0's amex: 0.0845529\n",
      "[200]\tvalid_0's binary_logloss: 0.561773\tvalid_0's amex: 0.0846441\n",
      "[LightGBM] [Warning] early_stopping_round is set=100, early_stopping_rounds=100 will be ignored. Current value: early_stopping_round=100\n",
      "[100]\tvalid_0's binary_logloss: 0.561831\tvalid_0's amex: 0.0845843\n",
      "[LightGBM] [Warning] early_stopping_round is set=100, early_stopping_rounds=100 will be ignored. Current value: early_stopping_round=100\n",
      "[100]\tvalid_0's binary_logloss: 0.561831\tvalid_0's amex: 0.0845365\n",
      "[LightGBM] [Warning] early_stopping_round is set=100, early_stopping_rounds=100 will be ignored. Current value: early_stopping_round=100\n",
      "[100]\tvalid_0's binary_logloss: 0.56185\tvalid_0's amex: 0.0844842\n",
      "[200]\tvalid_0's binary_logloss: 0.561785\tvalid_0's amex: 0.0846967\n",
      "[300]\tvalid_0's binary_logloss: 0.56178\tvalid_0's amex: 0.0848069\n",
      "[LightGBM] [Warning] early_stopping_round is set=100, early_stopping_rounds=100 will be ignored. Current value: early_stopping_round=100\n",
      "[100]\tvalid_0's binary_logloss: 0.551421\tvalid_0's amex: 0.146995\n",
      "[LightGBM] [Warning] early_stopping_round is set=100, early_stopping_rounds=100 will be ignored. Current value: early_stopping_round=100\n",
      "[100]\tvalid_0's binary_logloss: 0.551413\tvalid_0's amex: 0.146666\n",
      "[LightGBM] [Warning] early_stopping_round is set=100, early_stopping_rounds=100 will be ignored. Current value: early_stopping_round=100\n",
      "[100]\tvalid_0's binary_logloss: 0.551413\tvalid_0's amex: 0.146666\n",
      "------ FOLD: 5 of 5 -------\n",
      "[LightGBM] [Warning] early_stopping_round is set=100, early_stopping_rounds=100 will be ignored. Current value: early_stopping_round=100\n",
      "[100]\tvalid_0's binary_logloss: 0.551294\tvalid_0's amex: 0.148104\n",
      "[200]\tvalid_0's binary_logloss: 0.551216\tvalid_0's amex: 0.148094\n",
      "[LightGBM] [Warning] early_stopping_round is set=100, early_stopping_rounds=100 will be ignored. Current value: early_stopping_round=100\n",
      "[100]\tvalid_0's binary_logloss: 0.562657\tvalid_0's amex: 0.0840776\n",
      "[LightGBM] [Warning] early_stopping_round is set=100, early_stopping_rounds=100 will be ignored. Current value: early_stopping_round=100\n",
      "[100]\tvalid_0's binary_logloss: 0.562656\tvalid_0's amex: 0.0836682\n",
      "[LightGBM] [Warning] early_stopping_round is set=100, early_stopping_rounds=100 will be ignored. Current value: early_stopping_round=100\n",
      "[100]\tvalid_0's binary_logloss: 0.562661\tvalid_0's amex: 0.0836671\n",
      "[LightGBM] [Warning] early_stopping_round is set=100, early_stopping_rounds=100 will be ignored. Current value: early_stopping_round=100\n",
      "[100]\tvalid_0's binary_logloss: 0.562698\tvalid_0's amex: 0.0836111\n",
      "[LightGBM] [Warning] early_stopping_round is set=100, early_stopping_rounds=100 will be ignored. Current value: early_stopping_round=100\n",
      "[100]\tvalid_0's binary_logloss: 0.551282\tvalid_0's amex: 0.147864\n",
      "[LightGBM] [Warning] early_stopping_round is set=100, early_stopping_rounds=100 will be ignored. Current value: early_stopping_round=100\n",
      "[100]\tvalid_0's binary_logloss: 0.551305\tvalid_0's amex: 0.147713\n",
      "[200]\tvalid_0's binary_logloss: 0.551222\tvalid_0's amex: 0.148036\n",
      "[300]\tvalid_0's binary_logloss: 0.551205\tvalid_0's amex: 0.147452\n",
      "[LightGBM] [Warning] early_stopping_round is set=100, early_stopping_rounds=100 will be ignored. Current value: early_stopping_round=100\n",
      "[100]\tvalid_0's binary_logloss: 0.551305\tvalid_0's amex: 0.147713\n",
      "[200]\tvalid_0's binary_logloss: 0.551222\tvalid_0's amex: 0.148036\n",
      "[300]\tvalid_0's binary_logloss: 0.551205\tvalid_0's amex: 0.147452\n"
     ]
    },
    {
     "data": {
      "text/html": [
       "<h3>['D_138'] OVERALL SCORE : 14.508</h3>"
      ],
      "text/plain": [
       "<IPython.core.display.HTML object>"
      ]
     },
     "metadata": {},
     "output_type": "display_data"
    },
    {
     "data": {
      "text/html": [
       "<h3>['D_138_global_mean'] OVERALL SCORE : 8.435</h3>"
      ],
      "text/plain": [
       "<IPython.core.display.HTML object>"
      ]
     },
     "metadata": {},
     "output_type": "display_data"
    },
    {
     "data": {
      "text/html": [
       "<h3>['D_138_global_min'] OVERALL SCORE : 8.421</h3>"
      ],
      "text/plain": [
       "<IPython.core.display.HTML object>"
      ]
     },
     "metadata": {},
     "output_type": "display_data"
    },
    {
     "data": {
      "text/html": [
       "<h3>['D_138_global_max'] OVERALL SCORE : 8.416</h3>"
      ],
      "text/plain": [
       "<IPython.core.display.HTML object>"
      ]
     },
     "metadata": {},
     "output_type": "display_data"
    },
    {
     "data": {
      "text/html": [
       "<h3>['D_138_global_median'] OVERALL SCORE : 8.454</h3>"
      ],
      "text/plain": [
       "<IPython.core.display.HTML object>"
      ]
     },
     "metadata": {},
     "output_type": "display_data"
    },
    {
     "data": {
      "text/html": [
       "<h3>['D_138_local_mean'] OVERALL SCORE : 14.576</h3>"
      ],
      "text/plain": [
       "<IPython.core.display.HTML object>"
      ]
     },
     "metadata": {},
     "output_type": "display_data"
    },
    {
     "data": {
      "text/html": [
       "<h3>['D_138_local_linear_interpolate'] OVERALL SCORE : 14.505</h3>"
      ],
      "text/plain": [
       "<IPython.core.display.HTML object>"
      ]
     },
     "metadata": {},
     "output_type": "display_data"
    },
    {
     "data": {
      "text/html": [
       "<h3>['D_138_local_nearest_interpolate'] OVERALL SCORE : 14.505</h3>"
      ],
      "text/plain": [
       "<IPython.core.display.HTML object>"
      ]
     },
     "metadata": {},
     "output_type": "display_data"
    },
    {
     "name": "stdout",
     "output_type": "stream",
     "text": [
      "-------------------------------------\n"
     ]
    },
    {
     "data": {
      "text/html": [
       "<h2>B_42</h2>"
      ],
      "text/plain": [
       "<IPython.core.display.HTML object>"
      ]
     },
     "metadata": {},
     "output_type": "display_data"
    },
    {
     "name": "stdout",
     "output_type": "stream",
     "text": [
      "--- B_42   :  has 5459973 nan ---\n",
      "------ FOLD: 1 of 5 -------\n",
      "[LightGBM] [Warning] early_stopping_round is set=100, early_stopping_rounds=100 will be ignored. Current value: early_stopping_round=100\n",
      "[100]\tvalid_0's binary_logloss: 0.570297\tvalid_0's amex: 0.0267728\n",
      "[200]\tvalid_0's binary_logloss: 0.570231\tvalid_0's amex: 0.0268659\n",
      "[LightGBM] [Warning] early_stopping_round is set=100, early_stopping_rounds=100 will be ignored. Current value: early_stopping_round=100\n",
      "[100]\tvalid_0's binary_logloss: 0.571564\tvalid_0's amex: 0.0229323\n",
      "[200]\tvalid_0's binary_logloss: 0.571555\tvalid_0's amex: 0.0229331\n",
      "[LightGBM] [Warning] early_stopping_round is set=100, early_stopping_rounds=100 will be ignored. Current value: early_stopping_round=100\n",
      "[100]\tvalid_0's binary_logloss: 0.570312\tvalid_0's amex: 0.0251665\n",
      "[LightGBM] [Warning] early_stopping_round is set=100, early_stopping_rounds=100 will be ignored. Current value: early_stopping_round=100\n",
      "[100]\tvalid_0's binary_logloss: 0.570063\tvalid_0's amex: 0.026253\n",
      "[200]\tvalid_0's binary_logloss: 0.570018\tvalid_0's amex: 0.0264775\n",
      "[LightGBM] [Warning] early_stopping_round is set=100, early_stopping_rounds=100 will be ignored. Current value: early_stopping_round=100\n",
      "[100]\tvalid_0's binary_logloss: 0.571761\tvalid_0's amex: 0.0249213\n",
      "[LightGBM] [Warning] early_stopping_round is set=100, early_stopping_rounds=100 will be ignored. Current value: early_stopping_round=100\n",
      "[100]\tvalid_0's binary_logloss: 0.571578\tvalid_0's amex: 0.022879\n",
      "[200]\tvalid_0's binary_logloss: 0.571523\tvalid_0's amex: 0.0228795\n",
      "[300]\tvalid_0's binary_logloss: 0.571474\tvalid_0's amex: 0.0228784\n",
      "[LightGBM] [Warning] early_stopping_round is set=100, early_stopping_rounds=100 will be ignored. Current value: early_stopping_round=100\n",
      "[100]\tvalid_0's binary_logloss: 0.571579\tvalid_0's amex: 0.022879\n",
      "[200]\tvalid_0's binary_logloss: 0.571522\tvalid_0's amex: 0.0228797\n",
      "[300]\tvalid_0's binary_logloss: 0.571472\tvalid_0's amex: 0.0228783\n",
      "[LightGBM] [Warning] early_stopping_round is set=100, early_stopping_rounds=100 will be ignored. Current value: early_stopping_round=100\n",
      "[100]\tvalid_0's binary_logloss: 0.571579\tvalid_0's amex: 0.022879\n",
      "[200]\tvalid_0's binary_logloss: 0.571522\tvalid_0's amex: 0.0228797\n",
      "[300]\tvalid_0's binary_logloss: 0.571472\tvalid_0's amex: 0.0228783\n",
      "------ FOLD: 2 of 5 -------\n",
      "[LightGBM] [Warning] early_stopping_round is set=100, early_stopping_rounds=100 will be ignored. Current value: early_stopping_round=100\n",
      "[100]\tvalid_0's binary_logloss: 0.570293\tvalid_0's amex: 0.0252921\n",
      "[200]\tvalid_0's binary_logloss: 0.570241\tvalid_0's amex: 0.0249977\n",
      "[LightGBM] [Warning] early_stopping_round is set=100, early_stopping_rounds=100 will be ignored. Current value: early_stopping_round=100\n",
      "[100]\tvalid_0's binary_logloss: 0.571561\tvalid_0's amex: 0.0221776\n",
      "[LightGBM] [Warning] early_stopping_round is set=100, early_stopping_rounds=100 will be ignored. Current value: early_stopping_round=100\n",
      "[100]\tvalid_0's binary_logloss: 0.570364\tvalid_0's amex: 0.0244125\n",
      "[LightGBM] [Warning] early_stopping_round is set=100, early_stopping_rounds=100 will be ignored. Current value: early_stopping_round=100\n",
      "[100]\tvalid_0's binary_logloss: 0.570041\tvalid_0's amex: 0.025657\n",
      "[LightGBM] [Warning] early_stopping_round is set=100, early_stopping_rounds=100 will be ignored. Current value: early_stopping_round=100\n",
      "[100]\tvalid_0's binary_logloss: 0.571813\tvalid_0's amex: 0.0243002\n",
      "[LightGBM] [Warning] early_stopping_round is set=100, early_stopping_rounds=100 will be ignored. Current value: early_stopping_round=100\n",
      "[100]\tvalid_0's binary_logloss: 0.571534\tvalid_0's amex: 0.0226147\n",
      "[200]\tvalid_0's binary_logloss: 0.571464\tvalid_0's amex: 0.0226142\n",
      "[LightGBM] [Warning] early_stopping_round is set=100, early_stopping_rounds=100 will be ignored. Current value: early_stopping_round=100\n",
      "[100]\tvalid_0's binary_logloss: 0.571533\tvalid_0's amex: 0.0225249\n",
      "[LightGBM] [Warning] early_stopping_round is set=100, early_stopping_rounds=100 will be ignored. Current value: early_stopping_round=100\n",
      "[100]\tvalid_0's binary_logloss: 0.571533\tvalid_0's amex: 0.0225249\n",
      "------ FOLD: 3 of 5 -------\n",
      "[LightGBM] [Warning] early_stopping_round is set=100, early_stopping_rounds=100 will be ignored. Current value: early_stopping_round=100\n",
      "[100]\tvalid_0's binary_logloss: 0.570284\tvalid_0's amex: 0.0301476\n",
      "[200]\tvalid_0's binary_logloss: 0.570134\tvalid_0's amex: 0.0303437\n",
      "[300]\tvalid_0's binary_logloss: 0.570038\tvalid_0's amex: 0.030843\n",
      "[400]\tvalid_0's binary_logloss: 0.570018\tvalid_0's amex: 0.0310501\n",
      "[500]\tvalid_0's binary_logloss: 0.570004\tvalid_0's amex: 0.0310957\n",
      "[LightGBM] [Warning] early_stopping_round is set=100, early_stopping_rounds=100 will be ignored. Current value: early_stopping_round=100\n",
      "[100]\tvalid_0's binary_logloss: 0.571605\tvalid_0's amex: 0.0266201\n",
      "[200]\tvalid_0's binary_logloss: 0.571588\tvalid_0's amex: 0.0266206\n",
      "[300]\tvalid_0's binary_logloss: 0.571572\tvalid_0's amex: 0.0266216\n",
      "[400]\tvalid_0's binary_logloss: 0.571556\tvalid_0's amex: 0.0266217\n",
      "[LightGBM] [Warning] early_stopping_round is set=100, early_stopping_rounds=100 will be ignored. Current value: early_stopping_round=100\n",
      "[100]\tvalid_0's binary_logloss: 0.570334\tvalid_0's amex: 0.0293587\n",
      "[LightGBM] [Warning] early_stopping_round is set=100, early_stopping_rounds=100 will be ignored. Current value: early_stopping_round=100\n",
      "[100]\tvalid_0's binary_logloss: 0.570018\tvalid_0's amex: 0.0306802\n",
      "[LightGBM] [Warning] early_stopping_round is set=100, early_stopping_rounds=100 will be ignored. Current value: early_stopping_round=100\n",
      "[100]\tvalid_0's binary_logloss: 0.571747\tvalid_0's amex: 0.0291009\n",
      "[LightGBM] [Warning] early_stopping_round is set=100, early_stopping_rounds=100 will be ignored. Current value: early_stopping_round=100\n",
      "[100]\tvalid_0's binary_logloss: 0.571606\tvalid_0's amex: 0.0267781\n",
      "[200]\tvalid_0's binary_logloss: 0.57153\tvalid_0's amex: 0.0267783\n",
      "[LightGBM] [Warning] early_stopping_round is set=100, early_stopping_rounds=100 will be ignored. Current value: early_stopping_round=100\n",
      "[100]\tvalid_0's binary_logloss: 0.571605\tvalid_0's amex: 0.0267734\n",
      "[200]\tvalid_0's binary_logloss: 0.571529\tvalid_0's amex: 0.0267697\n",
      "[LightGBM] [Warning] early_stopping_round is set=100, early_stopping_rounds=100 will be ignored. Current value: early_stopping_round=100\n",
      "[100]\tvalid_0's binary_logloss: 0.571605\tvalid_0's amex: 0.0267734\n",
      "[200]\tvalid_0's binary_logloss: 0.571529\tvalid_0's amex: 0.0267697\n",
      "------ FOLD: 4 of 5 -------\n",
      "[LightGBM] [Warning] early_stopping_round is set=100, early_stopping_rounds=100 will be ignored. Current value: early_stopping_round=100\n",
      "[100]\tvalid_0's binary_logloss: 0.570463\tvalid_0's amex: 0.0303973\n",
      "[LightGBM] [Warning] early_stopping_round is set=100, early_stopping_rounds=100 will be ignored. Current value: early_stopping_round=100\n",
      "[100]\tvalid_0's binary_logloss: 0.571608\tvalid_0's amex: 0.0273456\n",
      "[LightGBM] [Warning] early_stopping_round is set=100, early_stopping_rounds=100 will be ignored. Current value: early_stopping_round=100\n",
      "[100]\tvalid_0's binary_logloss: 0.57048\tvalid_0's amex: 0.0298597\n",
      "[LightGBM] [Warning] early_stopping_round is set=100, early_stopping_rounds=100 will be ignored. Current value: early_stopping_round=100\n",
      "[100]\tvalid_0's binary_logloss: 0.570139\tvalid_0's amex: 0.0306968\n",
      "[LightGBM] [Warning] early_stopping_round is set=100, early_stopping_rounds=100 will be ignored. Current value: early_stopping_round=100\n",
      "[100]\tvalid_0's binary_logloss: 0.571751\tvalid_0's amex: 0.0293686\n",
      "[LightGBM] [Warning] early_stopping_round is set=100, early_stopping_rounds=100 will be ignored. Current value: early_stopping_round=100\n",
      "[100]\tvalid_0's binary_logloss: 0.571613\tvalid_0's amex: 0.0272848\n",
      "[LightGBM] [Warning] early_stopping_round is set=100, early_stopping_rounds=100 will be ignored. Current value: early_stopping_round=100\n",
      "[100]\tvalid_0's binary_logloss: 0.571614\tvalid_0's amex: 0.0271968\n",
      "[200]\tvalid_0's binary_logloss: 0.571557\tvalid_0's amex: 0.0271973\n",
      "[300]\tvalid_0's binary_logloss: 0.571506\tvalid_0's amex: 0.0271988\n",
      "[LightGBM] [Warning] early_stopping_round is set=100, early_stopping_rounds=100 will be ignored. Current value: early_stopping_round=100\n",
      "[100]\tvalid_0's binary_logloss: 0.571614\tvalid_0's amex: 0.0271968\n",
      "[200]\tvalid_0's binary_logloss: 0.571557\tvalid_0's amex: 0.0271973\n",
      "[300]\tvalid_0's binary_logloss: 0.571506\tvalid_0's amex: 0.0271988\n",
      "------ FOLD: 5 of 5 -------\n",
      "[LightGBM] [Warning] early_stopping_round is set=100, early_stopping_rounds=100 will be ignored. Current value: early_stopping_round=100\n",
      "[100]\tvalid_0's binary_logloss: 0.570316\tvalid_0's amex: 0.0266237\n",
      "[200]\tvalid_0's binary_logloss: 0.570059\tvalid_0's amex: 0.027782\n",
      "[LightGBM] [Warning] early_stopping_round is set=100, early_stopping_rounds=100 will be ignored. Current value: early_stopping_round=100\n",
      "[100]\tvalid_0's binary_logloss: 0.571748\tvalid_0's amex: 0.0234313\n",
      "[LightGBM] [Warning] early_stopping_round is set=100, early_stopping_rounds=100 will be ignored. Current value: early_stopping_round=100\n",
      "[100]\tvalid_0's binary_logloss: 0.5704\tvalid_0's amex: 0.0265109\n",
      "[200]\tvalid_0's binary_logloss: 0.570265\tvalid_0's amex: 0.0265595\n",
      "[LightGBM] [Warning] early_stopping_round is set=100, early_stopping_rounds=100 will be ignored. Current value: early_stopping_round=100\n",
      "[100]\tvalid_0's binary_logloss: 0.569975\tvalid_0's amex: 0.0278524\n",
      "[LightGBM] [Warning] early_stopping_round is set=100, early_stopping_rounds=100 will be ignored. Current value: early_stopping_round=100\n",
      "[100]\tvalid_0's binary_logloss: 0.571813\tvalid_0's amex: 0.0264208\n",
      "[LightGBM] [Warning] early_stopping_round is set=100, early_stopping_rounds=100 will be ignored. Current value: early_stopping_round=100\n",
      "[100]\tvalid_0's binary_logloss: 0.571726\tvalid_0's amex: 0.0235644\n",
      "[LightGBM] [Warning] early_stopping_round is set=100, early_stopping_rounds=100 will be ignored. Current value: early_stopping_round=100\n",
      "[100]\tvalid_0's binary_logloss: 0.571724\tvalid_0's amex: 0.0235662\n",
      "[200]\tvalid_0's binary_logloss: 0.571683\tvalid_0's amex: 0.02357\n",
      "[300]\tvalid_0's binary_logloss: 0.571645\tvalid_0's amex: 0.0235729\n",
      "[LightGBM] [Warning] early_stopping_round is set=100, early_stopping_rounds=100 will be ignored. Current value: early_stopping_round=100\n",
      "[100]\tvalid_0's binary_logloss: 0.571724\tvalid_0's amex: 0.0235662\n",
      "[200]\tvalid_0's binary_logloss: 0.571683\tvalid_0's amex: 0.02357\n",
      "[300]\tvalid_0's binary_logloss: 0.571645\tvalid_0's amex: 0.0235729\n"
     ]
    },
    {
     "data": {
      "text/html": [
       "<h3>['B_42'] OVERALL SCORE : 2.835</h3>"
      ],
      "text/plain": [
       "<IPython.core.display.HTML object>"
      ]
     },
     "metadata": {},
     "output_type": "display_data"
    },
    {
     "data": {
      "text/html": [
       "<h3>['B_42_global_mean'] OVERALL SCORE : 2.450</h3>"
      ],
      "text/plain": [
       "<IPython.core.display.HTML object>"
      ]
     },
     "metadata": {},
     "output_type": "display_data"
    },
    {
     "data": {
      "text/html": [
       "<h3>['B_42_global_min'] OVERALL SCORE : 2.753</h3>"
      ],
      "text/plain": [
       "<IPython.core.display.HTML object>"
      ]
     },
     "metadata": {},
     "output_type": "display_data"
    },
    {
     "data": {
      "text/html": [
       "<h3>['B_42_global_max'] OVERALL SCORE : 2.860</h3>"
      ],
      "text/plain": [
       "<IPython.core.display.HTML object>"
      ]
     },
     "metadata": {},
     "output_type": "display_data"
    },
    {
     "data": {
      "text/html": [
       "<h3>['B_42_global_median'] OVERALL SCORE : 2.684</h3>"
      ],
      "text/plain": [
       "<IPython.core.display.HTML object>"
      ]
     },
     "metadata": {},
     "output_type": "display_data"
    },
    {
     "data": {
      "text/html": [
       "<h3>['B_42_local_mean'] OVERALL SCORE : 2.462</h3>"
      ],
      "text/plain": [
       "<IPython.core.display.HTML object>"
      ]
     },
     "metadata": {},
     "output_type": "display_data"
    },
    {
     "data": {
      "text/html": [
       "<h3>['B_42_local_linear_interpolate'] OVERALL SCORE : 2.459</h3>"
      ],
      "text/plain": [
       "<IPython.core.display.HTML object>"
      ]
     },
     "metadata": {},
     "output_type": "display_data"
    },
    {
     "data": {
      "text/html": [
       "<h3>['B_42_local_nearest_interpolate'] OVERALL SCORE : 2.459</h3>"
      ],
      "text/plain": [
       "<IPython.core.display.HTML object>"
      ]
     },
     "metadata": {},
     "output_type": "display_data"
    },
    {
     "name": "stdout",
     "output_type": "stream",
     "text": [
      "-------------------------------------\n"
     ]
    },
    {
     "data": {
      "text/html": [
       "<h2>D_73</h2>"
      ],
      "text/plain": [
       "<IPython.core.display.HTML object>"
      ]
     },
     "metadata": {},
     "output_type": "display_data"
    },
    {
     "name": "stdout",
     "output_type": "stream",
     "text": [
      "--- D_73   :  has 5475595 nan ---\n",
      "------ FOLD: 1 of 5 -------\n",
      "[LightGBM] [Warning] early_stopping_round is set=100, early_stopping_rounds=100 will be ignored. Current value: early_stopping_round=100\n",
      "[100]\tvalid_0's binary_logloss: 0.570876\tvalid_0's amex: 0.0312687\n",
      "[LightGBM] [Warning] early_stopping_round is set=100, early_stopping_rounds=100 will be ignored. Current value: early_stopping_round=100\n",
      "[100]\tvalid_0's binary_logloss: 0.659744\tvalid_0's amex: 0.0173451\n",
      "[LightGBM] [Warning] early_stopping_round is set=100, early_stopping_rounds=100 will be ignored. Current value: early_stopping_round=100\n",
      "[100]\tvalid_0's binary_logloss: 0.571626\tvalid_0's amex: 0.0240037\n",
      "[LightGBM] [Warning] early_stopping_round is set=100, early_stopping_rounds=100 will be ignored. Current value: early_stopping_round=100\n",
      "[100]\tvalid_0's binary_logloss: 0.571539\tvalid_0's amex: 0.0235692\n",
      "[200]\tvalid_0's binary_logloss: 0.571538\tvalid_0's amex: 0.0239779\n",
      "[300]\tvalid_0's binary_logloss: 0.571538\tvalid_0's amex: 0.0239783\n",
      "[LightGBM] [Warning] early_stopping_round is set=100, early_stopping_rounds=100 will be ignored. Current value: early_stopping_round=100\n",
      "[100]\tvalid_0's binary_logloss: 0.659744\tvalid_0's amex: 0.0173451\n",
      "[LightGBM] [Warning] early_stopping_round is set=100, early_stopping_rounds=100 will be ignored. Current value: early_stopping_round=100\n",
      "[100]\tvalid_0's binary_logloss: 0.570895\tvalid_0's amex: 0.029955\n",
      "[LightGBM] [Warning] early_stopping_round is set=100, early_stopping_rounds=100 will be ignored. Current value: early_stopping_round=100\n",
      "[100]\tvalid_0's binary_logloss: 0.570895\tvalid_0's amex: 0.0300946\n",
      "[LightGBM] [Warning] early_stopping_round is set=100, early_stopping_rounds=100 will be ignored. Current value: early_stopping_round=100\n",
      "[100]\tvalid_0's binary_logloss: 0.570895\tvalid_0's amex: 0.0300946\n",
      "------ FOLD: 2 of 5 -------\n",
      "[LightGBM] [Warning] early_stopping_round is set=100, early_stopping_rounds=100 will be ignored. Current value: early_stopping_round=100\n",
      "[100]\tvalid_0's binary_logloss: 0.571037\tvalid_0's amex: 0.0340859\n",
      "[LightGBM] [Warning] early_stopping_round is set=100, early_stopping_rounds=100 will be ignored. Current value: early_stopping_round=100\n",
      "[100]\tvalid_0's binary_logloss: 0.659744\tvalid_0's amex: 0.0243236\n",
      "[LightGBM] [Warning] early_stopping_round is set=100, early_stopping_rounds=100 will be ignored. Current value: early_stopping_round=100\n",
      "[100]\tvalid_0's binary_logloss: 0.571619\tvalid_0's amex: 0.0292551\n",
      "[LightGBM] [Warning] early_stopping_round is set=100, early_stopping_rounds=100 will be ignored. Current value: early_stopping_round=100\n",
      "[100]\tvalid_0's binary_logloss: 0.571519\tvalid_0's amex: 0.0291991\n",
      "[LightGBM] [Warning] early_stopping_round is set=100, early_stopping_rounds=100 will be ignored. Current value: early_stopping_round=100\n",
      "[100]\tvalid_0's binary_logloss: 0.659744\tvalid_0's amex: 0.0243236\n",
      "[LightGBM] [Warning] early_stopping_round is set=100, early_stopping_rounds=100 will be ignored. Current value: early_stopping_round=100\n",
      "[100]\tvalid_0's binary_logloss: 0.571054\tvalid_0's amex: 0.032849\n",
      "[LightGBM] [Warning] early_stopping_round is set=100, early_stopping_rounds=100 will be ignored. Current value: early_stopping_round=100\n",
      "[100]\tvalid_0's binary_logloss: 0.571047\tvalid_0's amex: 0.0329995\n",
      "[LightGBM] [Warning] early_stopping_round is set=100, early_stopping_rounds=100 will be ignored. Current value: early_stopping_round=100\n",
      "[100]\tvalid_0's binary_logloss: 0.571047\tvalid_0's amex: 0.0329995\n",
      "------ FOLD: 3 of 5 -------\n",
      "[LightGBM] [Warning] early_stopping_round is set=100, early_stopping_rounds=100 will be ignored. Current value: early_stopping_round=100\n",
      "[100]\tvalid_0's binary_logloss: 0.570904\tvalid_0's amex: 0.0311599\n",
      "[LightGBM] [Warning] early_stopping_round is set=100, early_stopping_rounds=100 will be ignored. Current value: early_stopping_round=100\n",
      "[100]\tvalid_0's binary_logloss: 0.659744\tvalid_0's amex: 0.0205125\n",
      "[LightGBM] [Warning] early_stopping_round is set=100, early_stopping_rounds=100 will be ignored. Current value: early_stopping_round=100\n",
      "[100]\tvalid_0's binary_logloss: 0.571596\tvalid_0's amex: 0.0256968\n",
      "[200]\tvalid_0's binary_logloss: 0.571551\tvalid_0's amex: 0.0256992\n",
      "[300]\tvalid_0's binary_logloss: 0.571525\tvalid_0's amex: 0.0257001\n",
      "[LightGBM] [Warning] early_stopping_round is set=100, early_stopping_rounds=100 will be ignored. Current value: early_stopping_round=100\n",
      "[100]\tvalid_0's binary_logloss: 0.57153\tvalid_0's amex: 0.0251604\n",
      "[LightGBM] [Warning] early_stopping_round is set=100, early_stopping_rounds=100 will be ignored. Current value: early_stopping_round=100\n",
      "[100]\tvalid_0's binary_logloss: 0.659744\tvalid_0's amex: 0.0205125\n",
      "[LightGBM] [Warning] early_stopping_round is set=100, early_stopping_rounds=100 will be ignored. Current value: early_stopping_round=100\n",
      "[100]\tvalid_0's binary_logloss: 0.570904\tvalid_0's amex: 0.0304319\n",
      "[LightGBM] [Warning] early_stopping_round is set=100, early_stopping_rounds=100 will be ignored. Current value: early_stopping_round=100\n",
      "[100]\tvalid_0's binary_logloss: 0.570903\tvalid_0's amex: 0.0304392\n",
      "[LightGBM] [Warning] early_stopping_round is set=100, early_stopping_rounds=100 will be ignored. Current value: early_stopping_round=100\n",
      "[100]\tvalid_0's binary_logloss: 0.570903\tvalid_0's amex: 0.0304392\n",
      "------ FOLD: 4 of 5 -------\n",
      "[LightGBM] [Warning] early_stopping_round is set=100, early_stopping_rounds=100 will be ignored. Current value: early_stopping_round=100\n",
      "[100]\tvalid_0's binary_logloss: 0.57102\tvalid_0's amex: 0.0358432\n",
      "[LightGBM] [Warning] early_stopping_round is set=100, early_stopping_rounds=100 will be ignored. Current value: early_stopping_round=100\n",
      "[100]\tvalid_0's binary_logloss: 0.659724\tvalid_0's amex: 0.0238601\n",
      "[LightGBM] [Warning] early_stopping_round is set=100, early_stopping_rounds=100 will be ignored. Current value: early_stopping_round=100\n",
      "[100]\tvalid_0's binary_logloss: 0.57162\tvalid_0's amex: 0.0298831\n",
      "[LightGBM] [Warning] early_stopping_round is set=100, early_stopping_rounds=100 will be ignored. Current value: early_stopping_round=100\n",
      "[100]\tvalid_0's binary_logloss: 0.571569\tvalid_0's amex: 0.0298789\n",
      "[LightGBM] [Warning] early_stopping_round is set=100, early_stopping_rounds=100 will be ignored. Current value: early_stopping_round=100\n",
      "[100]\tvalid_0's binary_logloss: 0.659724\tvalid_0's amex: 0.0238601\n",
      "[LightGBM] [Warning] early_stopping_round is set=100, early_stopping_rounds=100 will be ignored. Current value: early_stopping_round=100\n",
      "[100]\tvalid_0's binary_logloss: 0.571047\tvalid_0's amex: 0.0350362\n",
      "[200]\tvalid_0's binary_logloss: 0.571048\tvalid_0's amex: 0.0350385\n",
      "[LightGBM] [Warning] early_stopping_round is set=100, early_stopping_rounds=100 will be ignored. Current value: early_stopping_round=100\n",
      "[100]\tvalid_0's binary_logloss: 0.571055\tvalid_0's amex: 0.0351042\n",
      "[200]\tvalid_0's binary_logloss: 0.571055\tvalid_0's amex: 0.0351046\n",
      "[LightGBM] [Warning] early_stopping_round is set=100, early_stopping_rounds=100 will be ignored. Current value: early_stopping_round=100\n",
      "[100]\tvalid_0's binary_logloss: 0.571055\tvalid_0's amex: 0.0351042\n",
      "[200]\tvalid_0's binary_logloss: 0.571055\tvalid_0's amex: 0.0351046\n",
      "------ FOLD: 5 of 5 -------\n",
      "[LightGBM] [Warning] early_stopping_round is set=100, early_stopping_rounds=100 will be ignored. Current value: early_stopping_round=100\n",
      "[100]\tvalid_0's binary_logloss: 0.57083\tvalid_0's amex: 0.0328691\n",
      "[LightGBM] [Warning] early_stopping_round is set=100, early_stopping_rounds=100 will be ignored. Current value: early_stopping_round=100\n",
      "[100]\tvalid_0's binary_logloss: 0.659724\tvalid_0's amex: 0.0204706\n",
      "[LightGBM] [Warning] early_stopping_round is set=100, early_stopping_rounds=100 will be ignored. Current value: early_stopping_round=100\n",
      "[100]\tvalid_0's binary_logloss: 0.571584\tvalid_0's amex: 0.0265421\n",
      "[LightGBM] [Warning] early_stopping_round is set=100, early_stopping_rounds=100 will be ignored. Current value: early_stopping_round=100\n",
      "[100]\tvalid_0's binary_logloss: 0.571465\tvalid_0's amex: 0.0268995\n",
      "[LightGBM] [Warning] early_stopping_round is set=100, early_stopping_rounds=100 will be ignored. Current value: early_stopping_round=100\n",
      "[100]\tvalid_0's binary_logloss: 0.659724\tvalid_0's amex: 0.0204706\n",
      "[LightGBM] [Warning] early_stopping_round is set=100, early_stopping_rounds=100 will be ignored. Current value: early_stopping_round=100\n",
      "[100]\tvalid_0's binary_logloss: 0.570846\tvalid_0's amex: 0.0323344\n",
      "[LightGBM] [Warning] early_stopping_round is set=100, early_stopping_rounds=100 will be ignored. Current value: early_stopping_round=100\n",
      "[100]\tvalid_0's binary_logloss: 0.570839\tvalid_0's amex: 0.0324227\n",
      "[LightGBM] [Warning] early_stopping_round is set=100, early_stopping_rounds=100 will be ignored. Current value: early_stopping_round=100\n",
      "[100]\tvalid_0's binary_logloss: 0.570839\tvalid_0's amex: 0.0324227\n"
     ]
    },
    {
     "data": {
      "text/html": [
       "<h3>['D_73'] OVERALL SCORE : 3.305</h3>"
      ],
      "text/plain": [
       "<IPython.core.display.HTML object>"
      ]
     },
     "metadata": {},
     "output_type": "display_data"
    },
    {
     "data": {
      "text/html": [
       "<h3>['D_73_global_mean'] OVERALL SCORE : 2.130</h3>"
      ],
      "text/plain": [
       "<IPython.core.display.HTML object>"
      ]
     },
     "metadata": {},
     "output_type": "display_data"
    },
    {
     "data": {
      "text/html": [
       "<h3>['D_73_global_min'] OVERALL SCORE : 2.708</h3>"
      ],
      "text/plain": [
       "<IPython.core.display.HTML object>"
      ]
     },
     "metadata": {},
     "output_type": "display_data"
    },
    {
     "data": {
      "text/html": [
       "<h3>['D_73_global_max'] OVERALL SCORE : 2.709</h3>"
      ],
      "text/plain": [
       "<IPython.core.display.HTML object>"
      ]
     },
     "metadata": {},
     "output_type": "display_data"
    },
    {
     "data": {
      "text/html": [
       "<h3>['D_73_global_median'] OVERALL SCORE : 2.130</h3>"
      ],
      "text/plain": [
       "<IPython.core.display.HTML object>"
      ]
     },
     "metadata": {},
     "output_type": "display_data"
    },
    {
     "data": {
      "text/html": [
       "<h3>['D_73_local_mean'] OVERALL SCORE : 3.221</h3>"
      ],
      "text/plain": [
       "<IPython.core.display.HTML object>"
      ]
     },
     "metadata": {},
     "output_type": "display_data"
    },
    {
     "data": {
      "text/html": [
       "<h3>['D_73_local_linear_interpolate'] OVERALL SCORE : 3.228</h3>"
      ],
      "text/plain": [
       "<IPython.core.display.HTML object>"
      ]
     },
     "metadata": {},
     "output_type": "display_data"
    },
    {
     "data": {
      "text/html": [
       "<h3>['D_73_local_nearest_interpolate'] OVERALL SCORE : 3.228</h3>"
      ],
      "text/plain": [
       "<IPython.core.display.HTML object>"
      ]
     },
     "metadata": {},
     "output_type": "display_data"
    },
    {
     "name": "stdout",
     "output_type": "stream",
     "text": [
      "-------------------------------------\n"
     ]
    },
    {
     "data": {
      "text/html": [
       "<h2>B_39</h2>"
      ],
      "text/plain": [
       "<IPython.core.display.HTML object>"
      ]
     },
     "metadata": {},
     "output_type": "display_data"
    },
    {
     "name": "stdout",
     "output_type": "stream",
     "text": [
      "--- B_39   :  has 5497819 nan ---\n",
      "------ FOLD: 1 of 5 -------\n",
      "[LightGBM] [Warning] early_stopping_round is set=100, early_stopping_rounds=100 will be ignored. Current value: early_stopping_round=100\n",
      "[100]\tvalid_0's binary_logloss: 0.57042\tvalid_0's amex: 0.036948\n",
      "[200]\tvalid_0's binary_logloss: 0.570419\tvalid_0's amex: 0.0369499\n",
      "[LightGBM] [Warning] early_stopping_round is set=100, early_stopping_rounds=100 will be ignored. Current value: early_stopping_round=100\n",
      "[100]\tvalid_0's binary_logloss: 0.659744\tvalid_0's amex: 0.0255025\n",
      "[LightGBM] [Warning] early_stopping_round is set=100, early_stopping_rounds=100 will be ignored. Current value: early_stopping_round=100\n",
      "[100]\tvalid_0's binary_logloss: 0.570498\tvalid_0's amex: 0.0369429\n",
      "[200]\tvalid_0's binary_logloss: 0.570497\tvalid_0's amex: 0.0369432\n",
      "[LightGBM] [Warning] early_stopping_round is set=100, early_stopping_rounds=100 will be ignored. Current value: early_stopping_round=100\n",
      "[100]\tvalid_0's binary_logloss: 0.570448\tvalid_0's amex: 0.0368358\n",
      "[LightGBM] [Warning] early_stopping_round is set=100, early_stopping_rounds=100 will be ignored. Current value: early_stopping_round=100\n",
      "[100]\tvalid_0's binary_logloss: 0.659744\tvalid_0's amex: 0.0255025\n",
      "[LightGBM] [Warning] early_stopping_round is set=100, early_stopping_rounds=100 will be ignored. Current value: early_stopping_round=100\n",
      "[100]\tvalid_0's binary_logloss: 0.659744\tvalid_0's amex: 0.0255025\n",
      "[LightGBM] [Warning] early_stopping_round is set=100, early_stopping_rounds=100 will be ignored. Current value: early_stopping_round=100\n",
      "[100]\tvalid_0's binary_logloss: 0.659744\tvalid_0's amex: 0.0255025\n",
      "[LightGBM] [Warning] early_stopping_round is set=100, early_stopping_rounds=100 will be ignored. Current value: early_stopping_round=100\n",
      "[100]\tvalid_0's binary_logloss: 0.659744\tvalid_0's amex: 0.0255025\n",
      "------ FOLD: 2 of 5 -------\n",
      "[LightGBM] [Warning] early_stopping_round is set=100, early_stopping_rounds=100 will be ignored. Current value: early_stopping_round=100\n",
      "[100]\tvalid_0's binary_logloss: 0.570301\tvalid_0's amex: 0.035635\n",
      "[LightGBM] [Warning] early_stopping_round is set=100, early_stopping_rounds=100 will be ignored. Current value: early_stopping_round=100\n",
      "[100]\tvalid_0's binary_logloss: 0.659744\tvalid_0's amex: 0.0234673\n",
      "[LightGBM] [Warning] early_stopping_round is set=100, early_stopping_rounds=100 will be ignored. Current value: early_stopping_round=100\n",
      "[100]\tvalid_0's binary_logloss: 0.570345\tvalid_0's amex: 0.0356325\n",
      "[LightGBM] [Warning] early_stopping_round is set=100, early_stopping_rounds=100 will be ignored. Current value: early_stopping_round=100\n",
      "[100]\tvalid_0's binary_logloss: 0.570328\tvalid_0's amex: 0.0356314\n",
      "[LightGBM] [Warning] early_stopping_round is set=100, early_stopping_rounds=100 will be ignored. Current value: early_stopping_round=100\n",
      "[100]\tvalid_0's binary_logloss: 0.659744\tvalid_0's amex: 0.0234673\n",
      "[LightGBM] [Warning] early_stopping_round is set=100, early_stopping_rounds=100 will be ignored. Current value: early_stopping_round=100\n",
      "[100]\tvalid_0's binary_logloss: 0.659744\tvalid_0's amex: 0.0234673\n",
      "[LightGBM] [Warning] early_stopping_round is set=100, early_stopping_rounds=100 will be ignored. Current value: early_stopping_round=100\n",
      "[100]\tvalid_0's binary_logloss: 0.659744\tvalid_0's amex: 0.0234673\n",
      "[LightGBM] [Warning] early_stopping_round is set=100, early_stopping_rounds=100 will be ignored. Current value: early_stopping_round=100\n",
      "[100]\tvalid_0's binary_logloss: 0.659744\tvalid_0's amex: 0.0234673\n",
      "------ FOLD: 3 of 5 -------\n",
      "[LightGBM] [Warning] early_stopping_round is set=100, early_stopping_rounds=100 will be ignored. Current value: early_stopping_round=100\n",
      "[100]\tvalid_0's binary_logloss: 0.570159\tvalid_0's amex: 0.0307012\n",
      "[200]\tvalid_0's binary_logloss: 0.570127\tvalid_0's amex: 0.0307035\n",
      "[LightGBM] [Warning] early_stopping_round is set=100, early_stopping_rounds=100 will be ignored. Current value: early_stopping_round=100\n",
      "[100]\tvalid_0's binary_logloss: 0.659744\tvalid_0's amex: 0.019017\n",
      "[LightGBM] [Warning] early_stopping_round is set=100, early_stopping_rounds=100 will be ignored. Current value: early_stopping_round=100\n",
      "[100]\tvalid_0's binary_logloss: 0.570289\tvalid_0's amex: 0.0306951\n",
      "[LightGBM] [Warning] early_stopping_round is set=100, early_stopping_rounds=100 will be ignored. Current value: early_stopping_round=100\n",
      "[100]\tvalid_0's binary_logloss: 0.570182\tvalid_0's amex: 0.0304486\n",
      "[LightGBM] [Warning] early_stopping_round is set=100, early_stopping_rounds=100 will be ignored. Current value: early_stopping_round=100\n",
      "[100]\tvalid_0's binary_logloss: 0.659744\tvalid_0's amex: 0.019017\n",
      "[LightGBM] [Warning] early_stopping_round is set=100, early_stopping_rounds=100 will be ignored. Current value: early_stopping_round=100\n",
      "[100]\tvalid_0's binary_logloss: 0.659744\tvalid_0's amex: 0.019017\n",
      "[LightGBM] [Warning] early_stopping_round is set=100, early_stopping_rounds=100 will be ignored. Current value: early_stopping_round=100\n",
      "[100]\tvalid_0's binary_logloss: 0.659744\tvalid_0's amex: 0.019017\n",
      "[LightGBM] [Warning] early_stopping_round is set=100, early_stopping_rounds=100 will be ignored. Current value: early_stopping_round=100\n",
      "[100]\tvalid_0's binary_logloss: 0.659744\tvalid_0's amex: 0.019017\n",
      "------ FOLD: 4 of 5 -------\n",
      "[LightGBM] [Warning] early_stopping_round is set=100, early_stopping_rounds=100 will be ignored. Current value: early_stopping_round=100\n",
      "[100]\tvalid_0's binary_logloss: 0.570544\tvalid_0's amex: 0.0318136\n",
      "[LightGBM] [Warning] early_stopping_round is set=100, early_stopping_rounds=100 will be ignored. Current value: early_stopping_round=100\n",
      "[100]\tvalid_0's binary_logloss: 0.659724\tvalid_0's amex: 0.020419\n",
      "[LightGBM] [Warning] early_stopping_round is set=100, early_stopping_rounds=100 will be ignored. Current value: early_stopping_round=100\n",
      "[100]\tvalid_0's binary_logloss: 0.570671\tvalid_0's amex: 0.0318007\n",
      "[LightGBM] [Warning] early_stopping_round is set=100, early_stopping_rounds=100 will be ignored. Current value: early_stopping_round=100\n",
      "[100]\tvalid_0's binary_logloss: 0.570538\tvalid_0's amex: 0.0318086\n",
      "[LightGBM] [Warning] early_stopping_round is set=100, early_stopping_rounds=100 will be ignored. Current value: early_stopping_round=100\n",
      "[100]\tvalid_0's binary_logloss: 0.659724\tvalid_0's amex: 0.020419\n",
      "[LightGBM] [Warning] early_stopping_round is set=100, early_stopping_rounds=100 will be ignored. Current value: early_stopping_round=100\n",
      "[100]\tvalid_0's binary_logloss: 0.659724\tvalid_0's amex: 0.020419\n",
      "[LightGBM] [Warning] early_stopping_round is set=100, early_stopping_rounds=100 will be ignored. Current value: early_stopping_round=100\n",
      "[100]\tvalid_0's binary_logloss: 0.659724\tvalid_0's amex: 0.020419\n",
      "[LightGBM] [Warning] early_stopping_round is set=100, early_stopping_rounds=100 will be ignored. Current value: early_stopping_round=100\n",
      "[100]\tvalid_0's binary_logloss: 0.659724\tvalid_0's amex: 0.020419\n",
      "------ FOLD: 5 of 5 -------\n",
      "[LightGBM] [Warning] early_stopping_round is set=100, early_stopping_rounds=100 will be ignored. Current value: early_stopping_round=100\n",
      "[100]\tvalid_0's binary_logloss: 0.570254\tvalid_0's amex: 0.0333624\n",
      "[LightGBM] [Warning] early_stopping_round is set=100, early_stopping_rounds=100 will be ignored. Current value: early_stopping_round=100\n",
      "[100]\tvalid_0's binary_logloss: 0.659724\tvalid_0's amex: 0.0211231\n",
      "[LightGBM] [Warning] early_stopping_round is set=100, early_stopping_rounds=100 will be ignored. Current value: early_stopping_round=100\n",
      "[100]\tvalid_0's binary_logloss: 0.570408\tvalid_0's amex: 0.0333567\n",
      "[200]\tvalid_0's binary_logloss: 0.5704\tvalid_0's amex: 0.0333586\n",
      "[LightGBM] [Warning] early_stopping_round is set=100, early_stopping_rounds=100 will be ignored. Current value: early_stopping_round=100\n",
      "[100]\tvalid_0's binary_logloss: 0.570287\tvalid_0's amex: 0.0333553\n",
      "[LightGBM] [Warning] early_stopping_round is set=100, early_stopping_rounds=100 will be ignored. Current value: early_stopping_round=100\n",
      "[100]\tvalid_0's binary_logloss: 0.659724\tvalid_0's amex: 0.0211231\n",
      "[LightGBM] [Warning] early_stopping_round is set=100, early_stopping_rounds=100 will be ignored. Current value: early_stopping_round=100\n",
      "[100]\tvalid_0's binary_logloss: 0.659724\tvalid_0's amex: 0.0211231\n",
      "[LightGBM] [Warning] early_stopping_round is set=100, early_stopping_rounds=100 will be ignored. Current value: early_stopping_round=100\n",
      "[100]\tvalid_0's binary_logloss: 0.659724\tvalid_0's amex: 0.0211231\n",
      "[LightGBM] [Warning] early_stopping_round is set=100, early_stopping_rounds=100 will be ignored. Current value: early_stopping_round=100\n",
      "[100]\tvalid_0's binary_logloss: 0.659724\tvalid_0's amex: 0.0211231\n"
     ]
    },
    {
     "data": {
      "text/html": [
       "<h3>['B_39'] OVERALL SCORE : 3.372</h3>"
      ],
      "text/plain": [
       "<IPython.core.display.HTML object>"
      ]
     },
     "metadata": {},
     "output_type": "display_data"
    },
    {
     "data": {
      "text/html": [
       "<h3>['B_39_global_mean'] OVERALL SCORE : 2.191</h3>"
      ],
      "text/plain": [
       "<IPython.core.display.HTML object>"
      ]
     },
     "metadata": {},
     "output_type": "display_data"
    },
    {
     "data": {
      "text/html": [
       "<h3>['B_39_global_min'] OVERALL SCORE : 3.369</h3>"
      ],
      "text/plain": [
       "<IPython.core.display.HTML object>"
      ]
     },
     "metadata": {},
     "output_type": "display_data"
    },
    {
     "data": {
      "text/html": [
       "<h3>['B_39_global_max'] OVERALL SCORE : 3.368</h3>"
      ],
      "text/plain": [
       "<IPython.core.display.HTML object>"
      ]
     },
     "metadata": {},
     "output_type": "display_data"
    },
    {
     "data": {
      "text/html": [
       "<h3>['B_39_global_median'] OVERALL SCORE : 2.191</h3>"
      ],
      "text/plain": [
       "<IPython.core.display.HTML object>"
      ]
     },
     "metadata": {},
     "output_type": "display_data"
    },
    {
     "data": {
      "text/html": [
       "<h3>['B_39_local_mean'] OVERALL SCORE : 2.191</h3>"
      ],
      "text/plain": [
       "<IPython.core.display.HTML object>"
      ]
     },
     "metadata": {},
     "output_type": "display_data"
    },
    {
     "data": {
      "text/html": [
       "<h3>['B_39_local_linear_interpolate'] OVERALL SCORE : 2.191</h3>"
      ],
      "text/plain": [
       "<IPython.core.display.HTML object>"
      ]
     },
     "metadata": {},
     "output_type": "display_data"
    },
    {
     "data": {
      "text/html": [
       "<h3>['B_39_local_nearest_interpolate'] OVERALL SCORE : 2.191</h3>"
      ],
      "text/plain": [
       "<IPython.core.display.HTML object>"
      ]
     },
     "metadata": {},
     "output_type": "display_data"
    },
    {
     "name": "stdout",
     "output_type": "stream",
     "text": [
      "-------------------------------------\n"
     ]
    },
    {
     "data": {
      "text/html": [
       "<h2>D_110</h2>"
      ],
      "text/plain": [
       "<IPython.core.display.HTML object>"
      ]
     },
     "metadata": {},
     "output_type": "display_data"
    },
    {
     "name": "stdout",
     "output_type": "stream",
     "text": [
      "--- D_110   :  has 5500117 nan ---\n",
      "------ FOLD: 1 of 5 -------\n",
      "[LightGBM] [Warning] early_stopping_round is set=100, early_stopping_rounds=100 will be ignored. Current value: early_stopping_round=100\n",
      "[100]\tvalid_0's binary_logloss: 0.570752\tvalid_0's amex: 0.0291294\n",
      "[LightGBM] [Warning] early_stopping_round is set=100, early_stopping_rounds=100 will be ignored. Current value: early_stopping_round=100\n",
      "[100]\tvalid_0's binary_logloss: 0.659744\tvalid_0's amex: 0.0185237\n",
      "[LightGBM] [Warning] early_stopping_round is set=100, early_stopping_rounds=100 will be ignored. Current value: early_stopping_round=100\n",
      "[100]\tvalid_0's binary_logloss: 0.570764\tvalid_0's amex: 0.0288021\n",
      "[LightGBM] [Warning] early_stopping_round is set=100, early_stopping_rounds=100 will be ignored. Current value: early_stopping_round=100\n",
      "[100]\tvalid_0's binary_logloss: 0.570835\tvalid_0's amex: 0.0286503\n",
      "[LightGBM] [Warning] early_stopping_round is set=100, early_stopping_rounds=100 will be ignored. Current value: early_stopping_round=100\n",
      "[100]\tvalid_0's binary_logloss: 0.659744\tvalid_0's amex: 0.0185237\n",
      "[LightGBM] [Warning] early_stopping_round is set=100, early_stopping_rounds=100 will be ignored. Current value: early_stopping_round=100\n",
      "[100]\tvalid_0's binary_logloss: 0.659744\tvalid_0's amex: 0.0185237\n",
      "[LightGBM] [Warning] early_stopping_round is set=100, early_stopping_rounds=100 will be ignored. Current value: early_stopping_round=100\n",
      "[100]\tvalid_0's binary_logloss: 0.659744\tvalid_0's amex: 0.0185237\n",
      "[LightGBM] [Warning] early_stopping_round is set=100, early_stopping_rounds=100 will be ignored. Current value: early_stopping_round=100\n",
      "[100]\tvalid_0's binary_logloss: 0.659744\tvalid_0's amex: 0.0185237\n",
      "------ FOLD: 2 of 5 -------\n",
      "[LightGBM] [Warning] early_stopping_round is set=100, early_stopping_rounds=100 will be ignored. Current value: early_stopping_round=100\n",
      "[100]\tvalid_0's binary_logloss: 0.570339\tvalid_0's amex: 0.0290048\n",
      "[LightGBM] [Warning] early_stopping_round is set=100, early_stopping_rounds=100 will be ignored. Current value: early_stopping_round=100\n",
      "[100]\tvalid_0's binary_logloss: 0.659744\tvalid_0's amex: 0.0174557\n",
      "[LightGBM] [Warning] early_stopping_round is set=100, early_stopping_rounds=100 will be ignored. Current value: early_stopping_round=100\n",
      "[100]\tvalid_0's binary_logloss: 0.570346\tvalid_0's amex: 0.0285219\n",
      "[LightGBM] [Warning] early_stopping_round is set=100, early_stopping_rounds=100 will be ignored. Current value: early_stopping_round=100\n",
      "[100]\tvalid_0's binary_logloss: 0.570396\tvalid_0's amex: 0.0288619\n",
      "[LightGBM] [Warning] early_stopping_round is set=100, early_stopping_rounds=100 will be ignored. Current value: early_stopping_round=100\n",
      "[100]\tvalid_0's binary_logloss: 0.659744\tvalid_0's amex: 0.0174557\n",
      "[LightGBM] [Warning] early_stopping_round is set=100, early_stopping_rounds=100 will be ignored. Current value: early_stopping_round=100\n",
      "[100]\tvalid_0's binary_logloss: 0.659744\tvalid_0's amex: 0.0174557\n",
      "[LightGBM] [Warning] early_stopping_round is set=100, early_stopping_rounds=100 will be ignored. Current value: early_stopping_round=100\n",
      "[100]\tvalid_0's binary_logloss: 0.659744\tvalid_0's amex: 0.0174557\n",
      "[LightGBM] [Warning] early_stopping_round is set=100, early_stopping_rounds=100 will be ignored. Current value: early_stopping_round=100\n",
      "[100]\tvalid_0's binary_logloss: 0.659744\tvalid_0's amex: 0.0174557\n",
      "------ FOLD: 3 of 5 -------\n",
      "[LightGBM] [Warning] early_stopping_round is set=100, early_stopping_rounds=100 will be ignored. Current value: early_stopping_round=100\n",
      "[100]\tvalid_0's binary_logloss: 0.570251\tvalid_0's amex: 0.0401998\n",
      "[200]\tvalid_0's binary_logloss: 0.570233\tvalid_0's amex: 0.0402004\n",
      "[300]\tvalid_0's binary_logloss: 0.570233\tvalid_0's amex: 0.0402004\n",
      "[LightGBM] [Warning] early_stopping_round is set=100, early_stopping_rounds=100 will be ignored. Current value: early_stopping_round=100\n",
      "[100]\tvalid_0's binary_logloss: 0.659744\tvalid_0's amex: 0.0280482\n",
      "[LightGBM] [Warning] early_stopping_round is set=100, early_stopping_rounds=100 will be ignored. Current value: early_stopping_round=100\n",
      "[100]\tvalid_0's binary_logloss: 0.570277\tvalid_0's amex: 0.0392439\n",
      "[LightGBM] [Warning] early_stopping_round is set=100, early_stopping_rounds=100 will be ignored. Current value: early_stopping_round=100\n",
      "[100]\tvalid_0's binary_logloss: 0.570351\tvalid_0's amex: 0.0395213\n",
      "[LightGBM] [Warning] early_stopping_round is set=100, early_stopping_rounds=100 will be ignored. Current value: early_stopping_round=100\n",
      "[100]\tvalid_0's binary_logloss: 0.659744\tvalid_0's amex: 0.0280482\n",
      "[LightGBM] [Warning] early_stopping_round is set=100, early_stopping_rounds=100 will be ignored. Current value: early_stopping_round=100\n",
      "[100]\tvalid_0's binary_logloss: 0.659744\tvalid_0's amex: 0.0280482\n",
      "[LightGBM] [Warning] early_stopping_round is set=100, early_stopping_rounds=100 will be ignored. Current value: early_stopping_round=100\n",
      "[100]\tvalid_0's binary_logloss: 0.659744\tvalid_0's amex: 0.0280482\n",
      "[LightGBM] [Warning] early_stopping_round is set=100, early_stopping_rounds=100 will be ignored. Current value: early_stopping_round=100\n",
      "[100]\tvalid_0's binary_logloss: 0.659744\tvalid_0's amex: 0.0280482\n",
      "------ FOLD: 4 of 5 -------\n",
      "[LightGBM] [Warning] early_stopping_round is set=100, early_stopping_rounds=100 will be ignored. Current value: early_stopping_round=100\n",
      "[100]\tvalid_0's binary_logloss: 0.570469\tvalid_0's amex: 0.0328854\n",
      "[LightGBM] [Warning] early_stopping_round is set=100, early_stopping_rounds=100 will be ignored. Current value: early_stopping_round=100\n",
      "[100]\tvalid_0's binary_logloss: 0.659724\tvalid_0's amex: 0.021915\n",
      "[LightGBM] [Warning] early_stopping_round is set=100, early_stopping_rounds=100 will be ignored. Current value: early_stopping_round=100\n",
      "[100]\tvalid_0's binary_logloss: 0.57042\tvalid_0's amex: 0.0331647\n",
      "[LightGBM] [Warning] early_stopping_round is set=100, early_stopping_rounds=100 will be ignored. Current value: early_stopping_round=100\n",
      "[100]\tvalid_0's binary_logloss: 0.570487\tvalid_0's amex: 0.0332174\n",
      "[LightGBM] [Warning] early_stopping_round is set=100, early_stopping_rounds=100 will be ignored. Current value: early_stopping_round=100\n",
      "[100]\tvalid_0's binary_logloss: 0.659724\tvalid_0's amex: 0.021915\n",
      "[LightGBM] [Warning] early_stopping_round is set=100, early_stopping_rounds=100 will be ignored. Current value: early_stopping_round=100\n",
      "[100]\tvalid_0's binary_logloss: 0.659724\tvalid_0's amex: 0.021915\n",
      "[LightGBM] [Warning] early_stopping_round is set=100, early_stopping_rounds=100 will be ignored. Current value: early_stopping_round=100\n",
      "[100]\tvalid_0's binary_logloss: 0.659724\tvalid_0's amex: 0.021915\n",
      "[LightGBM] [Warning] early_stopping_round is set=100, early_stopping_rounds=100 will be ignored. Current value: early_stopping_round=100\n",
      "[100]\tvalid_0's binary_logloss: 0.659724\tvalid_0's amex: 0.021915\n",
      "------ FOLD: 5 of 5 -------\n",
      "[LightGBM] [Warning] early_stopping_round is set=100, early_stopping_rounds=100 will be ignored. Current value: early_stopping_round=100\n",
      "[100]\tvalid_0's binary_logloss: 0.569948\tvalid_0's amex: 0.0365546\n",
      "[200]\tvalid_0's binary_logloss: 0.569914\tvalid_0's amex: 0.0365542\n",
      "[LightGBM] [Warning] early_stopping_round is set=100, early_stopping_rounds=100 will be ignored. Current value: early_stopping_round=100\n",
      "[100]\tvalid_0's binary_logloss: 0.659724\tvalid_0's amex: 0.0234053\n",
      "[LightGBM] [Warning] early_stopping_round is set=100, early_stopping_rounds=100 will be ignored. Current value: early_stopping_round=100\n",
      "[100]\tvalid_0's binary_logloss: 0.569938\tvalid_0's amex: 0.035878\n",
      "[LightGBM] [Warning] early_stopping_round is set=100, early_stopping_rounds=100 will be ignored. Current value: early_stopping_round=100\n",
      "[100]\tvalid_0's binary_logloss: 0.570057\tvalid_0's amex: 0.0359188\n",
      "[LightGBM] [Warning] early_stopping_round is set=100, early_stopping_rounds=100 will be ignored. Current value: early_stopping_round=100\n",
      "[100]\tvalid_0's binary_logloss: 0.659724\tvalid_0's amex: 0.0234053\n",
      "[LightGBM] [Warning] early_stopping_round is set=100, early_stopping_rounds=100 will be ignored. Current value: early_stopping_round=100\n",
      "[100]\tvalid_0's binary_logloss: 0.659724\tvalid_0's amex: 0.0234053\n",
      "[LightGBM] [Warning] early_stopping_round is set=100, early_stopping_rounds=100 will be ignored. Current value: early_stopping_round=100\n",
      "[100]\tvalid_0's binary_logloss: 0.659724\tvalid_0's amex: 0.0234053\n",
      "[LightGBM] [Warning] early_stopping_round is set=100, early_stopping_rounds=100 will be ignored. Current value: early_stopping_round=100\n",
      "[100]\tvalid_0's binary_logloss: 0.659724\tvalid_0's amex: 0.0234053\n"
     ]
    },
    {
     "data": {
      "text/html": [
       "<h3>['D_110'] OVERALL SCORE : 3.387</h3>"
      ],
      "text/plain": [
       "<IPython.core.display.HTML object>"
      ]
     },
     "metadata": {},
     "output_type": "display_data"
    },
    {
     "data": {
      "text/html": [
       "<h3>['D_110_global_mean'] OVERALL SCORE : 2.187</h3>"
      ],
      "text/plain": [
       "<IPython.core.display.HTML object>"
      ]
     },
     "metadata": {},
     "output_type": "display_data"
    },
    {
     "data": {
      "text/html": [
       "<h3>['D_110_global_min'] OVERALL SCORE : 3.322</h3>"
      ],
      "text/plain": [
       "<IPython.core.display.HTML object>"
      ]
     },
     "metadata": {},
     "output_type": "display_data"
    },
    {
     "data": {
      "text/html": [
       "<h3>['D_110_global_max'] OVERALL SCORE : 3.323</h3>"
      ],
      "text/plain": [
       "<IPython.core.display.HTML object>"
      ]
     },
     "metadata": {},
     "output_type": "display_data"
    },
    {
     "data": {
      "text/html": [
       "<h3>['D_110_global_median'] OVERALL SCORE : 2.187</h3>"
      ],
      "text/plain": [
       "<IPython.core.display.HTML object>"
      ]
     },
     "metadata": {},
     "output_type": "display_data"
    },
    {
     "data": {
      "text/html": [
       "<h3>['D_110_local_mean'] OVERALL SCORE : 2.187</h3>"
      ],
      "text/plain": [
       "<IPython.core.display.HTML object>"
      ]
     },
     "metadata": {},
     "output_type": "display_data"
    },
    {
     "data": {
      "text/html": [
       "<h3>['D_110_local_linear_interpolate'] OVERALL SCORE : 2.187</h3>"
      ],
      "text/plain": [
       "<IPython.core.display.HTML object>"
      ]
     },
     "metadata": {},
     "output_type": "display_data"
    },
    {
     "data": {
      "text/html": [
       "<h3>['D_110_local_nearest_interpolate'] OVERALL SCORE : 2.187</h3>"
      ],
      "text/plain": [
       "<IPython.core.display.HTML object>"
      ]
     },
     "metadata": {},
     "output_type": "display_data"
    },
    {
     "name": "stdout",
     "output_type": "stream",
     "text": [
      "-------------------------------------\n"
     ]
    },
    {
     "data": {
      "text/html": [
       "<h2>D_111</h2>"
      ],
      "text/plain": [
       "<IPython.core.display.HTML object>"
      ]
     },
     "metadata": {},
     "output_type": "display_data"
    },
    {
     "name": "stdout",
     "output_type": "stream",
     "text": [
      "--- D_111   :  has 5500117 nan ---\n",
      "------ FOLD: 1 of 5 -------\n",
      "[LightGBM] [Warning] early_stopping_round is set=100, early_stopping_rounds=100 will be ignored. Current value: early_stopping_round=100\n",
      "[100]\tvalid_0's binary_logloss: 0.570729\tvalid_0's amex: 0.0340897\n",
      "[LightGBM] [Warning] early_stopping_round is set=100, early_stopping_rounds=100 will be ignored. Current value: early_stopping_round=100\n",
      "[100]\tvalid_0's binary_logloss: 0.659744\tvalid_0's amex: 0.0223738\n",
      "[LightGBM] [Warning] early_stopping_round is set=100, early_stopping_rounds=100 will be ignored. Current value: early_stopping_round=100\n",
      "[100]\tvalid_0's binary_logloss: 0.570681\tvalid_0's amex: 0.0339338\n",
      "[LightGBM] [Warning] early_stopping_round is set=100, early_stopping_rounds=100 will be ignored. Current value: early_stopping_round=100\n",
      "[100]\tvalid_0's binary_logloss: 0.570738\tvalid_0's amex: 0.0339259\n",
      "[LightGBM] [Warning] early_stopping_round is set=100, early_stopping_rounds=100 will be ignored. Current value: early_stopping_round=100\n",
      "[100]\tvalid_0's binary_logloss: 0.659744\tvalid_0's amex: 0.0223738\n",
      "[LightGBM] [Warning] early_stopping_round is set=100, early_stopping_rounds=100 will be ignored. Current value: early_stopping_round=100\n",
      "[100]\tvalid_0's binary_logloss: 0.570735\tvalid_0's amex: 0.033049\n",
      "[LightGBM] [Warning] early_stopping_round is set=100, early_stopping_rounds=100 will be ignored. Current value: early_stopping_round=100\n",
      "[100]\tvalid_0's binary_logloss: 0.570731\tvalid_0's amex: 0.0330504\n",
      "[LightGBM] [Warning] early_stopping_round is set=100, early_stopping_rounds=100 will be ignored. Current value: early_stopping_round=100\n",
      "[100]\tvalid_0's binary_logloss: 0.570731\tvalid_0's amex: 0.0330504\n",
      "------ FOLD: 2 of 5 -------\n",
      "[LightGBM] [Warning] early_stopping_round is set=100, early_stopping_rounds=100 will be ignored. Current value: early_stopping_round=100\n",
      "[100]\tvalid_0's binary_logloss: 0.570313\tvalid_0's amex: 0.0344507\n",
      "[LightGBM] [Warning] early_stopping_round is set=100, early_stopping_rounds=100 will be ignored. Current value: early_stopping_round=100\n",
      "[100]\tvalid_0's binary_logloss: 0.659744\tvalid_0's amex: 0.0224827\n",
      "[LightGBM] [Warning] early_stopping_round is set=100, early_stopping_rounds=100 will be ignored. Current value: early_stopping_round=100\n",
      "[100]\tvalid_0's binary_logloss: 0.570263\tvalid_0's amex: 0.0348684\n",
      "[LightGBM] [Warning] early_stopping_round is set=100, early_stopping_rounds=100 will be ignored. Current value: early_stopping_round=100\n",
      "[100]\tvalid_0's binary_logloss: 0.570331\tvalid_0's amex: 0.0348617\n",
      "[200]\tvalid_0's binary_logloss: 0.570307\tvalid_0's amex: 0.0348656\n",
      "[LightGBM] [Warning] early_stopping_round is set=100, early_stopping_rounds=100 will be ignored. Current value: early_stopping_round=100\n",
      "[100]\tvalid_0's binary_logloss: 0.659744\tvalid_0's amex: 0.0224827\n",
      "[LightGBM] [Warning] early_stopping_round is set=100, early_stopping_rounds=100 will be ignored. Current value: early_stopping_round=100\n",
      "[100]\tvalid_0's binary_logloss: 0.570344\tvalid_0's amex: 0.0342555\n",
      "[LightGBM] [Warning] early_stopping_round is set=100, early_stopping_rounds=100 will be ignored. Current value: early_stopping_round=100\n",
      "[100]\tvalid_0's binary_logloss: 0.570346\tvalid_0's amex: 0.0342555\n",
      "[LightGBM] [Warning] early_stopping_round is set=100, early_stopping_rounds=100 will be ignored. Current value: early_stopping_round=100\n",
      "[100]\tvalid_0's binary_logloss: 0.570346\tvalid_0's amex: 0.0342555\n",
      "------ FOLD: 3 of 5 -------\n",
      "[LightGBM] [Warning] early_stopping_round is set=100, early_stopping_rounds=100 will be ignored. Current value: early_stopping_round=100\n",
      "[100]\tvalid_0's binary_logloss: 0.570181\tvalid_0's amex: 0.0349497\n",
      "[LightGBM] [Warning] early_stopping_round is set=100, early_stopping_rounds=100 will be ignored. Current value: early_stopping_round=100\n",
      "[100]\tvalid_0's binary_logloss: 0.659744\tvalid_0's amex: 0.0208577\n",
      "[LightGBM] [Warning] early_stopping_round is set=100, early_stopping_rounds=100 will be ignored. Current value: early_stopping_round=100\n",
      "[100]\tvalid_0's binary_logloss: 0.570173\tvalid_0's amex: 0.0338983\n",
      "[LightGBM] [Warning] early_stopping_round is set=100, early_stopping_rounds=100 will be ignored. Current value: early_stopping_round=100\n",
      "[100]\tvalid_0's binary_logloss: 0.570177\tvalid_0's amex: 0.0338946\n",
      "[LightGBM] [Warning] early_stopping_round is set=100, early_stopping_rounds=100 will be ignored. Current value: early_stopping_round=100\n",
      "[100]\tvalid_0's binary_logloss: 0.659744\tvalid_0's amex: 0.0208577\n",
      "[LightGBM] [Warning] early_stopping_round is set=100, early_stopping_rounds=100 will be ignored. Current value: early_stopping_round=100\n",
      "[100]\tvalid_0's binary_logloss: 0.570407\tvalid_0's amex: 0.0322384\n",
      "[LightGBM] [Warning] early_stopping_round is set=100, early_stopping_rounds=100 will be ignored. Current value: early_stopping_round=100\n",
      "[100]\tvalid_0's binary_logloss: 0.570409\tvalid_0's amex: 0.0322388\n",
      "[200]\tvalid_0's binary_logloss: 0.570405\tvalid_0's amex: 0.0322391\n",
      "[LightGBM] [Warning] early_stopping_round is set=100, early_stopping_rounds=100 will be ignored. Current value: early_stopping_round=100\n",
      "[100]\tvalid_0's binary_logloss: 0.570409\tvalid_0's amex: 0.0322388\n",
      "[200]\tvalid_0's binary_logloss: 0.570405\tvalid_0's amex: 0.0322391\n",
      "------ FOLD: 4 of 5 -------\n",
      "[LightGBM] [Warning] early_stopping_round is set=100, early_stopping_rounds=100 will be ignored. Current value: early_stopping_round=100\n",
      "[100]\tvalid_0's binary_logloss: 0.57018\tvalid_0's amex: 0.0351214\n",
      "[LightGBM] [Warning] early_stopping_round is set=100, early_stopping_rounds=100 will be ignored. Current value: early_stopping_round=100\n",
      "[100]\tvalid_0's binary_logloss: 0.659724\tvalid_0's amex: 0.0233045\n",
      "[LightGBM] [Warning] early_stopping_round is set=100, early_stopping_rounds=100 will be ignored. Current value: early_stopping_round=100\n",
      "[100]\tvalid_0's binary_logloss: 0.570238\tvalid_0's amex: 0.0345697\n",
      "[LightGBM] [Warning] early_stopping_round is set=100, early_stopping_rounds=100 will be ignored. Current value: early_stopping_round=100\n",
      "[100]\tvalid_0's binary_logloss: 0.570308\tvalid_0's amex: 0.0345351\n",
      "[200]\tvalid_0's binary_logloss: 0.570289\tvalid_0's amex: 0.0345379\n",
      "[300]\tvalid_0's binary_logloss: 0.570277\tvalid_0's amex: 0.0345381\n",
      "[LightGBM] [Warning] early_stopping_round is set=100, early_stopping_rounds=100 will be ignored. Current value: early_stopping_round=100\n",
      "[100]\tvalid_0's binary_logloss: 0.659724\tvalid_0's amex: 0.0233045\n",
      "[LightGBM] [Warning] early_stopping_round is set=100, early_stopping_rounds=100 will be ignored. Current value: early_stopping_round=100\n",
      "[100]\tvalid_0's binary_logloss: 0.570351\tvalid_0's amex: 0.0333339\n",
      "[200]\tvalid_0's binary_logloss: 0.570336\tvalid_0's amex: 0.0333347\n",
      "[LightGBM] [Warning] early_stopping_round is set=100, early_stopping_rounds=100 will be ignored. Current value: early_stopping_round=100\n",
      "[100]\tvalid_0's binary_logloss: 0.57035\tvalid_0's amex: 0.0333343\n",
      "[LightGBM] [Warning] early_stopping_round is set=100, early_stopping_rounds=100 will be ignored. Current value: early_stopping_round=100\n",
      "[100]\tvalid_0's binary_logloss: 0.57035\tvalid_0's amex: 0.0333343\n",
      "------ FOLD: 5 of 5 -------\n",
      "[LightGBM] [Warning] early_stopping_round is set=100, early_stopping_rounds=100 will be ignored. Current value: early_stopping_round=100\n",
      "[100]\tvalid_0's binary_logloss: 0.570519\tvalid_0's amex: 0.0297725\n",
      "[LightGBM] [Warning] early_stopping_round is set=100, early_stopping_rounds=100 will be ignored. Current value: early_stopping_round=100\n",
      "[100]\tvalid_0's binary_logloss: 0.659724\tvalid_0's amex: 0.0190701\n",
      "[LightGBM] [Warning] early_stopping_round is set=100, early_stopping_rounds=100 will be ignored. Current value: early_stopping_round=100\n",
      "[100]\tvalid_0's binary_logloss: 0.570533\tvalid_0's amex: 0.0294132\n",
      "[LightGBM] [Warning] early_stopping_round is set=100, early_stopping_rounds=100 will be ignored. Current value: early_stopping_round=100\n",
      "[100]\tvalid_0's binary_logloss: 0.570552\tvalid_0's amex: 0.0294798\n",
      "[200]\tvalid_0's binary_logloss: 0.570551\tvalid_0's amex: 0.0294817\n",
      "[LightGBM] [Warning] early_stopping_round is set=100, early_stopping_rounds=100 will be ignored. Current value: early_stopping_round=100\n",
      "[100]\tvalid_0's binary_logloss: 0.659724\tvalid_0's amex: 0.0190701\n",
      "[LightGBM] [Warning] early_stopping_round is set=100, early_stopping_rounds=100 will be ignored. Current value: early_stopping_round=100\n",
      "[100]\tvalid_0's binary_logloss: 0.570662\tvalid_0's amex: 0.028268\n",
      "[LightGBM] [Warning] early_stopping_round is set=100, early_stopping_rounds=100 will be ignored. Current value: early_stopping_round=100\n",
      "[100]\tvalid_0's binary_logloss: 0.570668\tvalid_0's amex: 0.0282351\n",
      "[LightGBM] [Warning] early_stopping_round is set=100, early_stopping_rounds=100 will be ignored. Current value: early_stopping_round=100\n",
      "[100]\tvalid_0's binary_logloss: 0.570668\tvalid_0's amex: 0.0282351\n"
     ]
    },
    {
     "data": {
      "text/html": [
       "<h3>['D_111'] OVERALL SCORE : 3.391</h3>"
      ],
      "text/plain": [
       "<IPython.core.display.HTML object>"
      ]
     },
     "metadata": {},
     "output_type": "display_data"
    },
    {
     "data": {
      "text/html": [
       "<h3>['D_111_global_mean'] OVERALL SCORE : 2.162</h3>"
      ],
      "text/plain": [
       "<IPython.core.display.HTML object>"
      ]
     },
     "metadata": {},
     "output_type": "display_data"
    },
    {
     "data": {
      "text/html": [
       "<h3>['D_111_global_min'] OVERALL SCORE : 3.336</h3>"
      ],
      "text/plain": [
       "<IPython.core.display.HTML object>"
      ]
     },
     "metadata": {},
     "output_type": "display_data"
    },
    {
     "data": {
      "text/html": [
       "<h3>['D_111_global_max'] OVERALL SCORE : 3.334</h3>"
      ],
      "text/plain": [
       "<IPython.core.display.HTML object>"
      ]
     },
     "metadata": {},
     "output_type": "display_data"
    },
    {
     "data": {
      "text/html": [
       "<h3>['D_111_global_median'] OVERALL SCORE : 2.162</h3>"
      ],
      "text/plain": [
       "<IPython.core.display.HTML object>"
      ]
     },
     "metadata": {},
     "output_type": "display_data"
    },
    {
     "data": {
      "text/html": [
       "<h3>['D_111_local_mean'] OVERALL SCORE : 3.223</h3>"
      ],
      "text/plain": [
       "<IPython.core.display.HTML object>"
      ]
     },
     "metadata": {},
     "output_type": "display_data"
    },
    {
     "data": {
      "text/html": [
       "<h3>['D_111_local_linear_interpolate'] OVERALL SCORE : 3.222</h3>"
      ],
      "text/plain": [
       "<IPython.core.display.HTML object>"
      ]
     },
     "metadata": {},
     "output_type": "display_data"
    },
    {
     "data": {
      "text/html": [
       "<h3>['D_111_local_nearest_interpolate'] OVERALL SCORE : 3.222</h3>"
      ],
      "text/plain": [
       "<IPython.core.display.HTML object>"
      ]
     },
     "metadata": {},
     "output_type": "display_data"
    },
    {
     "name": "stdout",
     "output_type": "stream",
     "text": [
      "-------------------------------------\n"
     ]
    },
    {
     "data": {
      "text/html": [
       "<h2>D_108</h2>"
      ],
      "text/plain": [
       "<IPython.core.display.HTML object>"
      ]
     },
     "metadata": {},
     "output_type": "display_data"
    },
    {
     "name": "stdout",
     "output_type": "stream",
     "text": [
      "--- D_108   :  has 5502513 nan ---\n",
      "------ FOLD: 1 of 5 -------\n",
      "[LightGBM] [Warning] early_stopping_round is set=100, early_stopping_rounds=100 will be ignored. Current value: early_stopping_round=100\n",
      "[100]\tvalid_0's binary_logloss: 0.569218\tvalid_0's amex: 0.0570562\n",
      "[LightGBM] [Warning] early_stopping_round is set=100, early_stopping_rounds=100 will be ignored. Current value: early_stopping_round=100\n",
      "[100]\tvalid_0's binary_logloss: 0.659744\tvalid_0's amex: 0.0222053\n",
      "[LightGBM] [Warning] early_stopping_round is set=100, early_stopping_rounds=100 will be ignored. Current value: early_stopping_round=100\n",
      "[100]\tvalid_0's binary_logloss: 0.659744\tvalid_0's amex: 0.0222053\n",
      "[LightGBM] [Warning] early_stopping_round is set=100, early_stopping_rounds=100 will be ignored. Current value: early_stopping_round=100\n",
      "[100]\tvalid_0's binary_logloss: 0.659744\tvalid_0's amex: 0.0222053\n",
      "[LightGBM] [Warning] early_stopping_round is set=100, early_stopping_rounds=100 will be ignored. Current value: early_stopping_round=100\n",
      "[100]\tvalid_0's binary_logloss: 0.659744\tvalid_0's amex: 0.0222053\n",
      "[LightGBM] [Warning] early_stopping_round is set=100, early_stopping_rounds=100 will be ignored. Current value: early_stopping_round=100\n",
      "[100]\tvalid_0's binary_logloss: 0.569749\tvalid_0's amex: 0.0527897\n",
      "[LightGBM] [Warning] early_stopping_round is set=100, early_stopping_rounds=100 will be ignored. Current value: early_stopping_round=100\n",
      "[100]\tvalid_0's binary_logloss: 0.569606\tvalid_0's amex: 0.0538383\n",
      "[LightGBM] [Warning] early_stopping_round is set=100, early_stopping_rounds=100 will be ignored. Current value: early_stopping_round=100\n",
      "[100]\tvalid_0's binary_logloss: 0.569606\tvalid_0's amex: 0.0538383\n",
      "------ FOLD: 2 of 5 -------\n",
      "[LightGBM] [Warning] early_stopping_round is set=100, early_stopping_rounds=100 will be ignored. Current value: early_stopping_round=100\n",
      "[100]\tvalid_0's binary_logloss: 0.568799\tvalid_0's amex: 0.0644995\n",
      "[LightGBM] [Warning] early_stopping_round is set=100, early_stopping_rounds=100 will be ignored. Current value: early_stopping_round=100\n",
      "[100]\tvalid_0's binary_logloss: 0.659744\tvalid_0's amex: 0.027143\n",
      "[LightGBM] [Warning] early_stopping_round is set=100, early_stopping_rounds=100 will be ignored. Current value: early_stopping_round=100\n",
      "[100]\tvalid_0's binary_logloss: 0.659744\tvalid_0's amex: 0.027143\n",
      "[LightGBM] [Warning] early_stopping_round is set=100, early_stopping_rounds=100 will be ignored. Current value: early_stopping_round=100\n",
      "[100]\tvalid_0's binary_logloss: 0.659744\tvalid_0's amex: 0.027143\n",
      "[LightGBM] [Warning] early_stopping_round is set=100, early_stopping_rounds=100 will be ignored. Current value: early_stopping_round=100\n",
      "[100]\tvalid_0's binary_logloss: 0.659744\tvalid_0's amex: 0.027143\n",
      "[LightGBM] [Warning] early_stopping_round is set=100, early_stopping_rounds=100 will be ignored. Current value: early_stopping_round=100\n",
      "[100]\tvalid_0's binary_logloss: 0.569392\tvalid_0's amex: 0.0594289\n",
      "[LightGBM] [Warning] early_stopping_round is set=100, early_stopping_rounds=100 will be ignored. Current value: early_stopping_round=100\n",
      "[100]\tvalid_0's binary_logloss: 0.569268\tvalid_0's amex: 0.0609921\n",
      "[LightGBM] [Warning] early_stopping_round is set=100, early_stopping_rounds=100 will be ignored. Current value: early_stopping_round=100\n",
      "[100]\tvalid_0's binary_logloss: 0.569268\tvalid_0's amex: 0.0609921\n",
      "------ FOLD: 3 of 5 -------\n",
      "[LightGBM] [Warning] early_stopping_round is set=100, early_stopping_rounds=100 will be ignored. Current value: early_stopping_round=100\n",
      "[100]\tvalid_0's binary_logloss: 0.569205\tvalid_0's amex: 0.0543942\n",
      "[LightGBM] [Warning] early_stopping_round is set=100, early_stopping_rounds=100 will be ignored. Current value: early_stopping_round=100\n",
      "[100]\tvalid_0's binary_logloss: 0.659744\tvalid_0's amex: 0.0178031\n",
      "[LightGBM] [Warning] early_stopping_round is set=100, early_stopping_rounds=100 will be ignored. Current value: early_stopping_round=100\n",
      "[100]\tvalid_0's binary_logloss: 0.659744\tvalid_0's amex: 0.0178031\n",
      "[LightGBM] [Warning] early_stopping_round is set=100, early_stopping_rounds=100 will be ignored. Current value: early_stopping_round=100\n",
      "[100]\tvalid_0's binary_logloss: 0.659744\tvalid_0's amex: 0.0178031\n",
      "[LightGBM] [Warning] early_stopping_round is set=100, early_stopping_rounds=100 will be ignored. Current value: early_stopping_round=100\n",
      "[100]\tvalid_0's binary_logloss: 0.659744\tvalid_0's amex: 0.0178031\n",
      "[LightGBM] [Warning] early_stopping_round is set=100, early_stopping_rounds=100 will be ignored. Current value: early_stopping_round=100\n",
      "[100]\tvalid_0's binary_logloss: 0.569802\tvalid_0's amex: 0.0493129\n",
      "[LightGBM] [Warning] early_stopping_round is set=100, early_stopping_rounds=100 will be ignored. Current value: early_stopping_round=100\n",
      "[100]\tvalid_0's binary_logloss: 0.569682\tvalid_0's amex: 0.0504797\n",
      "[LightGBM] [Warning] early_stopping_round is set=100, early_stopping_rounds=100 will be ignored. Current value: early_stopping_round=100\n",
      "[100]\tvalid_0's binary_logloss: 0.569682\tvalid_0's amex: 0.0504797\n",
      "------ FOLD: 4 of 5 -------\n",
      "[LightGBM] [Warning] early_stopping_round is set=100, early_stopping_rounds=100 will be ignored. Current value: early_stopping_round=100\n",
      "[100]\tvalid_0's binary_logloss: 0.569203\tvalid_0's amex: 0.0570848\n",
      "[LightGBM] [Warning] early_stopping_round is set=100, early_stopping_rounds=100 will be ignored. Current value: early_stopping_round=100\n",
      "[100]\tvalid_0's binary_logloss: 0.659724\tvalid_0's amex: 0.0210504\n",
      "[LightGBM] [Warning] early_stopping_round is set=100, early_stopping_rounds=100 will be ignored. Current value: early_stopping_round=100\n",
      "[100]\tvalid_0's binary_logloss: 0.659724\tvalid_0's amex: 0.0210504\n",
      "[LightGBM] [Warning] early_stopping_round is set=100, early_stopping_rounds=100 will be ignored. Current value: early_stopping_round=100\n",
      "[100]\tvalid_0's binary_logloss: 0.659724\tvalid_0's amex: 0.0210504\n",
      "[LightGBM] [Warning] early_stopping_round is set=100, early_stopping_rounds=100 will be ignored. Current value: early_stopping_round=100\n",
      "[100]\tvalid_0's binary_logloss: 0.659724\tvalid_0's amex: 0.0210504\n",
      "[LightGBM] [Warning] early_stopping_round is set=100, early_stopping_rounds=100 will be ignored. Current value: early_stopping_round=100\n",
      "[100]\tvalid_0's binary_logloss: 0.569616\tvalid_0's amex: 0.0530492\n",
      "[LightGBM] [Warning] early_stopping_round is set=100, early_stopping_rounds=100 will be ignored. Current value: early_stopping_round=100\n",
      "[100]\tvalid_0's binary_logloss: 0.56955\tvalid_0's amex: 0.053404\n",
      "[LightGBM] [Warning] early_stopping_round is set=100, early_stopping_rounds=100 will be ignored. Current value: early_stopping_round=100\n",
      "[100]\tvalid_0's binary_logloss: 0.56955\tvalid_0's amex: 0.053404\n",
      "------ FOLD: 5 of 5 -------\n",
      "[LightGBM] [Warning] early_stopping_round is set=100, early_stopping_rounds=100 will be ignored. Current value: early_stopping_round=100\n",
      "[100]\tvalid_0's binary_logloss: 0.568634\tvalid_0's amex: 0.0619063\n",
      "[LightGBM] [Warning] early_stopping_round is set=100, early_stopping_rounds=100 will be ignored. Current value: early_stopping_round=100\n",
      "[100]\tvalid_0's binary_logloss: 0.659724\tvalid_0's amex: 0.0199456\n",
      "[LightGBM] [Warning] early_stopping_round is set=100, early_stopping_rounds=100 will be ignored. Current value: early_stopping_round=100\n",
      "[100]\tvalid_0's binary_logloss: 0.659724\tvalid_0's amex: 0.0199456\n",
      "[LightGBM] [Warning] early_stopping_round is set=100, early_stopping_rounds=100 will be ignored. Current value: early_stopping_round=100\n",
      "[100]\tvalid_0's binary_logloss: 0.659724\tvalid_0's amex: 0.0199456\n",
      "[LightGBM] [Warning] early_stopping_round is set=100, early_stopping_rounds=100 will be ignored. Current value: early_stopping_round=100\n",
      "[100]\tvalid_0's binary_logloss: 0.659724\tvalid_0's amex: 0.0199456\n",
      "[LightGBM] [Warning] early_stopping_round is set=100, early_stopping_rounds=100 will be ignored. Current value: early_stopping_round=100\n",
      "[100]\tvalid_0's binary_logloss: 0.569313\tvalid_0's amex: 0.0564896\n",
      "[LightGBM] [Warning] early_stopping_round is set=100, early_stopping_rounds=100 will be ignored. Current value: early_stopping_round=100\n",
      "[100]\tvalid_0's binary_logloss: 0.569146\tvalid_0's amex: 0.0581147\n",
      "[LightGBM] [Warning] early_stopping_round is set=100, early_stopping_rounds=100 will be ignored. Current value: early_stopping_round=100\n",
      "[100]\tvalid_0's binary_logloss: 0.569146\tvalid_0's amex: 0.0581147\n"
     ]
    },
    {
     "data": {
      "text/html": [
       "<h3>['D_108'] OVERALL SCORE : 5.937</h3>"
      ],
      "text/plain": [
       "<IPython.core.display.HTML object>"
      ]
     },
     "metadata": {},
     "output_type": "display_data"
    },
    {
     "data": {
      "text/html": [
       "<h3>['D_108_global_mean'] OVERALL SCORE : 2.163</h3>"
      ],
      "text/plain": [
       "<IPython.core.display.HTML object>"
      ]
     },
     "metadata": {},
     "output_type": "display_data"
    },
    {
     "data": {
      "text/html": [
       "<h3>['D_108_global_min'] OVERALL SCORE : 2.163</h3>"
      ],
      "text/plain": [
       "<IPython.core.display.HTML object>"
      ]
     },
     "metadata": {},
     "output_type": "display_data"
    },
    {
     "data": {
      "text/html": [
       "<h3>['D_108_global_max'] OVERALL SCORE : 2.163</h3>"
      ],
      "text/plain": [
       "<IPython.core.display.HTML object>"
      ]
     },
     "metadata": {},
     "output_type": "display_data"
    },
    {
     "data": {
      "text/html": [
       "<h3>['D_108_global_median'] OVERALL SCORE : 2.163</h3>"
      ],
      "text/plain": [
       "<IPython.core.display.HTML object>"
      ]
     },
     "metadata": {},
     "output_type": "display_data"
    },
    {
     "data": {
      "text/html": [
       "<h3>['D_108_local_mean'] OVERALL SCORE : 5.446</h3>"
      ],
      "text/plain": [
       "<IPython.core.display.HTML object>"
      ]
     },
     "metadata": {},
     "output_type": "display_data"
    },
    {
     "data": {
      "text/html": [
       "<h3>['D_108_local_linear_interpolate'] OVERALL SCORE : 5.573</h3>"
      ],
      "text/plain": [
       "<IPython.core.display.HTML object>"
      ]
     },
     "metadata": {},
     "output_type": "display_data"
    },
    {
     "data": {
      "text/html": [
       "<h3>['D_108_local_nearest_interpolate'] OVERALL SCORE : 5.573</h3>"
      ],
      "text/plain": [
       "<IPython.core.display.HTML object>"
      ]
     },
     "metadata": {},
     "output_type": "display_data"
    },
    {
     "name": "stdout",
     "output_type": "stream",
     "text": [
      "-------------------------------------\n"
     ]
    },
    {
     "data": {
      "text/html": [
       "<h2>D_88</h2>"
      ],
      "text/plain": [
       "<IPython.core.display.HTML object>"
      ]
     },
     "metadata": {},
     "output_type": "display_data"
    },
    {
     "name": "stdout",
     "output_type": "stream",
     "text": [
      "--- D_88   :  has 5525447 nan ---\n",
      "------ FOLD: 1 of 5 -------\n",
      "[LightGBM] [Warning] early_stopping_round is set=100, early_stopping_rounds=100 will be ignored. Current value: early_stopping_round=100\n",
      "[100]\tvalid_0's binary_logloss: 0.659744\tvalid_0's amex: 0.0210008\n",
      "[LightGBM] [Warning] early_stopping_round is set=100, early_stopping_rounds=100 will be ignored. Current value: early_stopping_round=100\n",
      "[100]\tvalid_0's binary_logloss: 0.659744\tvalid_0's amex: 0.0210008\n",
      "[LightGBM] [Warning] early_stopping_round is set=100, early_stopping_rounds=100 will be ignored. Current value: early_stopping_round=100\n",
      "[100]\tvalid_0's binary_logloss: 0.659744\tvalid_0's amex: 0.0210008\n",
      "[LightGBM] [Warning] early_stopping_round is set=100, early_stopping_rounds=100 will be ignored. Current value: early_stopping_round=100\n",
      "[100]\tvalid_0's binary_logloss: 0.659744\tvalid_0's amex: 0.0210008\n",
      "[LightGBM] [Warning] early_stopping_round is set=100, early_stopping_rounds=100 will be ignored. Current value: early_stopping_round=100\n",
      "[100]\tvalid_0's binary_logloss: 0.659744\tvalid_0's amex: 0.0210008\n",
      "[LightGBM] [Warning] early_stopping_round is set=100, early_stopping_rounds=100 will be ignored. Current value: early_stopping_round=100\n",
      "[100]\tvalid_0's binary_logloss: 0.659744\tvalid_0's amex: 0.0210008\n",
      "[LightGBM] [Warning] early_stopping_round is set=100, early_stopping_rounds=100 will be ignored. Current value: early_stopping_round=100\n",
      "[100]\tvalid_0's binary_logloss: 0.659744\tvalid_0's amex: 0.0210008\n",
      "[LightGBM] [Warning] early_stopping_round is set=100, early_stopping_rounds=100 will be ignored. Current value: early_stopping_round=100\n",
      "[100]\tvalid_0's binary_logloss: 0.659744\tvalid_0's amex: 0.0210008\n",
      "------ FOLD: 2 of 5 -------\n",
      "[LightGBM] [Warning] early_stopping_round is set=100, early_stopping_rounds=100 will be ignored. Current value: early_stopping_round=100\n",
      "[100]\tvalid_0's binary_logloss: 0.659744\tvalid_0's amex: 0.0195143\n",
      "[LightGBM] [Warning] early_stopping_round is set=100, early_stopping_rounds=100 will be ignored. Current value: early_stopping_round=100\n",
      "[100]\tvalid_0's binary_logloss: 0.659744\tvalid_0's amex: 0.0195143\n",
      "[LightGBM] [Warning] early_stopping_round is set=100, early_stopping_rounds=100 will be ignored. Current value: early_stopping_round=100\n",
      "[100]\tvalid_0's binary_logloss: 0.659744\tvalid_0's amex: 0.0195143\n",
      "[LightGBM] [Warning] early_stopping_round is set=100, early_stopping_rounds=100 will be ignored. Current value: early_stopping_round=100\n",
      "[100]\tvalid_0's binary_logloss: 0.659744\tvalid_0's amex: 0.0195143\n",
      "[LightGBM] [Warning] early_stopping_round is set=100, early_stopping_rounds=100 will be ignored. Current value: early_stopping_round=100\n",
      "[100]\tvalid_0's binary_logloss: 0.659744\tvalid_0's amex: 0.0195143\n",
      "[LightGBM] [Warning] early_stopping_round is set=100, early_stopping_rounds=100 will be ignored. Current value: early_stopping_round=100\n",
      "[100]\tvalid_0's binary_logloss: 0.659744\tvalid_0's amex: 0.0195143\n",
      "[LightGBM] [Warning] early_stopping_round is set=100, early_stopping_rounds=100 will be ignored. Current value: early_stopping_round=100\n",
      "[100]\tvalid_0's binary_logloss: 0.659744\tvalid_0's amex: 0.0195143\n",
      "[LightGBM] [Warning] early_stopping_round is set=100, early_stopping_rounds=100 will be ignored. Current value: early_stopping_round=100\n",
      "[100]\tvalid_0's binary_logloss: 0.659744\tvalid_0's amex: 0.0195143\n",
      "------ FOLD: 3 of 5 -------\n",
      "[LightGBM] [Warning] early_stopping_round is set=100, early_stopping_rounds=100 will be ignored. Current value: early_stopping_round=100\n",
      "[100]\tvalid_0's binary_logloss: 0.659744\tvalid_0's amex: 0.023016\n",
      "[LightGBM] [Warning] early_stopping_round is set=100, early_stopping_rounds=100 will be ignored. Current value: early_stopping_round=100\n",
      "[100]\tvalid_0's binary_logloss: 0.659744\tvalid_0's amex: 0.023016\n",
      "[LightGBM] [Warning] early_stopping_round is set=100, early_stopping_rounds=100 will be ignored. Current value: early_stopping_round=100\n",
      "[100]\tvalid_0's binary_logloss: 0.659744\tvalid_0's amex: 0.023016\n",
      "[LightGBM] [Warning] early_stopping_round is set=100, early_stopping_rounds=100 will be ignored. Current value: early_stopping_round=100\n",
      "[100]\tvalid_0's binary_logloss: 0.659744\tvalid_0's amex: 0.023016\n",
      "[LightGBM] [Warning] early_stopping_round is set=100, early_stopping_rounds=100 will be ignored. Current value: early_stopping_round=100\n",
      "[100]\tvalid_0's binary_logloss: 0.659744\tvalid_0's amex: 0.023016\n",
      "[LightGBM] [Warning] early_stopping_round is set=100, early_stopping_rounds=100 will be ignored. Current value: early_stopping_round=100\n",
      "[100]\tvalid_0's binary_logloss: 0.659744\tvalid_0's amex: 0.023016\n",
      "[LightGBM] [Warning] early_stopping_round is set=100, early_stopping_rounds=100 will be ignored. Current value: early_stopping_round=100\n",
      "[100]\tvalid_0's binary_logloss: 0.659744\tvalid_0's amex: 0.023016\n",
      "[LightGBM] [Warning] early_stopping_round is set=100, early_stopping_rounds=100 will be ignored. Current value: early_stopping_round=100\n",
      "[100]\tvalid_0's binary_logloss: 0.659744\tvalid_0's amex: 0.023016\n",
      "------ FOLD: 4 of 5 -------\n",
      "[LightGBM] [Warning] early_stopping_round is set=100, early_stopping_rounds=100 will be ignored. Current value: early_stopping_round=100\n",
      "[100]\tvalid_0's binary_logloss: 0.659724\tvalid_0's amex: 0.0229151\n",
      "[LightGBM] [Warning] early_stopping_round is set=100, early_stopping_rounds=100 will be ignored. Current value: early_stopping_round=100\n",
      "[100]\tvalid_0's binary_logloss: 0.659724\tvalid_0's amex: 0.0229151\n",
      "[LightGBM] [Warning] early_stopping_round is set=100, early_stopping_rounds=100 will be ignored. Current value: early_stopping_round=100\n",
      "[100]\tvalid_0's binary_logloss: 0.659724\tvalid_0's amex: 0.0229151\n",
      "[LightGBM] [Warning] early_stopping_round is set=100, early_stopping_rounds=100 will be ignored. Current value: early_stopping_round=100\n",
      "[100]\tvalid_0's binary_logloss: 0.659724\tvalid_0's amex: 0.0229151\n",
      "[LightGBM] [Warning] early_stopping_round is set=100, early_stopping_rounds=100 will be ignored. Current value: early_stopping_round=100\n",
      "[100]\tvalid_0's binary_logloss: 0.659724\tvalid_0's amex: 0.0229151\n",
      "[LightGBM] [Warning] early_stopping_round is set=100, early_stopping_rounds=100 will be ignored. Current value: early_stopping_round=100\n",
      "[100]\tvalid_0's binary_logloss: 0.659724\tvalid_0's amex: 0.0229151\n",
      "[LightGBM] [Warning] early_stopping_round is set=100, early_stopping_rounds=100 will be ignored. Current value: early_stopping_round=100\n",
      "[100]\tvalid_0's binary_logloss: 0.659724\tvalid_0's amex: 0.0229151\n",
      "[LightGBM] [Warning] early_stopping_round is set=100, early_stopping_rounds=100 will be ignored. Current value: early_stopping_round=100\n",
      "[100]\tvalid_0's binary_logloss: 0.659724\tvalid_0's amex: 0.0229151\n",
      "------ FOLD: 5 of 5 -------\n",
      "[LightGBM] [Warning] early_stopping_round is set=100, early_stopping_rounds=100 will be ignored. Current value: early_stopping_round=100\n",
      "[100]\tvalid_0's binary_logloss: 0.659724\tvalid_0's amex: 0.022564\n",
      "[LightGBM] [Warning] early_stopping_round is set=100, early_stopping_rounds=100 will be ignored. Current value: early_stopping_round=100\n",
      "[100]\tvalid_0's binary_logloss: 0.659724\tvalid_0's amex: 0.022564\n",
      "[LightGBM] [Warning] early_stopping_round is set=100, early_stopping_rounds=100 will be ignored. Current value: early_stopping_round=100\n",
      "[100]\tvalid_0's binary_logloss: 0.659724\tvalid_0's amex: 0.022564\n",
      "[LightGBM] [Warning] early_stopping_round is set=100, early_stopping_rounds=100 will be ignored. Current value: early_stopping_round=100\n",
      "[100]\tvalid_0's binary_logloss: 0.659724\tvalid_0's amex: 0.022564\n",
      "[LightGBM] [Warning] early_stopping_round is set=100, early_stopping_rounds=100 will be ignored. Current value: early_stopping_round=100\n",
      "[100]\tvalid_0's binary_logloss: 0.659724\tvalid_0's amex: 0.022564\n",
      "[LightGBM] [Warning] early_stopping_round is set=100, early_stopping_rounds=100 will be ignored. Current value: early_stopping_round=100\n",
      "[100]\tvalid_0's binary_logloss: 0.659724\tvalid_0's amex: 0.022564\n",
      "[LightGBM] [Warning] early_stopping_round is set=100, early_stopping_rounds=100 will be ignored. Current value: early_stopping_round=100\n",
      "[100]\tvalid_0's binary_logloss: 0.659724\tvalid_0's amex: 0.022564\n",
      "[LightGBM] [Warning] early_stopping_round is set=100, early_stopping_rounds=100 will be ignored. Current value: early_stopping_round=100\n",
      "[100]\tvalid_0's binary_logloss: 0.659724\tvalid_0's amex: 0.022564\n"
     ]
    },
    {
     "data": {
      "text/html": [
       "<h3>['D_88'] OVERALL SCORE : 2.180</h3>"
      ],
      "text/plain": [
       "<IPython.core.display.HTML object>"
      ]
     },
     "metadata": {},
     "output_type": "display_data"
    },
    {
     "data": {
      "text/html": [
       "<h3>['D_88_global_mean'] OVERALL SCORE : 2.180</h3>"
      ],
      "text/plain": [
       "<IPython.core.display.HTML object>"
      ]
     },
     "metadata": {},
     "output_type": "display_data"
    },
    {
     "data": {
      "text/html": [
       "<h3>['D_88_global_min'] OVERALL SCORE : 2.180</h3>"
      ],
      "text/plain": [
       "<IPython.core.display.HTML object>"
      ]
     },
     "metadata": {},
     "output_type": "display_data"
    },
    {
     "data": {
      "text/html": [
       "<h3>['D_88_global_max'] OVERALL SCORE : 2.180</h3>"
      ],
      "text/plain": [
       "<IPython.core.display.HTML object>"
      ]
     },
     "metadata": {},
     "output_type": "display_data"
    },
    {
     "data": {
      "text/html": [
       "<h3>['D_88_global_median'] OVERALL SCORE : 2.180</h3>"
      ],
      "text/plain": [
       "<IPython.core.display.HTML object>"
      ]
     },
     "metadata": {},
     "output_type": "display_data"
    },
    {
     "data": {
      "text/html": [
       "<h3>['D_88_local_mean'] OVERALL SCORE : 2.180</h3>"
      ],
      "text/plain": [
       "<IPython.core.display.HTML object>"
      ]
     },
     "metadata": {},
     "output_type": "display_data"
    },
    {
     "data": {
      "text/html": [
       "<h3>['D_88_local_linear_interpolate'] OVERALL SCORE : 2.180</h3>"
      ],
      "text/plain": [
       "<IPython.core.display.HTML object>"
      ]
     },
     "metadata": {},
     "output_type": "display_data"
    },
    {
     "data": {
      "text/html": [
       "<h3>['D_88_local_nearest_interpolate'] OVERALL SCORE : 2.180</h3>"
      ],
      "text/plain": [
       "<IPython.core.display.HTML object>"
      ]
     },
     "metadata": {},
     "output_type": "display_data"
    },
    {
     "name": "stdout",
     "output_type": "stream",
     "text": [
      "-------------------------------------\n"
     ]
    },
    {
     "data": {
      "text/html": [
       "<h2>D_87</h2>"
      ],
      "text/plain": [
       "<IPython.core.display.HTML object>"
      ]
     },
     "metadata": {},
     "output_type": "display_data"
    },
    {
     "name": "stdout",
     "output_type": "stream",
     "text": [
      "--- D_87   :  has 5527586 nan ---\n",
      "------ FOLD: 1 of 5 -------\n",
      "[LightGBM] [Warning] early_stopping_round is set=100, early_stopping_rounds=100 will be ignored. Current value: early_stopping_round=100\n",
      "[100]\tvalid_0's binary_logloss: 0.659744\tvalid_0's amex: 0.0199529\n",
      "[LightGBM] [Warning] early_stopping_round is set=100, early_stopping_rounds=100 will be ignored. Current value: early_stopping_round=100\n",
      "[100]\tvalid_0's binary_logloss: 0.659744\tvalid_0's amex: 0.0199529\n",
      "[LightGBM] [Warning] early_stopping_round is set=100, early_stopping_rounds=100 will be ignored. Current value: early_stopping_round=100\n",
      "[100]\tvalid_0's binary_logloss: 0.659744\tvalid_0's amex: 0.0199529\n",
      "[LightGBM] [Warning] early_stopping_round is set=100, early_stopping_rounds=100 will be ignored. Current value: early_stopping_round=100\n",
      "[100]\tvalid_0's binary_logloss: 0.659744\tvalid_0's amex: 0.0199529\n",
      "[LightGBM] [Warning] early_stopping_round is set=100, early_stopping_rounds=100 will be ignored. Current value: early_stopping_round=100\n",
      "[100]\tvalid_0's binary_logloss: 0.659744\tvalid_0's amex: 0.0199529\n",
      "[LightGBM] [Warning] early_stopping_round is set=100, early_stopping_rounds=100 will be ignored. Current value: early_stopping_round=100\n",
      "[100]\tvalid_0's binary_logloss: 0.659744\tvalid_0's amex: 0.0199529\n",
      "[LightGBM] [Warning] early_stopping_round is set=100, early_stopping_rounds=100 will be ignored. Current value: early_stopping_round=100\n",
      "[100]\tvalid_0's binary_logloss: 0.659744\tvalid_0's amex: 0.0199529\n",
      "[LightGBM] [Warning] early_stopping_round is set=100, early_stopping_rounds=100 will be ignored. Current value: early_stopping_round=100\n",
      "[100]\tvalid_0's binary_logloss: 0.659744\tvalid_0's amex: 0.0199529\n",
      "------ FOLD: 2 of 5 -------\n",
      "[LightGBM] [Warning] early_stopping_round is set=100, early_stopping_rounds=100 will be ignored. Current value: early_stopping_round=100\n",
      "[100]\tvalid_0's binary_logloss: 0.659744\tvalid_0's amex: 0.0194173\n",
      "[LightGBM] [Warning] early_stopping_round is set=100, early_stopping_rounds=100 will be ignored. Current value: early_stopping_round=100\n",
      "[100]\tvalid_0's binary_logloss: 0.659744\tvalid_0's amex: 0.0194173\n",
      "[LightGBM] [Warning] early_stopping_round is set=100, early_stopping_rounds=100 will be ignored. Current value: early_stopping_round=100\n",
      "[100]\tvalid_0's binary_logloss: 0.659744\tvalid_0's amex: 0.0194173\n",
      "[LightGBM] [Warning] early_stopping_round is set=100, early_stopping_rounds=100 will be ignored. Current value: early_stopping_round=100\n",
      "[100]\tvalid_0's binary_logloss: 0.659744\tvalid_0's amex: 0.0194173\n",
      "[LightGBM] [Warning] early_stopping_round is set=100, early_stopping_rounds=100 will be ignored. Current value: early_stopping_round=100\n",
      "[100]\tvalid_0's binary_logloss: 0.659744\tvalid_0's amex: 0.0194173\n",
      "[LightGBM] [Warning] early_stopping_round is set=100, early_stopping_rounds=100 will be ignored. Current value: early_stopping_round=100\n",
      "[100]\tvalid_0's binary_logloss: 0.659744\tvalid_0's amex: 0.0194173\n",
      "[LightGBM] [Warning] early_stopping_round is set=100, early_stopping_rounds=100 will be ignored. Current value: early_stopping_round=100\n",
      "[100]\tvalid_0's binary_logloss: 0.659744\tvalid_0's amex: 0.0194173\n",
      "[LightGBM] [Warning] early_stopping_round is set=100, early_stopping_rounds=100 will be ignored. Current value: early_stopping_round=100\n",
      "[100]\tvalid_0's binary_logloss: 0.659744\tvalid_0's amex: 0.0194173\n",
      "------ FOLD: 3 of 5 -------\n",
      "[LightGBM] [Warning] early_stopping_round is set=100, early_stopping_rounds=100 will be ignored. Current value: early_stopping_round=100\n",
      "[100]\tvalid_0's binary_logloss: 0.659744\tvalid_0's amex: 0.0258168\n",
      "[LightGBM] [Warning] early_stopping_round is set=100, early_stopping_rounds=100 will be ignored. Current value: early_stopping_round=100\n",
      "[100]\tvalid_0's binary_logloss: 0.659744\tvalid_0's amex: 0.0258168\n",
      "[LightGBM] [Warning] early_stopping_round is set=100, early_stopping_rounds=100 will be ignored. Current value: early_stopping_round=100\n",
      "[100]\tvalid_0's binary_logloss: 0.659744\tvalid_0's amex: 0.0258168\n",
      "[LightGBM] [Warning] early_stopping_round is set=100, early_stopping_rounds=100 will be ignored. Current value: early_stopping_round=100\n",
      "[100]\tvalid_0's binary_logloss: 0.659744\tvalid_0's amex: 0.0258168\n",
      "[LightGBM] [Warning] early_stopping_round is set=100, early_stopping_rounds=100 will be ignored. Current value: early_stopping_round=100\n",
      "[100]\tvalid_0's binary_logloss: 0.659744\tvalid_0's amex: 0.0258168\n",
      "[LightGBM] [Warning] early_stopping_round is set=100, early_stopping_rounds=100 will be ignored. Current value: early_stopping_round=100\n",
      "[100]\tvalid_0's binary_logloss: 0.659744\tvalid_0's amex: 0.0258168\n",
      "[LightGBM] [Warning] early_stopping_round is set=100, early_stopping_rounds=100 will be ignored. Current value: early_stopping_round=100\n",
      "[100]\tvalid_0's binary_logloss: 0.659744\tvalid_0's amex: 0.0258168\n",
      "[LightGBM] [Warning] early_stopping_round is set=100, early_stopping_rounds=100 will be ignored. Current value: early_stopping_round=100\n",
      "[100]\tvalid_0's binary_logloss: 0.659744\tvalid_0's amex: 0.0258168\n",
      "------ FOLD: 4 of 5 -------\n",
      "[LightGBM] [Warning] early_stopping_round is set=100, early_stopping_rounds=100 will be ignored. Current value: early_stopping_round=100\n",
      "[100]\tvalid_0's binary_logloss: 0.659724\tvalid_0's amex: 0.0174293\n",
      "[LightGBM] [Warning] early_stopping_round is set=100, early_stopping_rounds=100 will be ignored. Current value: early_stopping_round=100\n",
      "[100]\tvalid_0's binary_logloss: 0.659724\tvalid_0's amex: 0.0174293\n",
      "[LightGBM] [Warning] early_stopping_round is set=100, early_stopping_rounds=100 will be ignored. Current value: early_stopping_round=100\n",
      "[100]\tvalid_0's binary_logloss: 0.659724\tvalid_0's amex: 0.0174293\n",
      "[LightGBM] [Warning] early_stopping_round is set=100, early_stopping_rounds=100 will be ignored. Current value: early_stopping_round=100\n",
      "[100]\tvalid_0's binary_logloss: 0.659724\tvalid_0's amex: 0.0174293\n",
      "[LightGBM] [Warning] early_stopping_round is set=100, early_stopping_rounds=100 will be ignored. Current value: early_stopping_round=100\n",
      "[100]\tvalid_0's binary_logloss: 0.659724\tvalid_0's amex: 0.0174293\n",
      "[LightGBM] [Warning] early_stopping_round is set=100, early_stopping_rounds=100 will be ignored. Current value: early_stopping_round=100\n",
      "[100]\tvalid_0's binary_logloss: 0.659724\tvalid_0's amex: 0.0174293\n",
      "[LightGBM] [Warning] early_stopping_round is set=100, early_stopping_rounds=100 will be ignored. Current value: early_stopping_round=100\n",
      "[100]\tvalid_0's binary_logloss: 0.659724\tvalid_0's amex: 0.0174293\n",
      "[LightGBM] [Warning] early_stopping_round is set=100, early_stopping_rounds=100 will be ignored. Current value: early_stopping_round=100\n",
      "[100]\tvalid_0's binary_logloss: 0.659724\tvalid_0's amex: 0.0174293\n",
      "------ FOLD: 5 of 5 -------\n",
      "[LightGBM] [Warning] early_stopping_round is set=100, early_stopping_rounds=100 will be ignored. Current value: early_stopping_round=100\n",
      "[100]\tvalid_0's binary_logloss: 0.659724\tvalid_0's amex: 0.0254248\n",
      "[LightGBM] [Warning] early_stopping_round is set=100, early_stopping_rounds=100 will be ignored. Current value: early_stopping_round=100\n",
      "[100]\tvalid_0's binary_logloss: 0.659724\tvalid_0's amex: 0.0254248\n",
      "[LightGBM] [Warning] early_stopping_round is set=100, early_stopping_rounds=100 will be ignored. Current value: early_stopping_round=100\n",
      "[100]\tvalid_0's binary_logloss: 0.659724\tvalid_0's amex: 0.0254248\n",
      "[LightGBM] [Warning] early_stopping_round is set=100, early_stopping_rounds=100 will be ignored. Current value: early_stopping_round=100\n",
      "[100]\tvalid_0's binary_logloss: 0.659724\tvalid_0's amex: 0.0254248\n",
      "[LightGBM] [Warning] early_stopping_round is set=100, early_stopping_rounds=100 will be ignored. Current value: early_stopping_round=100\n",
      "[100]\tvalid_0's binary_logloss: 0.659724\tvalid_0's amex: 0.0254248\n",
      "[LightGBM] [Warning] early_stopping_round is set=100, early_stopping_rounds=100 will be ignored. Current value: early_stopping_round=100\n",
      "[100]\tvalid_0's binary_logloss: 0.659724\tvalid_0's amex: 0.0254248\n",
      "[LightGBM] [Warning] early_stopping_round is set=100, early_stopping_rounds=100 will be ignored. Current value: early_stopping_round=100\n",
      "[100]\tvalid_0's binary_logloss: 0.659724\tvalid_0's amex: 0.0254248\n",
      "[LightGBM] [Warning] early_stopping_round is set=100, early_stopping_rounds=100 will be ignored. Current value: early_stopping_round=100\n",
      "[100]\tvalid_0's binary_logloss: 0.659724\tvalid_0's amex: 0.0254248\n"
     ]
    },
    {
     "data": {
      "text/html": [
       "<h3>['D_87'] OVERALL SCORE : 2.161</h3>"
      ],
      "text/plain": [
       "<IPython.core.display.HTML object>"
      ]
     },
     "metadata": {},
     "output_type": "display_data"
    },
    {
     "data": {
      "text/html": [
       "<h3>['D_87_global_mean'] OVERALL SCORE : 2.161</h3>"
      ],
      "text/plain": [
       "<IPython.core.display.HTML object>"
      ]
     },
     "metadata": {},
     "output_type": "display_data"
    },
    {
     "data": {
      "text/html": [
       "<h3>['D_87_global_min'] OVERALL SCORE : 2.161</h3>"
      ],
      "text/plain": [
       "<IPython.core.display.HTML object>"
      ]
     },
     "metadata": {},
     "output_type": "display_data"
    },
    {
     "data": {
      "text/html": [
       "<h3>['D_87_global_max'] OVERALL SCORE : 2.161</h3>"
      ],
      "text/plain": [
       "<IPython.core.display.HTML object>"
      ]
     },
     "metadata": {},
     "output_type": "display_data"
    },
    {
     "data": {
      "text/html": [
       "<h3>['D_87_global_median'] OVERALL SCORE : 2.161</h3>"
      ],
      "text/plain": [
       "<IPython.core.display.HTML object>"
      ]
     },
     "metadata": {},
     "output_type": "display_data"
    },
    {
     "data": {
      "text/html": [
       "<h3>['D_87_local_mean'] OVERALL SCORE : 2.161</h3>"
      ],
      "text/plain": [
       "<IPython.core.display.HTML object>"
      ]
     },
     "metadata": {},
     "output_type": "display_data"
    },
    {
     "data": {
      "text/html": [
       "<h3>['D_87_local_linear_interpolate'] OVERALL SCORE : 2.161</h3>"
      ],
      "text/plain": [
       "<IPython.core.display.HTML object>"
      ]
     },
     "metadata": {},
     "output_type": "display_data"
    },
    {
     "data": {
      "text/html": [
       "<h3>['D_87_local_nearest_interpolate'] OVERALL SCORE : 2.161</h3>"
      ],
      "text/plain": [
       "<IPython.core.display.HTML object>"
      ]
     },
     "metadata": {},
     "output_type": "display_data"
    },
    {
     "name": "stdout",
     "output_type": "stream",
     "text": [
      "CPU times: total: 5h 17min 50s\n",
      "Wall time: 20min 59s\n"
     ]
    }
   ],
   "source": [
    "\n",
    "\n",
    "%%time\n",
    "for missingfeaturetuple in missing_features_with_count_list[-20:]:\n",
    "    missingvaluefeature = missingfeaturetuple['columnname']\n",
    "    missingcount = missingfeaturetuple['nan_count']\n",
    "    print(\"-------------------------------------\")\n",
    "    display(HTML(f\"<h2>{missingvaluefeature}</h2>\"))\n",
    "    print(f\"--- {missingvaluefeature}   :  has {missingcount} nan ---\")\n",
    "    variant_df = load_prepare_amex_dataset(f\"train_data_{missingvaluefeature}\")\n",
    "    # variant_df = variant_df[reversed(list(variant_df.columns))]\n",
    "    \n",
    "    # we keep this copy so that original feature doens't stay on top!!!\n",
    "    # it's some weird quirk i found\n",
    "    # variant_df[missingvaluefeature+\"_COPY\"] = variant_df[missingvaluefeature]\n",
    "    # del variant_df[missingvaluefeature]\n",
    "    \n",
    "    df_train_last1 = variant_df.groupby('customer_ID').last()\n",
    "    df_train_last1 = df_train_last1.reset_index()\n",
    "    df_train_wt = pd.merge(df_train_last1, train_label_df, how='inner', on = 'customer_ID')#.reset_index()\n",
    "    \n",
    "    features_x = [f for f in df_train_wt.columns if f != 'customer_ID' and f != 'target' and f!='S_2']\n",
    "    feature_y = 'target'\n",
    "    df_x = df_train_wt[features_x]\n",
    "    df_y = df_train_wt[feature_y]\n",
    "    \n",
    "    total_splits = 5\n",
    "    kf = StratifiedKFold(n_splits=total_splits, shuffle=True)\n",
    "    fold_scores = []\n",
    "    \n",
    "    # NOT TOO SURE about feature_importances when all features are variants!! it's non decisive\n",
    "    for fold, (idx_train, idx_dev) in enumerate(kf.split(df_x, df_y)):\n",
    "        print(f\"------ FOLD: {fold+1} of {total_splits} -------\")\n",
    "        train_x, dev_x, train_y, dev_y, model = None, None, None, None, None\n",
    "        start_time = datetime.now()\n",
    "        \n",
    "        # X_tr = df_train_wt.iloc[idx_train][features_x]\n",
    "        # X_va = df_train_wt.iloc[idx_dev][features_x]\n",
    "        # y_tr = df_train_wt[feature_y][idx_train].values\n",
    "        # y_va = df_train_wt[feature_y][idx_dev].values\n",
    "#         for importance_type in ['split','gain']:\n",
    "#             model = create_model_with_config(importance_type=importance_type, early_stopping_rounds=100)\n",
    "#             model.fit(X_tr, y_tr,\n",
    "#                           eval_set = [(X_va, y_va)], \n",
    "#                           eval_metric=[lgbm_eval_metric_amex],\n",
    "#                           callbacks=[log_evaluation(100)])\n",
    "            \n",
    "#             y_va_pred = model.predict_proba(X_va, raw_score=True)\n",
    "#             score = fast_amex_metric(y_va, y_va_pred)\n",
    "#             n_trees = model.best_iteration_\n",
    "#             if n_trees is None: n_trees = model.n_estimators\n",
    "#             print(\"-------------------------------------\")\n",
    "#             display(HTML(f\"<h3>Fold {fold+1} | {str(datetime.now() - start_time)[-12:-7]} |\"\n",
    "#                   f\" {n_trees:5} trees |\"\n",
    "#                   f\"                Score = {score:.5f} | Importance: {importance_type}</h3>\"))\n",
    "#             print(\"-------------------------------------\")\n",
    "#             # fold_scores.append(score)\n",
    "#             track_score(features_x, score)\n",
    "#             feature_importance_tuples = sorted(zip(X_tr.columns,model.feature_importances_), key=lambda x:x[1])\n",
    "#             # feature_importance_tuples = sorted(zip(X_tr.columns,model.feature_importance(importance_type='gain')), key=lambda x:x[1])\n",
    "#             feature_importance_map = {k:v for k,v in feature_importance_tuples}\n",
    "#             feature_imp = pd.DataFrame(feature_importance_tuples, columns=['feature','importance'])\n",
    "#             fig = pltex.bar(feature_imp, x='importance', y='feature', height=500)\n",
    "#             fig.show()\n",
    "        \n",
    "        for ftx in [[solox] for solox in features_x]:\n",
    "            # display(HTML(f\"<h2>{ftx}</h2>\"))\n",
    "            X_tr = df_train_wt.iloc[idx_train][ftx]\n",
    "            X_va = df_train_wt.iloc[idx_dev][ftx]\n",
    "            y_tr = df_train_wt[feature_y][idx_train].values\n",
    "            y_va = df_train_wt[feature_y][idx_dev].values\n",
    "            # for importance_type in ['split','gain']:\n",
    "            model = create_model_with_config(importance_type=importance_type, early_stopping_rounds=100)\n",
    "            model.fit(X_tr, y_tr,\n",
    "                          eval_set = [(X_va, y_va)], \n",
    "                          eval_metric=[lgbm_eval_metric_amex],\n",
    "                          callbacks=[log_evaluation(100)])\n",
    "\n",
    "            y_va_pred = model.predict_proba(X_va, raw_score=True)\n",
    "            score = fast_amex_metric(y_va, y_va_pred)\n",
    "            n_trees = model.best_iteration_\n",
    "            if n_trees is None: n_trees = model.n_estimators\n",
    "            # print(\"-------------------------------------\")\n",
    "            # display(HTML(f\"<h3>Fold {fold+1} | {str(datetime.now() - start_time)[-12:-7]} |\"\n",
    "            #       f\" {n_trees:5} trees |\"\n",
    "            #       f\"                Score = {score:.5f} | Features: {ftx}</h3>\"))\n",
    "            # print(\"-------------------------------------\")\n",
    "            \n",
    "            track_score(ftx, score)\n",
    "                # feature_importance_tuples = sorted(zip(X_tr.columns,model.feature_importances_), key=lambda x:x[1])\n",
    "                # # feature_importance_tuples = sorted(zip(X_tr.columns,model.feature_importance(importance_type='gain')), key=lambda x:x[1])\n",
    "                # feature_importance_map = {k:v for k,v in feature_importance_tuples}\n",
    "                # feature_imp = pd.DataFrame(feature_importance_tuples, columns=['feature','importance'])\n",
    "                # fig = pltex.bar(feature_imp, x='importance', y='feature', height=500)\n",
    "                # fig.show()\n",
    "    for ftx in [[solox] for solox in features_x]:\n",
    "        show_score(ftx)\n",
    "        \n",
    "    # input(\"-------- ENTER TO CONINUE -------\")\n",
    "       \n",
    "\n",
    "    "
   ]
  },
  {
   "cell_type": "code",
   "execution_count": 85,
   "id": "281316b0-0116-40df-9937-a2b206e65fe3",
   "metadata": {},
   "outputs": [
    {
     "data": {
      "text/plain": [
       "18763"
      ]
     },
     "execution_count": 85,
     "metadata": {},
     "output_type": "execute_result"
    }
   ],
   "source": [
    "gc.collect()"
   ]
  },
  {
   "cell_type": "markdown",
   "id": "83e2e060-913e-4dca-b4ae-43361ccd5fe0",
   "metadata": {},
   "source": [
    "```\n",
    "['D_79'] OVERALL SCORE : 17.627\n",
    "['D_79_global_mean'] OVERALL SCORE : 17.596\n",
    "['D_79_global_min'] OVERALL SCORE : 17.563\n",
    "['D_79_global_max'] OVERALL SCORE : 17.472\n",
    "['D_79_global_median'] OVERALL SCORE : 17.605\n",
    "['D_79_local_mean'] OVERALL SCORE : 17.631\n",
    "['D_79_local_linear_interpolate'] OVERALL SCORE : 17.601\n",
    "['D_79_local_nearest_interpolate'] OVERALL SCORE : 17.600\n",
    "\n",
    "['D_79_local_nearest_interpolate'] OVERALL SCORE : 17.610\n",
    "['D_79_local_linear_interpolate'] OVERALL SCORE : 17.610\n",
    "['D_79_local_mean'] OVERALL SCORE : 17.662\n",
    "['D_79_global_median'] OVERALL SCORE : 17.613\n",
    "['D_79_global_max'] OVERALL SCORE : 17.480\n",
    "['D_79_global_min'] OVERALL SCORE : 17.578\n",
    "['D_79_global_mean'] OVERALL SCORE : 17.615\n",
    "```"
   ]
  },
  {
   "cell_type": "code",
   "execution_count": 83,
   "id": "16827319-381e-4e10-b375-b0e4ed1b3749",
   "metadata": {},
   "outputs": [
    {
     "ename": "SyntaxError",
     "evalue": "invalid syntax (517750684.py, line 1)",
     "output_type": "error",
     "traceback": [
      "\u001b[1;36m  Input \u001b[1;32mIn [83]\u001b[1;36m\u001b[0m\n\u001b[1;33m    ['D_70'] OVERALL SCORE : 27.241\u001b[0m\n\u001b[1;37m             ^\u001b[0m\n\u001b[1;31mSyntaxError\u001b[0m\u001b[1;31m:\u001b[0m invalid syntax\n"
     ]
    }
   ],
   "source": [
    "['D_70'] OVERALL SCORE : 27.241\n",
    "['D_70_global_mean'] OVERALL SCORE : 27.206\n",
    "['D_70_global_min'] OVERALL SCORE : 27.189\n",
    "['D_70_global_max'] OVERALL SCORE : 27.183\n",
    "['D_70_global_median'] OVERALL SCORE : 27.141\n",
    "['D_70_local_mean'] OVERALL SCORE : 27.190\n",
    "['D_70_local_linear_interpolate'] OVERALL SCORE : 27.203\n",
    "['D_70_local_nearest_interpolate'] OVERALL SCORE : 27.229"
   ]
  },
  {
   "cell_type": "code",
   "execution_count": null,
   "id": "bb2a851d-12ac-48e8-a3b8-36ba9499edd1",
   "metadata": {},
   "outputs": [],
   "source": [
    "# feature_imp"
   ]
  },
  {
   "cell_type": "code",
   "execution_count": null,
   "id": "57a4eb0b-633a-4112-9f4c-a910f4f48049",
   "metadata": {},
   "outputs": [],
   "source": [
    "len(idx_train)"
   ]
  },
  {
   "cell_type": "code",
   "execution_count": null,
   "id": "d61c8aa9-6115-4ddd-aa0d-5d4f5a6a161f",
   "metadata": {},
   "outputs": [],
   "source": []
  }
 ],
 "metadata": {
  "kernelspec": {
   "display_name": "Python 3 (ipykernel)",
   "language": "python",
   "name": "python3"
  },
  "language_info": {
   "codemirror_mode": {
    "name": "ipython",
    "version": 3
   },
   "file_extension": ".py",
   "mimetype": "text/x-python",
   "name": "python",
   "nbconvert_exporter": "python",
   "pygments_lexer": "ipython3",
   "version": "3.10.4"
  }
 },
 "nbformat": 4,
 "nbformat_minor": 5
}
